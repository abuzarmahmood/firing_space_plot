{
 "cells": [
  {
   "cell_type": "code",
   "execution_count": 1,
   "metadata": {},
   "outputs": [
    {
     "data": {
      "text/plain": [
       "'\\nSimulate how a joint PCA may work\\nCentral factors get converted to 2 sets of emissions via matrix transformation\\n'"
      ]
     },
     "execution_count": 1,
     "metadata": {},
     "output_type": "execute_result"
    }
   ],
   "source": [
    "\"\"\"\n",
    "Simulate how a joint PCA may work\n",
    "Central factors get converted to 2 sets of emissions via matrix transformation\n",
    "\"\"\""
   ]
  },
  {
   "cell_type": "code",
   "execution_count": 2,
   "metadata": {},
   "outputs": [],
   "source": [
    "%matplotlib inline\n",
    "\n",
    "import pymc3 as pm\n",
    "import numpy as np\n",
    "import matplotlib.pyplot as plt\n",
    "import theano.tensor as tt\n",
    "import os"
   ]
  },
  {
   "cell_type": "code",
   "execution_count": 13,
   "metadata": {},
   "outputs": [
    {
     "name": "stdout",
     "output_type": "stream",
     "text": [
      "(10, 5)\n",
      "(20, 5)\n",
      "(25, 5)\n"
     ]
    }
   ],
   "source": [
    "# Central principal components\n",
    "n_components = 5\n",
    "dims = 10\n",
    "w1_dims = 20\n",
    "w2_dims = 25\n",
    "z = np.random.random((dims,n_components))\n",
    "w1 = np.random.random((w1_dims,n_components))\n",
    "w2 = np.random.random((w2_dims,n_components))\n",
    "print(z.shape)\n",
    "print(w1.shape)\n",
    "print(w2.shape)\n",
    "dat1 = w1.dot(z.T)\n",
    "dat2 = w2.dot(z.T)"
   ]
  },
  {
   "cell_type": "code",
   "execution_count": 14,
   "metadata": {},
   "outputs": [
    {
     "data": {
      "text/plain": [
       "Text(0.5, 1.0, 'Dat 2')"
      ]
     },
     "execution_count": 14,
     "metadata": {},
     "output_type": "execute_result"
    },
    {
     "data": {
      "image/png": "[encoded data removed]",
      "text/plain": [
       "<Figure size 432x288 with 1 Axes>"
      ]
     },
     "metadata": {
      "needs_background": "light"
     },
     "output_type": "display_data"
    },
    {
     "data": {
      "image/png": "[encoded data removed]",
      "text/plain": [
       "<Figure size 432x288 with 4 Axes>"
      ]
     },
     "metadata": {
      "needs_background": "light"
     },
     "output_type": "display_data"
    }
   ],
   "source": [
    "plt.imshow(z,aspect='auto')\n",
    "plt.title('latent')\n",
    "fig,ax = plt.subplots(2,2)\n",
    "ax[0,0].imshow(w1,aspect='auto')\n",
    "ax[0,0].set_title('W1')\n",
    "ax[0,1].imshow(w2,aspect='auto')\n",
    "ax[0,1].set_title('W2')\n",
    "ax[1,0].imshow(dat1,aspect='auto')\n",
    "ax[1,0].set_title('Dat 1')\n",
    "ax[1,1].imshow(dat2,aspect='auto')\n",
    "ax[1,1].set_title('Dat 2')"
   ]
  },
  {
   "cell_type": "code",
   "execution_count": null,
   "metadata": {},
   "outputs": [],
   "source": []
  }
 ],
 "metadata": {
  "kernelspec": {
   "display_name": "Python 3",
   "language": "python",
   "name": "python3"
  },
  "language_info": {
   "codemirror_mode": {
    "name": "ipython",
    "version": 3
   },
   "file_extension": ".py",
   "mimetype": "text/x-python",
   "name": "python",
   "nbconvert_exporter": "python",
   "pygments_lexer": "ipython3",
   "version": "3.6.10"
  }
 },
 "nbformat": 4,
 "nbformat_minor": 4
}
