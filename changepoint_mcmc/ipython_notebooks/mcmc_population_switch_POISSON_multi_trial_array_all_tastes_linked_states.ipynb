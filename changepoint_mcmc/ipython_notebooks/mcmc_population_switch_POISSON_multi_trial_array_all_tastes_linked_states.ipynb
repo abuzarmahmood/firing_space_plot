{
 "cells": [
  {
   "cell_type": "markdown",
   "metadata": {},
   "source": [
    "## ======== Setup ========"
   ]
  },
  {
   "cell_type": "code",
   "execution_count": 1,
   "metadata": {},
   "outputs": [],
   "source": [
    "# Import stuff\n",
    "import os\n",
    "import scipy\n",
    "import scipy.stats as stats\n",
    "import pymc3 as pm\n",
    "import theano.tensor as tt\n",
    "import theano\n",
    "\n",
    "%matplotlib inline\n",
    "from IPython.core.pylabtools import figsize\n",
    "import numpy as np\n",
    "from matplotlib import pyplot as plt\n",
    "from matplotlib.lines import Line2D\n",
    "import glob\n",
    "import json\n",
    "from scipy.stats import spearmanr\n",
    "from tqdm import tqdm\n",
    "from scipy.stats import percentileofscore\n",
    "import pickle\n",
    "import tables\n",
    "\n",
    "os.chdir('/media/bigdata/firing_space_plot/ephys_data')\n",
    "from ephys_data import ephys_data\n",
    "import visualize"
   ]
  },
  {
   "cell_type": "markdown",
   "metadata": {},
   "source": [
    "## ======== Load Data ========"
   ]
  },
  {
   "cell_type": "code",
   "execution_count": 2,
   "metadata": {},
   "outputs": [
    {
     "name": "stdout",
     "output_type": "stream",
     "text": [
      "All tastes have equal dimensions,concatenating and normalizing\n"
     ]
    }
   ],
   "source": [
    "# Use ephys_data class to load spikes and firing rates\n",
    "data_dir = '/media/bigdata/Abuzar_Data/AM35/AM35_4Tastes_201230_115322/'\n",
    "dat = ephys_data(data_dir)\n",
    "dat.firing_rate_params = dat.default_firing_params\n",
    "\n",
    "dat.get_unit_descriptors()\n",
    "dat.get_spikes()\n",
    "dat.get_firing_rates()\n",
    "\n",
    "taste_dat = np.array(dat.spikes)\n",
    "\n",
    "# Define directory for plots to be stored\n",
    "plot_super_dir = os.path.join(data_dir,'changepoint_plots')\n",
    "if not os.path.exists(plot_super_dir):\n",
    "    os.makedirs(plot_super_dir)"
   ]
  },
  {
   "cell_type": "code",
   "execution_count": 3,
   "metadata": {},
   "outputs": [
    {
     "name": "stdout",
     "output_type": "stream",
     "text": [
      "(4, 30, 33, 50)\n",
      "(4, 30, 33, 140)\n"
     ]
    }
   ],
   "source": [
    "# Convert spikes to counts by binning\n",
    "# 50ms bins are anecdotally a good size for both \n",
    "# keeeping temporal resolution and getting good computational speed\n",
    "\n",
    "time_lims = [1500,4000]\n",
    "bin_width = 50\n",
    "t_vec = np.arange(taste_dat.shape[-1])\n",
    "binned_t_vec = np.mean(t_vec[time_lims[0]:time_lims[1]].reshape((-1,bin_width)),axis=-1)\n",
    "whole_dat_binned = np.sum(taste_dat.reshape(*taste_dat.shape[:-1],-1,bin_width),axis=-1)\n",
    "this_dat_binned = np.sum(taste_dat[...,time_lims[0]:time_lims[1]].reshape(*taste_dat.shape[:-1],-1,bin_width),axis=-1)\n",
    "this_dat_binned = np.vectorize(np.int)(this_dat_binned)\n",
    "\n",
    "print(this_dat_binned.shape)\n",
    "print(whole_dat_binned.shape)\n",
    "# print(binned_t_vec)"
   ]
  },
  {
   "cell_type": "markdown",
   "metadata": {},
   "source": [
    "# ======== Define fit parameters ========"
   ]
  },
  {
   "cell_type": "code",
   "execution_count": 4,
   "metadata": {},
   "outputs": [
    {
     "name": "stdout",
     "output_type": "stream",
     "text": [
      "vi_4_states_40000fit_20000samples_time[1500, 4000]_bin50\n",
      "/media/bigdata/Abuzar_Data/AM35/AM35_4Tastes_201230_115322/changepoint_plots/vi_4_states_40000fit_20000samples_time[1500, 4000]_bin50\n"
     ]
    }
   ],
   "source": [
    "states = 4\n",
    "# How many iterations to fit the model for\n",
    "fit = 40000\n",
    "# How many samples to draw from the fitted model distributions\n",
    "samples = 20000\n",
    "\n",
    "# Where to save the model and the plots\n",
    "model_save_dir = os.path.join(data_dir,'saved_models',f'vi_{states}_states')\n",
    "if not os.path.exists(model_save_dir):\n",
    "    os.makedirs(model_save_dir)\n",
    "model_name = f'vi_{states}_states_{fit}fit_{samples}samples_time{time_lims}_bin{bin_width}'\n",
    "print(model_name)\n",
    "\n",
    "plot_dir = os.path.join(plot_super_dir,model_name)\n",
    "if not os.path.exists(plot_dir):\n",
    "    os.makedirs(plot_dir)\n",
    "print(plot_dir)"
   ]
  },
  {
   "cell_type": "markdown",
   "metadata": {},
   "source": [
    "## ======== Pre-Processing ========"
   ]
  },
  {
   "cell_type": "code",
   "execution_count": 5,
   "metadata": {},
   "outputs": [
    {
     "name": "stdout",
     "output_type": "stream",
     "text": [
      "(120, 33, 50)\n"
     ]
    }
   ],
   "source": [
    "# Convert to 3D array\n",
    "dat_binned_long = np.reshape(this_dat_binned,(-1,*this_dat_binned.shape[-2:]))\n",
    "whole_dat_binned_long = np.reshape(whole_dat_binned,(-1,*whole_dat_binned.shape[-2:]))\n",
    "print(dat_binned_long.shape)"
   ]
  },
  {
   "cell_type": "code",
   "execution_count": 6,
   "metadata": {},
   "outputs": [
    {
     "name": "stdout",
     "output_type": "stream",
     "text": [
      "(4, 4, 30, 33, 12)\n",
      "(4, 4, 33)\n",
      "(33,)\n"
     ]
    }
   ],
   "source": [
    "# Calculate mean values for array split evenly along time dimension\n",
    "# This is used as a starting value for the fit\n",
    "\n",
    "tastes = this_dat_binned.shape[0]\n",
    "split_list = np.array_split(this_dat_binned,states,axis=-1)\n",
    "# Cut all to the same size\n",
    "min_val = min([x.shape[-1] for x in split_list])\n",
    "split_array = np.array([x[...,:min_val] for x in split_list])\n",
    "print(split_array.shape)\n",
    "mean_vals = np.mean(split_array,axis=(2,-1)).swapaxes(0,1)\n",
    "mean_vals += 0.01 # To avoid zero starting prob\n",
    "print(mean_vals.shape) # Trials x nrns\n",
    "# print(mean_vals)\n",
    "mean_nrn_vals = np.mean(mean_vals,axis=(0,1))\n",
    "print(mean_nrn_vals.shape) # Trials x nrns"
   ]
  },
  {
   "cell_type": "code",
   "execution_count": 7,
   "metadata": {},
   "outputs": [
    {
     "name": "stdout",
     "output_type": "stream",
     "text": [
      "(120, 33, 50)\n"
     ]
    }
   ],
   "source": [
    "# Define range of time-bins\n",
    "idx = np.arange(this_dat_binned.shape[-1]) # Index\n",
    "array_idx = np.broadcast_to(idx, dat_binned_long.shape)\n",
    "idx_range = idx.max() - idx.min()\n",
    "print(array_idx.shape)"
   ]
  },
  {
   "cell_type": "code",
   "execution_count": 8,
   "metadata": {},
   "outputs": [
    {
     "name": "stdout",
     "output_type": "stream",
     "text": [
      "[ 0.   12.25 24.5  36.75 49.  ]\n",
      "[0.25 0.5  0.75]\n"
     ]
    }
   ],
   "source": [
    "# Initial guess for where teh changepoints should be\n",
    "# Perfectly even splits\n",
    "even_switches = np.linspace(0,idx.max(),states+1)\n",
    "even_switches_normal = even_switches/np.max(even_switches)\n",
    "print(even_switches)\n",
    "print(even_switches_normal[1:(states)])"
   ]
  },
  {
   "cell_type": "markdown",
   "metadata": {},
   "source": [
    "## ======== Define MODEL ========"
   ]
  },
  {
   "cell_type": "code",
   "execution_count": 9,
   "metadata": {},
   "outputs": [
    {
     "name": "stdout",
     "output_type": "stream",
     "text": [
      "(33,)\n",
      "(4, 33)\n",
      "(4, 4, 33)\n"
     ]
    }
   ],
   "source": [
    "# Define Emission variables\n",
    "with pm.Model() as model:\n",
    "    \n",
    "    # SAME LAMBDAS ACROSS ALL TRIALS\n",
    "    # Finite, but somewhere on the lower end, Beta prior\n",
    "    # Shared hyperprior for single neuron (across tastes and states)\n",
    "    # Priors for each neuron\n",
    "    lambda_nrn = pm.Exponential('lambda_nrn',1/mean_nrn_vals, shape = (mean_vals.shape[-1]))\n",
    "    \n",
    "    # Priors for each state, derived from each neuron\n",
    "    lambda_state = pm.Exponential('lambda_state',lambda_nrn, shape = (mean_vals.shape[1:]))\n",
    "    \n",
    "    lambda_latent = pm.Exponential('lambda', lambda_state[np.newaxis,:,:], testval = mean_vals, \n",
    "                            shape = (mean_vals.shape))\n",
    "\n",
    "print(lambda_nrn.tag.test_value.shape)\n",
    "print(lambda_state.tag.test_value.shape)\n",
    "print(lambda_latent.tag.test_value.shape)\n"
   ]
  },
  {
   "cell_type": "code",
   "execution_count": 10,
   "metadata": {},
   "outputs": [
    {
     "name": "stdout",
     "output_type": "stream",
     "text": [
      "(120, 3)\n"
     ]
    }
   ],
   "source": [
    "# Define changepoint variables\n",
    "\n",
    "trial_num = array_idx.shape[0]\n",
    "\n",
    "with model:\n",
    "    \n",
    "    # INDEPENDENT TAU FOR EVERY TRIAL\n",
    "    a = pm.HalfNormal('a_tau', 3., shape = states - 1)\n",
    "    b = pm.HalfNormal('b_tau', 3., shape = states - 1)\n",
    "    \n",
    "    # Stack produces states x trials --> That gets transposed to trials x states and gets sorted along states (axis=-1)\n",
    "    # Sort should work the same way as the Ordered transform --> see rv_sort_test.ipynb\n",
    "\n",
    "    tau_latent = pm.Beta('tau_latent', a, b, \n",
    "                           shape = (trial_num, states-1),\n",
    "                        testval = tt.tile(even_switches_normal[1:(states)],(array_idx.shape[0],1))).sort(axis=-1)\n",
    "       \n",
    "    tau = pm.Deterministic('tau', idx.min() + (idx.max() - idx.min()) * tau_latent)\n",
    "\n",
    "print(tau.tag.test_value.shape)\n",
    "tau_test_value = tau.tag.test_value"
   ]
  },
  {
   "cell_type": "code",
   "execution_count": 11,
   "metadata": {},
   "outputs": [],
   "source": [
    "# Define sigmoids for transition between states\n",
    "with model:\n",
    "    \n",
    "    # Assign lambdas to time_bin indices using sigmoids centered on switchpoints\n",
    "    # Refer to https://www.desmos.com/calculator/yisbydv2cq\n",
    "    \n",
    "    weight_1_stack = tt.nnet.sigmoid(array_idx - tau[:,0][...,np.newaxis,np.newaxis])\n",
    "    weight_2_stack = tt.nnet.sigmoid(array_idx - tau[:,1][...,np.newaxis,np.newaxis])\n",
    "    if states > 3:\n",
    "        weight_3_stack = tt.nnet.sigmoid(array_idx - tau[:,2][...,np.newaxis,np.newaxis])\n",
    "    if states > 4:\n",
    "        weight_4_stack = tt.nnet.sigmoid(array_idx - tau[:,3][...,np.newaxis,np.newaxis])\n"
   ]
  },
  {
   "cell_type": "code",
   "execution_count": 12,
   "metadata": {},
   "outputs": [
    {
     "name": "stderr",
     "output_type": "stream",
     "text": [
      "/home/abuzarmahmood/anaconda3/lib/python3.6/site-packages/theano/tensor/subtensor.py:2197: FutureWarning: Using a non-tuple sequence for multidimensional indexing is deprecated; use `arr[tuple(seq)]` instead of `arr[seq]`. In the future this will be interpreted as an array index, `arr[np.array(seq)]`, which will result either in an error or a different result.\n",
      "  rval = inputs[0].__getitem__(inputs[1:])\n",
      "/home/abuzarmahmood/anaconda3/lib/python3.6/site-packages/theano/tensor/subtensor.py:2197: FutureWarning: Using a non-tuple sequence for multidimensional indexing is deprecated; use `arr[tuple(seq)]` instead of `arr[seq]`. In the future this will be interpreted as an array index, `arr[np.array(seq)]`, which will result either in an error or a different result.\n",
      "  rval = inputs[0].__getitem__(inputs[1:])\n"
     ]
    }
   ],
   "source": [
    "# Define \"final\" firing rate variable to be used in model likelihood\n",
    "taste_label = np.repeat([0,1,2,3],30)\n",
    "with model:\n",
    "    \n",
    "    if states == 3:\n",
    "        # 3 states\n",
    "        lambda_ = np.multiply(1 - weight_1_stack, lambda_latent[taste_label,0][:,:,np.newaxis]) + \\\n",
    "                    np.multiply(weight_1_stack * (1 - weight_2_stack), lambda_latent[taste_label][:,1][:,:,np.newaxis]) + \\\n",
    "                    np.multiply(weight_2_stack, lambda_latent[taste_label,2][:,:,np.newaxis])\n",
    "    \n",
    "    elif states == 4:\n",
    "        # 4 states\n",
    "        lambda_ = np.multiply(1 - weight_1_stack, lambda_latent[taste_label,0][:,:,np.newaxis]) + \\\n",
    "                    np.multiply(weight_1_stack * (1 - weight_2_stack), lambda_latent[taste_label][:,1][:,:,np.newaxis]) + \\\n",
    "                    np.multiply(weight_2_stack * (1 - weight_3_stack), lambda_latent[taste_label][:,2][:,:,np.newaxis]) + \\\n",
    "                    np.multiply(weight_3_stack, lambda_latent[taste_label,3][:,:,np.newaxis])\n",
    "\n",
    "    elif states == 5:\n",
    "        # 5 states\n",
    "        lambda_ = np.multiply(1 - weight_1_stack, lambda_latent[taste_label,0][:,:,np.newaxis]) + \\\n",
    "                    np.multiply(weight_1_stack * (1 - weight_2_stack), lambda_latent[taste_label][:,1][:,:,np.newaxis]) + \\\n",
    "                    np.multiply(weight_2_stack * (1 - weight_3_stack), lambda_latent[taste_label][:,2][:,:,np.newaxis]) +\\\n",
    "                    np.multiply(weight_3_stack * (1 - weight_4_stack), lambda_latent[taste_label][:,3][:,:,np.newaxis])+ \\\n",
    "                    np.multiply(weight_4_stack, lambda_latent[taste_label,4][:,:,np.newaxis])\n"
   ]
  },
  {
   "cell_type": "code",
   "execution_count": 13,
   "metadata": {},
   "outputs": [],
   "source": [
    "# Using Poisson likelihood for count data\n",
    "with model:\n",
    "    observation = pm.Poisson(\"obs\", lambda_, observed=dat_binned_long)"
   ]
  },
  {
   "cell_type": "code",
   "execution_count": 14,
   "metadata": {},
   "outputs": [
    {
     "data": {
      "image/svg+xml": [
       "<?xml version=\"1.0\" encoding=\"UTF-8\" standalone=\"no\"?>\n",
       "<!DOCTYPE svg PUBLIC \"-//W3C//DTD SVG 1.1//EN\"\n",
       " \"http://www.w3.org/Graphics/SVG/1.1/DTD/svg11.dtd\">\n",
       "<!-- Generated by graphviz version 2.40.1 (20161225.0304)\n",
       " -->\n",
       "<!-- Title: %3 Pages: 1 -->\n",
       "<svg width=\"624pt\" height=\"348pt\"\n",
       " viewBox=\"0.00 0.00 624.00 348.00\" xmlns=\"http://www.w3.org/2000/svg\" xmlns:xlink=\"http://www.w3.org/1999/xlink\">\n",
       "<g id=\"graph0\" class=\"graph\" transform=\"scale(1 1) rotate(0) translate(4 344)\">\n",
       "<title>%3</title>\n",
       "<polygon fill=\"#ffffff\" stroke=\"transparent\" points=\"-4,4 -4,-344 620,-344 620,4 -4,4\"/>\n",
       "<g id=\"clust1\" class=\"cluster\">\n",
       "<title>cluster33</title>\n",
       "<path fill=\"none\" stroke=\"#000000\" d=\"M20,-257C20,-257 222,-257 222,-257 228,-257 234,-263 234,-269 234,-269 234,-320 234,-320 234,-326 228,-332 222,-332 222,-332 20,-332 20,-332 14,-332 8,-326 8,-320 8,-320 8,-269 8,-269 8,-263 14,-257 20,-257\"/>\n",
       "<text text-anchor=\"middle\" x=\"219\" y=\"-264.8\" font-family=\"Times,serif\" font-size=\"14.00\" fill=\"#000000\">33</text>\n",
       "</g>\n",
       "<g id=\"clust2\" class=\"cluster\">\n",
       "<title>cluster4 x 33</title>\n",
       "<path fill=\"none\" stroke=\"#000000\" d=\"M21,-174C21,-174 233,-174 233,-174 239,-174 245,-180 245,-186 245,-186 245,-237 245,-237 245,-243 239,-249 233,-249 233,-249 21,-249 21,-249 15,-249 9,-243 9,-237 9,-237 9,-186 9,-186 9,-180 15,-174 21,-174\"/>\n",
       "<text text-anchor=\"middle\" x=\"219.5\" y=\"-181.8\" font-family=\"Times,serif\" font-size=\"14.00\" fill=\"#000000\">4 x 33</text>\n",
       "</g>\n",
       "<g id=\"clust3\" class=\"cluster\">\n",
       "<title>cluster4 x 4 x 33</title>\n",
       "<path fill=\"none\" stroke=\"#000000\" d=\"M53,-91C53,-91 223,-91 223,-91 229,-91 235,-97 235,-103 235,-103 235,-154 235,-154 235,-160 229,-166 223,-166 223,-166 53,-166 53,-166 47,-166 41,-160 41,-154 41,-154 41,-103 41,-103 41,-97 47,-91 53,-91\"/>\n",
       "<text text-anchor=\"middle\" x=\"199\" y=\"-98.8\" font-family=\"Times,serif\" font-size=\"14.00\" fill=\"#000000\">4 x 4 x 33</text>\n",
       "</g>\n",
       "<g id=\"clust4\" class=\"cluster\">\n",
       "<title>cluster3</title>\n",
       "<path fill=\"none\" stroke=\"#000000\" d=\"M254,-257C254,-257 596,-257 596,-257 602,-257 608,-263 608,-269 608,-269 608,-320 608,-320 608,-326 602,-332 596,-332 596,-332 254,-332 254,-332 248,-332 242,-326 242,-320 242,-320 242,-269 242,-269 242,-263 248,-257 254,-257\"/>\n",
       "<text text-anchor=\"middle\" x=\"596.5\" y=\"-264.8\" font-family=\"Times,serif\" font-size=\"14.00\" fill=\"#000000\">3</text>\n",
       "</g>\n",
       "<g id=\"clust5\" class=\"cluster\">\n",
       "<title>cluster120 x 3</title>\n",
       "<path fill=\"none\" stroke=\"#000000\" d=\"M266,-91C266,-91 400,-91 400,-91 406,-91 412,-97 412,-103 412,-103 412,-237 412,-237 412,-243 406,-249 400,-249 400,-249 266,-249 266,-249 260,-249 254,-243 254,-237 254,-237 254,-103 254,-103 254,-97 260,-91 266,-91\"/>\n",
       "<text text-anchor=\"middle\" x=\"383\" y=\"-98.8\" font-family=\"Times,serif\" font-size=\"14.00\" fill=\"#000000\">120 x 3</text>\n",
       "</g>\n",
       "<g id=\"clust6\" class=\"cluster\">\n",
       "<title>cluster120 x 33 x 50</title>\n",
       "<path fill=\"none\" stroke=\"#000000\" d=\"M182,-8C182,-8 294,-8 294,-8 300,-8 306,-14 306,-20 306,-20 306,-71 306,-71 306,-77 300,-83 294,-83 294,-83 182,-83 182,-83 176,-83 170,-77 170,-71 170,-71 170,-20 170,-20 170,-14 176,-8 182,-8\"/>\n",
       "<text text-anchor=\"middle\" x=\"260\" y=\"-15.8\" font-family=\"Times,serif\" font-size=\"14.00\" fill=\"#000000\">120 x 33 x 50</text>\n",
       "</g>\n",
       "<!-- lambda_nrn -->\n",
       "<g id=\"node1\" class=\"node\">\n",
       "<title>lambda_nrn</title>\n",
       "<ellipse fill=\"none\" stroke=\"#000000\" cx=\"121\" cy=\"-306\" rx=\"105.0817\" ry=\"18\"/>\n",
       "<text text-anchor=\"middle\" x=\"121\" y=\"-302.3\" font-family=\"Times,serif\" font-size=\"14.00\" fill=\"#000000\">lambda_nrn ~ Exponential</text>\n",
       "</g>\n",
       "<!-- lambda_state -->\n",
       "<g id=\"node2\" class=\"node\">\n",
       "<title>lambda_state</title>\n",
       "<ellipse fill=\"none\" stroke=\"#000000\" cx=\"127\" cy=\"-223\" rx=\"109.6807\" ry=\"18\"/>\n",
       "<text text-anchor=\"middle\" x=\"127\" y=\"-219.3\" font-family=\"Times,serif\" font-size=\"14.00\" fill=\"#000000\">lambda_state ~ Exponential</text>\n",
       "</g>\n",
       "<!-- lambda_nrn&#45;&gt;lambda_state -->\n",
       "<g id=\"edge1\" class=\"edge\">\n",
       "<title>lambda_nrn&#45;&gt;lambda_state</title>\n",
       "<path fill=\"none\" stroke=\"#000000\" d=\"M122.3019,-287.9902C123.075,-277.2963 124.0723,-263.4994 124.9491,-251.3706\"/>\n",
       "<polygon fill=\"#000000\" stroke=\"#000000\" points=\"128.4497,-251.4876 125.6799,-241.2612 121.4679,-250.9828 128.4497,-251.4876\"/>\n",
       "</g>\n",
       "<!-- lambda -->\n",
       "<g id=\"node3\" class=\"node\">\n",
       "<title>lambda</title>\n",
       "<ellipse fill=\"none\" stroke=\"#000000\" cx=\"138\" cy=\"-140\" rx=\"89.0842\" ry=\"18\"/>\n",
       "<text text-anchor=\"middle\" x=\"138\" y=\"-136.3\" font-family=\"Times,serif\" font-size=\"14.00\" fill=\"#000000\">lambda ~ Exponential</text>\n",
       "</g>\n",
       "<!-- lambda_state&#45;&gt;lambda -->\n",
       "<g id=\"edge2\" class=\"edge\">\n",
       "<title>lambda_state&#45;&gt;lambda</title>\n",
       "<path fill=\"none\" stroke=\"#000000\" d=\"M129.3868,-204.9902C130.8041,-194.2963 132.6326,-180.4994 134.24,-168.3706\"/>\n",
       "<polygon fill=\"#000000\" stroke=\"#000000\" points=\"137.7356,-168.6344 135.5798,-158.2612 130.7963,-167.7147 137.7356,-168.6344\"/>\n",
       "</g>\n",
       "<!-- obs -->\n",
       "<g id=\"node8\" class=\"node\">\n",
       "<title>obs</title>\n",
       "<ellipse fill=\"#d3d3d3\" stroke=\"#000000\" cx=\"238\" cy=\"-57\" rx=\"59.5901\" ry=\"18\"/>\n",
       "<text text-anchor=\"middle\" x=\"238\" y=\"-53.3\" font-family=\"Times,serif\" font-size=\"14.00\" fill=\"#000000\">obs ~ Poisson</text>\n",
       "</g>\n",
       "<!-- lambda&#45;&gt;obs -->\n",
       "<g id=\"edge6\" class=\"edge\">\n",
       "<title>lambda&#45;&gt;obs</title>\n",
       "<path fill=\"none\" stroke=\"#000000\" d=\"M159.2074,-122.3978C173.854,-110.2412 193.5009,-93.9343 209.5117,-80.6453\"/>\n",
       "<polygon fill=\"#000000\" stroke=\"#000000\" points=\"212.0476,-83.089 217.5071,-74.0091 207.5769,-77.7027 212.0476,-83.089\"/>\n",
       "</g>\n",
       "<!-- b_tau -->\n",
       "<g id=\"node4\" class=\"node\">\n",
       "<title>b_tau</title>\n",
       "<ellipse fill=\"none\" stroke=\"#000000\" cx=\"517\" cy=\"-306\" rx=\"83.3857\" ry=\"18\"/>\n",
       "<text text-anchor=\"middle\" x=\"517\" y=\"-302.3\" font-family=\"Times,serif\" font-size=\"14.00\" fill=\"#000000\">b_tau ~ HalfNormal</text>\n",
       "</g>\n",
       "<!-- tau_latent -->\n",
       "<g id=\"node7\" class=\"node\">\n",
       "<title>tau_latent</title>\n",
       "<ellipse fill=\"none\" stroke=\"#000000\" cx=\"333\" cy=\"-223\" rx=\"71.4873\" ry=\"18\"/>\n",
       "<text text-anchor=\"middle\" x=\"333\" y=\"-219.3\" font-family=\"Times,serif\" font-size=\"14.00\" fill=\"#000000\">tau_latent ~ Beta</text>\n",
       "</g>\n",
       "<!-- b_tau&#45;&gt;tau_latent -->\n",
       "<g id=\"edge3\" class=\"edge\">\n",
       "<title>b_tau&#45;&gt;tau_latent</title>\n",
       "<path fill=\"none\" stroke=\"#000000\" d=\"M487.6772,-289.0721C469.8534,-279.1144 446.4644,-266.6291 425,-257 412.4957,-251.3905 398.7604,-245.9475 385.8041,-241.1208\"/>\n",
       "<polygon fill=\"#000000\" stroke=\"#000000\" points=\"386.6751,-237.7124 376.0814,-237.5573 384.2662,-244.2849 386.6751,-237.7124\"/>\n",
       "</g>\n",
       "<!-- a_tau -->\n",
       "<g id=\"node5\" class=\"node\">\n",
       "<title>a_tau</title>\n",
       "<ellipse fill=\"none\" stroke=\"#000000\" cx=\"333\" cy=\"-306\" rx=\"82.5854\" ry=\"18\"/>\n",
       "<text text-anchor=\"middle\" x=\"333\" y=\"-302.3\" font-family=\"Times,serif\" font-size=\"14.00\" fill=\"#000000\">a_tau ~ HalfNormal</text>\n",
       "</g>\n",
       "<!-- a_tau&#45;&gt;tau_latent -->\n",
       "<g id=\"edge4\" class=\"edge\">\n",
       "<title>a_tau&#45;&gt;tau_latent</title>\n",
       "<path fill=\"none\" stroke=\"#000000\" d=\"M333,-287.9902C333,-277.2963 333,-263.4994 333,-251.3706\"/>\n",
       "<polygon fill=\"#000000\" stroke=\"#000000\" points=\"336.5001,-251.2612 333,-241.2612 329.5001,-251.2613 336.5001,-251.2612\"/>\n",
       "</g>\n",
       "<!-- tau -->\n",
       "<g id=\"node6\" class=\"node\">\n",
       "<title>tau</title>\n",
       "<polygon fill=\"none\" stroke=\"#000000\" points=\"389,-158 267,-158 267,-122 389,-122 389,-158\"/>\n",
       "<text text-anchor=\"middle\" x=\"328\" y=\"-136.3\" font-family=\"Times,serif\" font-size=\"14.00\" fill=\"#000000\">tau ~ Deterministic</text>\n",
       "</g>\n",
       "<!-- tau&#45;&gt;obs -->\n",
       "<g id=\"edge7\" class=\"edge\">\n",
       "<title>tau&#45;&gt;obs</title>\n",
       "<path fill=\"none\" stroke=\"#000000\" d=\"M308.4713,-121.9902C295.4724,-110.0023 278.2452,-94.115 264.0777,-81.0494\"/>\n",
       "<polygon fill=\"#000000\" stroke=\"#000000\" points=\"266.2919,-78.3303 256.5679,-74.1237 261.5463,-83.4761 266.2919,-78.3303\"/>\n",
       "</g>\n",
       "<!-- tau_latent&#45;&gt;tau -->\n",
       "<g id=\"edge5\" class=\"edge\">\n",
       "<title>tau_latent&#45;&gt;tau</title>\n",
       "<path fill=\"none\" stroke=\"#000000\" d=\"M331.9151,-204.9902C331.2709,-194.2963 330.4397,-180.4994 329.7091,-168.3706\"/>\n",
       "<polygon fill=\"#000000\" stroke=\"#000000\" points=\"333.1952,-168.0326 329.1001,-158.2612 326.2078,-168.4536 333.1952,-168.0326\"/>\n",
       "</g>\n",
       "</g>\n",
       "</svg>\n"
      ],
      "text/plain": [
       "<graphviz.dot.Digraph at 0x7f9a8d3dad68>"
      ]
     },
     "execution_count": 14,
     "metadata": {},
     "output_type": "execute_result"
    }
   ],
   "source": [
    "# Plot model structure\n",
    "# Can be commented out\n",
    "pm.model_to_graphviz(model)"
   ]
  },
  {
   "cell_type": "markdown",
   "metadata": {},
   "source": [
    "## ======== Run INFERENCE ========"
   ]
  },
  {
   "cell_type": "code",
   "execution_count": 15,
   "metadata": {},
   "outputs": [
    {
     "name": "stdout",
     "output_type": "stream",
     "text": [
      "Trace loaded from cache\n"
     ]
    }
   ],
   "source": [
    "# If model has already been saved, simply load variables\n",
    "# If not, fit model\n",
    "model_dump_path = os.path.join(model_save_dir,f'dump_{model_name}.pkl')\n",
    "if os.path.exists(model_dump_path):\n",
    "    print('Trace loaded from cache')\n",
    "    with open(model_dump_path, 'rb') as buff:\n",
    "        data = pickle.load(buff)\n",
    "    model = data['model']\n",
    "    trace = data['trace']\n",
    "    inference = data['inference']\n",
    "    approx = data['approx']\n",
    "else:\n",
    "    with model:\n",
    "        inference = pm.ADVI('full-rank')\n",
    "        approx = pm.fit(n=fit, method=inference)\n",
    "        trace = approx.sample(draws=samples)\n",
    "\n",
    "    print('Dumping trace to cache')\n",
    "    with open(model_dump_path, 'wb') as buff:\n",
    "        pickle.dump({'model' : model,\n",
    "                    'trace': trace,\n",
    "                    'inference': inference,\n",
    "                    'approx' : approx}, buff)"
   ]
  },
  {
   "cell_type": "markdown",
   "metadata": {},
   "source": [
    "## ======== Plot Outputs ========"
   ]
  },
  {
   "cell_type": "code",
   "execution_count": 16,
   "metadata": {},
   "outputs": [
    {
     "data": {
      "image/png": "[encoded data removed]",
      "text/plain": [
       "<Figure size 432x288 with 1 Axes>"
      ]
     },
     "metadata": {
      "needs_background": "light"
     },
     "output_type": "display_data"
    }
   ],
   "source": [
    "# Plot ELBO to confirm convergence\n",
    "plt.plot(-inference.hist, label='new ADVI', alpha=.3)\n",
    "plt.legend()\n",
    "plt.ylabel('ELBO')\n",
    "plt.xlabel('iteration');"
   ]
  },
  {
   "cell_type": "code",
   "execution_count": 17,
   "metadata": {},
   "outputs": [
    {
     "name": "stdout",
     "output_type": "stream",
     "text": [
      "(20000, 120, 3)\n",
      "(4, 20000, 4, 33)\n"
     ]
    }
   ],
   "source": [
    "# Pull out lambda (emissions) and tau (changepoint location) values from model\n",
    "lambda_stack = trace['lambda'].swapaxes(0,1)\n",
    "tau_samples = trace['tau']\n",
    "print(tau_samples.shape)\n",
    "print(lambda_stack.shape)"
   ]
  },
  {
   "cell_type": "code",
   "execution_count": 18,
   "metadata": {},
   "outputs": [
    {
     "name": "stdout",
     "output_type": "stream",
     "text": [
      "(120, 3)\n",
      "(4, 33, 4)\n"
     ]
    }
   ],
   "source": [
    "# Calculate mean and sd\n",
    "mean_tau = np.mean(tau_samples, axis=0)\n",
    "mean_lambda = np.mean(lambda_stack,axis=1).swapaxes(1,2)\n",
    "sd_lambda = np.std(lambda_stack,axis=1).swapaxes(1,2)\n",
    "print(mean_tau.shape)\n",
    "print(mean_lambda.shape)"
   ]
  },
  {
   "cell_type": "code",
   "execution_count": 19,
   "metadata": {},
   "outputs": [
    {
     "name": "stdout",
     "output_type": "stream",
     "text": [
      "(4, 33, 4)\n",
      "(4, 33, 4)\n"
     ]
    },
    {
     "data": {
      "image/png": "[encoded data removed]",
      "text/plain": [
       "<Figure size 432x288 with 4 Axes>"
      ]
     },
     "metadata": {
      "needs_background": "light"
     },
     "output_type": "display_data"
    },
    {
     "data": {
      "image/png": "[encoded data removed]",
      "text/plain": [
       "<Figure size 432x288 with 4 Axes>"
      ]
     },
     "metadata": {
      "needs_background": "light"
     },
     "output_type": "display_data"
    }
   ],
   "source": [
    "# Plot raw and z-scored lambdas\n",
    "fig,ax = plt.subplots(1,mean_lambda.shape[0]);\n",
    "for num, (this_ax, this_dat) in enumerate(zip(ax, mean_lambda)):\n",
    "    this_ax.imshow(this_dat, interpolation = 'nearest', aspect = 'auto', cmap = 'viridis',\n",
    "                                      vmin = 0, vmax = np.max(mean_lambda,axis=None))\n",
    "    this_ax.set_title(f'Taste{num}')\n",
    "\n",
    "zscore_mean_lambda = np.array([stats.zscore(nrn,axis=None) for nrn in mean_lambda.swapaxes(0,1)]).swapaxes(0,1)\n",
    "print(mean_lambda.shape)\n",
    "print(zscore_mean_lambda.shape)\n",
    "fig,ax = plt.subplots(1,mean_lambda.shape[0]);\n",
    "for this_ax, this_dat in zip(ax, zscore_mean_lambda):\n",
    "    this_ax.imshow(this_dat, interpolation = 'nearest', aspect = 'auto', cmap = 'viridis')"
   ]
  },
  {
   "cell_type": "code",
   "execution_count": 20,
   "metadata": {},
   "outputs": [
    {
     "name": "stdout",
     "output_type": "stream",
     "text": [
      "(2400000, 3)\n"
     ]
    },
    {
     "data": {
      "image/png": "[encoded data removed]",
      "text/plain": [
       "<Figure size 432x288 with 1 Axes>"
      ]
     },
     "metadata": {
      "needs_background": "light"
     },
     "output_type": "display_data"
    }
   ],
   "source": [
    "# OVERALL, average location of changepoints\n",
    "long_tau_samples = tau_samples.reshape((-1, tau_samples.shape[-1]))\n",
    "print(long_tau_samples.shape)\n",
    "fig,ax = plt.subplots()\n",
    "for switch in range(long_tau_samples.shape[-1]):\n",
    "     plt.hist(long_tau_samples[...,switch],bins = 100, density = True,alpha = 0.8)\n",
    "        \n",
    "#plt.savefig(os.path.join(plot_dir,'cumulated_changepoint_hist'),dpi=300)\n",
    "#plt.close(fig)"
   ]
  },
  {
   "cell_type": "code",
   "execution_count": 21,
   "metadata": {},
   "outputs": [
    {
     "name": "stdout",
     "output_type": "stream",
     "text": [
      "(120, 33, 50)\n",
      "[ 10  23  24  30  32  60  79  94  97 118]\n"
     ]
    }
   ],
   "source": [
    "# Convert spike counts to binary for plotting (I think this is easier to visualize)\n",
    "plot_spikes = dat_binned_long>0\n",
    "print(plot_spikes.shape)\n",
    "\n",
    "# Only plot handful of trials so things don't take too long\n",
    "trial_count = 10\n",
    "tick_interval = 5\n",
    "trial_inds = np.sort(np.random.choice(np.arange(mean_tau.shape[0]),trial_count, replace = False))\n",
    "print(trial_inds)"
   ]
  },
  {
   "cell_type": "code",
   "execution_count": null,
   "metadata": {},
   "outputs": [],
   "source": [
    "# Plot spike rasters with distributions of switchpoints\n",
    "tick_interval = 5\n",
    "\n",
    "for this_taste in np.sort(np.unique(taste_label)):\n",
    "    trial_inds = np.where(taste_label==this_taste)[0]\n",
    "\n",
    "    fig, ax = plt.subplots(len(trial_inds),2,sharex='col', figsize = (15,50))\n",
    "    for num,trial in enumerate(trial_inds):\n",
    "        ax[num,0].imshow(plot_spikes[trial],aspect='auto',origin='lower')\n",
    "        ax[num,0].set_ylabel(taste_label[trial])\n",
    "        ax[num,0].vlines(mean_tau[trial],-0.5,mean_lambda.shape[1]-0.5,color = 'red',linewidth = 3, alpha = 0.7)\n",
    "\n",
    "        for state in range(tau_samples.shape[-1]):\n",
    "            ax[num,-1].hist(tau_samples[:,trial,state], bins = 100, density = True)\n",
    "            \n",
    "    #plt.savefig(os.path.join(plot_dir,'taste{}_changepoints'.format(this_taste)),dpi=300)\n",
    "    #plt.close(fig)\n"
   ]
  },
  {
   "cell_type": "code",
   "execution_count": null,
   "metadata": {},
   "outputs": [],
   "source": [
    "# FIND GOOD TRIALS!!\\\n",
    "# The idea is that trials where the distributions for inferred locations of different changepoints\n",
    "# is overlapping for single trials indicated poor inference i.e. the model wasn't sure where\n",
    "# the changepoint was so the distributions of multiple changepoints was very wide\n",
    "\n",
    "# Find trials where the mean tau for one changepoint is outside the 95% interval for other taus \n",
    "print(mean_tau.shape)\n",
    "print(tau_samples.shape)\n",
    "# # pre-compute ecdf for each tau for each trial\n",
    "percentile_array = np.zeros((*mean_tau.shape,mean_tau.shape[-1]))\n",
    "for trial_num, (this_mean_tau, this_tau_dist) in enumerate(zip(mean_tau, np.moveaxis(tau_samples,0,-1))):\n",
    "    for tau1_val, this_tau in enumerate(this_mean_tau):\n",
    "        for tau2_val, this_dist in enumerate(this_tau_dist):\n",
    "            percentile_array[trial_num, tau1_val, tau2_val] = percentileofscore(this_dist, this_tau)"
   ]
  },
  {
   "cell_type": "code",
   "execution_count": null,
   "metadata": {},
   "outputs": [],
   "source": [
    "# Visually, threshold of <1 percentile seems compelling\n",
    "# Find all trials where all the upper triangular elements are <1\n",
    "# and lower triangular elements are >99\n",
    "lower_thresh = 1\n",
    "upper_thresh = 100 - lower_thresh\n",
    "\n",
    "good_trial_list = np.where([all(x[np.triu_indices(states-1,1)] < lower_thresh) \\\n",
    "                  and all(x[np.tril_indices(states-1,-1)] > upper_thresh) \\\n",
    "                  for x in percentile_array])[0]\n",
    "print(len(good_trial_list))\n",
    "print(good_trial_list)"
   ]
  },
  {
   "cell_type": "code",
   "execution_count": null,
   "metadata": {},
   "outputs": [],
   "source": [
    "# Plot only good trials\n",
    "# Overlay raster with CDF of switchpoints\n",
    "tick_interval = 5\n",
    "max_trials = 15\n",
    "num_plots = int(np.ceil(len(good_trial_list)/max_trials))\n",
    "trial_inds_list = [good_trial_list[x*max_trials:(x+1)*max_trials] for x in np.arange(num_plots)]\n",
    "\n",
    "for fig_num in np.arange(num_plots):\n",
    "    trial_inds = trial_inds_list[fig_num]\n",
    "    trial_count = len(trial_inds)\n",
    "    \n",
    "    fig, ax = plt.subplots(trial_count,2,sharex='col', figsize = (20,trial_count*3))\n",
    "    for num,trial in enumerate(trial_inds):\n",
    "        ax[num,0].imshow(plot_spikes[trial],aspect='auto',origin='lower')\n",
    "        ax[num,0].set_ylabel(taste_label[trial])\n",
    "        ax[num,0].vlines(mean_tau[trial],-0.5,mean_lambda.shape[1]-0.5,color = 'red',linewidth = 3, alpha = 0.7)\n",
    "\n",
    "        for state in range(tau_samples.shape[-1]):\n",
    "            ax[num,-1].hist(tau_samples[:,trial,state], bins = 100, density = True)\n",
    "\n",
    "    #plt.savefig(os.path.join(plot_dir,'good_changepoints{}'.format(fig_num)),dpi=300)\n",
    "    #plt.close(fig)\n"
   ]
  },
  {
   "cell_type": "markdown",
   "metadata": {},
   "source": [
    "# ======== Spike alignment ========"
   ]
  },
  {
   "cell_type": "code",
   "execution_count": null,
   "metadata": {},
   "outputs": [],
   "source": [
    "# For visualization\n",
    "# Take firing around each transition and stack it together to make a PSTH (not mean firing)\n",
    "# Perform alignemnt on uncut data (0-7000 ms) so there are no missing parts\n",
    "# (in case a changepoint is too close to the start or the end)\n",
    "# Before and after alignment\n",
    "window_radius_time = 300 # ms\n",
    "window_radius_bins = window_radius_time//bin_width\n",
    "print(window_radius_bins)\n",
    "\n",
    "# To translate the changepoints according to the start of the whole trial\n",
    "mean_tau_adj = mean_tau + (time_lims[0]//bin_width)\n",
    "\n",
    "# Convert tau to interegers\n",
    "int_mean_tau = np.vectorize(np.int)(mean_tau_adj)\n",
    "\n",
    "print(dat_binned_long.shape)\n",
    "print(int_mean_tau.shape)"
   ]
  },
  {
   "cell_type": "code",
   "execution_count": null,
   "metadata": {},
   "outputs": [],
   "source": [
    "# Take entire radius if available or whatever there is otherwise\n",
    "# Iterate over changepoints and trials\n",
    "# trials x neuron x switches x window_diameter\n",
    "aligned_spikes = np.ones((*whole_dat_binned_long.shape[:2],mean_tau.shape[-1],window_radius_bins*2))*-1\n",
    "print(aligned_spikes.shape)"
   ]
  },
  {
   "cell_type": "code",
   "execution_count": null,
   "metadata": {},
   "outputs": [],
   "source": [
    "# Spikes aligned to trial-specific transitions\n",
    "for trial in range(whole_dat_binned_long.shape[0]):\n",
    "    for switch in range(mean_tau.shape[-1]):\n",
    "        \n",
    "        # Check whether we can pick out a window\n",
    "        lower_bound = (int_mean_tau[trial,switch] - window_radius_bins)\n",
    "        fin_lower_bound = lower_bound * (lower_bound > 0)\n",
    "        upper_bound = (int_mean_tau[trial,switch] + window_radius_bins)\n",
    "        fin_upper_bound = upper_bound * (upper_bound < whole_dat_binned_long.shape[-1]) + \\\n",
    "                                            whole_dat_binned_long.shape[-1] * (upper_bound > whole_dat_binned_long.shape[-1])\n",
    "\n",
    "        # Done this way so all windows can be accomodated whether they are of the expected size or not\n",
    "        lower_window = whole_dat_binned_long[trial,:,fin_lower_bound:int_mean_tau[trial,switch]]\n",
    "        upper_window = whole_dat_binned_long[trial,:,int_mean_tau[trial,switch]:fin_upper_bound]\n",
    "        #If window is smaller than the expected size, put it in centered on transition\n",
    "        aligned_spikes[trial,:,switch,(window_radius_bins - lower_window.shape[-1]):window_radius_bins] = lower_window\n",
    "        aligned_spikes[trial,:,switch,window_radius_bins:(window_radius_bins + upper_window.shape[-1])] = upper_window"
   ]
  },
  {
   "cell_type": "code",
   "execution_count": null,
   "metadata": {},
   "outputs": [],
   "source": [
    "# Spikes aligned to average transitions\n",
    "unaligned_spikes = np.ones((*whole_dat_binned_long.shape[:2],mean_tau.shape[-1],window_radius_bins*2))*-1\n",
    "print(unaligned_spikes.shape)\n",
    "int_unaligned_tau = np.vectorize(np.int)(np.mean(mean_tau_adj,axis=0))\n",
    "# Spikes aligned to trial-specific transitions\n",
    "for switch in range(int_unaligned_tau.shape[-1]):\n",
    "\n",
    "    # Check whether we can pick out a window\n",
    "    lower_bound = (int_unaligned_tau[switch] - window_radius_bins)\n",
    "    fin_lower_bound = lower_bound * (lower_bound > 0)\n",
    "    upper_bound = (int_unaligned_tau[switch] + window_radius_bins)\n",
    "    fin_upper_bound = upper_bound * (upper_bound < whole_dat_binned_long.shape[-1]) + \\\n",
    "                                        whole_dat_binned_long.shape[-1] * (upper_bound > whole_dat_binned_long.shape[-1])\n",
    "\n",
    "    # Done this way so all windows can be accomodated whether they are of the expected size or not\n",
    "    lower_window = whole_dat_binned_long[:,:,fin_lower_bound:int_unaligned_tau[switch]]\n",
    "    upper_window = whole_dat_binned_long[:,:,int_unaligned_tau[switch]:fin_upper_bound]\n",
    "    #If window is smaller than the expected size, put it in centered on transition\n",
    "    unaligned_spikes[:,:,switch,(window_radius_bins - lower_window.shape[-1]):window_radius_bins] = lower_window\n",
    "    unaligned_spikes[:,:,switch,window_radius_bins:(window_radius_bins + upper_window.shape[-1])] = upper_window"
   ]
  },
  {
   "cell_type": "code",
   "execution_count": null,
   "metadata": {},
   "outputs": [],
   "source": [
    "# break down aligned_spikes by taste\n",
    "aligned_list = []\n",
    "for taste in sorted(set(taste_label)):\n",
    "    aligned_list.append(aligned_spikes[taste_label==taste])\n",
    "taste_aligned_spikes = np.array(aligned_list)\n",
    "print(taste_aligned_spikes.shape)"
   ]
  },
  {
   "cell_type": "code",
   "execution_count": null,
   "metadata": {},
   "outputs": [],
   "source": [
    "plot_dat_aligned = np.moveaxis(aligned_spikes,0,2)\n",
    "plot_dat_unaligned = np.moveaxis(unaligned_spikes,0,2)\n",
    "print(plot_dat_aligned.shape)\n",
    "\n",
    "fig, ax = plt.subplots(plot_dat_aligned.shape[0],plot_dat_aligned.shape[1]*2,\n",
    "                      sharex=True, sharey=True, figsize=(20,120))\n",
    "iters = np.ndindex(plot_dat_aligned.shape[:2])\n",
    "for this_iter in iters:\n",
    "    #spikes = np.where(plot_dat[this_iter])\n",
    "    #this_ax.scatter(spikes[1],spikes[0],s=2,alpha=0.7,marker = \"|\")\n",
    "    ax[this_iter[0],2*this_iter[1]].imshow(plot_dat_aligned[this_iter[0],this_iter[1]],aspect='auto',cmap='jet',vmin=0,vmax=2)\n",
    "    ax[this_iter[0],(2*this_iter[1])+1].imshow(plot_dat_unaligned[this_iter[0],this_iter[1]],aspect='auto',cmap='jet',vmin=0,vmax=2)\n",
    "    \n",
    "    ax[this_iter[0],2*this_iter[1]].set_title('Aligned')\n",
    "    ax[this_iter[0],(2*this_iter[1])+1].set_title('UN-aligned')\n",
    "    \n",
    "for num,this_ax in enumerate(ax[:,0].flatten()):\n",
    "    this_ax.set_ylabel(num)\n",
    "    "
   ]
  },
  {
   "cell_type": "markdown",
   "metadata": {},
   "source": [
    "# ======== Firing Rate Alignment ========"
   ]
  },
  {
   "cell_type": "code",
   "execution_count": null,
   "metadata": {},
   "outputs": [],
   "source": [
    "taste_dat.shape[-1]//dat.all_normalized_firing.shape[-1]"
   ]
  },
  {
   "cell_type": "code",
   "execution_count": null,
   "metadata": {},
   "outputs": [],
   "source": [
    "# For visualization\n",
    "# Take firing around each transition and stack it together\n",
    "# Perform alignemnt on uncut data (0-7000 ms) so there are no missing parts\n",
    "# (in case a changepoint is too close to the start or the end)\n",
    "# Before and after alignment\n",
    "window_radius_time = 1000 # ms\n",
    "# firing_bin_width = (dat.firing_rate_params['baks_resolution'] * 1000)\n",
    "firing_bin_width = (taste_dat.shape[-1] // dat.all_normalized_firing.shape[-1])\n",
    "print(firing_bin_width)\n",
    "window_radius_bins = int(window_radius_time//firing_bin_width)\n",
    "print(window_radius_bins)\n",
    "\n",
    "# To translate the changepoints according to the start of the whole trial\n",
    "# and convert them to firing_rate bins\n",
    "mean_tau_adj = ((mean_tau + (time_lims[0]//bin_width))*bin_width)/firing_bin_width\n",
    "\n",
    "# Convert tau to interegers\n",
    "int_mean_tau = np.vectorize(np.int)(mean_tau_adj)\n",
    "\n",
    "firing_long = dat.all_normalized_firing.swapaxes(0,1)\n",
    "print(firing_long.shape)\n",
    "print(int_mean_tau.shape)"
   ]
  },
  {
   "cell_type": "code",
   "execution_count": null,
   "metadata": {},
   "outputs": [],
   "source": [
    "# Make time vector for plots\n",
    "t_align = np.arange(-window_radius_time,window_radius_time,firing_bin_width)"
   ]
  },
  {
   "cell_type": "code",
   "execution_count": null,
   "metadata": {},
   "outputs": [],
   "source": [
    "# Take entire radius if available or whatever there is otherwise\n",
    "# Iterate over changepoints and trials\n",
    "# trials x neuron x switches x window_diameter\n",
    "# Initiated with -1 to make sure gaps are visible\n",
    "aligned_firing = np.ones((*firing_long.shape[:2],mean_tau.shape[-1],window_radius_bins*2))*-1\n",
    "print(aligned_firing.shape)"
   ]
  },
  {
   "cell_type": "code",
   "execution_count": null,
   "metadata": {},
   "outputs": [],
   "source": [
    "# Spikes aligned to trial-specific transitions\n",
    "for trial in range(firing_long.shape[0]):\n",
    "    for switch in range(mean_tau.shape[-1]):\n",
    "        \n",
    "        # Check whether we can pick out a window\n",
    "        lower_bound = (int_mean_tau[trial,switch] - window_radius_bins)\n",
    "        fin_lower_bound = lower_bound * (lower_bound > 0)\n",
    "        upper_bound = (int_mean_tau[trial,switch] + window_radius_bins)\n",
    "        fin_upper_bound = upper_bound * (upper_bound < firing_long.shape[-1]) + \\\n",
    "                                            firing_long.shape[-1] * (upper_bound > firing_long.shape[-1])\n",
    "\n",
    "        # Done this way so all windows can be accomodated whether they are of the expected size or not\n",
    "        lower_window = firing_long[trial,:,fin_lower_bound:int_mean_tau[trial,switch]]\n",
    "        upper_window = firing_long[trial,:,int_mean_tau[trial,switch]:fin_upper_bound]\n",
    "        #If window is smaller than the expected size, put it in centered on transition\n",
    "        aligned_firing[trial,:,switch,(window_radius_bins - lower_window.shape[-1]):window_radius_bins] = lower_window\n",
    "        aligned_firing[trial,:,switch,window_radius_bins:(window_radius_bins + upper_window.shape[-1])] = upper_window"
   ]
  },
  {
   "cell_type": "code",
   "execution_count": null,
   "metadata": {},
   "outputs": [],
   "source": [
    "# Spikes aligned to average transitions\n",
    "unaligned_firing = np.ones((*firing_long.shape[:2],mean_tau.shape[-1],window_radius_bins*2))*-1\n",
    "print(unaligned_firing.shape)\n",
    "int_unaligned_tau = np.vectorize(np.int)(np.mean(mean_tau_adj,axis=0))\n",
    "# Spikes aligned to trial-specific transitions\n",
    "for switch in range(int_unaligned_tau.shape[-1]):\n",
    "\n",
    "    # Check whether we can pick out a window\n",
    "    lower_bound = (int_unaligned_tau[switch] - window_radius_bins)\n",
    "    fin_lower_bound = lower_bound * (lower_bound > 0)\n",
    "    upper_bound = (int_unaligned_tau[switch] + window_radius_bins)\n",
    "    fin_upper_bound = upper_bound * (upper_bound < firing_long.shape[-1]) + \\\n",
    "                                        firing_long.shape[-1] * (upper_bound > firing_long.shape[-1])\n",
    "\n",
    "    # Done this way so all windows can be accomodated whether they are of the expected size or not\n",
    "    lower_window = firing_long[:,:,fin_lower_bound:int_unaligned_tau[switch]]\n",
    "    upper_window = firing_long[:,:,int_unaligned_tau[switch]:fin_upper_bound]\n",
    "    #If window is smaller than the expected size, put it in centered on transition\n",
    "    unaligned_firing[:,:,switch,(window_radius_bins - lower_window.shape[-1]):window_radius_bins] = lower_window\n",
    "    unaligned_firing[:,:,switch,window_radius_bins:(window_radius_bins + upper_window.shape[-1])] = upper_window"
   ]
  },
  {
   "cell_type": "code",
   "execution_count": null,
   "metadata": {},
   "outputs": [],
   "source": [
    "# break down aligned_spikes by taste\n",
    "aligned_list = []\n",
    "for taste in sorted(set(taste_label)):\n",
    "    aligned_list.append(aligned_spikes[taste_label==taste])\n",
    "taste_aligned_spikes = np.array(aligned_list)\n",
    "print(taste_aligned_spikes.shape)"
   ]
  },
  {
   "cell_type": "code",
   "execution_count": null,
   "metadata": {},
   "outputs": [],
   "source": [
    "plot_dat_aligned = np.moveaxis(aligned_firing,0,2)\n",
    "plot_dat_unaligned = np.moveaxis(unaligned_firing,0,2)\n",
    "print(plot_dat_aligned.shape)\n",
    "\n",
    "fig, ax = plt.subplots(plot_dat_aligned.shape[0],plot_dat_aligned.shape[1]*2,\n",
    "                      sharex=True, sharey=True, figsize=(20,120))\n",
    "iters = np.ndindex(plot_dat_aligned.shape[:2])\n",
    "for this_iter in iters:\n",
    "    ax[this_iter[0],2*this_iter[1]].imshow(plot_dat_aligned[this_iter],aspect='auto',cmap='jet')\n",
    "    ax[this_iter[0],(2*this_iter[1])+1].imshow(plot_dat_unaligned[this_iter],aspect='auto',cmap='jet')\n",
    "    \n",
    "    ax[this_iter[0],2*this_iter[1]].set_title('Aligned')\n",
    "    ax[this_iter[0],(2*this_iter[1])+1].set_title('UN-aligned')\n",
    "    \n",
    "for num,this_ax in enumerate(ax[:,0].flatten()):\n",
    "    this_ax.set_ylabel(num)\n",
    "    "
   ]
  },
  {
   "cell_type": "markdown",
   "metadata": {},
   "source": [
    "## ======== Palatability correlation alignment ========"
   ]
  },
  {
   "cell_type": "code",
   "execution_count": null,
   "metadata": {},
   "outputs": [],
   "source": [
    "# Extract palatability information from info file\n",
    "info_file_path = glob.glob(os.path.join(data_dir,'**.info'))[0]\n",
    "print(info_file_path)\n",
    "with open(info_file_path,'r') as file_connect:\n",
    "    info_dict = json.load(file_connect)\n",
    "pal_rankings = np.squeeze(info_dict['taste_params']['pal_rankings'])\n",
    "pal_vec = np.repeat(pal_rankings,plot_dat_aligned.shape[2]//len(pal_rankings))\n",
    "print(pal_rankings)\n",
    "print(plot_dat_aligned.shape)"
   ]
  },
  {
   "cell_type": "code",
   "execution_count": null,
   "metadata": {},
   "outputs": [],
   "source": [
    "# aligned_dat_for_corr = np.moveaxis(plot_dat_aligned,-2,-1)\n",
    "# print(aligned_dat_for_corr.shape)\n",
    "# aligned_inds = list(np.ndindex(aligned_dat_for_corr.shape[:-1]))\n",
    "# aligned_spearman = np.zeros(aligned_dat_for_corr.shape[:-1])\n",
    "# for this_ind in aligned_inds:\n",
    "#     aligned_spearman[this_ind] = spearmanr(aligned_dat_for_corr[this_ind], pal_vec)[0]\n",
    "\n",
    "# print(aligned_spearman.shape)"
   ]
  },
  {
   "cell_type": "code",
   "execution_count": null,
   "metadata": {},
   "outputs": [],
   "source": [
    "pal_vec = np.repeat(pal_rankings,plot_dat_aligned.shape[2]//len(pal_rankings))\n",
    "aligned_dat_for_corr = np.moveaxis(plot_dat_aligned,-2,-1)\n",
    "print(aligned_dat_for_corr.shape)\n",
    "aligned_inds = list(np.ndindex(aligned_dat_for_corr.shape[:-1]))\n",
    "aligned_spearman = np.zeros(aligned_dat_for_corr.shape[:-1])\n",
    "for this_ind in aligned_inds:\n",
    "    aligned_spearman[this_ind] = spearmanr(aligned_dat_for_corr[this_ind], pal_vec)[0]\n",
    "\n",
    "print(aligned_spearman.shape)\n",
    "# mean_aligned_spearman_r = np.abs(np.nanmean(aligned_spearman,axis=0))\n",
    "mean_aligned_spearman_r = np.nanmean(np.abs(aligned_spearman),axis=0)\n"
   ]
  },
  {
   "cell_type": "code",
   "execution_count": null,
   "metadata": {},
   "outputs": [],
   "source": [
    "unaligned_dat_for_corr = np.moveaxis(plot_dat_unaligned,-2,-1)\n",
    "unaligned_inds = list(np.ndindex(aligned_dat_for_corr.shape[:-1]))\n",
    "unaligned_spearman = np.zeros(unaligned_dat_for_corr.shape[:-1])\n",
    "for this_ind in aligned_inds:\n",
    "    unaligned_spearman[this_ind] = spearmanr(unaligned_dat_for_corr[this_ind], pal_vec)[0]\n",
    "\n",
    "print(unaligned_spearman.shape)\n",
    "# mean_unaligned_spearman_r = np.abs(np.nanmean(unaligned_spearman,axis=0))\n",
    "mean_unaligned_spearman_r = np.nanmean(np.abs(unaligned_spearman),axis=0)"
   ]
  },
  {
   "cell_type": "code",
   "execution_count": null,
   "metadata": {},
   "outputs": [],
   "source": [
    "print(mean_aligned_spearman_r.shape)"
   ]
  },
  {
   "cell_type": "code",
   "execution_count": null,
   "metadata": {
    "scrolled": true
   },
   "outputs": [],
   "source": [
    "fig, ax = plt.subplots(1,states-1, figsize=(15,5), sharey = True);\n",
    "for change in range(states-1):\n",
    "    ax[change].plot(t_align, mean_aligned_spearman_r[change],label = 'Aligned')\n",
    "    ax[change].plot(t_align, mean_unaligned_spearman_r[change], label = 'Unaligned')\n",
    "    state = mean_aligned_spearman_r[change]\n",
    "    ax[change].axvline(x = len(state)//2,c='red',linewidth=2, alpha = 0.5)\n",
    "    ax[change].set_title(f'Across changepoint {change}')\n",
    "plt.legend();"
   ]
  },
  {
   "cell_type": "code",
   "execution_count": null,
   "metadata": {},
   "outputs": [],
   "source": [
    "all_corrs = np.concatenate((aligned_spearman,unaligned_spearman))\n",
    "min_val,max_val = np.nanmin(all_corrs,axis=None),np.nanmax(all_corrs,axis=None)\n",
    "fig, ax = plt.subplots(2,states-1,figsize = (30,15))\n",
    "for num,state in enumerate(aligned_spearman.swapaxes(0,1)):\n",
    "    ax[0,num].imshow(state,aspect='auto',vmin=min_val, vmax = max_val)\n",
    "    ax[0,num].axvline(x = state.shape[1]//2, ymin = 0, ymax = state.shape[0],c='red',linewidth=2)\n",
    "    ax[0,num].set_title(f'Across changepoint {num}')\n",
    "for num,state in enumerate(unaligned_spearman.swapaxes(0,1)):\n",
    "    ax[1,num].imshow(state,aspect='auto',vmin=min_val, vmax = max_val)\n",
    "    ax[1,num].axvline(x = state.shape[1]//2, ymin = 0, ymax = state.shape[0],c='red',linewidth=2)"
   ]
  },
  {
   "cell_type": "code",
   "execution_count": null,
   "metadata": {},
   "outputs": [],
   "source": [
    "# Is the difference improved by \"good\" trials\n",
    "good_pal_vec = pal_vec[good_trial_list]\n",
    "good_aligned_dat_for_corr = aligned_dat_for_corr[...,good_trial_list]\n",
    "print(good_aligned_dat_for_corr.shape)\n",
    "good_aligned_inds = list(np.ndindex(good_aligned_dat_for_corr.shape[:-1]))\n",
    "good_aligned_spearman = np.zeros(good_aligned_dat_for_corr.shape[:-1])\n",
    "for this_ind in good_aligned_inds:\n",
    "    good_aligned_spearman[this_ind] = spearmanr(good_aligned_dat_for_corr[this_ind], good_pal_vec)[0]\n",
    "\n",
    "print(good_aligned_spearman.shape)\n",
    "# good_mean_aligned_spearman_r = np.abs(np.nanmean(good_aligned_spearman,axis=0))\n",
    "good_mean_aligned_spearman_r = np.nanmean(np.abs(good_aligned_spearman),axis=0)"
   ]
  },
  {
   "cell_type": "code",
   "execution_count": null,
   "metadata": {},
   "outputs": [],
   "source": [
    "good_unaligned_dat_for_corr = unaligned_dat_for_corr[...,good_trial_list]\n",
    "print(good_unaligned_dat_for_corr.shape)\n",
    "good_unaligned_inds = list(np.ndindex(good_unaligned_dat_for_corr.shape[:-1]))\n",
    "good_unaligned_spearman = np.zeros(good_unaligned_dat_for_corr.shape[:-1])\n",
    "for this_ind in good_unaligned_inds:\n",
    "    good_unaligned_spearman[this_ind] = spearmanr(good_unaligned_dat_for_corr[this_ind], good_pal_vec)[0]\n",
    "\n",
    "print(good_unaligned_spearman.shape)\n",
    "# good_mean_unaligned_spearman_r = np.abs(np.nanmean(good_unaligned_spearman,axis=0))\n",
    "good_mean_unaligned_spearman_r = np.nanmean(np.abs(good_unaligned_spearman),axis=0)"
   ]
  },
  {
   "cell_type": "code",
   "execution_count": null,
   "metadata": {},
   "outputs": [],
   "source": [
    "fig, ax = plt.subplots(1,states-1, figsize=(15,5),sharey=True)\n",
    "for change in range(states-1):\n",
    "    ax[change].plot(t_align, good_mean_aligned_spearman_r[change],label = 'Aligned')\n",
    "    ax[change].plot(t_align, good_mean_unaligned_spearman_r[change], label = 'Unaligned')\n",
    "    state = mean_aligned_spearman_r[change]\n",
    "    ax[change].axvline(x = len(state)//2,c='red',linewidth=2, alpha = 0.5)\n",
    "    ax[change].set_title(f'Across changepoint {change}')\n",
    "plt.legend();"
   ]
  },
  {
   "cell_type": "code",
   "execution_count": null,
   "metadata": {},
   "outputs": [],
   "source": [
    "all_corrs = np.concatenate((good_aligned_spearman,good_unaligned_spearman))\n",
    "min_val,max_val = np.nanmin(all_corrs,axis=None),np.nanmax(all_corrs,axis=None)\n",
    "fig, ax = plt.subplots(2,states-1,figsize = (30,15))\n",
    "for num,state in enumerate(good_aligned_spearman.swapaxes(0,1)):\n",
    "    ax[0,num].imshow(state,aspect='auto',vmin=min_val, vmax = max_val)\n",
    "    ax[0,num].axvline(x = state.shape[1]//2, ymin = 0, ymax = state.shape[0],c='red',linewidth=2)\n",
    "    ax[0,num].set_title(f'Across changepoint {num}')\n",
    "for num,state in enumerate(good_unaligned_spearman.swapaxes(0,1)):\n",
    "    im = ax[1,num].imshow(state,aspect='auto',vmin=min_val, vmax = max_val)\n",
    "    ax[1,num].axvline(x = state.shape[1]//2, ymin = 0, ymax = state.shape[0],c='red',linewidth=2)\n",
    "plt.colorbar(im);"
   ]
  },
  {
   "cell_type": "code",
   "execution_count": null,
   "metadata": {},
   "outputs": [],
   "source": [
    "# Calculate correlation of average firing rate in each state to palatability\n",
    "# There should be a single DOMINANT palatability state\n",
    "print(int_mean_tau.shape)\n",
    "time_lim_inds = np.array(time_lims)//firing_bin_width\n",
    "print(time_lim_inds)\n",
    "bounding_mean_tau = np.hstack((np.repeat(time_lim_inds[0],int_mean_tau.shape[0])[:,np.newaxis],\n",
    "                              int_mean_tau,\n",
    "                              np.repeat(time_lim_inds[1],int_mean_tau.shape[0])[:,np.newaxis]))\n",
    "# print(bounding_mean_tau)"
   ]
  },
  {
   "cell_type": "code",
   "execution_count": null,
   "metadata": {},
   "outputs": [],
   "source": [
    "print(firing_long.shape)\n",
    "mean_state_firing = np.zeros((states,*firing_long.shape[:-1]))\n",
    "print(mean_state_firing.shape)\n",
    "inds = list(np.ndindex(mean_state_firing.shape[:-1]))\n",
    "for this_ind in inds:\n",
    "    temp_firing = firing_long[this_ind[1:]]\n",
    "    temp_inds = bounding_mean_tau[this_ind[1],this_ind[0]:(this_ind[0]+2)]\n",
    "    mean_state_firing[this_ind] = np.mean(temp_firing[:,temp_inds[0]:temp_inds[1]],axis=-1)"
   ]
  },
  {
   "cell_type": "code",
   "execution_count": null,
   "metadata": {},
   "outputs": [],
   "source": [
    "# visualize.firing_overview(stats.zscore(mean_state_firing,axis=1));\n",
    "visualize.firing_overview(mean_state_firing);"
   ]
  },
  {
   "cell_type": "code",
   "execution_count": null,
   "metadata": {},
   "outputs": [],
   "source": [
    "# For each state, correlate the acticity of all the neurons to palatability\n",
    "# And compare with mean firing of non-aligned windows of time\n",
    "mean_firing_for_corr = np.swapaxes(mean_state_firing,-2,-1)\n",
    "mean_firing_corrs = np.zeros(mean_firing_for_corr.shape[:-1])\n",
    "print(mean_firing_for_corr.shape)\n",
    "ndinds = list(np.ndindex(mean_firing_for_corr.shape[:-1]))\n",
    "for this_ind in ndinds:\n",
    "     mean_firing_corrs[this_ind] = \\\n",
    "        spearmanr(mean_firing_for_corr[this_ind], pal_vec)[0]\n",
    "print(mean_firing_corrs.shape)"
   ]
  },
  {
   "cell_type": "code",
   "execution_count": null,
   "metadata": {},
   "outputs": [],
   "source": [
    "im = visualize.imshow(np.abs(mean_firing_corrs.T))\n",
    "print(np.mean(np.abs(mean_firing_corrs),axis=1))\n",
    "plt.colorbar(im);"
   ]
  }
 ],
 "metadata": {
  "kernelspec": {
   "display_name": "Python 3",
   "language": "python",
   "name": "python3"
  },
  "language_info": {
   "codemirror_mode": {
    "name": "ipython",
    "version": 3
   },
   "file_extension": ".py",
   "mimetype": "text/x-python",
   "name": "python",
   "nbconvert_exporter": "python",
   "pygments_lexer": "ipython3",
   "version": "3.6.10"
  }
 },
 "nbformat": 4,
 "nbformat_minor": 2
}
