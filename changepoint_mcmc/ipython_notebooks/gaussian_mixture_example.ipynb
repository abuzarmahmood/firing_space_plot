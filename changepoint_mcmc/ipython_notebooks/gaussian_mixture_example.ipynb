{
 "cells": [
  {
   "cell_type": "code",
   "execution_count": 1,
   "metadata": {},
   "outputs": [],
   "source": [
    "import numpy as np\n",
    "import pylab as plt\n",
    "import pymc3 as pm"
   ]
  },
  {
   "cell_type": "code",
   "execution_count": 24,
   "metadata": {},
   "outputs": [
    {
     "data": {
      "image/png": "[encoded data removed]",
      "text/plain": [
       "<Figure size 720x216 with 2 Axes>"
      ]
     },
     "metadata": {
      "needs_background": "light"
     },
     "output_type": "display_data"
    }
   ],
   "source": [
    "# simulate data from a known mixture distribution\n",
    "np.random.seed(12345)  # set random seed for reproducibility\n",
    "\n",
    "k = 3\n",
    "ndata = 500\n",
    "\n",
    "fig, ax = plt.subplots(1,2, figsize = (10,3))\n",
    "\n",
    "spread = 9\n",
    "centers = np.array([-spread, 0, spread])\n",
    "# simulate data from mixture distribution\n",
    "v = np.random.randint(0, k, ndata)\n",
    "data = centers[v] + np.random.randn(ndata)\n",
    "ax[0].hist(data, bins = 50, alpha = 0.7);\n",
    "ax[0].hist(data, bins = 50, histtype = 'step', color = 'k');\n",
    "ax[0].set_axis_off()\n",
    "\n",
    "spread = 3\n",
    "centers = np.array([-spread, 0, spread])\n",
    "# simulate data from mixture distribution\n",
    "v = np.random.randint(0, k, ndata)\n",
    "data = centers[v] + np.random.randn(ndata)\n",
    "ax[1].hist(data, bins = 50, alpha = 0.7);\n",
    "ax[1].hist(data, bins = 50, histtype = 'step', color = 'k');\n",
    "ax[1].set_axis_off()"
   ]
  },
  {
   "cell_type": "code",
   "execution_count": null,
   "metadata": {},
   "outputs": [],
   "source": []
  }
 ],
 "metadata": {
  "kernelspec": {
   "display_name": "Python 3 (ipykernel)",
   "language": "python",
   "name": "python3"
  },
  "language_info": {
   "codemirror_mode": {
    "name": "ipython",
    "version": 3
   },
   "file_extension": ".py",
   "mimetype": "text/x-python",
   "name": "python",
   "nbconvert_exporter": "python",
   "pygments_lexer": "ipython3",
   "version": "3.6.13"
  }
 },
 "nbformat": 4,
 "nbformat_minor": 4
}
