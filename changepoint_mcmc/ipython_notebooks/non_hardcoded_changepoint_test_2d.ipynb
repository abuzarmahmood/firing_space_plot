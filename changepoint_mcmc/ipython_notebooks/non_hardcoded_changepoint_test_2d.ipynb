{
 "cells": [
  {
   "cell_type": "markdown",
   "metadata": {},
   "source": [
    "\"\"\"\n",
    "Generate data with specified changepoints\n",
    "Compare ELBO fits for changepoint model with different\n",
    "numbers of changepoints\n",
    "\"\"\""
   ]
  },
  {
   "cell_type": "code",
   "execution_count": 1,
   "metadata": {},
   "outputs": [],
   "source": [
    "import os\n",
    "import pickle\n",
    "import scipy.stats as stats\n",
    "import pymc3 as pm\n",
    "import theano.tensor as tt\n",
    "import numpy as np\n",
    "import pylab as plt\n",
    "from pymc3.variational.callbacks import CheckParametersConvergence\n",
    "from theano.tensor.extra_ops import cumsum"
   ]
  },
  {
   "cell_type": "code",
   "execution_count": 48,
   "metadata": {},
   "outputs": [
    {
     "name": "stdout",
     "output_type": "stream",
     "text": [
      "[50 84]\n",
      "[  0  50  84 100]\n",
      "[[0.03540795 0.71385663 0.03920746]\n",
      " [0.92300848 0.67623977 0.80373562]\n",
      " [0.7340725  0.37210465 0.0502808 ]\n",
      " [0.0382183  0.56846045 0.577065  ]\n",
      " [0.39462099 0.35806963 0.93136444]]\n",
      "(5, 100)\n"
     ]
    },
    {
     "data": {
      "text/plain": [
       "Text(0, 0.5, 'Spikes')"
      ]
     },
     "execution_count": 48,
     "metadata": {},
     "output_type": "execute_result"
    },
    {
     "data": {
      "image/png": "[encoded data removed]",
      "text/plain": [
       "<Figure size 432x288 with 2 Axes>"
      ]
     },
     "metadata": {
      "needs_background": "light"
     },
     "output_type": "display_data"
    }
   ],
   "source": [
    "# Some poisson spiking\n",
    "length = 100\n",
    "states = 3\n",
    "nrns = 5\n",
    "fit = int(1e5)\n",
    "samples = 2000\n",
    "idx = np.arange(length)\n",
    "\n",
    "true_tau = np.cumsum(np.random.random(states))\n",
    "true_tau /= np.max(true_tau)\n",
    "true_tau *= length\n",
    "true_tau = np.vectorize(np.int)(true_tau)\n",
    "state_inds = np.concatenate([np.zeros((1)),true_tau])\n",
    "state_inds = np.vectorize(np.int)(state_inds)\n",
    "true_tau = true_tau[:-1]\n",
    "\n",
    "true_lambda = np.random.random((nrns,states))\n",
    "\n",
    "print(true_tau)\n",
    "print(state_inds)\n",
    "print(true_lambda)\n",
    "\n",
    "true_r = np.zeros((nrns,length))\n",
    "for num, val in enumerate(true_lambda.T):\n",
    "    true_r[:,state_inds[num]:state_inds[num+1]] = val[:,np.newaxis]\n",
    "  \n",
    "data_vec = np.random.random((nrns,length)) < true_r\n",
    "print(data_vec.shape)\n",
    "#data_vec = np.random.poisson(true_r)\n",
    "\n",
    "fig,ax = plt.subplots(2,1)\n",
    "ax[0].imshow(true_r,aspect='auto')\n",
    "ax[1].imshow(data_vec,aspect='auto')\n",
    "ax[0].set_ylabel(\"True Rate\")\n",
    "ax[1].set_ylabel(\"Spikes\")"
   ]
  },
  {
   "cell_type": "code",
   "execution_count": 49,
   "metadata": {},
   "outputs": [
    {
     "name": "stdout",
     "output_type": "stream",
     "text": [
      "[[0.02941176 0.39393939 0.42424242]\n",
      " [0.82352941 0.75757576 0.63636364]\n",
      " [0.58823529 0.48484848 0.15151515]\n",
      " [0.08823529 0.33333333 0.48484848]\n",
      " [0.32352941 0.48484848 0.6969697 ]]\n"
     ]
    }
   ],
   "source": [
    "mean_vals = np.array([np.mean(x,axis=-1) for x in np.array_split(data_vec,states,axis=-1)]).T\n",
    "print(mean_vals)"
   ]
  },
  {
   "cell_type": "code",
   "execution_count": 50,
   "metadata": {},
   "outputs": [],
   "source": [
    "with pm.Model() as model:\n",
    "    # Finite, but somewhere on the lower end, Beta prior\n",
    "    a_lambda = 2\n",
    "    b_lambda = 5\n",
    "    lambda_latent = pm.Beta('lambda', \n",
    "                                    a_lambda, b_lambda, \n",
    "                                    shape = (nrns,states),\n",
    "                                  testval = mean_vals + 1e-3)\n",
    "\n",
    "    a = pm.HalfCauchy('a_tau', 3., shape = states - 1)\n",
    "    b = pm.HalfCauchy('b_tau', 3., shape = states - 1)\n",
    "    \n",
    "    even_switches = np.linspace(0,1,states+1)[1:-1]\n",
    "    tau_latent = pm.Beta('tau_latent', a, b, \n",
    "                         testval = even_switches,\n",
    "                         shape = (states-1)).sort(axis=-1)    \n",
    "    \n",
    "    tau = pm.Deterministic('tau', \n",
    "            idx.min() + (idx.max() - idx.min()) * tau_latent)"
   ]
  },
  {
   "cell_type": "code",
   "execution_count": 51,
   "metadata": {},
   "outputs": [],
   "source": [
    "with model:\n",
    "    weight_stack = tt.nnet.sigmoid(idx[np.newaxis,:]-tau[:,np.newaxis])\n",
    "    weight_stack = tt.concatenate([np.ones((1,length)),weight_stack],axis=0)\n",
    "    inverse_stack = 1 - weight_stack[1:]\n",
    "    inverse_stack = tt.concatenate([inverse_stack, np.ones((1,length))],axis=0)\n",
    "    weight_stack = np.multiply(weight_stack,inverse_stack)"
   ]
  },
  {
   "cell_type": "code",
   "execution_count": 52,
   "metadata": {},
   "outputs": [
    {
     "data": {
      "text/plain": [
       "<matplotlib.image.AxesImage at 0x7fb4557d51d0>"
      ]
     },
     "execution_count": 52,
     "metadata": {},
     "output_type": "execute_result"
    },
    {
     "data": {
      "image/png": "[encoded data removed]",
      "text/plain": [
       "<Figure size 432x288 with 1 Axes>"
      ]
     },
     "metadata": {
      "needs_background": "light"
     },
     "output_type": "display_data"
    }
   ],
   "source": [
    "plt.imshow(weight_stack.tag.test_value,aspect='auto')"
   ]
  },
  {
   "cell_type": "code",
   "execution_count": 53,
   "metadata": {},
   "outputs": [
    {
     "name": "stdout",
     "output_type": "stream",
     "text": [
      "(3, 100)\n",
      "(5, 3)\n"
     ]
    }
   ],
   "source": [
    "print(weight_stack.tag.test_value.shape)\n",
    "print(lambda_latent.tag.test_value.shape)"
   ]
  },
  {
   "cell_type": "code",
   "execution_count": 54,
   "metadata": {},
   "outputs": [],
   "source": [
    "with model:\n",
    "    lambda_ = lambda_latent.dot(weight_stack)"
   ]
  },
  {
   "cell_type": "code",
   "execution_count": 55,
   "metadata": {},
   "outputs": [
    {
     "name": "stdout",
     "output_type": "stream",
     "text": [
      "(5, 100)\n"
     ]
    },
    {
     "data": {
      "image/png": "[encoded data removed]",
      "text/plain": [
       "<Figure size 432x288 with 1 Axes>"
      ]
     },
     "metadata": {
      "needs_background": "light"
     },
     "output_type": "display_data"
    },
    {
     "data": {
      "image/png": "[encoded data removed]",
      "text/plain": [
       "<Figure size 432x288 with 1 Axes>"
      ]
     },
     "metadata": {
      "needs_background": "light"
     },
     "output_type": "display_data"
    }
   ],
   "source": [
    "plt.imshow(true_r,aspect='auto')\n",
    "plt.figure()\n",
    "plt.imshow(lambda_.tag.test_value, aspect='auto')\n",
    "print(lambda_.tag.test_value.shape)"
   ]
  },
  {
   "cell_type": "code",
   "execution_count": 56,
   "metadata": {},
   "outputs": [],
   "source": [
    "with model:\n",
    "    # Add observations\n",
    "    observation = pm.Bernoulli(\"obs\", lambda_, observed=data_vec)"
   ]
  },
  {
   "cell_type": "code",
   "execution_count": 57,
   "metadata": {},
   "outputs": [
    {
     "data": {
      "image/svg+xml": [
       "<?xml version=\"1.0\" encoding=\"UTF-8\" standalone=\"no\"?>\n",
       "<!DOCTYPE svg PUBLIC \"-//W3C//DTD SVG 1.1//EN\"\n",
       " \"http://www.w3.org/Graphics/SVG/1.1/DTD/svg11.dtd\">\n",
       "<!-- Generated by graphviz version 2.40.1 (20161225.0304)\n",
       " -->\n",
       "<!-- Title: %3 Pages: 1 -->\n",
       "<svg width=\"537pt\" height=\"326pt\"\n",
       " viewBox=\"0.00 0.00 537.00 326.00\" xmlns=\"http://www.w3.org/2000/svg\" xmlns:xlink=\"http://www.w3.org/1999/xlink\">\n",
       "<g id=\"graph0\" class=\"graph\" transform=\"scale(1 1) rotate(0) translate(4 322)\">\n",
       "<title>%3</title>\n",
       "<polygon fill=\"#ffffff\" stroke=\"transparent\" points=\"-4,4 -4,-322 533,-322 533,4 -4,4\"/>\n",
       "<g id=\"clust1\" class=\"cluster\">\n",
       "<title>cluster5 x 3</title>\n",
       "<path fill=\"none\" stroke=\"#000000\" d=\"M20,-91C20,-91 138,-91 138,-91 144,-91 150,-97 150,-103 150,-103 150,-154 150,-154 150,-160 144,-166 138,-166 138,-166 20,-166 20,-166 14,-166 8,-160 8,-154 8,-154 8,-103 8,-103 8,-97 14,-91 20,-91\"/>\n",
       "<text text-anchor=\"middle\" x=\"128\" y=\"-98.8\" font-family=\"Times,serif\" font-size=\"14.00\" fill=\"#000000\">5 x 3</text>\n",
       "</g>\n",
       "<g id=\"clust2\" class=\"cluster\">\n",
       "<title>cluster2</title>\n",
       "<path fill=\"none\" stroke=\"#000000\" d=\"M170,-91C170,-91 509,-91 509,-91 515,-91 521,-97 521,-103 521,-103 521,-298 521,-298 521,-304 515,-310 509,-310 509,-310 170,-310 170,-310 164,-310 158,-304 158,-298 158,-298 158,-103 158,-103 158,-97 164,-91 170,-91\"/>\n",
       "<text text-anchor=\"middle\" x=\"509.5\" y=\"-98.8\" font-family=\"Times,serif\" font-size=\"14.00\" fill=\"#000000\">2</text>\n",
       "</g>\n",
       "<g id=\"clust3\" class=\"cluster\">\n",
       "<title>cluster5 x 100</title>\n",
       "<path fill=\"none\" stroke=\"#000000\" d=\"M92,-8C92,-8 216,-8 216,-8 222,-8 228,-14 228,-20 228,-20 228,-71 228,-71 228,-77 222,-83 216,-83 216,-83 92,-83 92,-83 86,-83 80,-77 80,-71 80,-71 80,-20 80,-20 80,-14 86,-8 92,-8\"/>\n",
       "<text text-anchor=\"middle\" x=\"199\" y=\"-15.8\" font-family=\"Times,serif\" font-size=\"14.00\" fill=\"#000000\">5 x 100</text>\n",
       "</g>\n",
       "<!-- lambda -->\n",
       "<g id=\"node1\" class=\"node\">\n",
       "<title>lambda</title>\n",
       "<ellipse fill=\"none\" stroke=\"#000000\" cx=\"79\" cy=\"-140\" rx=\"63.0888\" ry=\"18\"/>\n",
       "<text text-anchor=\"middle\" x=\"79\" y=\"-136.3\" font-family=\"Times,serif\" font-size=\"14.00\" fill=\"#000000\">lambda ~ Beta</text>\n",
       "</g>\n",
       "<!-- obs -->\n",
       "<g id=\"node6\" class=\"node\">\n",
       "<title>obs</title>\n",
       "<ellipse fill=\"#d3d3d3\" stroke=\"#000000\" cx=\"154\" cy=\"-57\" rx=\"65.7887\" ry=\"18\"/>\n",
       "<text text-anchor=\"middle\" x=\"154\" y=\"-53.3\" font-family=\"Times,serif\" font-size=\"14.00\" fill=\"#000000\">obs ~ Bernoulli</text>\n",
       "</g>\n",
       "<!-- lambda&#45;&gt;obs -->\n",
       "<g id=\"edge5\" class=\"edge\">\n",
       "<title>lambda&#45;&gt;obs</title>\n",
       "<path fill=\"none\" stroke=\"#000000\" d=\"M94.9056,-122.3978C105.4457,-110.7334 119.4386,-95.248 131.1622,-82.2739\"/>\n",
       "<polygon fill=\"#000000\" stroke=\"#000000\" points=\"134.0097,-84.343 138.1174,-74.5768 128.816,-79.6498 134.0097,-84.343\"/>\n",
       "</g>\n",
       "<!-- tau_latent -->\n",
       "<g id=\"node2\" class=\"node\">\n",
       "<title>tau_latent</title>\n",
       "<ellipse fill=\"none\" stroke=\"#000000\" cx=\"248\" cy=\"-212\" rx=\"71.4873\" ry=\"18\"/>\n",
       "<text text-anchor=\"middle\" x=\"248\" y=\"-208.3\" font-family=\"Times,serif\" font-size=\"14.00\" fill=\"#000000\">tau_latent ~ Beta</text>\n",
       "</g>\n",
       "<!-- tau -->\n",
       "<g id=\"node5\" class=\"node\">\n",
       "<title>tau</title>\n",
       "<polygon fill=\"none\" stroke=\"#000000\" points=\"298,-158 176,-158 176,-122 298,-122 298,-158\"/>\n",
       "<text text-anchor=\"middle\" x=\"237\" y=\"-136.3\" font-family=\"Times,serif\" font-size=\"14.00\" fill=\"#000000\">tau ~ Deterministic</text>\n",
       "</g>\n",
       "<!-- tau_latent&#45;&gt;tau -->\n",
       "<g id=\"edge3\" class=\"edge\">\n",
       "<title>tau_latent&#45;&gt;tau</title>\n",
       "<path fill=\"none\" stroke=\"#000000\" d=\"M245.2242,-193.8314C244.0478,-186.131 242.6489,-176.9743 241.3414,-168.4166\"/>\n",
       "<polygon fill=\"#000000\" stroke=\"#000000\" points=\"244.7833,-167.7699 239.8131,-158.4133 237.8636,-168.8272 244.7833,-167.7699\"/>\n",
       "</g>\n",
       "<!-- b_tau -->\n",
       "<g id=\"node3\" class=\"node\">\n",
       "<title>b_tau</title>\n",
       "<ellipse fill=\"none\" stroke=\"#000000\" cx=\"430\" cy=\"-284\" rx=\"82.5854\" ry=\"18\"/>\n",
       "<text text-anchor=\"middle\" x=\"430\" y=\"-280.3\" font-family=\"Times,serif\" font-size=\"14.00\" fill=\"#000000\">b_tau ~ HalfCauchy</text>\n",
       "</g>\n",
       "<!-- b_tau&#45;&gt;tau_latent -->\n",
       "<g id=\"edge1\" class=\"edge\">\n",
       "<title>b_tau&#45;&gt;tau_latent</title>\n",
       "<path fill=\"none\" stroke=\"#000000\" d=\"M390.0593,-268.1993C362.4202,-257.2651 325.4896,-242.6552 296.2108,-231.0724\"/>\n",
       "<polygon fill=\"#000000\" stroke=\"#000000\" points=\"297.1856,-227.6942 286.5993,-227.27 294.6105,-234.2033 297.1856,-227.6942\"/>\n",
       "</g>\n",
       "<!-- a_tau -->\n",
       "<g id=\"node4\" class=\"node\">\n",
       "<title>a_tau</title>\n",
       "<ellipse fill=\"none\" stroke=\"#000000\" cx=\"248\" cy=\"-284\" rx=\"81.7856\" ry=\"18\"/>\n",
       "<text text-anchor=\"middle\" x=\"248\" y=\"-280.3\" font-family=\"Times,serif\" font-size=\"14.00\" fill=\"#000000\">a_tau ~ HalfCauchy</text>\n",
       "</g>\n",
       "<!-- a_tau&#45;&gt;tau_latent -->\n",
       "<g id=\"edge2\" class=\"edge\">\n",
       "<title>a_tau&#45;&gt;tau_latent</title>\n",
       "<path fill=\"none\" stroke=\"#000000\" d=\"M248,-265.8314C248,-258.131 248,-248.9743 248,-240.4166\"/>\n",
       "<polygon fill=\"#000000\" stroke=\"#000000\" points=\"251.5001,-240.4132 248,-230.4133 244.5001,-240.4133 251.5001,-240.4132\"/>\n",
       "</g>\n",
       "<!-- tau&#45;&gt;obs -->\n",
       "<g id=\"edge4\" class=\"edge\">\n",
       "<title>tau&#45;&gt;obs</title>\n",
       "<path fill=\"none\" stroke=\"#000000\" d=\"M218.9902,-121.9902C207.193,-110.193 191.6195,-94.6195 178.6751,-81.6751\"/>\n",
       "<polygon fill=\"#000000\" stroke=\"#000000\" points=\"180.9518,-79.0021 171.4058,-74.4058 176.0021,-83.9518 180.9518,-79.0021\"/>\n",
       "</g>\n",
       "</g>\n",
       "</svg>\n"
      ],
      "text/plain": [
       "<graphviz.dot.Digraph at 0x7fb4457cfa58>"
      ]
     },
     "execution_count": 57,
     "metadata": {},
     "output_type": "execute_result"
    }
   ],
   "source": [
    "pm.model_to_graphviz(model)"
   ]
  },
  {
   "cell_type": "code",
   "execution_count": 58,
   "metadata": {},
   "outputs": [
    {
     "name": "stderr",
     "output_type": "stream",
     "text": [
      "Average Loss = 290.45: 100%|██████████| 100000/100000 [00:31<00:00, 3209.70it/s]\n",
      "Finished [100%]: Average Loss = 290.46\n"
     ]
    }
   ],
   "source": [
    "with model:\n",
    "    inference = pm.ADVI('full-rank')\n",
    "    approx = pm.fit(n=fit, method=inference,\n",
    "                   random_seed = 3,\n",
    "                   obj_n_mc = 1)\n",
    "    trace = approx.sample(draws=samples)"
   ]
  },
  {
   "cell_type": "code",
   "execution_count": 59,
   "metadata": {},
   "outputs": [
    {
     "data": {
      "image/png": "[encoded data removed]",
      "text/plain": [
       "<Figure size 1080x360 with 2 Axes>"
      ]
     },
     "metadata": {
      "needs_background": "light"
     },
     "output_type": "display_data"
    }
   ],
   "source": [
    "fig,ax = plt.subplots(1,2,figsize=(15,5))\n",
    "ax[0].plot(-approx.hist, alpha=.3)\n",
    "ax[0].set_ylabel('ELBO')\n",
    "ax[0].set_xlabel('iteration');\n",
    "\n",
    "ind = int(fit - fit*0.05)\n",
    "ax[1].plot(-approx.hist[ind:], alpha=.3)\n",
    "ax[1].set_title('Final 5% of iterations')\n",
    "ax[1].set_ylabel('ELBO')\n",
    "ax[1].set_xlabel('iteration');"
   ]
  },
  {
   "cell_type": "code",
   "execution_count": 60,
   "metadata": {},
   "outputs": [
    {
     "name": "stderr",
     "output_type": "stream",
     "text": [
      "100%|██████████| 2000/2000 [00:01<00:00, 1324.16it/s]\n"
     ]
    }
   ],
   "source": [
    "ppc = pm.sample_posterior_predictive(trace, samples = 2000, model = model)"
   ]
  },
  {
   "cell_type": "code",
   "execution_count": 61,
   "metadata": {},
   "outputs": [
    {
     "data": {
      "text/plain": [
       "Text(0.5, 1.0, 'Mean prediction')"
      ]
     },
     "execution_count": 61,
     "metadata": {},
     "output_type": "execute_result"
    },
    {
     "data": {
      "image/png": "[encoded data removed]",
      "text/plain": [
       "<Figure size 432x288 with 2 Axes>"
      ]
     },
     "metadata": {
      "needs_background": "light"
     },
     "output_type": "display_data"
    }
   ],
   "source": [
    "fig,ax = plt.subplots(2,1,sharey=True)\n",
    "ax[0].imshow(true_r,aspect='auto')\n",
    "ax[1].imshow(np.mean(ppc['obs'],axis=0), aspect='auto')\n",
    "ax[0].set_title('True r')\n",
    "ax[1].set_title('Mean prediction')"
   ]
  },
  {
   "cell_type": "code",
   "execution_count": 62,
   "metadata": {},
   "outputs": [
    {
     "name": "stdout",
     "output_type": "stream",
     "text": [
      "(2000, 2)\n"
     ]
    },
    {
     "data": {
      "text/plain": [
       "array([49, 81])"
      ]
     },
     "execution_count": 62,
     "metadata": {},
     "output_type": "execute_result"
    }
   ],
   "source": [
    "#min_val,max_val = min(true_r),max(true_r)\n",
    "tau = trace['tau']\n",
    "print(tau.shape)\n",
    "mode_tau = stats.mode(np.vectorize(np.int)(tau),axis=0)[0][0]\n",
    "mode_tau"
   ]
  },
  {
   "cell_type": "code",
   "execution_count": 63,
   "metadata": {},
   "outputs": [
    {
     "data": {
      "image/png": "[encoded data removed]",
      "text/plain": [
       "<Figure size 720x720 with 3 Axes>"
      ]
     },
     "metadata": {
      "needs_background": "light"
     },
     "output_type": "display_data"
    }
   ],
   "source": [
    "fig,ax = plt.subplots(3,1,sharex=True,figsize=(10,10))\n",
    "ax[0].imshow(true_r,aspect='auto')\n",
    "ax[0].set_ylabel('True r')\n",
    "ax[1].imshow(data_vec,aspect='auto')\n",
    "    \n",
    "for tau_num, this_tau in enumerate(tau.T):\n",
    "    ax[2].hist(this_tau,bins=50)\n",
    "    ax[0].vlines(mode_tau[tau_num],-0.5,nrns-0.5,color='red',alpha=1,linewidth=5, linestyles='dashed')\n"
   ]
  },
  {
   "cell_type": "code",
   "execution_count": null,
   "metadata": {},
   "outputs": [],
   "source": []
  }
 ],
 "metadata": {
  "kernelspec": {
   "display_name": "Python 3",
   "language": "python",
   "name": "python3"
  },
  "language_info": {
   "codemirror_mode": {
    "name": "ipython",
    "version": 3
   },
   "file_extension": ".py",
   "mimetype": "text/x-python",
   "name": "python",
   "nbconvert_exporter": "python",
   "pygments_lexer": "ipython3",
   "version": "3.6.10"
  }
 },
 "nbformat": 4,
 "nbformat_minor": 4
}
