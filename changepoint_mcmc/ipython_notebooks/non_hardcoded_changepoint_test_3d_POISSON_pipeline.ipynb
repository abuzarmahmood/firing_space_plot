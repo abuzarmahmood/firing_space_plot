{
 "cells": [
  {
   "cell_type": "markdown",
   "metadata": {},
   "source": [
    "\"\"\"\n",
    "Generate data with specified changepoints\n",
    "Compare ELBO fits for changepoint model with different\n",
    "numbers of changepoints\n",
    "\"\"\""
   ]
  },
  {
   "cell_type": "code",
   "execution_count": 1,
   "metadata": {},
   "outputs": [],
   "source": [
    "import os\n",
    "import pickle\n",
    "import scipy.stats as stats\n",
    "import pymc3 as pm\n",
    "import theano.tensor as tt\n",
    "import numpy as np\n",
    "import pylab as plt\n",
    "from pymc3.variational.callbacks import CheckParametersConvergence\n",
    "from theano.tensor.extra_ops import cumsum\n",
    "import sys\n",
    "import numpy as np\n",
    "sys.path.append('/media/bigdata/firing_space_plot/ephys_data')\n",
    "from ephys_data import ephys_data\n",
    "import visualize"
   ]
  },
  {
   "cell_type": "code",
   "execution_count": 2,
   "metadata": {},
   "outputs": [],
   "source": [
    "import sys\n",
    "sys.path.append('/media/bigdata/firing_space_plot/ephys_data')\n",
    "sys.path.append('/media/bigdata/firing_space_plot/changepoint_mcmc/v2')\n",
    "from ephys_data import ephys_data\n",
    "from changepoint_io import fit_handler"
   ]
  },
  {
   "cell_type": "code",
   "execution_count": 21,
   "metadata": {},
   "outputs": [
    {
     "name": "stdout",
     "output_type": "stream",
     "text": [
      "MODEL_PARAMS will have to be set\n",
      "PREPROCESS_PARAMS will have to be set\n"
     ]
    }
   ],
   "source": [
    "fit = 40000\n",
    "samples = 20000\n",
    "\n",
    "data_dir = '/media/bigdata/Abuzar_Data/bla_gc/AM11/AM11_4Tastes_191029_171714'\n",
    "taste_num = 0\n",
    "region_name = 'gc'\n",
    "experiment_name = 'single_taste_poisson'\n",
    "\n",
    "model_parameters = dict(zip(['states','fit','samples'],[4,40000,20000]))\n",
    "preprocess_parameters = dict(zip(['time_lims','bin_width','data_transform'],\n",
    "                                [[2000,4000],50, None]))\n",
    "\n",
    "fit_handler_kwargs = {'data_dir' : data_dir,\n",
    "                    'taste_num' : taste_num,\n",
    "                    'region_name' : region_name,\n",
    "                    'experiment_name' : experiment_name}\n",
    "handler = fit_handler(**fit_handler_kwargs)\n",
    "handler.set_model_params(**model_parameters)\n",
    "handler.set_preprocess_params(**preprocess_parameters)"
   ]
  },
  {
   "cell_type": "code",
   "execution_count": 4,
   "metadata": {},
   "outputs": [
    {
     "name": "stdout",
     "output_type": "stream",
     "text": [
      "Loading spike trains from AM11_4Tastes_191029_171714, dig_in 0\n",
      "Preprocessing spike trains, preprocessing func: <preprocess_single_taste>\n"
     ]
    }
   ],
   "source": [
    "handler.preprocess_data()"
   ]
  },
  {
   "cell_type": "code",
   "execution_count": 5,
   "metadata": {},
   "outputs": [
    {
     "data": {
      "text/plain": [
       "(30, 8, 40)"
      ]
     },
     "execution_count": 5,
     "metadata": {},
     "output_type": "execute_result"
    }
   ],
   "source": [
    "handler.preprocessed_data.shape"
   ]
  },
  {
   "cell_type": "code",
   "execution_count": 6,
   "metadata": {},
   "outputs": [
    {
     "data": {
      "image/png": "[encoded data removed]",
      "text/plain": [
       "<Figure size 432x288 with 6 Axes>"
      ]
     },
     "metadata": {
      "needs_background": "light"
     },
     "output_type": "display_data"
    }
   ],
   "source": [
    "trial_count = 5\n",
    "trial_inds = np.random.choice(np.arange(handler.preprocessed_data.shape[0]),5)\n",
    "visualize.firing_overview(handler.preprocessed_data[trial_inds]);\n",
    "\n",
    "data_array = handler.preprocessed_data"
   ]
  },
  {
   "cell_type": "code",
   "execution_count": 7,
   "metadata": {},
   "outputs": [
    {
     "name": "stdout",
     "output_type": "stream",
     "text": [
      "(8, 4)\n"
     ]
    }
   ],
   "source": [
    "states = model_parameters['states']\n",
    "nrns = data_array.shape[1]\n",
    "trials = data_array.shape[0]\n",
    "idx = np.arange(data_array.shape[-1])\n",
    "length = len(idx)\n",
    "mean_vals = np.array([np.mean(x,axis=-1) for x in np.array_split(data_array,states,axis=-1)]).T\n",
    "mean_vals = np.mean(mean_vals,axis=1)\n",
    "print(mean_vals.shape)"
   ]
  },
  {
   "cell_type": "code",
   "execution_count": 8,
   "metadata": {},
   "outputs": [],
   "source": [
    "with pm.Model() as model:\n",
    "    # Finite, but somewhere on the lower end, Beta prior\n",
    "    #a_lambda = 2\n",
    "    #b_lambda = 5\n",
    "    #lambda_latent = pm.Beta('lambda', \n",
    "    #                                a_lambda, b_lambda, \n",
    "    #                                shape = (nrns,states),\n",
    "    #                              testval = mean_vals + 1e-3)\n",
    "    \n",
    "    lambda_latent = pm.Exponential('lambda',                                 \n",
    "                                        1/mean_vals,                                 \n",
    "                                       shape = (nrns,states))\n",
    "\n",
    "    a = pm.HalfCauchy('a_tau', 3., shape = states - 1)\n",
    "    b = pm.HalfCauchy('b_tau', 3., shape = states - 1)\n",
    "    \n",
    "    even_switches = np.linspace(0,1,states+1)[1:-1]\n",
    "    tau_latent = pm.Beta('tau_latent', a, b, \n",
    "                         testval = even_switches,\n",
    "                         shape = (trials,states-1)).sort(axis=-1)    \n",
    "    \n",
    "    tau = pm.Deterministic('tau', \n",
    "            idx.min() + (idx.max() - idx.min()) * tau_latent)"
   ]
  },
  {
   "cell_type": "code",
   "execution_count": 9,
   "metadata": {},
   "outputs": [
    {
     "name": "stdout",
     "output_type": "stream",
     "text": [
      "(30, 3)\n"
     ]
    }
   ],
   "source": [
    "print(tau.tag.test_value.shape)"
   ]
  },
  {
   "cell_type": "code",
   "execution_count": 10,
   "metadata": {},
   "outputs": [
    {
     "name": "stdout",
     "output_type": "stream",
     "text": [
      "(40,)\n"
     ]
    }
   ],
   "source": [
    "print(idx.shape)"
   ]
  },
  {
   "cell_type": "code",
   "execution_count": 11,
   "metadata": {},
   "outputs": [],
   "source": [
    "with model:\n",
    "    weight_stack = tt.nnet.sigmoid(idx[np.newaxis,:]-tau[:,:,np.newaxis])\n",
    "    weight_stack = tt.concatenate([np.ones((trials,1,length)),weight_stack],axis=1)\n",
    "    inverse_stack = 1 - weight_stack[:,1:]\n",
    "    inverse_stack = tt.concatenate([inverse_stack, np.ones((trials,1,length))],axis=1)\n",
    "\n",
    "    weight_stack = np.multiply(weight_stack,inverse_stack)"
   ]
  },
  {
   "cell_type": "code",
   "execution_count": 12,
   "metadata": {},
   "outputs": [
    {
     "data": {
      "image/png": "[encoded data removed]",
      "text/plain": [
       "<Figure size 432x288 with 1 Axes>"
      ]
     },
     "metadata": {
      "needs_background": "light"
     },
     "output_type": "display_data"
    }
   ],
   "source": [
    "plt.imshow(weight_stack.tag.test_value[0],aspect='auto');"
   ]
  },
  {
   "cell_type": "code",
   "execution_count": 13,
   "metadata": {},
   "outputs": [
    {
     "name": "stdout",
     "output_type": "stream",
     "text": [
      "(30, 4, 40)\n",
      "(8, 4)\n"
     ]
    }
   ],
   "source": [
    "print(weight_stack.tag.test_value.shape)\n",
    "print(lambda_latent.tag.test_value.shape)"
   ]
  },
  {
   "cell_type": "code",
   "execution_count": 14,
   "metadata": {},
   "outputs": [
    {
     "name": "stdout",
     "output_type": "stream",
     "text": [
      "(30, 8, 40)\n"
     ]
    }
   ],
   "source": [
    "with model:\n",
    "    lambda_ = tt.tensordot(weight_stack,lambda_latent, [1,1]).swapaxes(1,2)\n",
    "    #lambda_ = lambda_latent.dot(weight_stack)\n",
    "print(lambda_.tag.test_value.shape)"
   ]
  },
  {
   "cell_type": "code",
   "execution_count": 15,
   "metadata": {},
   "outputs": [],
   "source": [
    "# visualize.firing_overview(true_r,cmap='viridis')\n",
    "# plt.figure()\n",
    "# visualize.firing_overview(lambda_.tag.test_value, cmap='viridis')\n",
    "# print(true_r.shape)\n",
    "# print(lambda_.tag.test_value.shape)"
   ]
  },
  {
   "cell_type": "code",
   "execution_count": 16,
   "metadata": {},
   "outputs": [],
   "source": [
    "with model:\n",
    "    # Add observations\n",
    "    #observation = pm.Bernoulli(\"obs\", lambda_, observed=data_array)\n",
    "    observation = pm.Poisson(\"obs\", lambda_, observed=data_array)"
   ]
  },
  {
   "cell_type": "code",
   "execution_count": 17,
   "metadata": {},
   "outputs": [
    {
     "data": {
      "image/svg+xml": [
       "<?xml version=\"1.0\" encoding=\"UTF-8\" standalone=\"no\"?>\n",
       "<!DOCTYPE svg PUBLIC \"-//W3C//DTD SVG 1.1//EN\"\n",
       " \"http://www.w3.org/Graphics/SVG/1.1/DTD/svg11.dtd\">\n",
       "<!-- Generated by graphviz version 2.40.1 (20161225.0304)\n",
       " -->\n",
       "<!-- Title: %3 Pages: 1 -->\n",
       "<svg width=\"321pt\" height=\"493pt\"\n",
       " viewBox=\"0.00 0.00 321.00 492.81\" xmlns=\"http://www.w3.org/2000/svg\" xmlns:xlink=\"http://www.w3.org/1999/xlink\">\n",
       "<g id=\"graph0\" class=\"graph\" transform=\"scale(1 1) rotate(0) translate(4 488.8133)\">\n",
       "<title>%3</title>\n",
       "<polygon fill=\"#ffffff\" stroke=\"transparent\" points=\"-4,4 -4,-488.8133 317,-488.8133 317,4 -4,4\"/>\n",
       "<g id=\"clust1\" class=\"cluster\">\n",
       "<title>cluster8 x 4</title>\n",
       "<path fill=\"none\" stroke=\"#000000\" d=\"M20,-129.9533C20,-129.9533 128,-129.9533 128,-129.9533 134,-129.9533 140,-135.9533 140,-141.9533 140,-141.9533 140,-231.9066 140,-231.9066 140,-237.9066 134,-243.9066 128,-243.9066 128,-243.9066 20,-243.9066 20,-243.9066 14,-243.9066 8,-237.9066 8,-231.9066 8,-231.9066 8,-141.9533 8,-141.9533 8,-135.9533 14,-129.9533 20,-129.9533\"/>\n",
       "<text text-anchor=\"middle\" x=\"118\" y=\"-137.7533\" font-family=\"Times,serif\" font-size=\"14.00\" fill=\"#000000\">8 x 4</text>\n",
       "</g>\n",
       "<g id=\"clust2\" class=\"cluster\">\n",
       "<title>cluster3</title>\n",
       "<path fill=\"none\" stroke=\"#000000\" d=\"M51,-362.86C51,-362.86 293,-362.86 293,-362.86 299,-362.86 305,-368.86 305,-374.86 305,-374.86 305,-464.8133 305,-464.8133 305,-470.8133 299,-476.8133 293,-476.8133 293,-476.8133 51,-476.8133 51,-476.8133 45,-476.8133 39,-470.8133 39,-464.8133 39,-464.8133 39,-374.86 39,-374.86 39,-368.86 45,-362.86 51,-362.86\"/>\n",
       "<text text-anchor=\"middle\" x=\"293.5\" y=\"-370.66\" font-family=\"Times,serif\" font-size=\"14.00\" fill=\"#000000\">3</text>\n",
       "</g>\n",
       "<g id=\"clust3\" class=\"cluster\">\n",
       "<title>cluster30 x 3</title>\n",
       "<path fill=\"none\" stroke=\"#000000\" d=\"M160,-140.93C160,-140.93 250,-140.93 250,-140.93 256,-140.93 262,-146.93 262,-152.93 262,-152.93 262,-342.86 262,-342.86 262,-348.86 256,-354.86 250,-354.86 250,-354.86 160,-354.86 160,-354.86 154,-354.86 148,-348.86 148,-342.86 148,-342.86 148,-152.93 148,-152.93 148,-146.93 154,-140.93 160,-140.93\"/>\n",
       "<text text-anchor=\"middle\" x=\"236.5\" y=\"-148.73\" font-family=\"Times,serif\" font-size=\"14.00\" fill=\"#000000\">30 x 3</text>\n",
       "</g>\n",
       "<g id=\"clust4\" class=\"cluster\">\n",
       "<title>cluster30 x 8 x 40</title>\n",
       "<path fill=\"none\" stroke=\"#000000\" d=\"M100,-8C100,-8 176,-8 176,-8 182,-8 188,-14 188,-20 188,-20 188,-109.9533 188,-109.9533 188,-115.9533 182,-121.9533 176,-121.9533 176,-121.9533 100,-121.9533 100,-121.9533 94,-121.9533 88,-115.9533 88,-109.9533 88,-109.9533 88,-20 88,-20 88,-14 94,-8 100,-8\"/>\n",
       "<text text-anchor=\"middle\" x=\"148.5\" y=\"-15.8\" font-family=\"Times,serif\" font-size=\"14.00\" fill=\"#000000\">30 x 8 x 40</text>\n",
       "</g>\n",
       "<!-- lambda -->\n",
       "<g id=\"node1\" class=\"node\">\n",
       "<title>lambda</title>\n",
       "<ellipse fill=\"none\" stroke=\"#000000\" cx=\"74\" cy=\"-198.43\" rx=\"57.9655\" ry=\"37.4533\"/>\n",
       "<text text-anchor=\"middle\" x=\"74\" y=\"-209.73\" font-family=\"Times,serif\" font-size=\"14.00\" fill=\"#000000\">lambda</text>\n",
       "<text text-anchor=\"middle\" x=\"74\" y=\"-194.73\" font-family=\"Times,serif\" font-size=\"14.00\" fill=\"#000000\">~</text>\n",
       "<text text-anchor=\"middle\" x=\"74\" y=\"-179.73\" font-family=\"Times,serif\" font-size=\"14.00\" fill=\"#000000\">Exponential</text>\n",
       "</g>\n",
       "<!-- obs -->\n",
       "<g id=\"node6\" class=\"node\">\n",
       "<title>obs</title>\n",
       "<ellipse fill=\"#d3d3d3\" stroke=\"#000000\" cx=\"138\" cy=\"-76.4767\" rx=\"41.9398\" ry=\"37.4533\"/>\n",
       "<text text-anchor=\"middle\" x=\"138\" y=\"-87.7767\" font-family=\"Times,serif\" font-size=\"14.00\" fill=\"#000000\">obs</text>\n",
       "<text text-anchor=\"middle\" x=\"138\" y=\"-72.7767\" font-family=\"Times,serif\" font-size=\"14.00\" fill=\"#000000\">~</text>\n",
       "<text text-anchor=\"middle\" x=\"138\" y=\"-57.7767\" font-family=\"Times,serif\" font-size=\"14.00\" fill=\"#000000\">Poisson</text>\n",
       "</g>\n",
       "<!-- lambda&#45;&gt;obs -->\n",
       "<g id=\"edge4\" class=\"edge\">\n",
       "<title>lambda&#45;&gt;obs</title>\n",
       "<path fill=\"none\" stroke=\"#000000\" d=\"M92.6835,-162.8282C99.7657,-149.3329 107.9071,-133.8194 115.318,-119.6977\"/>\n",
       "<polygon fill=\"#000000\" stroke=\"#000000\" points=\"118.5163,-121.1352 120.064,-110.654 112.3179,-117.8823 118.5163,-121.1352\"/>\n",
       "</g>\n",
       "<!-- b_tau -->\n",
       "<g id=\"node2\" class=\"node\">\n",
       "<title>b_tau</title>\n",
       "<ellipse fill=\"none\" stroke=\"#000000\" cx=\"239\" cy=\"-431.3366\" rx=\"57.9655\" ry=\"37.4533\"/>\n",
       "<text text-anchor=\"middle\" x=\"239\" y=\"-442.6366\" font-family=\"Times,serif\" font-size=\"14.00\" fill=\"#000000\">b_tau</text>\n",
       "<text text-anchor=\"middle\" x=\"239\" y=\"-427.6366\" font-family=\"Times,serif\" font-size=\"14.00\" fill=\"#000000\">~</text>\n",
       "<text text-anchor=\"middle\" x=\"239\" y=\"-412.6366\" font-family=\"Times,serif\" font-size=\"14.00\" fill=\"#000000\">HalfCauchy</text>\n",
       "</g>\n",
       "<!-- tau_latent -->\n",
       "<g id=\"node5\" class=\"node\">\n",
       "<title>tau_latent</title>\n",
       "<ellipse fill=\"none\" stroke=\"#000000\" cx=\"205\" cy=\"-309.3833\" rx=\"49.4949\" ry=\"37.4533\"/>\n",
       "<text text-anchor=\"middle\" x=\"205\" y=\"-320.6833\" font-family=\"Times,serif\" font-size=\"14.00\" fill=\"#000000\">tau_latent</text>\n",
       "<text text-anchor=\"middle\" x=\"205\" y=\"-305.6833\" font-family=\"Times,serif\" font-size=\"14.00\" fill=\"#000000\">~</text>\n",
       "<text text-anchor=\"middle\" x=\"205\" y=\"-290.6833\" font-family=\"Times,serif\" font-size=\"14.00\" fill=\"#000000\">Beta</text>\n",
       "</g>\n",
       "<!-- b_tau&#45;&gt;tau_latent -->\n",
       "<g id=\"edge1\" class=\"edge\">\n",
       "<title>b_tau&#45;&gt;tau_latent</title>\n",
       "<path fill=\"none\" stroke=\"#000000\" d=\"M228.7066,-394.4156C225.3446,-382.3564 221.5657,-368.8022 218.0296,-356.1188\"/>\n",
       "<polygon fill=\"#000000\" stroke=\"#000000\" points=\"221.3154,-354.8715 215.2584,-346.1788 214.5726,-356.7514 221.3154,-354.8715\"/>\n",
       "</g>\n",
       "<!-- a_tau -->\n",
       "<g id=\"node3\" class=\"node\">\n",
       "<title>a_tau</title>\n",
       "<ellipse fill=\"none\" stroke=\"#000000\" cx=\"105\" cy=\"-431.3366\" rx=\"57.9655\" ry=\"37.4533\"/>\n",
       "<text text-anchor=\"middle\" x=\"105\" y=\"-442.6366\" font-family=\"Times,serif\" font-size=\"14.00\" fill=\"#000000\">a_tau</text>\n",
       "<text text-anchor=\"middle\" x=\"105\" y=\"-427.6366\" font-family=\"Times,serif\" font-size=\"14.00\" fill=\"#000000\">~</text>\n",
       "<text text-anchor=\"middle\" x=\"105\" y=\"-412.6366\" font-family=\"Times,serif\" font-size=\"14.00\" fill=\"#000000\">HalfCauchy</text>\n",
       "</g>\n",
       "<!-- a_tau&#45;&gt;tau_latent -->\n",
       "<g id=\"edge2\" class=\"edge\">\n",
       "<title>a_tau&#45;&gt;tau_latent</title>\n",
       "<path fill=\"none\" stroke=\"#000000\" d=\"M132.3254,-398.0123C144.6366,-382.9985 159.2745,-365.147 172.1758,-349.4135\"/>\n",
       "<polygon fill=\"#000000\" stroke=\"#000000\" points=\"175.1082,-351.3572 178.7425,-341.4052 169.6953,-346.9187 175.1082,-351.3572\"/>\n",
       "</g>\n",
       "<!-- tau -->\n",
       "<g id=\"node4\" class=\"node\">\n",
       "<title>tau</title>\n",
       "<polygon fill=\"none\" stroke=\"#000000\" points=\"248.5,-224.93 157.5,-224.93 157.5,-171.93 248.5,-171.93 248.5,-224.93\"/>\n",
       "<text text-anchor=\"middle\" x=\"203\" y=\"-209.73\" font-family=\"Times,serif\" font-size=\"14.00\" fill=\"#000000\">tau</text>\n",
       "<text text-anchor=\"middle\" x=\"203\" y=\"-194.73\" font-family=\"Times,serif\" font-size=\"14.00\" fill=\"#000000\">~</text>\n",
       "<text text-anchor=\"middle\" x=\"203\" y=\"-179.73\" font-family=\"Times,serif\" font-size=\"14.00\" fill=\"#000000\">Deterministic</text>\n",
       "</g>\n",
       "<!-- tau&#45;&gt;obs -->\n",
       "<g id=\"edge5\" class=\"edge\">\n",
       "<title>tau&#45;&gt;obs</title>\n",
       "<path fill=\"none\" stroke=\"#000000\" d=\"M188.7355,-171.6668C180.5887,-156.3817 170.1815,-136.8558 160.9159,-119.4715\"/>\n",
       "<polygon fill=\"#000000\" stroke=\"#000000\" points=\"163.9848,-117.7882 156.1926,-110.6096 157.8075,-121.0807 163.9848,-117.7882\"/>\n",
       "</g>\n",
       "<!-- tau_latent&#45;&gt;tau -->\n",
       "<g id=\"edge3\" class=\"edge\">\n",
       "<title>tau_latent&#45;&gt;tau</title>\n",
       "<path fill=\"none\" stroke=\"#000000\" d=\"M204.3229,-271.8196C204.1112,-260.075 203.8779,-247.1307 203.6669,-235.4255\"/>\n",
       "<polygon fill=\"#000000\" stroke=\"#000000\" points=\"207.1604,-235.0295 203.4806,-225.0943 200.1615,-235.1558 207.1604,-235.0295\"/>\n",
       "</g>\n",
       "</g>\n",
       "</svg>\n"
      ],
      "text/plain": [
       "<graphviz.dot.Digraph at 0x7f4657fd6518>"
      ]
     },
     "execution_count": 17,
     "metadata": {},
     "output_type": "execute_result"
    }
   ],
   "source": [
    "pm.model_to_graphviz(model)"
   ]
  },
  {
   "cell_type": "code",
   "execution_count": 19,
   "metadata": {},
   "outputs": [
    {
     "data": {
      "text/html": [
       "\n",
       "    <div>\n",
       "        <style>\n",
       "            /* Turns off some styling */\n",
       "            progress {\n",
       "                /* gets rid of default border in Firefox and Opera. */\n",
       "                border: none;\n",
       "                /* Needs to be in here for Safari polyfill so background images work as expected. */\n",
       "                background-size: auto;\n",
       "            }\n",
       "            .progress-bar-interrupted, .progress-bar-interrupted::-webkit-progress-bar {\n",
       "                background: #F44336;\n",
       "            }\n",
       "        </style>\n",
       "      <progress value='40000' class='' max='40000' style='width:300px; height:20px; vertical-align: middle;'></progress>\n",
       "      100.00% [40000/40000 00:32<00:00 Average Loss = 6,753]\n",
       "    </div>\n",
       "    "
      ],
      "text/plain": [
       "<IPython.core.display.HTML object>"
      ]
     },
     "metadata": {},
     "output_type": "display_data"
    },
    {
     "name": "stderr",
     "output_type": "stream",
     "text": [
      "Finished [100%]: Average Loss = 6,753.1\n"
     ]
    }
   ],
   "source": [
    "with model:\n",
    "    inference = pm.ADVI('full-rank')\n",
    "    approx = pm.fit(n=fit, method=inference,\n",
    "                   random_seed = 3,\n",
    "                   obj_n_mc = 1)\n",
    "    trace = approx.sample(draws=samples)"
   ]
  },
  {
   "cell_type": "code",
   "execution_count": 22,
   "metadata": {},
   "outputs": [
    {
     "data": {
      "image/png": "[encoded data removed]",
      "text/plain": [
       "<Figure size 1080x360 with 2 Axes>"
      ]
     },
     "metadata": {
      "needs_background": "light"
     },
     "output_type": "display_data"
    }
   ],
   "source": [
    "fig,ax = plt.subplots(1,2,figsize=(15,5))\n",
    "ax[0].plot(-approx.hist, alpha=.3)\n",
    "ax[0].set_ylabel('ELBO')\n",
    "ax[0].set_xlabel('iteration');\n",
    "\n",
    "ind = int(fit - fit*0.05)\n",
    "ax[1].plot(-approx.hist[ind:], alpha=.3)\n",
    "ax[1].set_title('Final 5% of iterations')\n",
    "ax[1].set_ylabel('ELBO')\n",
    "ax[1].set_xlabel('iteration');"
   ]
  },
  {
   "cell_type": "code",
   "execution_count": 23,
   "metadata": {},
   "outputs": [
    {
     "name": "stderr",
     "output_type": "stream",
     "text": [
      "/home/abuzarmahmood/anaconda3/lib/python3.6/site-packages/pymc3/sampling.py:1691: UserWarning: samples parameter is smaller than nchains times ndraws, some draws and/or chains may not be represented in the returned posterior predictive sample\n",
      "  \"samples parameter is smaller than nchains times ndraws, some draws \"\n"
     ]
    },
    {
     "data": {
      "text/html": [
       "\n",
       "    <div>\n",
       "        <style>\n",
       "            /* Turns off some styling */\n",
       "            progress {\n",
       "                /* gets rid of default border in Firefox and Opera. */\n",
       "                border: none;\n",
       "                /* Needs to be in here for Safari polyfill so background images work as expected. */\n",
       "                background-size: auto;\n",
       "            }\n",
       "            .progress-bar-interrupted, .progress-bar-interrupted::-webkit-progress-bar {\n",
       "                background: #F44336;\n",
       "            }\n",
       "        </style>\n",
       "      <progress value='2000' class='' max='2000' style='width:300px; height:20px; vertical-align: middle;'></progress>\n",
       "      100.00% [2000/2000 00:04<00:00]\n",
       "    </div>\n",
       "    "
      ],
      "text/plain": [
       "<IPython.core.display.HTML object>"
      ]
     },
     "metadata": {},
     "output_type": "display_data"
    }
   ],
   "source": [
    "ppc = pm.sample_posterior_predictive(trace, samples = 2000, model = model)"
   ]
  },
  {
   "cell_type": "code",
   "execution_count": 24,
   "metadata": {},
   "outputs": [],
   "source": [
    "trial_count = 5\n",
    "trial_inds = np.random.choice(np.arange(trials),5)"
   ]
  },
  {
   "cell_type": "code",
   "execution_count": 26,
   "metadata": {},
   "outputs": [
    {
     "data": {
      "image/png": "[encoded data removed]",
      "text/plain": [
       "<Figure size 432x288 with 6 Axes>"
      ]
     },
     "metadata": {
      "needs_background": "light"
     },
     "output_type": "display_data"
    }
   ],
   "source": [
    "#visualize.firing_overview(true_r[trial_inds],cmap='viridis');\n",
    "visualize.firing_overview(np.mean(ppc['obs'],axis=0)[trial_inds],cmap='viridis');"
   ]
  },
  {
   "cell_type": "code",
   "execution_count": 27,
   "metadata": {},
   "outputs": [
    {
     "name": "stdout",
     "output_type": "stream",
     "text": [
      "(20000, 30, 3)\n",
      "(30, 3)\n"
     ]
    }
   ],
   "source": [
    "#min_val,max_val = min(true_r),max(true_r)\n",
    "tau = trace['tau']\n",
    "print(tau.shape)\n",
    "mode_tau = stats.mode(np.vectorize(np.int)(tau),axis=0)[0][0]\n",
    "print(mode_tau.shape)"
   ]
  },
  {
   "cell_type": "code",
   "execution_count": 29,
   "metadata": {},
   "outputs": [
    {
     "data": {
      "image/png": "[encoded data removed]",
      "text/plain": [
       "<Figure size 1440x720 with 15 Axes>"
      ]
     },
     "metadata": {
      "needs_background": "light"
     },
     "output_type": "display_data"
    }
   ],
   "source": [
    "fig,ax = plt.subplots(3,trial_count,sharex=True,figsize=(20,10))\n",
    "for trial_num,this_trial_ind in enumerate(trial_inds):\n",
    "    #ax[0,trial_num].imshow(true_r[this_trial_ind],aspect='auto')\n",
    "    ax[1,trial_num].imshow(data_array[this_trial_ind],aspect='auto')\n",
    "    \n",
    "    for tau_num, this_tau in enumerate(tau[:,this_trial_ind].T):\n",
    "        ax[2,trial_num].hist(this_tau,bins=50)\n",
    "        ax[0,trial_num].vlines(mode_tau[this_trial_ind,tau_num],-0.5,nrns-0.5,color='red',alpha=1,linewidth=5, linestyles='dashed')"
   ]
  },
  {
   "cell_type": "code",
   "execution_count": null,
   "metadata": {},
   "outputs": [],
   "source": []
  }
 ],
 "metadata": {
  "kernelspec": {
   "display_name": "Python 3 (ipykernel)",
   "language": "python",
   "name": "python3"
  },
  "language_info": {
   "codemirror_mode": {
    "name": "ipython",
    "version": 3
   },
   "file_extension": ".py",
   "mimetype": "text/x-python",
   "name": "python",
   "nbconvert_exporter": "python",
   "pygments_lexer": "ipython3",
   "version": "3.6.10"
  }
 },
 "nbformat": 4,
 "nbformat_minor": 4
}
