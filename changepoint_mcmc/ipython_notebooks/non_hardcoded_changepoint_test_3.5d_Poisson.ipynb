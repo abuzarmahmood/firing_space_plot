{
 "cells": [
  {
   "cell_type": "markdown",
   "metadata": {},
   "source": [
    "\"\"\"\n",
    "Generate data with specified changepoints\n",
    "Compare ELBO fits for changepoint model with different\n",
    "numbers of changepoints\n",
    "\"\"\""
   ]
  },
  {
   "cell_type": "code",
   "execution_count": 69,
   "metadata": {},
   "outputs": [],
   "source": [
    "import os\n",
    "import pickle\n",
    "import scipy.stats as stats\n",
    "import pymc3 as pm\n",
    "import theano.tensor as tt\n",
    "import numpy as np\n",
    "import pylab as plt\n",
    "from pymc3.variational.callbacks import CheckParametersConvergence\n",
    "from theano.tensor.extra_ops import cumsum\n",
    "import sys\n",
    "sys.path.append('/media/bigdata/firing_space_plot/ephys_data')\n",
    "from ephys_data import ephys_data\n",
    "import visualize"
   ]
  },
  {
   "cell_type": "code",
   "execution_count": 70,
   "metadata": {},
   "outputs": [
    {
     "name": "stdout",
     "output_type": "stream",
     "text": [
      "(4, 20, 2)\n"
     ]
    }
   ],
   "source": [
    "# Some poisson spiking\n",
    "length = 1000\n",
    "bin_width = 10\n",
    "states = 2\n",
    "nrns = 10\n",
    "tastes = 4\n",
    "trials = 20\n",
    "fit = int(1e5)\n",
    "samples = 2000\n",
    "idx = np.arange(length)\n",
    "\n",
    "true_tau = np.cumsum(np.random.random((tastes,trials,states)),axis=-1)\n",
    "true_tau /= np.max(true_tau,axis=-1)[...,np.newaxis]\n",
    "true_tau *= length\n",
    "true_tau = np.vectorize(np.int)(true_tau)\n",
    "\n",
    "print(true_tau.shape)"
   ]
  },
  {
   "cell_type": "code",
   "execution_count": 71,
   "metadata": {},
   "outputs": [
    {
     "name": "stdout",
     "output_type": "stream",
     "text": [
      "(4, 19, 2)\n",
      "(4, 20, 3)\n"
     ]
    }
   ],
   "source": [
    "state_inds = np.concatenate([np.zeros((tastes,trials,1)),true_tau],axis=-1)\n",
    "state_inds = np.vectorize(np.int)(state_inds)\n",
    "true_tau = true_tau[:,:-1]\n",
    "\n",
    "print(true_tau.shape)\n",
    "print(state_inds.shape)"
   ]
  },
  {
   "cell_type": "code",
   "execution_count": 72,
   "metadata": {},
   "outputs": [
    {
     "name": "stdout",
     "output_type": "stream",
     "text": [
      "(4, 10, 2)\n"
     ]
    }
   ],
   "source": [
    "true_lambda = np.random.random((tastes,nrns,states))\n",
    "print(true_lambda.shape)"
   ]
  },
  {
   "cell_type": "code",
   "execution_count": 73,
   "metadata": {},
   "outputs": [],
   "source": [
    "true_r = np.zeros((tastes,trials, nrns, length))\n",
    "\n",
    "for taste in range(tastes):\n",
    "    for trial_num in range(trials):\n",
    "        for state_num in range(states):\n",
    "            true_r[taste,trial_num,:,state_inds[taste,trial_num,state_num]:state_inds[taste,trial_num,state_num+1]] = \\\n",
    "                            true_lambda[taste,:,state_num][:,np.newaxis]\n",
    "        \n",
    "data_array = np.random.random(true_r.shape) < true_r        \n"
   ]
  },
  {
   "cell_type": "code",
   "execution_count": 74,
   "metadata": {},
   "outputs": [
    {
     "name": "stdout",
     "output_type": "stream",
     "text": [
      "(4, 20, 10, 1000)\n",
      "(80, 10, 1000)\n"
     ]
    }
   ],
   "source": [
    "print(data_array.shape)\n",
    "true_r_long = np.reshape(true_r, (-1,*true_r.shape[2:]))\n",
    "data_array_long = np.reshape(data_array, (-1,*data_array.shape[2:]))\n",
    "print(data_array_long.shape)\n",
    "taste_labels = np.repeat(np.arange(tastes),trials)"
   ]
  },
  {
   "cell_type": "code",
   "execution_count": 75,
   "metadata": {},
   "outputs": [
    {
     "data": {
      "image/png": "[encoded data removed]",
      "text/plain": [
       "<Figure size 432x288 with 6 Axes>"
      ]
     },
     "metadata": {
      "needs_background": "light"
     },
     "output_type": "display_data"
    },
    {
     "data": {
      "image/png": "[encoded data removed]",
      "text/plain": [
       "<Figure size 432x288 with 6 Axes>"
      ]
     },
     "metadata": {
      "needs_background": "light"
     },
     "output_type": "display_data"
    }
   ],
   "source": [
    "trial_count = 5\n",
    "trial_inds = np.random.choice(np.arange(trials*tastes),5)\n",
    "visualize.firing_overview(true_r_long[trial_inds]);\n",
    "visualize.firing_overview(data_array_long[trial_inds], cmap='viridis');"
   ]
  },
  {
   "cell_type": "code",
   "execution_count": 76,
   "metadata": {},
   "outputs": [
    {
     "data": {
      "image/png": "[encoded data removed]",
      "text/plain": [
       "<Figure size 432x288 with 12 Axes>"
      ]
     },
     "metadata": {
      "needs_background": "light"
     },
     "output_type": "display_data"
    }
   ],
   "source": [
    "visualize.firing_overview(true_r_long.swapaxes(0,1));"
   ]
  },
  {
   "cell_type": "code",
   "execution_count": 77,
   "metadata": {},
   "outputs": [
    {
     "data": {
      "text/plain": [
       "(4, 20, 10, 100)"
      ]
     },
     "execution_count": 77,
     "metadata": {},
     "output_type": "execute_result"
    }
   ],
   "source": [
    "spike_array = np.sum(data_array.reshape((*data_array.shape[:3],-1,bin_width)),axis=-1)\n",
    "spike_array.shape"
   ]
  },
  {
   "cell_type": "code",
   "execution_count": 78,
   "metadata": {},
   "outputs": [],
   "source": [
    "spike_array_long = np.concatenate(spike_array, axis=0) \n",
    "\n",
    "# Find mean firing for initial values\n",
    "tastes = spike_array.shape[0]\n",
    "split_list = np.array_split(spike_array,states,axis=-1)\n",
    "# Cut all to the same size\n",
    "min_val = min([x.shape[-1] for x in split_list])\n",
    "split_array = np.array([x[...,:min_val] for x in split_list])\n",
    "mean_vals = np.mean(split_array,axis=(2,-1)).swapaxes(0,1)\n",
    "mean_vals += 0.01 # To avoid zero starting prob\n",
    "mean_nrn_vals = np.mean(mean_vals,axis=(0,1))\n",
    "\n",
    "# Find evenly spaces switchpoints for initial values\n",
    "idx = np.arange(spike_array.shape[-1]) # Index\n",
    "array_idx = np.broadcast_to(idx, spike_array_long.shape)\n",
    "idx_range = idx.max() - idx.min()\n",
    "even_switches = np.linspace(0,idx.max(),states+1)\n",
    "even_switches_normal = even_switches/np.max(even_switches)\n",
    "\n",
    "taste_label = np.repeat(np.arange(spike_array.shape[0]), spike_array.shape[1])\n",
    "trial_num = array_idx.shape[0]\n"
   ]
  },
  {
   "cell_type": "code",
   "execution_count": 79,
   "metadata": {},
   "outputs": [
    {
     "data": {
      "text/plain": [
       "(4, 2, 10)"
      ]
     },
     "execution_count": 79,
     "metadata": {},
     "output_type": "execute_result"
    }
   ],
   "source": [
    "mean_vals.shape"
   ]
  },
  {
   "cell_type": "code",
   "execution_count": 80,
   "metadata": {},
   "outputs": [
    {
     "data": {
      "image/png": "[encoded data removed]",
      "text/plain": [
       "<Figure size 432x288 with 4 Axes>"
      ]
     },
     "metadata": {
      "needs_background": "light"
     },
     "output_type": "display_data"
    }
   ],
   "source": [
    "fig,ax = visualize.gen_square_subplots(mean_vals.shape[0])\n",
    "for this_dat, this_ax in zip(mean_vals, ax.flatten()):\n",
    "    this_ax.imshow(this_dat,aspect='auto')"
   ]
  },
  {
   "cell_type": "code",
   "execution_count": 81,
   "metadata": {},
   "outputs": [],
   "source": [
    " with pm.Model() as model:\n",
    "\n",
    "        # Hierarchical firing rates\n",
    "        # Refer to model diagram\n",
    "        # Mean firing rate of neuron AT ALL TIMES\n",
    "        lambda_nrn = pm.Exponential('lambda_nrn',\n",
    "                                    1/mean_nrn_vals, \n",
    "                                    shape = (mean_vals.shape[-1]))\n",
    "        # Priors for each state, derived from each neuron\n",
    "        # Mean firing rate of neuron IN EACH STATE (averaged across tastes)\n",
    "        lambda_state = pm.Exponential('lambda_state',\n",
    "                                        lambda_nrn, \n",
    "                                        shape = (mean_vals.shape[1:]))\n",
    "        # Mean firing rate of neuron PER STATE PER TASTE\n",
    "        lambda_latent = pm.Exponential('lambda', \n",
    "                                        lambda_state[np.newaxis,:,:], \n",
    "                                        testval = mean_vals, \n",
    "                                        shape = (mean_vals.shape))\n",
    "\n",
    "        # Changepoint time variable\n",
    "        # INDEPENDENT TAU FOR EVERY TRIAL\n",
    "        a = pm.HalfNormal('a_tau', 3., shape = states - 1)\n",
    "        b = pm.HalfNormal('b_tau', 3., shape = states - 1)\n",
    "\n",
    "        # Stack produces states x trials --> That gets transposed \n",
    "        # to trials x states and gets sorted along states (axis=-1)\n",
    "        # Sort should work the same way as the Ordered transform --> \n",
    "        # see rv_sort_test.ipynb\n",
    "        tau_latent = pm.Beta('tau_latent', a, b, \n",
    "                               shape = (trial_num, states-1),\n",
    "                               testval = \\\n",
    "                                       tt.tile(even_switches_normal[1:(states)],\n",
    "                                           (array_idx.shape[0],1))).sort(axis=-1)\n",
    "               \n",
    "        tau = pm.Deterministic('tau', \n",
    "                idx.min() + (idx.max() - idx.min()) * tau_latent)"
   ]
  },
  {
   "cell_type": "code",
   "execution_count": 82,
   "metadata": {},
   "outputs": [
    {
     "data": {
      "text/plain": [
       "(4, 2, 10)"
      ]
     },
     "execution_count": 82,
     "metadata": {},
     "output_type": "execute_result"
    }
   ],
   "source": [
    "lambda_latent.tag.test_value.shape"
   ]
  },
  {
   "cell_type": "code",
   "execution_count": 83,
   "metadata": {},
   "outputs": [
    {
     "data": {
      "text/plain": [
       "(80, 1)"
      ]
     },
     "execution_count": 83,
     "metadata": {},
     "output_type": "execute_result"
    }
   ],
   "source": [
    "tau.tag.test_value.shape"
   ]
  },
  {
   "cell_type": "code",
   "execution_count": 84,
   "metadata": {},
   "outputs": [],
   "source": [
    "with model:\n",
    "    weight_stack = tt.nnet.sigmoid(idx[np.newaxis,:]-tau[:,:,np.newaxis])\n",
    "    weight_stack = tt.concatenate([np.ones((tastes*trials,1,length//bin_width)),weight_stack],axis=1)\n",
    "    inverse_stack = 1 - weight_stack[:,1:]\n",
    "    inverse_stack = tt.concatenate([inverse_stack, np.ones((tastes*trials,1,length//bin_width))],axis=1)\n",
    "    weight_stack = weight_stack*inverse_stack\n",
    "    weight_stack = tt.tile(weight_stack[:,:,None,:], (1,1,nrns,1))\n",
    "    \n",
    "    lambda_latent = lambda_latent.dimshuffle(2,0,1)\n",
    "    lambda_latent = tt.repeat(lambda_latent, trials, axis=1)\n",
    "    lambda_latent = tt.tile(lambda_latent[...,None], (1,1,1,length//bin_width))\n",
    "    lambda_latent = lambda_latent.dimshuffle(1,2,0,3)\n",
    "    lambda_ = tt.sum(lambda_latent * weight_stack, axis=1)"
   ]
  },
  {
   "cell_type": "code",
   "execution_count": 85,
   "metadata": {},
   "outputs": [
    {
     "data": {
      "text/plain": [
       "(80, 2, 10, 100)"
      ]
     },
     "execution_count": 85,
     "metadata": {},
     "output_type": "execute_result"
    }
   ],
   "source": [
    "weight_stack.tag.test_value.shape"
   ]
  },
  {
   "cell_type": "code",
   "execution_count": 86,
   "metadata": {},
   "outputs": [
    {
     "data": {
      "text/plain": [
       "(80, 2, 10, 100)"
      ]
     },
     "execution_count": 86,
     "metadata": {},
     "output_type": "execute_result"
    }
   ],
   "source": [
    "lambda_latent.tag.test_value.shape"
   ]
  },
  {
   "cell_type": "code",
   "execution_count": 87,
   "metadata": {},
   "outputs": [
    {
     "data": {
      "text/plain": [
       "(80, 10, 100)"
      ]
     },
     "execution_count": 87,
     "metadata": {},
     "output_type": "execute_result"
    }
   ],
   "source": [
    "lambda_.tag.test_value.shape"
   ]
  },
  {
   "cell_type": "code",
   "execution_count": 88,
   "metadata": {},
   "outputs": [
    {
     "data": {
      "text/plain": [
       "(80, 10, 1000)"
      ]
     },
     "execution_count": 88,
     "metadata": {},
     "output_type": "execute_result"
    }
   ],
   "source": [
    "data_array_long.shape"
   ]
  },
  {
   "cell_type": "code",
   "execution_count": 89,
   "metadata": {},
   "outputs": [],
   "source": [
    "# plt.imshow(weight_stack.tag.test_value[0,:,0],aspect='auto');"
   ]
  },
  {
   "cell_type": "code",
   "execution_count": 90,
   "metadata": {},
   "outputs": [],
   "source": [
    "# print(f'lambda_latent : {lambda_latent.tag.test_value.shape}')\n",
    "# print(f'weight_stack : {weight_stack.tag.test_value.shape}') # Positions of changepoint\n",
    "# #print(f'lambda_latent[taste_labels] : {lambda_latent.tag.test_value[taste_labels].shape}')"
   ]
  },
  {
   "cell_type": "code",
   "execution_count": 91,
   "metadata": {},
   "outputs": [],
   "source": [
    "# lambda_latent_test = lambda_latent.tag.test_value.copy()\n",
    "# #lambda_latent_test = np.tile(lambda_latent_test, (1,2,1))\n",
    "# lambda_latent_test = np.repeat(lambda_latent_test, trials, axis=1)\n",
    "# lambda_latent_test = np.moveaxis(lambda_latent_test, 0, -1)\n",
    "# lambda_latent_test.shape"
   ]
  },
  {
   "cell_type": "code",
   "execution_count": 92,
   "metadata": {},
   "outputs": [],
   "source": [
    "# lambda_latent_test = np.tile(lambda_latent_test[...,None], (1,1,1,length))\n",
    "# lambda_latent_test.shape"
   ]
  },
  {
   "cell_type": "code",
   "execution_count": 93,
   "metadata": {},
   "outputs": [],
   "source": [
    "# weight_stack_test = weight_stack.tag.test_value\n",
    "# weight_stack_test = np.tile(weight_stack_test[:,:,None], (1,1,nrns,1))\n",
    "# weight_stack_test.shape"
   ]
  },
  {
   "cell_type": "code",
   "execution_count": 94,
   "metadata": {},
   "outputs": [],
   "source": [
    "# plt.imshow(lambda_latent_test[...,1,0,:],aspect='auto', interpolation='nearest');"
   ]
  },
  {
   "cell_type": "code",
   "execution_count": 95,
   "metadata": {},
   "outputs": [],
   "source": [
    "# lambda_ = np.sum(lambda_latent_test * weight_stack_test, axis=1)"
   ]
  },
  {
   "cell_type": "code",
   "execution_count": 96,
   "metadata": {},
   "outputs": [],
   "source": [
    "# print(data_array_long.shape)"
   ]
  },
  {
   "cell_type": "code",
   "execution_count": 97,
   "metadata": {},
   "outputs": [
    {
     "name": "stderr",
     "output_type": "stream",
     "text": [
      "/media/bigdata/firing_space_plot/ephys_data/visualize.py:86: MatplotlibDeprecationWarning: shading='flat' when X and Y have the same dimensions as C is deprecated since 3.3.  Either specify the corners of the quadrilaterals with X and Y, or pass shading='auto', 'nearest' or 'gouraud', or set rcParams['pcolor.shading'].  This will become an error two minor releases later.\n",
      "  vmin = min_val[nrn], vmax = max_val[nrn])\n"
     ]
    },
    {
     "data": {
      "image/png": "[encoded data removed]",
      "text/plain": [
       "<Figure size 432x288 with 6 Axes>"
      ]
     },
     "metadata": {
      "needs_background": "light"
     },
     "output_type": "display_data"
    },
    {
     "data": {
      "image/png": "[encoded data removed]",
      "text/plain": [
       "<Figure size 432x288 with 6 Axes>"
      ]
     },
     "metadata": {
      "needs_background": "light"
     },
     "output_type": "display_data"
    }
   ],
   "source": [
    "visualize.firing_overview(data_array_long[trial_inds],cmap='viridis');\n",
    "visualize.firing_overview(lambda_.tag.test_value[trial_inds], cmap='viridis');"
   ]
  },
  {
   "cell_type": "code",
   "execution_count": 98,
   "metadata": {},
   "outputs": [],
   "source": [
    "with model:\n",
    "    # Add observations\n",
    "    observation = pm.Poisson(\"obs\", lambda_, observed=spike_array_long)"
   ]
  },
  {
   "cell_type": "code",
   "execution_count": 99,
   "metadata": {},
   "outputs": [
    {
     "data": {
      "image/svg+xml": [
       "<?xml version=\"1.0\" encoding=\"UTF-8\" standalone=\"no\"?>\n",
       "<!DOCTYPE svg PUBLIC \"-//W3C//DTD SVG 1.1//EN\"\n",
       " \"http://www.w3.org/Graphics/SVG/1.1/DTD/svg11.dtd\">\n",
       "<!-- Generated by graphviz version 2.48.0 (20210717.2242)\n",
       " -->\n",
       "<!-- Pages: 1 -->\n",
       "<svg width=\"496pt\" height=\"504pt\"\n",
       " viewBox=\"0.00 0.00 495.71 503.81\" xmlns=\"http://www.w3.org/2000/svg\" xmlns:xlink=\"http://www.w3.org/1999/xlink\">\n",
       "<g id=\"graph0\" class=\"graph\" transform=\"scale(1 1) rotate(0) translate(4 499.81)\">\n",
       "<polygon fill=\"white\" stroke=\"transparent\" points=\"-4,4 -4,-499.81 491.71,-499.81 491.71,4 -4,4\"/>\n",
       "<g id=\"clust1\" class=\"cluster\">\n",
       "<title>cluster10</title>\n",
       "<path fill=\"none\" stroke=\"black\" d=\"M27,-373.86C27,-373.86 163,-373.86 163,-373.86 169,-373.86 175,-379.86 175,-385.86 175,-385.86 175,-475.81 175,-475.81 175,-481.81 169,-487.81 163,-487.81 163,-487.81 27,-487.81 27,-487.81 21,-487.81 15,-481.81 15,-475.81 15,-475.81 15,-385.86 15,-385.86 15,-379.86 21,-373.86 27,-373.86\"/>\n",
       "<text text-anchor=\"middle\" x=\"157.5\" y=\"-381.66\" font-family=\"Times,serif\" font-size=\"14.00\">10</text>\n",
       "</g>\n",
       "<g id=\"clust2\" class=\"cluster\">\n",
       "<title>cluster2 x 10</title>\n",
       "<path fill=\"none\" stroke=\"black\" d=\"M20,-251.91C20,-251.91 170,-251.91 170,-251.91 176,-251.91 182,-257.91 182,-263.91 182,-263.91 182,-353.86 182,-353.86 182,-359.86 176,-365.86 170,-365.86 170,-365.86 20,-365.86 20,-365.86 14,-365.86 8,-359.86 8,-353.86 8,-353.86 8,-263.91 8,-263.91 8,-257.91 14,-251.91 20,-251.91\"/>\n",
       "<text text-anchor=\"middle\" x=\"151.5\" y=\"-259.71\" font-family=\"Times,serif\" font-size=\"14.00\">2 x 10</text>\n",
       "</g>\n",
       "<g id=\"clust3\" class=\"cluster\">\n",
       "<title>cluster4 x 2 x 10</title>\n",
       "<path fill=\"none\" stroke=\"black\" d=\"M30,-129.95C30,-129.95 166,-129.95 166,-129.95 172,-129.95 178,-135.95 178,-141.95 178,-141.95 178,-231.91 178,-231.91 178,-237.91 172,-243.91 166,-243.91 166,-243.91 30,-243.91 30,-243.91 24,-243.91 18,-237.91 18,-231.91 18,-231.91 18,-141.95 18,-141.95 18,-135.95 24,-129.95 30,-129.95\"/>\n",
       "<text text-anchor=\"middle\" x=\"134.5\" y=\"-137.75\" font-family=\"Times,serif\" font-size=\"14.00\">4 x 2 x 10</text>\n",
       "</g>\n",
       "<g id=\"clust4\" class=\"cluster\">\n",
       "<title>cluster80 x 1</title>\n",
       "<path fill=\"none\" stroke=\"black\" d=\"M202,-140.93C202,-140.93 320,-140.93 320,-140.93 326,-140.93 332,-146.93 332,-152.93 332,-152.93 332,-353.86 332,-353.86 332,-359.86 326,-365.86 320,-365.86 320,-365.86 202,-365.86 202,-365.86 196,-365.86 190,-359.86 190,-353.86 190,-353.86 190,-152.93 190,-152.93 190,-146.93 196,-140.93 202,-140.93\"/>\n",
       "<text text-anchor=\"middle\" x=\"301.5\" y=\"-148.73\" font-family=\"Times,serif\" font-size=\"14.00\">80 x 1</text>\n",
       "</g>\n",
       "<g id=\"clust5\" class=\"cluster\">\n",
       "<title>cluster80 x 10 x 100</title>\n",
       "<path fill=\"none\" stroke=\"black\" d=\"M133,-8C133,-8 225,-8 225,-8 231,-8 237,-14 237,-20 237,-20 237,-109.95 237,-109.95 237,-115.95 231,-121.95 225,-121.95 225,-121.95 133,-121.95 133,-121.95 127,-121.95 121,-115.95 121,-109.95 121,-109.95 121,-20 121,-20 121,-14 127,-8 133,-8\"/>\n",
       "<text text-anchor=\"middle\" x=\"180\" y=\"-15.8\" font-family=\"Times,serif\" font-size=\"14.00\">80 x 10 x 100</text>\n",
       "</g>\n",
       "<!-- lambda_nrn -->\n",
       "<g id=\"node1\" class=\"node\">\n",
       "<title>lambda_nrn</title>\n",
       "<ellipse fill=\"none\" stroke=\"black\" cx=\"95\" cy=\"-442.34\" rx=\"72.25\" ry=\"37.45\"/>\n",
       "<text text-anchor=\"middle\" x=\"95\" y=\"-453.64\" font-family=\"Times,serif\" font-size=\"14.00\">lambda_nrn</text>\n",
       "<text text-anchor=\"middle\" x=\"95\" y=\"-438.64\" font-family=\"Times,serif\" font-size=\"14.00\">~</text>\n",
       "<text text-anchor=\"middle\" x=\"95\" y=\"-423.64\" font-family=\"Times,serif\" font-size=\"14.00\">Exponential</text>\n",
       "</g>\n",
       "<!-- lambda_state -->\n",
       "<g id=\"node2\" class=\"node\">\n",
       "<title>lambda_state</title>\n",
       "<ellipse fill=\"none\" stroke=\"black\" cx=\"95\" cy=\"-320.38\" rx=\"79.39\" ry=\"37.45\"/>\n",
       "<text text-anchor=\"middle\" x=\"95\" y=\"-331.68\" font-family=\"Times,serif\" font-size=\"14.00\">lambda_state</text>\n",
       "<text text-anchor=\"middle\" x=\"95\" y=\"-316.68\" font-family=\"Times,serif\" font-size=\"14.00\">~</text>\n",
       "<text text-anchor=\"middle\" x=\"95\" y=\"-301.68\" font-family=\"Times,serif\" font-size=\"14.00\">Exponential</text>\n",
       "</g>\n",
       "<!-- lambda_nrn&#45;&gt;lambda_state -->\n",
       "<g id=\"edge1\" class=\"edge\">\n",
       "<title>lambda_nrn&#45;&gt;lambda_state</title>\n",
       "<path fill=\"none\" stroke=\"black\" d=\"M95,-404.69C95,-393.29 95,-380.55 95,-368.54\"/>\n",
       "<polygon fill=\"black\" stroke=\"black\" points=\"98.5,-368.21 95,-358.21 91.5,-368.21 98.5,-368.21\"/>\n",
       "</g>\n",
       "<!-- lambda -->\n",
       "<g id=\"node3\" class=\"node\">\n",
       "<title>lambda</title>\n",
       "<ellipse fill=\"none\" stroke=\"black\" cx=\"98\" cy=\"-198.43\" rx=\"72.25\" ry=\"37.45\"/>\n",
       "<text text-anchor=\"middle\" x=\"98\" y=\"-209.73\" font-family=\"Times,serif\" font-size=\"14.00\">lambda</text>\n",
       "<text text-anchor=\"middle\" x=\"98\" y=\"-194.73\" font-family=\"Times,serif\" font-size=\"14.00\">~</text>\n",
       "<text text-anchor=\"middle\" x=\"98\" y=\"-179.73\" font-family=\"Times,serif\" font-size=\"14.00\">Exponential</text>\n",
       "</g>\n",
       "<!-- lambda_state&#45;&gt;lambda -->\n",
       "<g id=\"edge2\" class=\"edge\">\n",
       "<title>lambda_state&#45;&gt;lambda</title>\n",
       "<path fill=\"none\" stroke=\"black\" d=\"M95.92,-282.74C96.2,-271.34 96.52,-258.6 96.82,-246.58\"/>\n",
       "<polygon fill=\"black\" stroke=\"black\" points=\"100.33,-246.35 97.08,-236.26 93.33,-246.17 100.33,-246.35\"/>\n",
       "</g>\n",
       "<!-- obs -->\n",
       "<g id=\"node8\" class=\"node\">\n",
       "<title>obs</title>\n",
       "<ellipse fill=\"lightgrey\" stroke=\"black\" cx=\"179\" cy=\"-76.48\" rx=\"50.41\" ry=\"37.45\"/>\n",
       "<text text-anchor=\"middle\" x=\"179\" y=\"-87.78\" font-family=\"Times,serif\" font-size=\"14.00\">obs</text>\n",
       "<text text-anchor=\"middle\" x=\"179\" y=\"-72.78\" font-family=\"Times,serif\" font-size=\"14.00\">~</text>\n",
       "<text text-anchor=\"middle\" x=\"179\" y=\"-57.78\" font-family=\"Times,serif\" font-size=\"14.00\">Poisson</text>\n",
       "</g>\n",
       "<!-- lambda&#45;&gt;obs -->\n",
       "<g id=\"edge7\" class=\"edge\">\n",
       "<title>lambda&#45;&gt;obs</title>\n",
       "<path fill=\"none\" stroke=\"black\" d=\"M121.43,-162.73C130.64,-149.1 141.29,-133.33 150.9,-119.08\"/>\n",
       "<polygon fill=\"black\" stroke=\"black\" points=\"154.04,-120.69 156.74,-110.45 148.24,-116.77 154.04,-120.69\"/>\n",
       "</g>\n",
       "<!-- a_tau -->\n",
       "<g id=\"node4\" class=\"node\">\n",
       "<title>a_tau</title>\n",
       "<ellipse fill=\"none\" stroke=\"black\" cx=\"258\" cy=\"-442.34\" rx=\"70.92\" ry=\"37.45\"/>\n",
       "<text text-anchor=\"middle\" x=\"258\" y=\"-453.64\" font-family=\"Times,serif\" font-size=\"14.00\">a_tau</text>\n",
       "<text text-anchor=\"middle\" x=\"258\" y=\"-438.64\" font-family=\"Times,serif\" font-size=\"14.00\">~</text>\n",
       "<text text-anchor=\"middle\" x=\"258\" y=\"-423.64\" font-family=\"Times,serif\" font-size=\"14.00\">HalfNormal</text>\n",
       "</g>\n",
       "<!-- tau_latent -->\n",
       "<g id=\"node7\" class=\"node\">\n",
       "<title>tau_latent</title>\n",
       "<ellipse fill=\"none\" stroke=\"black\" cx=\"261\" cy=\"-320.38\" rx=\"62.87\" ry=\"37.45\"/>\n",
       "<text text-anchor=\"middle\" x=\"261\" y=\"-331.68\" font-family=\"Times,serif\" font-size=\"14.00\">tau_latent</text>\n",
       "<text text-anchor=\"middle\" x=\"261\" y=\"-316.68\" font-family=\"Times,serif\" font-size=\"14.00\">~</text>\n",
       "<text text-anchor=\"middle\" x=\"261\" y=\"-301.68\" font-family=\"Times,serif\" font-size=\"14.00\">Beta</text>\n",
       "</g>\n",
       "<!-- a_tau&#45;&gt;tau_latent -->\n",
       "<g id=\"edge3\" class=\"edge\">\n",
       "<title>a_tau&#45;&gt;tau_latent</title>\n",
       "<path fill=\"none\" stroke=\"black\" d=\"M258.92,-404.69C259.2,-393.29 259.52,-380.55 259.82,-368.54\"/>\n",
       "<polygon fill=\"black\" stroke=\"black\" points=\"263.33,-368.3 260.08,-358.21 256.33,-368.12 263.33,-368.3\"/>\n",
       "</g>\n",
       "<!-- b_tau -->\n",
       "<g id=\"node5\" class=\"node\">\n",
       "<title>b_tau</title>\n",
       "<ellipse fill=\"none\" stroke=\"black\" cx=\"417\" cy=\"-442.34\" rx=\"70.92\" ry=\"37.45\"/>\n",
       "<text text-anchor=\"middle\" x=\"417\" y=\"-453.64\" font-family=\"Times,serif\" font-size=\"14.00\">b_tau</text>\n",
       "<text text-anchor=\"middle\" x=\"417\" y=\"-438.64\" font-family=\"Times,serif\" font-size=\"14.00\">~</text>\n",
       "<text text-anchor=\"middle\" x=\"417\" y=\"-423.64\" font-family=\"Times,serif\" font-size=\"14.00\">HalfNormal</text>\n",
       "</g>\n",
       "<!-- b_tau&#45;&gt;tau_latent -->\n",
       "<g id=\"edge4\" class=\"edge\">\n",
       "<title>b_tau&#45;&gt;tau_latent</title>\n",
       "<path fill=\"none\" stroke=\"black\" d=\"M381.5,-409.59C368.13,-398.01 352.62,-385.03 338,-373.86 329.44,-367.32 320.12,-360.63 311.02,-354.31\"/>\n",
       "<polygon fill=\"black\" stroke=\"black\" points=\"312.97,-351.4 302.75,-348.62 309,-357.17 312.97,-351.4\"/>\n",
       "</g>\n",
       "<!-- tau -->\n",
       "<g id=\"node6\" class=\"node\">\n",
       "<title>tau</title>\n",
       "<polygon fill=\"none\" stroke=\"black\" points=\"315,-224.93 201,-224.93 201,-171.93 315,-171.93 315,-224.93\"/>\n",
       "<text text-anchor=\"middle\" x=\"258\" y=\"-209.73\" font-family=\"Times,serif\" font-size=\"14.00\">tau</text>\n",
       "<text text-anchor=\"middle\" x=\"258\" y=\"-194.73\" font-family=\"Times,serif\" font-size=\"14.00\">~</text>\n",
       "<text text-anchor=\"middle\" x=\"258\" y=\"-179.73\" font-family=\"Times,serif\" font-size=\"14.00\">Deterministic</text>\n",
       "</g>\n",
       "<!-- tau&#45;&gt;obs -->\n",
       "<g id=\"edge6\" class=\"edge\">\n",
       "<title>tau&#45;&gt;obs</title>\n",
       "<path fill=\"none\" stroke=\"black\" d=\"M241.05,-171.7C230.92,-156.32 217.82,-136.42 206.26,-118.87\"/>\n",
       "<polygon fill=\"black\" stroke=\"black\" points=\"209.16,-116.9 200.73,-110.48 203.31,-120.75 209.16,-116.9\"/>\n",
       "</g>\n",
       "<!-- tau_latent&#45;&gt;tau -->\n",
       "<g id=\"edge5\" class=\"edge\">\n",
       "<title>tau_latent&#45;&gt;tau</title>\n",
       "<path fill=\"none\" stroke=\"black\" d=\"M260.08,-282.74C259.71,-267.77 259.28,-250.51 258.9,-235.59\"/>\n",
       "<polygon fill=\"black\" stroke=\"black\" points=\"262.39,-235.11 258.64,-225.2 255.4,-235.29 262.39,-235.11\"/>\n",
       "</g>\n",
       "</g>\n",
       "</svg>\n"
      ],
      "text/plain": [
       "<graphviz.dot.Digraph at 0x7f16207ad748>"
      ]
     },
     "execution_count": 99,
     "metadata": {},
     "output_type": "execute_result"
    }
   ],
   "source": [
    "pm.model_to_graphviz(model)"
   ]
  },
  {
   "cell_type": "code",
   "execution_count": null,
   "metadata": {},
   "outputs": [
    {
     "data": {
      "text/html": [
       "\n",
       "    <div>\n",
       "        <style>\n",
       "            /* Turns off some styling */\n",
       "            progress {\n",
       "                /* gets rid of default border in Firefox and Opera. */\n",
       "                border: none;\n",
       "                /* Needs to be in here for Safari polyfill so background images work as expected. */\n",
       "                background-size: auto;\n",
       "            }\n",
       "            .progress-bar-interrupted, .progress-bar-interrupted::-webkit-progress-bar {\n",
       "                background: #F44336;\n",
       "            }\n",
       "        </style>\n",
       "      <progress value='10346' class='' max='100000' style='width:300px; height:20px; vertical-align: middle;'></progress>\n",
       "      10.35% [10346/100000 00:35<05:08 Average Loss = 1.4991e+05]\n",
       "    </div>\n",
       "    "
      ],
      "text/plain": [
       "<IPython.core.display.HTML object>"
      ]
     },
     "metadata": {},
     "output_type": "display_data"
    }
   ],
   "source": [
    "with model:\n",
    "    approx = pm.fit(n=fit, method=pm.ADVI('full-rank'))\n",
    "    trace = approx.sample(draws=samples)\n",
    "    #trace = pm.sample()\n"
   ]
  },
  {
   "cell_type": "code",
   "execution_count": null,
   "metadata": {},
   "outputs": [],
   "source": [
    "fig,ax = plt.subplots(1,2,figsize=(15,5))\n",
    "ax[0].plot(-approx.hist, alpha=.3)\n",
    "ax[0].set_ylabel('ELBO')\n",
    "ax[0].set_xlabel('iteration');\n",
    "\n",
    "ind = int(fit - fit*0.05)\n",
    "ax[1].plot(-approx.hist[ind:], alpha=.3)\n",
    "ax[1].set_title('Final 5% of iterations')\n",
    "ax[1].set_ylabel('ELBO')\n",
    "ax[1].set_xlabel('iteration');"
   ]
  },
  {
   "cell_type": "code",
   "execution_count": null,
   "metadata": {},
   "outputs": [],
   "source": [
    "ppc = pm.sample_posterior_predictive(trace, samples = 2000, model = model)"
   ]
  },
  {
   "cell_type": "code",
   "execution_count": null,
   "metadata": {},
   "outputs": [],
   "source": [
    "trial_count = 7\n",
    "trial_inds = np.random.choice(np.arange(trials),5)"
   ]
  },
  {
   "cell_type": "code",
   "execution_count": null,
   "metadata": {},
   "outputs": [],
   "source": [
    "visualize.firing_overview(np.concatenate(true_r,axis=0)[trial_inds],cmap='viridis');\n",
    "visualize.firing_overview(np.mean(ppc['obs'],axis=0)[trial_inds],cmap='viridis');"
   ]
  },
  {
   "cell_type": "code",
   "execution_count": null,
   "metadata": {},
   "outputs": [],
   "source": [
    "#min_val,max_val = min(true_r),max(true_r)\n",
    "tau = trace['tau']\n",
    "print(tau.shape)\n",
    "mode_tau = stats.mode(np.vectorize(np.int)(tau),axis=0)[0][0]\n",
    "print(mode_tau.shape)"
   ]
  },
  {
   "cell_type": "code",
   "execution_count": null,
   "metadata": {},
   "outputs": [],
   "source": [
    "fig,ax = plt.subplots(3,trial_count,sharex=True,figsize=(20,10))\n",
    "for trial_num,this_trial_ind in enumerate(trial_inds):\n",
    "    ax[0,trial_num].imshow(np.concatenate(true_r,axis=0)[this_trial_ind][...,::bin_width],aspect='auto', interpolation='nearest')\n",
    "    ax[1,trial_num].imshow(spike_array_long[this_trial_ind],aspect='auto', interpolation='nearest')\n",
    "    \n",
    "    for tau_num, this_tau in enumerate(tau[:,this_trial_ind].T):\n",
    "        ax[2,trial_num].hist(this_tau,bins=50)\n",
    "        ax[0,trial_num].vlines(mode_tau[this_trial_ind,tau_num],-0.5,nrns-0.5,color='red',alpha=1,linewidth=5, linestyles='dashed')"
   ]
  },
  {
   "cell_type": "code",
   "execution_count": null,
   "metadata": {},
   "outputs": [],
   "source": []
  },
  {
   "cell_type": "code",
   "execution_count": null,
   "metadata": {},
   "outputs": [],
   "source": []
  }
 ],
 "metadata": {
  "kernelspec": {
   "display_name": "Python 3",
   "language": "python",
   "name": "python3"
  },
  "language_info": {
   "codemirror_mode": {
    "name": "ipython",
    "version": 3
   },
   "file_extension": ".py",
   "mimetype": "text/x-python",
   "name": "python",
   "nbconvert_exporter": "python",
   "pygments_lexer": "ipython3",
   "version": "3.6.10"
  }
 },
 "nbformat": 4,
 "nbformat_minor": 4
}
