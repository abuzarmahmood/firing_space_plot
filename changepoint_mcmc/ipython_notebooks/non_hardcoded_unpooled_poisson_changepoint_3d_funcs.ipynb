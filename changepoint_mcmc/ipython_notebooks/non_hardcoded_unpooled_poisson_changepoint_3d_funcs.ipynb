{
 "cells": [
  {
   "cell_type": "markdown",
   "metadata": {},
   "source": [
    "\"\"\"\n",
    "Generate data with specified changepoints\n",
    "Compare ELBO fits for changepoint model with different\n",
    "numbers of changepoints\n",
    "\"\"\""
   ]
  },
  {
   "cell_type": "code",
   "execution_count": 12,
   "metadata": {},
   "outputs": [],
   "source": [
    "import pymc3 as pm\n",
    "import theano.tensor as tt\n",
    "from scipy import stats\n",
    "import numpy as np\n",
    "import pylab as plt\n",
    "import sys\n",
    "sys.path.append('/media/bigdata/firing_space_plot/ephys_data')\n",
    "from ephys_data import ephys_data\n",
    "import visualize as vz\n",
    "from time import time\n",
    "\n",
    "sys.path.append('/media/bigdata/projects/parametric_firing/src')\n",
    "from hierarchical_fake_firing import fake_poisson_firing\n",
    "from poisson_changepoint_models import return_unpooled_model, fit_model"
   ]
  },
  {
   "cell_type": "code",
   "execution_count": 2,
   "metadata": {},
   "outputs": [
    {
     "name": "stderr",
     "output_type": "stream",
     "text": [
      "/media/bigdata/firing_space_plot/ephys_data/visualize.py:86: MatplotlibDeprecationWarning: shading='flat' when X and Y have the same dimensions as C is deprecated since 3.3.  Either specify the corners of the quadrilaterals with X and Y, or pass shading='auto', 'nearest' or 'gouraud', or set rcParams['pcolor.shading'].  This will become an error two minor releases later.\n",
      "  vmin = min_val[nrn], vmax = max_val[nrn])\n"
     ]
    },
    {
     "data": {
      "image/png": "[encoded data removed]",
      "text/plain": [
       "<Figure size 432x288 with 6 Axes>"
      ]
     },
     "metadata": {
      "needs_background": "light"
     },
     "output_type": "display_data"
    },
    {
     "data": {
      "image/png": "[encoded data removed]",
      "text/plain": [
       "<Figure size 432x288 with 6 Axes>"
      ]
     },
     "metadata": {
      "needs_background": "light"
     },
     "output_type": "display_data"
    }
   ],
   "source": [
    "firing_params = dict(\n",
    "        n_nrns = 7,\n",
    "        n_trials = 5,\n",
    "        n_states = 3,\n",
    "        duration = 1000,\n",
    "        min_duration = 200,\n",
    "        ceil_p = 0.1,\n",
    "        jitter_p = 0.2,\n",
    "        bin_size = 25\n",
    "        )\n",
    "\n",
    "fit_params = dict(\n",
    "        n_fit = int(1e5),\n",
    "        n_samples = 2000\n",
    ")\n",
    "\n",
    "data_array, true_r, true_tau, state_inds, trial_p = fake_poisson_firing(**firing_params)\n",
    "\n",
    "trial_count = 5\n",
    "trial_inds = np.random.choice(np.arange(firing_params['n_trials']),5)\n",
    "vz.firing_overview(true_r[trial_inds]);\n",
    "vz.firing_overview(data_array[trial_inds], cmap='viridis');"
   ]
  },
  {
   "cell_type": "code",
   "execution_count": 3,
   "metadata": {},
   "outputs": [],
   "source": [
    "unpooled_model = return_unpooled_model(data_array, firing_params['n_states'])"
   ]
  },
  {
   "cell_type": "code",
   "execution_count": 4,
   "metadata": {},
   "outputs": [
    {
     "data": {
      "image/svg+xml": [
       "<?xml version=\"1.0\" encoding=\"UTF-8\" standalone=\"no\"?>\n",
       "<!DOCTYPE svg PUBLIC \"-//W3C//DTD SVG 1.1//EN\"\n",
       " \"http://www.w3.org/Graphics/SVG/1.1/DTD/svg11.dtd\">\n",
       "<!-- Generated by graphviz version 2.48.0 (20210717.2242)\n",
       " -->\n",
       "<!-- Pages: 1 -->\n",
       "<svg width=\"362pt\" height=\"493pt\"\n",
       " viewBox=\"0.00 0.00 362.00 492.81\" xmlns=\"http://www.w3.org/2000/svg\" xmlns:xlink=\"http://www.w3.org/1999/xlink\">\n",
       "<g id=\"graph0\" class=\"graph\" transform=\"scale(1 1) rotate(0) translate(4 488.81)\">\n",
       "<polygon fill=\"white\" stroke=\"transparent\" points=\"-4,4 -4,-488.81 358,-488.81 358,4 -4,4\"/>\n",
       "<g id=\"clust1\" class=\"cluster\">\n",
       "<title>cluster7 x 3 x 5</title>\n",
       "<path fill=\"none\" stroke=\"black\" d=\"M20,-129.95C20,-129.95 162,-129.95 162,-129.95 168,-129.95 174,-135.95 174,-141.95 174,-141.95 174,-231.91 174,-231.91 174,-237.91 168,-243.91 162,-243.91 162,-243.91 20,-243.91 20,-243.91 14,-243.91 8,-237.91 8,-231.91 8,-231.91 8,-141.95 8,-141.95 8,-135.95 14,-129.95 20,-129.95\"/>\n",
       "<text text-anchor=\"middle\" x=\"135\" y=\"-137.75\" font-family=\"Times,serif\" font-size=\"14.00\">7 x 3 x 5</text>\n",
       "</g>\n",
       "<g id=\"clust2\" class=\"cluster\">\n",
       "<title>cluster2</title>\n",
       "<path fill=\"none\" stroke=\"black\" d=\"M42,-362.86C42,-362.86 332,-362.86 332,-362.86 338,-362.86 344,-368.86 344,-374.86 344,-374.86 344,-464.81 344,-464.81 344,-470.81 338,-476.81 332,-476.81 332,-476.81 42,-476.81 42,-476.81 36,-476.81 30,-470.81 30,-464.81 30,-464.81 30,-374.86 30,-374.86 30,-368.86 36,-362.86 42,-362.86\"/>\n",
       "<text text-anchor=\"middle\" x=\"331\" y=\"-370.66\" font-family=\"Times,serif\" font-size=\"14.00\">2</text>\n",
       "</g>\n",
       "<g id=\"clust3\" class=\"cluster\">\n",
       "<title>cluster5 x 2</title>\n",
       "<path fill=\"none\" stroke=\"black\" d=\"M194,-140.93C194,-140.93 334,-140.93 334,-140.93 340,-140.93 346,-146.93 346,-152.93 346,-152.93 346,-342.86 346,-342.86 346,-348.86 340,-354.86 334,-354.86 334,-354.86 194,-354.86 194,-354.86 188,-354.86 182,-348.86 182,-342.86 182,-342.86 182,-152.93 182,-152.93 182,-146.93 188,-140.93 194,-140.93\"/>\n",
       "<text text-anchor=\"middle\" x=\"320\" y=\"-148.73\" font-family=\"Times,serif\" font-size=\"14.00\">5 x 2</text>\n",
       "</g>\n",
       "<g id=\"clust4\" class=\"cluster\">\n",
       "<title>cluster5 x 7 x 40</title>\n",
       "<path fill=\"none\" stroke=\"black\" d=\"M127,-8C127,-8 219,-8 219,-8 225,-8 231,-14 231,-20 231,-20 231,-109.95 231,-109.95 231,-115.95 225,-121.95 219,-121.95 219,-121.95 127,-121.95 127,-121.95 121,-121.95 115,-115.95 115,-109.95 115,-109.95 115,-20 115,-20 115,-14 121,-8 127,-8\"/>\n",
       "<text text-anchor=\"middle\" x=\"187.5\" y=\"-15.8\" font-family=\"Times,serif\" font-size=\"14.00\">5 x 7 x 40</text>\n",
       "</g>\n",
       "<!-- trial_lambda -->\n",
       "<g id=\"node1\" class=\"node\">\n",
       "<title>trial_lambda</title>\n",
       "<ellipse fill=\"none\" stroke=\"black\" cx=\"91\" cy=\"-198.43\" rx=\"74.91\" ry=\"37.45\"/>\n",
       "<text text-anchor=\"middle\" x=\"91\" y=\"-209.73\" font-family=\"Times,serif\" font-size=\"14.00\">trial_lambda</text>\n",
       "<text text-anchor=\"middle\" x=\"91\" y=\"-194.73\" font-family=\"Times,serif\" font-size=\"14.00\">~</text>\n",
       "<text text-anchor=\"middle\" x=\"91\" y=\"-179.73\" font-family=\"Times,serif\" font-size=\"14.00\">Exponential</text>\n",
       "</g>\n",
       "<!-- obs -->\n",
       "<g id=\"node6\" class=\"node\">\n",
       "<title>obs</title>\n",
       "<ellipse fill=\"lightgrey\" stroke=\"black\" cx=\"173\" cy=\"-76.48\" rx=\"50.41\" ry=\"37.45\"/>\n",
       "<text text-anchor=\"middle\" x=\"173\" y=\"-87.78\" font-family=\"Times,serif\" font-size=\"14.00\">obs</text>\n",
       "<text text-anchor=\"middle\" x=\"173\" y=\"-72.78\" font-family=\"Times,serif\" font-size=\"14.00\">~</text>\n",
       "<text text-anchor=\"middle\" x=\"173\" y=\"-57.78\" font-family=\"Times,serif\" font-size=\"14.00\">Poisson</text>\n",
       "</g>\n",
       "<!-- trial_lambda&#45;&gt;obs -->\n",
       "<g id=\"edge4\" class=\"edge\">\n",
       "<title>trial_lambda&#45;&gt;obs</title>\n",
       "<path fill=\"none\" stroke=\"black\" d=\"M114.72,-162.73C124.04,-149.1 134.82,-133.33 144.56,-119.08\"/>\n",
       "<polygon fill=\"black\" stroke=\"black\" points=\"147.71,-120.68 150.46,-110.45 141.93,-116.73 147.71,-120.68\"/>\n",
       "</g>\n",
       "<!-- a_tau -->\n",
       "<g id=\"node2\" class=\"node\">\n",
       "<title>a_tau</title>\n",
       "<ellipse fill=\"none\" stroke=\"black\" cx=\"266\" cy=\"-431.34\" rx=\"70.01\" ry=\"37.45\"/>\n",
       "<text text-anchor=\"middle\" x=\"266\" y=\"-442.64\" font-family=\"Times,serif\" font-size=\"14.00\">a_tau</text>\n",
       "<text text-anchor=\"middle\" x=\"266\" y=\"-427.64\" font-family=\"Times,serif\" font-size=\"14.00\">~</text>\n",
       "<text text-anchor=\"middle\" x=\"266\" y=\"-412.64\" font-family=\"Times,serif\" font-size=\"14.00\">HalfCauchy</text>\n",
       "</g>\n",
       "<!-- tau_latentn_ -->\n",
       "<g id=\"node4\" class=\"node\">\n",
       "<title>tau_latentn_</title>\n",
       "<ellipse fill=\"none\" stroke=\"black\" cx=\"264\" cy=\"-309.38\" rx=\"73.58\" ry=\"37.45\"/>\n",
       "<text text-anchor=\"middle\" x=\"264\" y=\"-320.68\" font-family=\"Times,serif\" font-size=\"14.00\">tau_latentn_</text>\n",
       "<text text-anchor=\"middle\" x=\"264\" y=\"-305.68\" font-family=\"Times,serif\" font-size=\"14.00\">~</text>\n",
       "<text text-anchor=\"middle\" x=\"264\" y=\"-290.68\" font-family=\"Times,serif\" font-size=\"14.00\">Beta</text>\n",
       "</g>\n",
       "<!-- a_tau&#45;&gt;tau_latentn_ -->\n",
       "<g id=\"edge1\" class=\"edge\">\n",
       "<title>a_tau&#45;&gt;tau_latentn_</title>\n",
       "<path fill=\"none\" stroke=\"black\" d=\"M265.39,-393.69C265.2,-382.29 264.99,-369.55 264.79,-357.54\"/>\n",
       "<polygon fill=\"black\" stroke=\"black\" points=\"268.28,-357.15 264.61,-347.21 261.28,-357.27 268.28,-357.15\"/>\n",
       "</g>\n",
       "<!-- b_tau -->\n",
       "<g id=\"node3\" class=\"node\">\n",
       "<title>b_tau</title>\n",
       "<ellipse fill=\"none\" stroke=\"black\" cx=\"108\" cy=\"-431.34\" rx=\"70.01\" ry=\"37.45\"/>\n",
       "<text text-anchor=\"middle\" x=\"108\" y=\"-442.64\" font-family=\"Times,serif\" font-size=\"14.00\">b_tau</text>\n",
       "<text text-anchor=\"middle\" x=\"108\" y=\"-427.64\" font-family=\"Times,serif\" font-size=\"14.00\">~</text>\n",
       "<text text-anchor=\"middle\" x=\"108\" y=\"-412.64\" font-family=\"Times,serif\" font-size=\"14.00\">HalfCauchy</text>\n",
       "</g>\n",
       "<!-- b_tau&#45;&gt;tau_latentn_ -->\n",
       "<g id=\"edge2\" class=\"edge\">\n",
       "<title>b_tau&#45;&gt;tau_latentn_</title>\n",
       "<path fill=\"none\" stroke=\"black\" d=\"M143.5,-398.59C156.87,-387.01 172.38,-374.03 187,-362.86 194.63,-357.03 202.87,-351.08 211.01,-345.38\"/>\n",
       "<polygon fill=\"black\" stroke=\"black\" points=\"213.21,-348.11 219.44,-339.55 209.22,-342.36 213.21,-348.11\"/>\n",
       "</g>\n",
       "<!-- tau -->\n",
       "<g id=\"node5\" class=\"node\">\n",
       "<title>tau</title>\n",
       "<polygon fill=\"none\" stroke=\"black\" points=\"312,-224.93 198,-224.93 198,-171.93 312,-171.93 312,-224.93\"/>\n",
       "<text text-anchor=\"middle\" x=\"255\" y=\"-209.73\" font-family=\"Times,serif\" font-size=\"14.00\">tau</text>\n",
       "<text text-anchor=\"middle\" x=\"255\" y=\"-194.73\" font-family=\"Times,serif\" font-size=\"14.00\">~</text>\n",
       "<text text-anchor=\"middle\" x=\"255\" y=\"-179.73\" font-family=\"Times,serif\" font-size=\"14.00\">Deterministic</text>\n",
       "</g>\n",
       "<!-- tau_latentn_&#45;&gt;tau -->\n",
       "<g id=\"edge3\" class=\"edge\">\n",
       "<title>tau_latentn_&#45;&gt;tau</title>\n",
       "<path fill=\"none\" stroke=\"black\" d=\"M260.98,-271.8C260.01,-260.06 258.94,-247.08 257.97,-235.38\"/>\n",
       "<polygon fill=\"black\" stroke=\"black\" points=\"261.43,-234.76 257.12,-225.08 254.45,-235.34 261.43,-234.76\"/>\n",
       "</g>\n",
       "<!-- tau&#45;&gt;obs -->\n",
       "<g id=\"edge5\" class=\"edge\">\n",
       "<title>tau&#45;&gt;obs</title>\n",
       "<path fill=\"none\" stroke=\"black\" d=\"M237.41,-171.7C226.89,-156.32 213.29,-136.42 201.3,-118.87\"/>\n",
       "<polygon fill=\"black\" stroke=\"black\" points=\"204.09,-116.76 195.56,-110.48 198.31,-120.71 204.09,-116.76\"/>\n",
       "</g>\n",
       "</g>\n",
       "</svg>\n"
      ],
      "text/plain": [
       "<graphviz.dot.Digraph at 0x7f51826dba58>"
      ]
     },
     "execution_count": 4,
     "metadata": {},
     "output_type": "execute_result"
    }
   ],
   "source": [
    "pm.model_to_graphviz(unpooled_model)"
   ]
  },
  {
   "cell_type": "code",
   "execution_count": 13,
   "metadata": {},
   "outputs": [
    {
     "data": {
      "text/html": [
       "\n",
       "    <div>\n",
       "        <style>\n",
       "            /* Turns off some styling */\n",
       "            progress {\n",
       "                /* gets rid of default border in Firefox and Opera. */\n",
       "                border: none;\n",
       "                /* Needs to be in here for Safari polyfill so background images work as expected. */\n",
       "                background-size: auto;\n",
       "            }\n",
       "            .progress-bar-interrupted, .progress-bar-interrupted::-webkit-progress-bar {\n",
       "                background: #F44336;\n",
       "            }\n",
       "        </style>\n",
       "      <progress value='100000' class='' max='100000' style='width:300px; height:20px; vertical-align: middle;'></progress>\n",
       "      100.00% [100000/100000 00:35<00:00 Average Loss = 1,300.5]\n",
       "    </div>\n",
       "    "
      ],
      "text/plain": [
       "<IPython.core.display.HTML object>"
      ]
     },
     "metadata": {},
     "output_type": "display_data"
    },
    {
     "name": "stderr",
     "output_type": "stream",
     "text": [
      "Finished [100%]: Average Loss = 1,300.6\n"
     ]
    }
   ],
   "source": [
    "start_t = time()\n",
    "trace, approx = fit_model(unpooled_model, **fit_params)\n",
    "time_taken = time() - start_t"
   ]
  },
  {
   "cell_type": "code",
   "execution_count": 33,
   "metadata": {},
   "outputs": [
    {
     "name": "stdout",
     "output_type": "stream",
     "text": [
      "(2000, 5, 2)\n",
      "(5, 2)\n"
     ]
    }
   ],
   "source": [
    "trial_count = 5\n",
    "trial_inds = np.random.choice(np.arange(firing_params['n_trials']),5, replace=False)\n",
    "\n",
    "#min_val,max_val = min(true_r),max(true_r)\n",
    "tau = trace['tau']\n",
    "print(tau.shape)\n",
    "mode_tau = stats.mode(np.vectorize(np.int)(tau),axis=0)[0][0]\n",
    "print(mode_tau.shape)"
   ]
  },
  {
   "cell_type": "code",
   "execution_count": 34,
   "metadata": {},
   "outputs": [
    {
     "data": {
      "image/png": "[encoded data removed]",
      "text/plain": [
       "<Figure size 1440x720 with 15 Axes>"
      ]
     },
     "metadata": {
      "needs_background": "light"
     },
     "output_type": "display_data"
    }
   ],
   "source": [
    "fig,ax = plt.subplots(3,trial_count,sharex=True,figsize=(20,10))\n",
    "for trial_num,this_trial_ind in enumerate(trial_inds):\n",
    "    ax[0,trial_num].imshow(true_r[this_trial_ind],aspect='auto', interpolation='nearest')\n",
    "    ax[1,trial_num].imshow(data_array[this_trial_ind],aspect='auto', interpolation='nearest')\n",
    "    \n",
    "    for tau_num, this_tau in enumerate(tau[:,this_trial_ind].T):\n",
    "        ax[2,trial_num].hist(this_tau,bins=50)\n",
    "        ax[0,trial_num].vlines(mode_tau[this_trial_ind,tau_num],\n",
    "                               -0.5,\n",
    "                               firing_params['n_nrns']-0.5,\n",
    "                               color='red',alpha=1,linewidth=5, linestyles='dashed')"
   ]
  },
  {
   "cell_type": "code",
   "execution_count": 35,
   "metadata": {},
   "outputs": [],
   "source": [
    "tau_errors = np.abs(true_tau - mode_tau).flatten()\n",
    "#mean_error, std_error = tau_errors.mean(), tau_errors.std()"
   ]
  },
  {
   "cell_type": "code",
   "execution_count": 36,
   "metadata": {},
   "outputs": [],
   "source": [
    "def firing_properties(data_array):\n",
    "    # average for whole dataset\n",
    "    mean_total_firing = data_array.mean(axis=None)\n",
    "    # max average firing for a neuron\n",
    "    max_neuron_firing = np.max(data_array.mean(axis=(0,2)))\n",
    "    return mean_total_firing, max_neuron_firing"
   ]
  },
  {
   "cell_type": "code",
   "execution_count": 37,
   "metadata": {},
   "outputs": [
    {
     "data": {
      "text/plain": [
       "(0.54, 0.985)"
      ]
     },
     "execution_count": 37,
     "metadata": {},
     "output_type": "execute_result"
    }
   ],
   "source": [
    "firing_properties(data_array)"
   ]
  },
  {
   "cell_type": "code",
   "execution_count": null,
   "metadata": {},
   "outputs": [],
   "source": []
  }
 ],
 "metadata": {
  "kernelspec": {
   "display_name": "Python 3 (ipykernel)",
   "language": "python",
   "name": "python3"
  },
  "language_info": {
   "codemirror_mode": {
    "name": "ipython",
    "version": 3
   },
   "file_extension": ".py",
   "mimetype": "text/x-python",
   "name": "python",
   "nbconvert_exporter": "python",
   "pygments_lexer": "ipython3",
   "version": "3.6.13"
  }
 },
 "nbformat": 4,
 "nbformat_minor": 4
}
