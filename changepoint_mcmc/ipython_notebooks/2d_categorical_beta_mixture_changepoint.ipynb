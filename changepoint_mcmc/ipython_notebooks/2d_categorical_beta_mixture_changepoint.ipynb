{
 "cells": [
  {
   "cell_type": "markdown",
   "metadata": {},
   "source": [
    "\"\"\"\n",
    "Generate data with specified changepoints\n",
    "Compare ELBO fits for changepoint model with different\n",
    "numbers of changepoints\n",
    "\"\"\""
   ]
  },
  {
   "cell_type": "code",
   "execution_count": 368,
   "metadata": {},
   "outputs": [],
   "source": [
    "import os\n",
    "import pickle\n",
    "import scipy.stats as stats\n",
    "import pymc3 as pm\n",
    "import theano.tensor as tt\n",
    "import numpy as np\n",
    "import pylab as plt\n",
    "from pymc3.variational.callbacks import CheckParametersConvergence\n",
    "from theano.tensor.extra_ops import cumsum\n",
    "from scipy.stats import beta"
   ]
  },
  {
   "cell_type": "code",
   "execution_count": 566,
   "metadata": {},
   "outputs": [
    {
     "name": "stdout",
     "output_type": "stream",
     "text": [
      "(30, 3)\n",
      "(29, 3)\n",
      "(30, 4)\n",
      "(2, 3)\n"
     ]
    }
   ],
   "source": [
    "# Some poisson spiking\n",
    "length = 100\n",
    "states = 3\n",
    "trials = 30\n",
    "fit = int(1e5)\n",
    "samples = 2000\n",
    "idx = np.arange(length)\n",
    "\n",
    "true_tau = np.cumsum(np.random.random((trials,states)),axis=-1)\n",
    "print(true_tau.shape)\n",
    "true_tau /= np.max(true_tau,axis=-1)[:,np.newaxis]\n",
    "true_tau *= length\n",
    "true_tau = np.vectorize(np.int)(true_tau)\n",
    "\n",
    "\n",
    "state_inds = np.concatenate([np.zeros((trials,1)),true_tau],axis=-1)\n",
    "state_inds = np.vectorize(np.int)(state_inds)\n",
    "true_tau = true_tau[:-1]\n",
    "\n",
    "n_components = 2\n",
    "true_lambda = np.random.random((n_components,states))\n",
    "\n",
    "print(true_tau.shape)\n",
    "print(state_inds.shape)\n",
    "print(true_lambda.shape)\n",
    "\n"
   ]
  },
  {
   "cell_type": "code",
   "execution_count": 567,
   "metadata": {},
   "outputs": [
    {
     "name": "stdout",
     "output_type": "stream",
     "text": [
      "(30, 100)\n"
     ]
    },
    {
     "data": {
      "text/plain": [
       "<matplotlib.image.AxesImage at 0x7f8137b6c160>"
      ]
     },
     "execution_count": 567,
     "metadata": {},
     "output_type": "execute_result"
    },
    {
     "data": {
      "image/png": "[encoded data removed]",
      "text/plain": [
       "<Figure size 720x720 with 4 Axes>"
      ]
     },
     "metadata": {
      "needs_background": "light"
     },
     "output_type": "display_data"
    }
   ],
   "source": [
    "component_inds = np.random.choice(range(n_components), trials, p = [0.3,0.7])\n",
    "true_r = np.zeros((trials,length))\n",
    "for trial in range(trials):\n",
    "    for state in range(states):\n",
    "        true_r[trial, state_inds[trial,state]:state_inds[trial,state+1]] = \\\n",
    "                    true_lambda[component_inds[trial],state]\n",
    "  \n",
    "data_vec = np.random.random(true_r.shape) < true_r\n",
    "print(data_vec.shape)\n",
    "#data_vec = np.random.poisson(true_r)\n",
    "\n",
    "fig,ax = plt.subplots(2,2,figsize=(10,10))\n",
    "ax[0,1].plot(component_inds, np.arange(trials),'-x')\n",
    "ax[0,0].imshow(true_r,aspect='auto',origin='lower')\n",
    "ax[1,0].imshow(data_vec,aspect='auto',origin='lower')\n",
    "# ax[1].set_ylabel(\"True Rate\")\n",
    "# ax[2].set_ylabel(\"Spikes\")"
   ]
  },
  {
   "cell_type": "code",
   "execution_count": 568,
   "metadata": {},
   "outputs": [
    {
     "name": "stdout",
     "output_type": "stream",
     "text": [
      "[0.62941176 0.64343434 0.75353535]\n"
     ]
    }
   ],
   "source": [
    "mean_vals = np.array([np.mean(x,axis=(0,-1)) for x in np.array_split(data_vec,states,axis=-1)]).T\n",
    "print(mean_vals)"
   ]
  },
  {
   "cell_type": "code",
   "execution_count": 569,
   "metadata": {},
   "outputs": [],
   "source": [
    "with pm.Model() as model:\n",
    "    w = pm.Dirichlet('w', a=np.ones(n_components)*5, shape = n_components)\n",
    "    category = pm.Categorical(\"category\", p=w, shape=trials)\n",
    "    alphas = pm.HalfCauchy('alphas',5,shape=(2,3))\n",
    "    betas = pm.HalfCauchy('betas',5,shape=(2,3))\n",
    "    clust0_lambda = tt.stack([pm.Beta('l00',alphas[0,0], betas[0,0]),\n",
    "                             pm.Beta('l01',alphas[0,1], betas[0,1]),\n",
    "                             pm.Beta('l02',alphas[0,2], betas[0,2])])\n",
    "    clust1_lambda = tt.stack([pm.Beta('l10',alphas[1,0], betas[1,0]),\n",
    "                             pm.Beta('l11',alphas[1,1], betas[1,1]),\n",
    "                             pm.Beta('l12',alphas[1,2], betas[1,2])])\n",
    "    lambdas = tt.stack([clust0_lambda,clust1_lambda])\n",
    "    \n",
    "    #lambda0 = pm.Beta('l00',alphas[0,0], betas[0,0])*w[0] + pm.Beta('l10',alphas[1,0], betas[1,0])*w[1]\n",
    "    #lambda1 = pm.Beta('l01',alphas[0,1], betas[0,1])*w[0] + pm.Beta('l11',alphas[1,1], betas[1,1])*w[1]\n",
    "    #lambda2 = pm.Beta('l02',alphas[0,2], betas[0,2])*w[0] + pm.Beta('l12',alphas[1,2], betas[1,2])*w[1]\n",
    "    #lambdas = tt.stack([lambda0,lambda1,lambda2])\n",
    "    #components = [[pm.Beta.dist(alphas[comp,state], betas[comp,state]) for comp in range(comps)] for state in range(states)]\n",
    "    #mixes = tt.stack([pm.Mixture(f'mixes{num}', w=w, comp_dists = this_comp, testval = mean_vals[num]) for num,this_comp in enumerate(components)])"
   ]
  },
  {
   "cell_type": "code",
   "execution_count": 570,
   "metadata": {},
   "outputs": [
    {
     "name": "stdout",
     "output_type": "stream",
     "text": [
      "[0.5 0.5]\n",
      "[0 0 0 0 0 0 0 0 0 0 0 0 0 0 0 0 0 0 0 0 0 0 0 0 0 0 0 0 0 0]\n",
      "[0.5 0.5 0.5]\n",
      "[0.5 0.5 0.5]\n",
      "(2, 3)\n"
     ]
    }
   ],
   "source": [
    "print(w.tag.test_value)\n",
    "print(category.tag.test_value)\n",
    "print(clust0_lambda.tag.test_value)\n",
    "print(clust1_lambda.tag.test_value)\n",
    "print(lambdas.tag.test_value.shape)"
   ]
  },
  {
   "cell_type": "code",
   "execution_count": 571,
   "metadata": {},
   "outputs": [],
   "source": [
    "# print(mixes.tag.test_value.shape)\n",
    "# print(mixes.tag.test_value)\n",
    "#print(lambdas.tag.test_value.shape)"
   ]
  },
  {
   "cell_type": "code",
   "execution_count": 572,
   "metadata": {},
   "outputs": [],
   "source": [
    "with model:   \n",
    "    a = pm.HalfCauchy('a_tau', 3., shape = states - 1)\n",
    "    b = pm.HalfCauchy('b_tau', 3., shape = states - 1)\n",
    "    \n",
    "    even_switches = np.linspace(0,1,states+1)[1:-1]\n",
    "    tau_latent = pm.Beta('tau_latent', a, b, \n",
    "                         testval = even_switches,\n",
    "                         shape = (trials,states-1)).sort(axis=-1)    \n",
    "    \n",
    "    tau = pm.Deterministic('tau', \n",
    "            idx.min() + (idx.max() - idx.min()) * tau_latent)"
   ]
  },
  {
   "cell_type": "code",
   "execution_count": 573,
   "metadata": {},
   "outputs": [
    {
     "name": "stdout",
     "output_type": "stream",
     "text": [
      "(30, 2)\n",
      "(100,)\n"
     ]
    }
   ],
   "source": [
    "print(tau.tag.test_value.shape)\n",
    "print(idx.shape)"
   ]
  },
  {
   "cell_type": "code",
   "execution_count": 574,
   "metadata": {},
   "outputs": [],
   "source": [
    "with model:   \n",
    "    weight_stack = tt.nnet.sigmoid(idx[np.newaxis, np.newaxis, :]-tau[:,:,np.newaxis])\n",
    "    weight_stack_shape = weight_stack.tag.test_value.shape\n",
    "    weight_stack = tt.concatenate([np.ones((weight_stack_shape[0],1,weight_stack_shape[-1])),weight_stack],axis=1)\n",
    "    inverse_stack = 1 - weight_stack[:,1:]\n",
    "    inverse_stack = tt.concatenate([inverse_stack, np.ones((weight_stack_shape[0],1,weight_stack_shape[-1]))],axis=1)\n",
    "    weight_stack = np.multiply(weight_stack,inverse_stack)"
   ]
  },
  {
   "cell_type": "code",
   "execution_count": 575,
   "metadata": {},
   "outputs": [
    {
     "name": "stdout",
     "output_type": "stream",
     "text": [
      "(30, 3, 100)\n",
      "(30, 3, 100)\n"
     ]
    }
   ],
   "source": [
    "print(weight_stack.tag.test_value.shape)\n",
    "print(inverse_stack.tag.test_value.shape)"
   ]
  },
  {
   "cell_type": "code",
   "execution_count": 576,
   "metadata": {},
   "outputs": [
    {
     "data": {
      "text/plain": [
       "<matplotlib.image.AxesImage at 0x7f81368c5278>"
      ]
     },
     "execution_count": 576,
     "metadata": {},
     "output_type": "execute_result"
    },
    {
     "data": {
      "image/png": "[encoded data removed]",
      "text/plain": [
       "<Figure size 432x288 with 1 Axes>"
      ]
     },
     "metadata": {
      "needs_background": "light"
     },
     "output_type": "display_data"
    }
   ],
   "source": [
    "plt.imshow(weight_stack.tag.test_value[1],aspect='auto')"
   ]
  },
  {
   "cell_type": "code",
   "execution_count": 577,
   "metadata": {},
   "outputs": [
    {
     "name": "stdout",
     "output_type": "stream",
     "text": [
      "(30, 3, 1)\n"
     ]
    }
   ],
   "source": [
    "with model:\n",
    "    selected_lambdas = lambdas[category][:,:,np.newaxis]\n",
    "print(selected_lambdas.tag.test_value.shape)"
   ]
  },
  {
   "cell_type": "code",
   "execution_count": 578,
   "metadata": {},
   "outputs": [],
   "source": [
    "with model:\n",
    "    lambda_ = tt.sum(selected_lambdas*weight_stack,axis=1)\n",
    "    #lambda_ = weight_stack[:,0]*lambda0 + weight_stack[:,1]*lambda1 + weight_stack[:,2]*lambda2\n",
    "    #lambda_ = tt.tensordot(weight_stack, lambdas, [1,0])\n",
    "    #lambda_ = mixes.dot(weight_stack)\n",
    "    #lambda_fin = np.tile(lambda_[np.newaxis,:], (data_vec.shape[0],1))\n",
    "    "
   ]
  },
  {
   "cell_type": "code",
   "execution_count": 579,
   "metadata": {},
   "outputs": [
    {
     "name": "stdout",
     "output_type": "stream",
     "text": [
      "(30, 100)\n"
     ]
    }
   ],
   "source": [
    "print(lambda_.tag.test_value.shape)"
   ]
  },
  {
   "cell_type": "code",
   "execution_count": 580,
   "metadata": {},
   "outputs": [
    {
     "data": {
      "text/plain": [
       "<matplotlib.image.AxesImage at 0x7f813683dac8>"
      ]
     },
     "execution_count": 580,
     "metadata": {},
     "output_type": "execute_result"
    },
    {
     "data": {
      "image/png": "[encoded data removed]",
      "text/plain": [
       "<Figure size 432x288 with 1 Axes>"
      ]
     },
     "metadata": {
      "needs_background": "light"
     },
     "output_type": "display_data"
    }
   ],
   "source": [
    "plt.imshow(lambda_.tag.test_value,aspect='auto')"
   ]
  },
  {
   "cell_type": "code",
   "execution_count": 581,
   "metadata": {},
   "outputs": [],
   "source": [
    "with model:\n",
    "    # Add observations\n",
    "    observation = pm.Bernoulli(\"obs\", lambda_, observed=data_vec)"
   ]
  },
  {
   "cell_type": "code",
   "execution_count": 582,
   "metadata": {},
   "outputs": [
    {
     "data": {
      "image/svg+xml": [
       "<?xml version=\"1.0\" encoding=\"UTF-8\" standalone=\"no\"?>\n",
       "<!DOCTYPE svg PUBLIC \"-//W3C//DTD SVG 1.1//EN\"\n",
       " \"http://www.w3.org/Graphics/SVG/1.1/DTD/svg11.dtd\">\n",
       "<!-- Generated by graphviz version 2.40.1 (20161225.0304)\n",
       " -->\n",
       "<!-- Title: %3 Pages: 1 -->\n",
       "<svg width=\"1221pt\" height=\"348pt\"\n",
       " viewBox=\"0.00 0.00 1221.10 348.00\" xmlns=\"http://www.w3.org/2000/svg\" xmlns:xlink=\"http://www.w3.org/1999/xlink\">\n",
       "<g id=\"graph0\" class=\"graph\" transform=\"scale(1 1) rotate(0) translate(4 344)\">\n",
       "<title>%3</title>\n",
       "<polygon fill=\"#ffffff\" stroke=\"transparent\" points=\"-4,4 -4,-344 1217.0957,-344 1217.0957,4 -4,4\"/>\n",
       "<g id=\"clust1\" class=\"cluster\">\n",
       "<title>cluster2</title>\n",
       "<path fill=\"none\" stroke=\"#000000\" d=\"M20,-257C20,-257 492,-257 492,-257 498,-257 504,-263 504,-269 504,-269 504,-320 504,-320 504,-326 498,-332 492,-332 492,-332 20,-332 20,-332 14,-332 8,-326 8,-320 8,-320 8,-269 8,-269 8,-263 14,-257 20,-257\"/>\n",
       "<text text-anchor=\"middle\" x=\"492.5\" y=\"-264.8\" font-family=\"Times,serif\" font-size=\"14.00\" fill=\"#000000\">2</text>\n",
       "</g>\n",
       "<g id=\"clust2\" class=\"cluster\">\n",
       "<title>cluster30</title>\n",
       "<path fill=\"none\" stroke=\"#000000\" d=\"M351,-91C351,-91 525,-91 525,-91 531,-91 537,-97 537,-103 537,-103 537,-154 537,-154 537,-160 531,-166 525,-166 525,-166 351,-166 351,-166 345,-166 339,-160 339,-154 339,-154 339,-103 339,-103 339,-97 345,-91 351,-91\"/>\n",
       "<text text-anchor=\"middle\" x=\"522\" y=\"-98.8\" font-family=\"Times,serif\" font-size=\"14.00\" fill=\"#000000\">30</text>\n",
       "</g>\n",
       "<g id=\"clust3\" class=\"cluster\">\n",
       "<title>cluster2 x 3</title>\n",
       "<path fill=\"none\" stroke=\"#000000\" d=\"M711,-174C711,-174 1053,-174 1053,-174 1059,-174 1065,-180 1065,-186 1065,-186 1065,-237 1065,-237 1065,-243 1059,-249 1053,-249 1053,-249 711,-249 711,-249 705,-249 699,-243 699,-237 699,-237 699,-186 699,-186 699,-180 705,-174 711,-174\"/>\n",
       "<text text-anchor=\"middle\" x=\"1043\" y=\"-181.8\" font-family=\"Times,serif\" font-size=\"14.00\" fill=\"#000000\">2 x 3</text>\n",
       "</g>\n",
       "<g id=\"clust4\" class=\"cluster\">\n",
       "<title>cluster30 x 2</title>\n",
       "<path fill=\"none\" stroke=\"#000000\" d=\"M185,-91C185,-91 319,-91 319,-91 325,-91 331,-97 331,-103 331,-103 331,-237 331,-237 331,-243 325,-249 319,-249 319,-249 185,-249 185,-249 179,-249 173,-243 173,-237 173,-237 173,-103 173,-103 173,-97 179,-91 185,-91\"/>\n",
       "<text text-anchor=\"middle\" x=\"305.5\" y=\"-98.8\" font-family=\"Times,serif\" font-size=\"14.00\" fill=\"#000000\">30 x 2</text>\n",
       "</g>\n",
       "<g id=\"clust5\" class=\"cluster\">\n",
       "<title>cluster30 x 100</title>\n",
       "<path fill=\"none\" stroke=\"#000000\" d=\"M704,-8C704,-8 828,-8 828,-8 834,-8 840,-14 840,-20 840,-20 840,-71 840,-71 840,-77 834,-83 828,-83 828,-83 704,-83 704,-83 698,-83 692,-77 692,-71 692,-71 692,-20 692,-20 692,-14 698,-8 704,-8\"/>\n",
       "<text text-anchor=\"middle\" x=\"807.5\" y=\"-15.8\" font-family=\"Times,serif\" font-size=\"14.00\" fill=\"#000000\">30 x 100</text>\n",
       "</g>\n",
       "<!-- b_tau -->\n",
       "<g id=\"node1\" class=\"node\">\n",
       "<title>b_tau</title>\n",
       "<ellipse fill=\"none\" stroke=\"#000000\" cx=\"280\" cy=\"-306\" rx=\"82.5854\" ry=\"18\"/>\n",
       "<text text-anchor=\"middle\" x=\"280\" y=\"-302.3\" font-family=\"Times,serif\" font-size=\"14.00\" fill=\"#000000\">b_tau ~ HalfCauchy</text>\n",
       "</g>\n",
       "<!-- tau_latent -->\n",
       "<g id=\"node14\" class=\"node\">\n",
       "<title>tau_latent</title>\n",
       "<ellipse fill=\"none\" stroke=\"#000000\" cx=\"252\" cy=\"-223\" rx=\"71.4873\" ry=\"18\"/>\n",
       "<text text-anchor=\"middle\" x=\"252\" y=\"-219.3\" font-family=\"Times,serif\" font-size=\"14.00\" fill=\"#000000\">tau_latent ~ Beta</text>\n",
       "</g>\n",
       "<!-- b_tau&#45;&gt;tau_latent -->\n",
       "<g id=\"edge14\" class=\"edge\">\n",
       "<title>b_tau&#45;&gt;tau_latent</title>\n",
       "<path fill=\"none\" stroke=\"#000000\" d=\"M273.9244,-287.9902C270.2552,-277.1138 265.5033,-263.0276 261.3618,-250.7511\"/>\n",
       "<polygon fill=\"#000000\" stroke=\"#000000\" points=\"264.5767,-249.3312 258.0637,-240.9746 257.9439,-251.5688 264.5767,-249.3312\"/>\n",
       "</g>\n",
       "<!-- w -->\n",
       "<g id=\"node2\" class=\"node\">\n",
       "<title>w</title>\n",
       "<ellipse fill=\"none\" stroke=\"#000000\" cx=\"438\" cy=\"-306\" rx=\"57.6901\" ry=\"18\"/>\n",
       "<text text-anchor=\"middle\" x=\"438\" y=\"-302.3\" font-family=\"Times,serif\" font-size=\"14.00\" fill=\"#000000\">w ~ Dirichlet</text>\n",
       "</g>\n",
       "<!-- category -->\n",
       "<g id=\"node4\" class=\"node\">\n",
       "<title>category</title>\n",
       "<ellipse fill=\"none\" stroke=\"#000000\" cx=\"438\" cy=\"-140\" rx=\"90.9839\" ry=\"18\"/>\n",
       "<text text-anchor=\"middle\" x=\"438\" y=\"-136.3\" font-family=\"Times,serif\" font-size=\"14.00\" fill=\"#000000\">category ~ Categorical</text>\n",
       "</g>\n",
       "<!-- w&#45;&gt;category -->\n",
       "<g id=\"edge1\" class=\"edge\">\n",
       "<title>w&#45;&gt;category</title>\n",
       "<path fill=\"none\" stroke=\"#000000\" d=\"M438,-287.9191C438,-259.1059 438,-202.5425 438,-168.321\"/>\n",
       "<polygon fill=\"#000000\" stroke=\"#000000\" points=\"441.5001,-168.0586 438,-158.0586 434.5001,-168.0587 441.5001,-168.0586\"/>\n",
       "</g>\n",
       "<!-- a_tau -->\n",
       "<g id=\"node3\" class=\"node\">\n",
       "<title>a_tau</title>\n",
       "<ellipse fill=\"none\" stroke=\"#000000\" cx=\"98\" cy=\"-306\" rx=\"81.7856\" ry=\"18\"/>\n",
       "<text text-anchor=\"middle\" x=\"98\" y=\"-302.3\" font-family=\"Times,serif\" font-size=\"14.00\" fill=\"#000000\">a_tau ~ HalfCauchy</text>\n",
       "</g>\n",
       "<!-- a_tau&#45;&gt;tau_latent -->\n",
       "<g id=\"edge15\" class=\"edge\">\n",
       "<title>a_tau&#45;&gt;tau_latent</title>\n",
       "<path fill=\"none\" stroke=\"#000000\" d=\"M128.7817,-289.14C146.1471,-279.654 168.2579,-267.6179 188,-257 195.8093,-252.7999 204.1694,-248.3355 212.1851,-244.0707\"/>\n",
       "<polygon fill=\"#000000\" stroke=\"#000000\" points=\"213.8525,-247.1482 221.041,-239.3651 210.5679,-240.9666 213.8525,-247.1482\"/>\n",
       "</g>\n",
       "<!-- obs -->\n",
       "<g id=\"node15\" class=\"node\">\n",
       "<title>obs</title>\n",
       "<ellipse fill=\"#d3d3d3\" stroke=\"#000000\" cx=\"766\" cy=\"-57\" rx=\"65.7887\" ry=\"18\"/>\n",
       "<text text-anchor=\"middle\" x=\"766\" y=\"-53.3\" font-family=\"Times,serif\" font-size=\"14.00\" fill=\"#000000\">obs ~ Bernoulli</text>\n",
       "</g>\n",
       "<!-- category&#45;&gt;obs -->\n",
       "<g id=\"edge21\" class=\"edge\">\n",
       "<title>category&#45;&gt;obs</title>\n",
       "<path fill=\"none\" stroke=\"#000000\" d=\"M467.2008,-122.7076C486.6336,-111.9607 513.0799,-98.7585 538,-91 588.0905,-75.4051 646.6644,-66.8662 691.9001,-62.2463\"/>\n",
       "<polygon fill=\"#000000\" stroke=\"#000000\" points=\"692.3143,-65.7226 701.9253,-61.264 691.6316,-58.7559 692.3143,-65.7226\"/>\n",
       "</g>\n",
       "<!-- alphas -->\n",
       "<g id=\"node5\" class=\"node\">\n",
       "<title>alphas</title>\n",
       "<ellipse fill=\"none\" stroke=\"#000000\" cx=\"972\" cy=\"-223\" rx=\"85.2851\" ry=\"18\"/>\n",
       "<text text-anchor=\"middle\" x=\"972\" y=\"-219.3\" font-family=\"Times,serif\" font-size=\"14.00\" fill=\"#000000\">alphas ~ HalfCauchy</text>\n",
       "</g>\n",
       "<!-- l11 -->\n",
       "<g id=\"node7\" class=\"node\">\n",
       "<title>l11</title>\n",
       "<ellipse fill=\"none\" stroke=\"#000000\" cx=\"595\" cy=\"-140\" rx=\"48.1917\" ry=\"18\"/>\n",
       "<text text-anchor=\"middle\" x=\"595\" y=\"-136.3\" font-family=\"Times,serif\" font-size=\"14.00\" fill=\"#000000\">l11 ~ Beta</text>\n",
       "</g>\n",
       "<!-- alphas&#45;&gt;l11 -->\n",
       "<g id=\"edge10\" class=\"edge\">\n",
       "<title>alphas&#45;&gt;l11</title>\n",
       "<path fill=\"none\" stroke=\"#000000\" d=\"M946.5432,-205.7397C928.3216,-194.4109 902.7346,-180.5258 878,-174 829.409,-161.1802 700.9112,-177.5382 652,-166 645.1719,-164.3893 638.1662,-161.9397 631.5058,-159.1762\"/>\n",
       "<polygon fill=\"#000000\" stroke=\"#000000\" points=\"632.6141,-155.8384 622.0554,-154.964 629.7643,-162.232 632.6141,-155.8384\"/>\n",
       "</g>\n",
       "<!-- l10 -->\n",
       "<g id=\"node8\" class=\"node\">\n",
       "<title>l10</title>\n",
       "<ellipse fill=\"none\" stroke=\"#000000\" cx=\"709\" cy=\"-140\" rx=\"48.1917\" ry=\"18\"/>\n",
       "<text text-anchor=\"middle\" x=\"709\" y=\"-136.3\" font-family=\"Times,serif\" font-size=\"14.00\" fill=\"#000000\">l10 ~ Beta</text>\n",
       "</g>\n",
       "<!-- alphas&#45;&gt;l10 -->\n",
       "<g id=\"edge8\" class=\"edge\">\n",
       "<title>alphas&#45;&gt;l10</title>\n",
       "<path fill=\"none\" stroke=\"#000000\" d=\"M946.0721,-205.7753C927.8426,-194.6171 902.4364,-180.9188 878,-174 829.983,-160.4046 814.3578,-178.3286 766,-166 759.2728,-164.2849 752.3568,-161.8088 745.7643,-159.0577\"/>\n",
       "<polygon fill=\"#000000\" stroke=\"#000000\" points=\"746.9557,-155.757 736.3967,-154.887 744.1085,-162.1519 746.9557,-155.757\"/>\n",
       "</g>\n",
       "<!-- l00 -->\n",
       "<g id=\"node9\" class=\"node\">\n",
       "<title>l00</title>\n",
       "<ellipse fill=\"none\" stroke=\"#000000\" cx=\"823\" cy=\"-140\" rx=\"48.1917\" ry=\"18\"/>\n",
       "<text text-anchor=\"middle\" x=\"823\" y=\"-136.3\" font-family=\"Times,serif\" font-size=\"14.00\" fill=\"#000000\">l00 ~ Beta</text>\n",
       "</g>\n",
       "<!-- alphas&#45;&gt;l00 -->\n",
       "<g id=\"edge2\" class=\"edge\">\n",
       "<title>alphas&#45;&gt;l00</title>\n",
       "<path fill=\"none\" stroke=\"#000000\" d=\"M941.4881,-206.0034C917.5264,-192.6556 884.106,-174.0389 858.8656,-159.9788\"/>\n",
       "<polygon fill=\"#000000\" stroke=\"#000000\" points=\"860.4086,-156.832 849.9693,-155.0232 857.0021,-162.9472 860.4086,-156.832\"/>\n",
       "</g>\n",
       "<!-- l01 -->\n",
       "<g id=\"node10\" class=\"node\">\n",
       "<title>l01</title>\n",
       "<ellipse fill=\"none\" stroke=\"#000000\" cx=\"937\" cy=\"-140\" rx=\"48.1917\" ry=\"18\"/>\n",
       "<text text-anchor=\"middle\" x=\"937\" y=\"-136.3\" font-family=\"Times,serif\" font-size=\"14.00\" fill=\"#000000\">l01 ~ Beta</text>\n",
       "</g>\n",
       "<!-- alphas&#45;&gt;l01 -->\n",
       "<g id=\"edge4\" class=\"edge\">\n",
       "<title>alphas&#45;&gt;l01</title>\n",
       "<path fill=\"none\" stroke=\"#000000\" d=\"M964.4055,-204.9902C959.7732,-194.005 953.7602,-179.7455 948.5472,-167.3833\"/>\n",
       "<polygon fill=\"#000000\" stroke=\"#000000\" points=\"951.6902,-165.8289 944.5797,-157.9746 945.2403,-168.5488 951.6902,-165.8289\"/>\n",
       "</g>\n",
       "<!-- l02 -->\n",
       "<g id=\"node11\" class=\"node\">\n",
       "<title>l02</title>\n",
       "<ellipse fill=\"none\" stroke=\"#000000\" cx=\"1051\" cy=\"-140\" rx=\"48.1917\" ry=\"18\"/>\n",
       "<text text-anchor=\"middle\" x=\"1051\" y=\"-136.3\" font-family=\"Times,serif\" font-size=\"14.00\" fill=\"#000000\">l02 ~ Beta</text>\n",
       "</g>\n",
       "<!-- alphas&#45;&gt;l02 -->\n",
       "<g id=\"edge6\" class=\"edge\">\n",
       "<title>alphas&#45;&gt;l02</title>\n",
       "<path fill=\"none\" stroke=\"#000000\" d=\"M989.1418,-204.9902C1000.4464,-193.1133 1015.3939,-177.4089 1027.7634,-164.4131\"/>\n",
       "<polygon fill=\"#000000\" stroke=\"#000000\" points=\"1030.3423,-166.7803 1034.7015,-157.1237 1025.2719,-161.9542 1030.3423,-166.7803\"/>\n",
       "</g>\n",
       "<!-- l12 -->\n",
       "<g id=\"node12\" class=\"node\">\n",
       "<title>l12</title>\n",
       "<ellipse fill=\"none\" stroke=\"#000000\" cx=\"1165\" cy=\"-140\" rx=\"48.1917\" ry=\"18\"/>\n",
       "<text text-anchor=\"middle\" x=\"1165\" y=\"-136.3\" font-family=\"Times,serif\" font-size=\"14.00\" fill=\"#000000\">l12 ~ Beta</text>\n",
       "</g>\n",
       "<!-- alphas&#45;&gt;l12 -->\n",
       "<g id=\"edge12\" class=\"edge\">\n",
       "<title>alphas&#45;&gt;l12</title>\n",
       "<path fill=\"none\" stroke=\"#000000\" d=\"M1011.1214,-206.981C1038.3733,-195.73 1075.5155,-180.2121 1108,-166 1113.5538,-163.5702 1119.3911,-160.966 1125.1251,-158.3786\"/>\n",
       "<polygon fill=\"#000000\" stroke=\"#000000\" points=\"1126.9502,-161.3939 1134.6094,-154.0736 1124.0569,-155.0198 1126.9502,-161.3939\"/>\n",
       "</g>\n",
       "<!-- betas -->\n",
       "<g id=\"node6\" class=\"node\">\n",
       "<title>betas</title>\n",
       "<ellipse fill=\"none\" stroke=\"#000000\" cx=\"788\" cy=\"-223\" rx=\"81.4863\" ry=\"18\"/>\n",
       "<text text-anchor=\"middle\" x=\"788\" y=\"-219.3\" font-family=\"Times,serif\" font-size=\"14.00\" fill=\"#000000\">betas ~ HalfCauchy</text>\n",
       "</g>\n",
       "<!-- betas&#45;&gt;l11 -->\n",
       "<g id=\"edge11\" class=\"edge\">\n",
       "<title>betas&#45;&gt;l11</title>\n",
       "<path fill=\"none\" stroke=\"#000000\" d=\"M749.1734,-207.1027C721.8949,-195.8421 684.6018,-180.2634 652,-166 646.4462,-163.5702 640.6089,-160.966 634.8749,-158.3786\"/>\n",
       "<polygon fill=\"#000000\" stroke=\"#000000\" points=\"635.9431,-155.0198 625.3906,-154.0736 633.0498,-161.3939 635.9431,-155.0198\"/>\n",
       "</g>\n",
       "<!-- betas&#45;&gt;l10 -->\n",
       "<g id=\"edge9\" class=\"edge\">\n",
       "<title>betas&#45;&gt;l10</title>\n",
       "<path fill=\"none\" stroke=\"#000000\" d=\"M770.8582,-204.9902C759.5536,-193.1133 744.6061,-177.4089 732.2366,-164.4131\"/>\n",
       "<polygon fill=\"#000000\" stroke=\"#000000\" points=\"734.7281,-161.9542 725.2985,-157.1237 729.6577,-166.7803 734.7281,-161.9542\"/>\n",
       "</g>\n",
       "<!-- betas&#45;&gt;l00 -->\n",
       "<g id=\"edge3\" class=\"edge\">\n",
       "<title>betas&#45;&gt;l00</title>\n",
       "<path fill=\"none\" stroke=\"#000000\" d=\"M795.5945,-204.9902C800.2268,-194.005 806.2398,-179.7455 811.4528,-167.3833\"/>\n",
       "<polygon fill=\"#000000\" stroke=\"#000000\" points=\"814.7597,-168.5488 815.4203,-157.9746 808.3098,-165.8289 814.7597,-168.5488\"/>\n",
       "</g>\n",
       "<!-- betas&#45;&gt;l01 -->\n",
       "<g id=\"edge5\" class=\"edge\">\n",
       "<title>betas&#45;&gt;l01</title>\n",
       "<path fill=\"none\" stroke=\"#000000\" d=\"M818.1524,-206.2037C842.0846,-192.8723 875.6165,-174.1935 900.9634,-160.0741\"/>\n",
       "<polygon fill=\"#000000\" stroke=\"#000000\" points=\"902.8656,-163.0209 909.8984,-155.0969 899.4591,-156.9057 902.8656,-163.0209\"/>\n",
       "</g>\n",
       "<!-- betas&#45;&gt;l02 -->\n",
       "<g id=\"edge7\" class=\"edge\">\n",
       "<title>betas&#45;&gt;l02</title>\n",
       "<path fill=\"none\" stroke=\"#000000\" d=\"M812.7142,-205.7456C830.1188,-194.5743 854.4303,-180.8724 878,-174 927.6121,-159.5342 943.9082,-178.7053 994,-166 1000.7293,-164.2932 1007.6464,-161.8212 1014.2393,-159.0717\"/>\n",
       "<polygon fill=\"#000000\" stroke=\"#000000\" points=\"1015.8947,-162.166 1023.607,-154.9016 1013.0479,-155.7709 1015.8947,-162.166\"/>\n",
       "</g>\n",
       "<!-- betas&#45;&gt;l12 -->\n",
       "<g id=\"edge13\" class=\"edge\">\n",
       "<title>betas&#45;&gt;l12</title>\n",
       "<path fill=\"none\" stroke=\"#000000\" d=\"M812.2652,-205.7339C829.6617,-194.4025 854.145,-180.5166 878,-174 927.3344,-160.5231 1058.2206,-177.7269 1108,-166 1114.8286,-164.3914 1121.8345,-161.9428 1128.4951,-159.1797\"/>\n",
       "<polygon fill=\"#000000\" stroke=\"#000000\" points=\"1130.2365,-162.2356 1137.9454,-154.9677 1127.3867,-155.8419 1130.2365,-162.2356\"/>\n",
       "</g>\n",
       "<!-- l11&#45;&gt;obs -->\n",
       "<g id=\"edge17\" class=\"edge\">\n",
       "<title>l11&#45;&gt;obs</title>\n",
       "<path fill=\"none\" stroke=\"#000000\" d=\"M611.0416,-122.933C621.7558,-112.4153 636.6537,-99.3829 652,-91 667.7577,-82.3924 685.9601,-75.7099 703.1295,-70.6378\"/>\n",
       "<polygon fill=\"#000000\" stroke=\"#000000\" points=\"704.4144,-73.9122 713.093,-67.835 702.5188,-67.1738 704.4144,-73.9122\"/>\n",
       "</g>\n",
       "<!-- l10&#45;&gt;obs -->\n",
       "<g id=\"edge18\" class=\"edge\">\n",
       "<title>l10&#45;&gt;obs</title>\n",
       "<path fill=\"none\" stroke=\"#000000\" d=\"M721.0882,-122.3978C728.8945,-111.0308 739.1927,-96.0352 747.9584,-83.2711\"/>\n",
       "<polygon fill=\"#000000\" stroke=\"#000000\" points=\"750.9567,-85.0877 753.7327,-74.8629 745.1864,-81.1249 750.9567,-85.0877\"/>\n",
       "</g>\n",
       "<!-- l00&#45;&gt;obs -->\n",
       "<g id=\"edge19\" class=\"edge\">\n",
       "<title>l00&#45;&gt;obs</title>\n",
       "<path fill=\"none\" stroke=\"#000000\" d=\"M810.9118,-122.3978C803.1055,-111.0308 792.8073,-96.0352 784.0416,-83.2711\"/>\n",
       "<polygon fill=\"#000000\" stroke=\"#000000\" points=\"786.8136,-81.1249 778.2673,-74.8629 781.0433,-85.0877 786.8136,-81.1249\"/>\n",
       "</g>\n",
       "<!-- l01&#45;&gt;obs -->\n",
       "<g id=\"edge20\" class=\"edge\">\n",
       "<title>l01&#45;&gt;obs</title>\n",
       "<path fill=\"none\" stroke=\"#000000\" d=\"M920.9584,-122.933C910.2442,-112.4153 895.3463,-99.3829 880,-91 864.2423,-82.3924 846.0399,-75.7099 828.8705,-70.6378\"/>\n",
       "<polygon fill=\"#000000\" stroke=\"#000000\" points=\"829.4812,-67.1738 818.907,-67.835 827.5856,-73.9122 829.4812,-67.1738\"/>\n",
       "</g>\n",
       "<!-- l02&#45;&gt;obs -->\n",
       "<g id=\"edge22\" class=\"edge\">\n",
       "<title>l02&#45;&gt;obs</title>\n",
       "<path fill=\"none\" stroke=\"#000000\" d=\"M1035.8069,-122.6607C1025.2172,-111.7508 1010.139,-98.3832 994,-91 967.0622,-78.6767 895.0375,-69.2364 839.0782,-63.4656\"/>\n",
       "<polygon fill=\"#000000\" stroke=\"#000000\" points=\"839.1318,-59.9533 828.8308,-62.4309 838.4285,-66.9179 839.1318,-59.9533\"/>\n",
       "</g>\n",
       "<!-- l12&#45;&gt;obs -->\n",
       "<g id=\"edge24\" class=\"edge\">\n",
       "<title>l12&#45;&gt;obs</title>\n",
       "<path fill=\"none\" stroke=\"#000000\" d=\"M1149.9228,-122.3989C1139.3821,-111.3785 1124.3148,-97.986 1108,-91 1061.6828,-71.1669 927.6346,-62.7046 841.7664,-59.242\"/>\n",
       "<polygon fill=\"#000000\" stroke=\"#000000\" points=\"841.6713,-55.7357 831.5427,-58.8441 841.399,-62.7304 841.6713,-55.7357\"/>\n",
       "</g>\n",
       "<!-- tau -->\n",
       "<g id=\"node13\" class=\"node\">\n",
       "<title>tau</title>\n",
       "<polygon fill=\"none\" stroke=\"#000000\" points=\"318,-158 196,-158 196,-122 318,-122 318,-158\"/>\n",
       "<text text-anchor=\"middle\" x=\"257\" y=\"-136.3\" font-family=\"Times,serif\" font-size=\"14.00\" fill=\"#000000\">tau ~ Deterministic</text>\n",
       "</g>\n",
       "<!-- tau&#45;&gt;obs -->\n",
       "<g id=\"edge23\" class=\"edge\">\n",
       "<title>tau&#45;&gt;obs</title>\n",
       "<path fill=\"none\" stroke=\"#000000\" d=\"M279.3996,-121.8116C294.2399,-110.8467 314.6573,-97.7371 335,-91 398.785,-69.8756 584.1602,-61.6688 689.855,-58.6435\"/>\n",
       "<polygon fill=\"#000000\" stroke=\"#000000\" points=\"690.2422,-62.1342 700.1413,-58.3582 690.048,-55.1369 690.2422,-62.1342\"/>\n",
       "</g>\n",
       "<!-- tau_latent&#45;&gt;tau -->\n",
       "<g id=\"edge16\" class=\"edge\">\n",
       "<title>tau_latent&#45;&gt;tau</title>\n",
       "<path fill=\"none\" stroke=\"#000000\" d=\"M253.0849,-204.9902C253.7291,-194.2963 254.5603,-180.4994 255.2909,-168.3706\"/>\n",
       "<polygon fill=\"#000000\" stroke=\"#000000\" points=\"258.7922,-168.4536 255.8999,-158.2612 251.8048,-168.0326 258.7922,-168.4536\"/>\n",
       "</g>\n",
       "</g>\n",
       "</svg>\n"
      ],
      "text/plain": [
       "<graphviz.dot.Digraph at 0x7f81367f4198>"
      ]
     },
     "execution_count": 582,
     "metadata": {},
     "output_type": "execute_result"
    }
   ],
   "source": [
    "pm.model_to_graphviz(model)"
   ]
  },
  {
   "cell_type": "code",
   "execution_count": 583,
   "metadata": {},
   "outputs": [
    {
     "name": "stderr",
     "output_type": "stream",
     "text": [
      "/home/abuzarmahmood/anaconda3/lib/python3.6/site-packages/theano/tensor/subtensor.py:2197: FutureWarning: Using a non-tuple sequence for multidimensional indexing is deprecated; use `arr[tuple(seq)]` instead of `arr[seq]`. In the future this will be interpreted as an array index, `arr[np.array(seq)]`, which will result either in an error or a different result.\n",
      "  rval = inputs[0].__getitem__(inputs[1:])\n",
      "Multiprocess sampling (4 chains in 4 jobs)\n",
      "CompoundStep\n",
      ">NUTS: [tau_latent, b_tau, a_tau, l12, l11, l10, l02, l01, l00, betas, alphas, w]\n",
      ">BinaryGibbsMetropolis: [category]\n",
      "Sampling 4 chains, 0 divergences: 100%|██████████| 4000/4000 [03:10<00:00, 21.04draws/s]\n",
      "The rhat statistic is larger than 1.4 for some parameters. The sampler did not converge.\n",
      "The estimated number of effective samples is smaller than 200 for some parameters.\n"
     ]
    }
   ],
   "source": [
    "with model:     \n",
    "    #step = pm.Metropolis()\n",
    "    step = pm.NUTS()\n",
    "    trace = pm.sample(step=step)\n",
    "# with model:\n",
    "#     inference = pm.ADVI('full-rank')\n",
    "#     approx = pm.fit(n=fit, method=inference,\n",
    "#                    random_seed = 3,\n",
    "#                    obj_n_mc = 1)\n",
    "#     trace = approx.sample(draws=samples)"
   ]
  },
  {
   "cell_type": "code",
   "execution_count": 584,
   "metadata": {},
   "outputs": [],
   "source": [
    "#pm.traceplot(trace);"
   ]
  },
  {
   "cell_type": "code",
   "execution_count": 585,
   "metadata": {},
   "outputs": [
    {
     "name": "stderr",
     "output_type": "stream",
     "text": [
      "100%|██████████| 2000/2000 [00:02<00:00, 695.27it/s]\n"
     ]
    }
   ],
   "source": [
    "with model:\n",
    "    ppc_trace = pm.sample_posterior_predictive(trace)"
   ]
  },
  {
   "cell_type": "code",
   "execution_count": 586,
   "metadata": {},
   "outputs": [],
   "source": [
    "ppc_trace['obs'].shape\n",
    "mean_ppc_obs = np.mean(ppc_trace['obs'],axis=0)"
   ]
  },
  {
   "cell_type": "code",
   "execution_count": 587,
   "metadata": {},
   "outputs": [
    {
     "name": "stdout",
     "output_type": "stream",
     "text": [
      "(2000, 30, 2)\n",
      "(30, 2)\n"
     ]
    }
   ],
   "source": [
    "tau_samples = trace['tau']\n",
    "int_tau = np.vectorize(np.int)(tau_samples)\n",
    "print(int_tau.shape)\n",
    "mode_tau = stats.mode(int_tau,axis=0)[0][0]\n",
    "print(mode_tau.shape)"
   ]
  },
  {
   "cell_type": "code",
   "execution_count": 588,
   "metadata": {},
   "outputs": [],
   "source": [
    "hist_tau = np.array([np.histogram(trial, bins = np.arange(20))[0] for trial in int_tau.swapaxes(0,1)])"
   ]
  },
  {
   "cell_type": "code",
   "execution_count": 589,
   "metadata": {},
   "outputs": [
    {
     "name": "stdout",
     "output_type": "stream",
     "text": [
      "(2000, 30)\n"
     ]
    },
    {
     "data": {
      "image/png": "[encoded data removed]",
      "text/plain": [
       "<Figure size 432x288 with 1 Axes>"
      ]
     },
     "metadata": {
      "needs_background": "light"
     },
     "output_type": "display_data"
    }
   ],
   "source": [
    "cat_samples = trace['category']\n",
    "plt.imshow(cat_samples,aspect='auto')\n",
    "print(cat_samples.shape)"
   ]
  },
  {
   "cell_type": "code",
   "execution_count": 590,
   "metadata": {},
   "outputs": [],
   "source": [
    "cat_hist = np.array([np.histogram(trial,bins=np.arange(3))[0] for trial in cat_samples.swapaxes(0,1)])\n",
    "#print(cat_hist)"
   ]
  },
  {
   "cell_type": "code",
   "execution_count": 597,
   "metadata": {},
   "outputs": [
    {
     "data": {
      "image/png": "[encoded data removed]",
      "text/plain": [
       "<Figure size 720x720 with 6 Axes>"
      ]
     },
     "metadata": {
      "needs_background": "light"
     },
     "output_type": "display_data"
    }
   ],
   "source": [
    "fig,ax = plt.subplots(2,3,figsize=(10,10))\n",
    "ax[0,1].plot(component_inds, np.arange(trials),'-x',label='Actual')\n",
    "ax[0,1].plot(np.round(1-np.mean(cat_samples,axis=0)), np.arange(trials),'-x', label='Inferred')\n",
    "ax[0,1].legend()\n",
    "for trial,val in enumerate(mode_tau):\n",
    "    ax[0,0].vlines(val, trial-0.5,trial+0.5, linewidth = 5, color='red')\n",
    "ax[0,0].imshow(true_r,aspect='auto',origin='lower')\n",
    "ax[1,0].imshow(data_vec,aspect='auto',origin='lower')\n",
    "ax[1,1].imshow(mean_ppc_obs,aspect='auto',origin='lower');\n",
    "ax[0,2].imshow(cat_hist,aspect='auto',origin='lower');"
   ]
  }
 ],
 "metadata": {
  "kernelspec": {
   "display_name": "Python 3",
   "language": "python",
   "name": "python3"
  },
  "language_info": {
   "codemirror_mode": {
    "name": "ipython",
    "version": 3
   },
   "file_extension": ".py",
   "mimetype": "text/x-python",
   "name": "python",
   "nbconvert_exporter": "python",
   "pygments_lexer": "ipython3",
   "version": "3.6.10"
  }
 },
 "nbformat": 4,
 "nbformat_minor": 4
}
