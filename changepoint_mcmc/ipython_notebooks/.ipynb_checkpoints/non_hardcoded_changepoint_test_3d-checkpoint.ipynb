{
 "cells": [
  {
   "cell_type": "markdown",
   "metadata": {},
   "source": [
    "\"\"\"\n",
    "Generate data with specified changepoints\n",
    "Compare ELBO fits for changepoint model with different\n",
    "numbers of changepoints\n",
    "\"\"\""
   ]
  },
  {
   "cell_type": "code",
   "execution_count": 1,
   "metadata": {},
   "outputs": [],
   "source": [
    "import os\n",
    "import pickle\n",
    "import scipy.stats as stats\n",
    "import pymc3 as pm\n",
    "import theano.tensor as tt\n",
    "import numpy as np\n",
    "import pylab as plt\n",
    "from pymc3.variational.callbacks import CheckParametersConvergence\n",
    "from theano.tensor.extra_ops import cumsum\n",
    "import sys\n",
    "sys.path.append('/media/bigdata/firing_space_plot/ephys_data')\n",
    "from ephys_data import ephys_data\n",
    "import visualize"
   ]
  },
  {
   "cell_type": "code",
   "execution_count": 95,
   "metadata": {},
   "outputs": [
    {
     "name": "stdout",
     "output_type": "stream",
     "text": [
      "(30, 4)\n",
      "(30, 3)\n",
      "(30, 5)\n",
      "(3, 4)\n"
     ]
    }
   ],
   "source": [
    "# Some poisson spiking\n",
    "length = 200\n",
    "states = 4\n",
    "nrns = 3\n",
    "trials = 30\n",
    "fit = int(1e5)\n",
    "samples = 2000\n",
    "idx = np.arange(length)\n",
    "\n",
    "true_tau = np.cumsum(np.random.random((trials,states)),axis=-1)\n",
    "true_tau /= np.max(true_tau,axis=-1)[...,np.newaxis]\n",
    "true_tau *= length\n",
    "true_tau = np.vectorize(np.int)(true_tau)\n",
    "\n",
    "print(true_tau.shape)\n",
    "\n",
    "state_inds = np.concatenate([np.zeros((trials,1)),true_tau],axis=-1)\n",
    "state_inds = np.vectorize(np.int)(state_inds)\n",
    "true_tau = true_tau[:,:-1]\n",
    "\n",
    "print(true_tau.shape)\n",
    "print(state_inds.shape)\n",
    "\n",
    "true_lambda = np.random.random((nrns,states))\n",
    "print(true_lambda.shape)\n",
    "true_r = np.zeros((trials, nrns, length))\n",
    "\n",
    "for trial_num in range(trials):\n",
    "    for state_num in range(states):\n",
    "        true_r[trial_num,:,state_inds[trial_num,state_num]:state_inds[trial_num,state_num+1]] = \\\n",
    "                        true_lambda[:,state_num][:,np.newaxis]\n",
    "        \n",
    "data_array = np.random.random(true_r.shape) < true_r     "
   ]
  },
  {
   "cell_type": "code",
   "execution_count": 96,
   "metadata": {},
   "outputs": [
    {
     "data": {
      "image/png": "[encoded data removed]",
      "text/plain": [
       "<Figure size 432x288 with 6 Axes>"
      ]
     },
     "metadata": {
      "needs_background": "light"
     },
     "output_type": "display_data"
    },
    {
     "data": {
      "image/png": "[encoded data removed]",
      "text/plain": [
       "<Figure size 432x288 with 6 Axes>"
      ]
     },
     "metadata": {
      "needs_background": "light"
     },
     "output_type": "display_data"
    }
   ],
   "source": [
    "trial_count = 5\n",
    "trial_inds = np.random.choice(np.arange(trials),5)\n",
    "visualize.firing_overview(true_r[trial_inds]);\n",
    "visualize.firing_overview(data_array[trial_inds], cmap='viridis');"
   ]
  },
  {
   "cell_type": "code",
   "execution_count": 97,
   "metadata": {},
   "outputs": [
    {
     "name": "stdout",
     "output_type": "stream",
     "text": [
      "(3, 4)\n"
     ]
    }
   ],
   "source": [
    "mean_vals = np.array([np.mean(x,axis=-1) for x in np.array_split(data_array,states,axis=-1)]).T\n",
    "mean_vals = np.mean(mean_vals,axis=1)\n",
    "print(mean_vals.shape)"
   ]
  },
  {
   "cell_type": "code",
   "execution_count": 98,
   "metadata": {},
   "outputs": [],
   "source": [
    "with pm.Model() as model:\n",
    "    # Finite, but somewhere on the lower end, Beta prior\n",
    "    a_lambda = 2\n",
    "    b_lambda = 5\n",
    "    lambda_latent = pm.Beta('lambda', \n",
    "                                    a_lambda, b_lambda, \n",
    "                                    shape = (nrns,states),\n",
    "                                  testval = mean_vals + 1e-3)\n",
    "\n",
    "    a = pm.HalfCauchy('a_tau', 3., shape = states - 1)\n",
    "    b = pm.HalfCauchy('b_tau', 3., shape = states - 1)\n",
    "    \n",
    "    even_switches = np.linspace(0,1,states+1)[1:-1]\n",
    "    tau_latent = pm.Beta('tau_latent', a, b, \n",
    "                         testval = even_switches,\n",
    "                         shape = (trials,states-1)).sort(axis=-1)    \n",
    "    \n",
    "    tau = pm.Deterministic('tau', \n",
    "            idx.min() + (idx.max() - idx.min()) * tau_latent)"
   ]
  },
  {
   "cell_type": "code",
   "execution_count": 99,
   "metadata": {},
   "outputs": [
    {
     "name": "stdout",
     "output_type": "stream",
     "text": [
      "(30, 3)\n"
     ]
    }
   ],
   "source": [
    "print(tau.tag.test_value.shape)"
   ]
  },
  {
   "cell_type": "code",
   "execution_count": 100,
   "metadata": {},
   "outputs": [
    {
     "name": "stdout",
     "output_type": "stream",
     "text": [
      "(200,)\n"
     ]
    }
   ],
   "source": [
    "print(idx.shape)"
   ]
  },
  {
   "cell_type": "code",
   "execution_count": 101,
   "metadata": {},
   "outputs": [],
   "source": [
    "with model:\n",
    "    weight_stack = tt.nnet.sigmoid(idx[np.newaxis,:]-tau[:,:,np.newaxis])\n",
    "    weight_stack = tt.concatenate([np.ones((trials,1,length)),weight_stack],axis=1)\n",
    "    inverse_stack = 1 - weight_stack[:,1:]\n",
    "    inverse_stack = tt.concatenate([inverse_stack, np.ones((trials,1,length))],axis=1)\n",
    "\n",
    "    weight_stack = np.multiply(weight_stack,inverse_stack)"
   ]
  },
  {
   "cell_type": "code",
   "execution_count": 102,
   "metadata": {},
   "outputs": [
    {
     "data": {
      "image/png": "[encoded data removed]",
      "text/plain": [
       "<Figure size 432x288 with 1 Axes>"
      ]
     },
     "metadata": {
      "needs_background": "light"
     },
     "output_type": "display_data"
    }
   ],
   "source": [
    "plt.imshow(weight_stack.tag.test_value[0],aspect='auto');"
   ]
  },
  {
   "cell_type": "code",
   "execution_count": 103,
   "metadata": {},
   "outputs": [
    {
     "name": "stdout",
     "output_type": "stream",
     "text": [
      "(30, 4, 200)\n",
      "(3, 4)\n"
     ]
    }
   ],
   "source": [
    "print(weight_stack.tag.test_value.shape)\n",
    "print(lambda_latent.tag.test_value.shape)"
   ]
  },
  {
   "cell_type": "code",
   "execution_count": 104,
   "metadata": {},
   "outputs": [
    {
     "name": "stdout",
     "output_type": "stream",
     "text": [
      "(30, 3, 200)\n"
     ]
    }
   ],
   "source": [
    "with model:\n",
    "    lambda_ = tt.tensordot(weight_stack,lambda_latent, [1,1]).swapaxes(1,2)\n",
    "    #lambda_ = lambda_latent.dot(weight_stack)\n",
    "print(lambda_.tag.test_value.shape)"
   ]
  },
  {
   "cell_type": "code",
   "execution_count": 105,
   "metadata": {},
   "outputs": [],
   "source": [
    "# visualize.firing_overview(true_r,cmap='viridis')\n",
    "# plt.figure()\n",
    "# visualize.firing_overview(lambda_.tag.test_value, cmap='viridis')\n",
    "# print(true_r.shape)\n",
    "# print(lambda_.tag.test_value.shape)"
   ]
  },
  {
   "cell_type": "code",
   "execution_count": 106,
   "metadata": {},
   "outputs": [],
   "source": [
    "with model:\n",
    "    # Add observations\n",
    "    observation = pm.Bernoulli(\"obs\", lambda_, observed=data_array)"
   ]
  },
  {
   "cell_type": "code",
   "execution_count": 107,
   "metadata": {},
   "outputs": [
    {
     "data": {
      "image/svg+xml": [
       "<?xml version=\"1.0\" encoding=\"UTF-8\" standalone=\"no\"?>\n",
       "<!DOCTYPE svg PUBLIC \"-//W3C//DTD SVG 1.1//EN\"\n",
       " \"http://www.w3.org/Graphics/SVG/1.1/DTD/svg11.dtd\">\n",
       "<!-- Generated by graphviz version 2.40.1 (20161225.0304)\n",
       " -->\n",
       "<!-- Title: %3 Pages: 1 -->\n",
       "<svg width=\"455pt\" height=\"337pt\"\n",
       " viewBox=\"0.00 0.00 455.00 337.00\" xmlns=\"http://www.w3.org/2000/svg\" xmlns:xlink=\"http://www.w3.org/1999/xlink\">\n",
       "<g id=\"graph0\" class=\"graph\" transform=\"scale(1 1) rotate(0) translate(4 333)\">\n",
       "<title>%3</title>\n",
       "<polygon fill=\"#ffffff\" stroke=\"transparent\" points=\"-4,4 -4,-333 451,-333 451,4 -4,4\"/>\n",
       "<g id=\"clust1\" class=\"cluster\">\n",
       "<title>cluster3 x 4</title>\n",
       "<path fill=\"none\" stroke=\"#000000\" d=\"M20,-91C20,-91 138,-91 138,-91 144,-91 150,-97 150,-103 150,-103 150,-154 150,-154 150,-160 144,-166 138,-166 138,-166 20,-166 20,-166 14,-166 8,-160 8,-154 8,-154 8,-103 8,-103 8,-97 14,-91 20,-91\"/>\n",
       "<text text-anchor=\"middle\" x=\"128\" y=\"-98.8\" font-family=\"Times,serif\" font-size=\"14.00\" fill=\"#000000\">3 x 4</text>\n",
       "</g>\n",
       "<g id=\"clust2\" class=\"cluster\">\n",
       "<title>cluster3</title>\n",
       "<path fill=\"none\" stroke=\"#000000\" d=\"M88,-246C88,-246 427,-246 427,-246 433,-246 439,-252 439,-258 439,-258 439,-309 439,-309 439,-315 433,-321 427,-321 427,-321 88,-321 88,-321 82,-321 76,-315 76,-309 76,-309 76,-258 76,-258 76,-252 82,-246 88,-246\"/>\n",
       "<text text-anchor=\"middle\" x=\"427.5\" y=\"-253.8\" font-family=\"Times,serif\" font-size=\"14.00\" fill=\"#000000\">3</text>\n",
       "</g>\n",
       "<g id=\"clust3\" class=\"cluster\">\n",
       "<title>cluster30 x 3</title>\n",
       "<path fill=\"none\" stroke=\"#000000\" d=\"M170,-91C170,-91 304,-91 304,-91 310,-91 316,-97 316,-103 316,-103 316,-226 316,-226 316,-232 310,-238 304,-238 304,-238 170,-238 170,-238 164,-238 158,-232 158,-226 158,-226 158,-103 158,-103 158,-97 164,-91 170,-91\"/>\n",
       "<text text-anchor=\"middle\" x=\"290.5\" y=\"-98.8\" font-family=\"Times,serif\" font-size=\"14.00\" fill=\"#000000\">30 x 3</text>\n",
       "</g>\n",
       "<g id=\"clust4\" class=\"cluster\">\n",
       "<title>cluster30 x 3 x 200</title>\n",
       "<path fill=\"none\" stroke=\"#000000\" d=\"M94,-8C94,-8 218,-8 218,-8 224,-8 230,-14 230,-20 230,-20 230,-71 230,-71 230,-77 224,-83 218,-83 218,-83 94,-83 94,-83 88,-83 82,-77 82,-71 82,-71 82,-20 82,-20 82,-14 88,-8 94,-8\"/>\n",
       "<text text-anchor=\"middle\" x=\"187\" y=\"-15.8\" font-family=\"Times,serif\" font-size=\"14.00\" fill=\"#000000\">30 x 3 x 200</text>\n",
       "</g>\n",
       "<!-- lambda -->\n",
       "<g id=\"node1\" class=\"node\">\n",
       "<title>lambda</title>\n",
       "<ellipse fill=\"none\" stroke=\"#000000\" cx=\"79\" cy=\"-140\" rx=\"63.0888\" ry=\"18\"/>\n",
       "<text text-anchor=\"middle\" x=\"79\" y=\"-136.3\" font-family=\"Times,serif\" font-size=\"14.00\" fill=\"#000000\">lambda ~ Beta</text>\n",
       "</g>\n",
       "<!-- obs -->\n",
       "<g id=\"node6\" class=\"node\">\n",
       "<title>obs</title>\n",
       "<ellipse fill=\"#d3d3d3\" stroke=\"#000000\" cx=\"156\" cy=\"-57\" rx=\"65.7887\" ry=\"18\"/>\n",
       "<text text-anchor=\"middle\" x=\"156\" y=\"-53.3\" font-family=\"Times,serif\" font-size=\"14.00\" fill=\"#000000\">obs ~ Bernoulli</text>\n",
       "</g>\n",
       "<!-- lambda&#45;&gt;obs -->\n",
       "<g id=\"edge5\" class=\"edge\">\n",
       "<title>lambda&#45;&gt;obs</title>\n",
       "<path fill=\"none\" stroke=\"#000000\" d=\"M95.3297,-122.3978C106.151,-110.7334 120.5169,-95.248 132.5532,-82.2739\"/>\n",
       "<polygon fill=\"#000000\" stroke=\"#000000\" points=\"135.4586,-84.2883 139.6938,-74.5768 130.3268,-79.5275 135.4586,-84.2883\"/>\n",
       "</g>\n",
       "<!-- a_tau -->\n",
       "<g id=\"node2\" class=\"node\">\n",
       "<title>a_tau</title>\n",
       "<ellipse fill=\"none\" stroke=\"#000000\" cx=\"349\" cy=\"-295\" rx=\"81.7856\" ry=\"18\"/>\n",
       "<text text-anchor=\"middle\" x=\"349\" y=\"-291.3\" font-family=\"Times,serif\" font-size=\"14.00\" fill=\"#000000\">a_tau ~ HalfCauchy</text>\n",
       "</g>\n",
       "<!-- tau_latent -->\n",
       "<g id=\"node4\" class=\"node\">\n",
       "<title>tau_latent</title>\n",
       "<ellipse fill=\"none\" stroke=\"#000000\" cx=\"237\" cy=\"-212\" rx=\"71.4873\" ry=\"18\"/>\n",
       "<text text-anchor=\"middle\" x=\"237\" y=\"-208.3\" font-family=\"Times,serif\" font-size=\"14.00\" fill=\"#000000\">tau_latent ~ Beta</text>\n",
       "</g>\n",
       "<!-- a_tau&#45;&gt;tau_latent -->\n",
       "<g id=\"edge1\" class=\"edge\">\n",
       "<title>a_tau&#45;&gt;tau_latent</title>\n",
       "<path fill=\"none\" stroke=\"#000000\" d=\"M325.5211,-277.6005C308.9839,-265.3452 286.6562,-248.7988 268.5626,-235.3901\"/>\n",
       "<polygon fill=\"#000000\" stroke=\"#000000\" points=\"270.1825,-232.2343 260.0643,-229.0923 266.0147,-237.8583 270.1825,-232.2343\"/>\n",
       "</g>\n",
       "<!-- b_tau -->\n",
       "<g id=\"node3\" class=\"node\">\n",
       "<title>b_tau</title>\n",
       "<ellipse fill=\"none\" stroke=\"#000000\" cx=\"167\" cy=\"-295\" rx=\"82.5854\" ry=\"18\"/>\n",
       "<text text-anchor=\"middle\" x=\"167\" y=\"-291.3\" font-family=\"Times,serif\" font-size=\"14.00\" fill=\"#000000\">b_tau ~ HalfCauchy</text>\n",
       "</g>\n",
       "<!-- b_tau&#45;&gt;tau_latent -->\n",
       "<g id=\"edge2\" class=\"edge\">\n",
       "<title>b_tau&#45;&gt;tau_latent</title>\n",
       "<path fill=\"none\" stroke=\"#000000\" d=\"M182.189,-276.9902C191.8865,-265.4917 204.6095,-250.4058 215.3562,-237.6634\"/>\n",
       "<polygon fill=\"#000000\" stroke=\"#000000\" points=\"218.3096,-239.5903 222.0812,-229.6895 212.9586,-235.0774 218.3096,-239.5903\"/>\n",
       "</g>\n",
       "<!-- tau -->\n",
       "<g id=\"node5\" class=\"node\">\n",
       "<title>tau</title>\n",
       "<polygon fill=\"none\" stroke=\"#000000\" points=\"293,-158 171,-158 171,-122 293,-122 293,-158\"/>\n",
       "<text text-anchor=\"middle\" x=\"232\" y=\"-136.3\" font-family=\"Times,serif\" font-size=\"14.00\" fill=\"#000000\">tau ~ Deterministic</text>\n",
       "</g>\n",
       "<!-- tau_latent&#45;&gt;tau -->\n",
       "<g id=\"edge3\" class=\"edge\">\n",
       "<title>tau_latent&#45;&gt;tau</title>\n",
       "<path fill=\"none\" stroke=\"#000000\" d=\"M235.7383,-193.8314C235.2035,-186.131 234.5677,-176.9743 233.9734,-168.4166\"/>\n",
       "<polygon fill=\"#000000\" stroke=\"#000000\" points=\"237.4632,-168.1467 233.2787,-158.4133 230.48,-168.6317 237.4632,-168.1467\"/>\n",
       "</g>\n",
       "<!-- tau&#45;&gt;obs -->\n",
       "<g id=\"edge4\" class=\"edge\">\n",
       "<title>tau&#45;&gt;obs</title>\n",
       "<path fill=\"none\" stroke=\"#000000\" d=\"M215.5091,-121.9902C204.8801,-110.3822 190.9034,-95.1182 179.1662,-82.3\"/>\n",
       "<polygon fill=\"#000000\" stroke=\"#000000\" points=\"181.5322,-79.7011 172.1976,-74.6895 176.3695,-84.4284 181.5322,-79.7011\"/>\n",
       "</g>\n",
       "</g>\n",
       "</svg>\n"
      ],
      "text/plain": [
       "<graphviz.dot.Digraph at 0x7fb1a6f15160>"
      ]
     },
     "execution_count": 107,
     "metadata": {},
     "output_type": "execute_result"
    }
   ],
   "source": [
    "pm.model_to_graphviz(model)"
   ]
  },
  {
   "cell_type": "code",
   "execution_count": 108,
   "metadata": {},
   "outputs": [
    {
     "name": "stderr",
     "output_type": "stream",
     "text": [
      "  0%|          | 0/100000 [00:00<?, ?it/s]/home/abuzarmahmood/anaconda3/lib/python3.6/site-packages/theano/tensor/subtensor.py:2197: FutureWarning: Using a non-tuple sequence for multidimensional indexing is deprecated; use `arr[tuple(seq)]` instead of `arr[seq]`. In the future this will be interpreted as an array index, `arr[np.array(seq)]`, which will result either in an error or a different result.\n",
      "  rval = inputs[0].__getitem__(inputs[1:])\n",
      "Average Loss = 10,189: 100%|██████████| 100000/100000 [02:57<00:00, 561.90it/s]\n",
      "Finished [100%]: Average Loss = 10,189\n"
     ]
    }
   ],
   "source": [
    "with model:\n",
    "    inference = pm.ADVI('full-rank')\n",
    "    approx = pm.fit(n=fit, method=inference,\n",
    "                   random_seed = 3,\n",
    "                   obj_n_mc = 1)\n",
    "    trace = approx.sample(draws=samples)"
   ]
  },
  {
   "cell_type": "code",
   "execution_count": 109,
   "metadata": {},
   "outputs": [
    {
     "data": {
      "image/png": "[encoded data removed]",
      "text/plain": [
       "<Figure size 1080x360 with 2 Axes>"
      ]
     },
     "metadata": {
      "needs_background": "light"
     },
     "output_type": "display_data"
    }
   ],
   "source": [
    "fig,ax = plt.subplots(1,2,figsize=(15,5))\n",
    "ax[0].plot(-approx.hist, alpha=.3)\n",
    "ax[0].set_ylabel('ELBO')\n",
    "ax[0].set_xlabel('iteration');\n",
    "\n",
    "ind = int(fit - fit*0.05)\n",
    "ax[1].plot(-approx.hist[ind:], alpha=.3)\n",
    "ax[1].set_title('Final 5% of iterations')\n",
    "ax[1].set_ylabel('ELBO')\n",
    "ax[1].set_xlabel('iteration');"
   ]
  },
  {
   "cell_type": "code",
   "execution_count": 110,
   "metadata": {},
   "outputs": [
    {
     "name": "stderr",
     "output_type": "stream",
     "text": [
      "100%|██████████| 2000/2000 [00:05<00:00, 388.84it/s]\n"
     ]
    }
   ],
   "source": [
    "ppc = pm.sample_posterior_predictive(trace, samples = 2000, model = model)"
   ]
  },
  {
   "cell_type": "code",
   "execution_count": 111,
   "metadata": {},
   "outputs": [],
   "source": [
    "trial_count = 5\n",
    "trial_inds = np.random.choice(np.arange(trials),5)"
   ]
  },
  {
   "cell_type": "code",
   "execution_count": 112,
   "metadata": {},
   "outputs": [
    {
     "data": {
      "image/png": "[encoded data removed]",
      "text/plain": [
       "<Figure size 432x288 with 6 Axes>"
      ]
     },
     "metadata": {
      "needs_background": "light"
     },
     "output_type": "display_data"
    },
    {
     "data": {
      "image/png": "[encoded data removed]",
      "text/plain": [
       "<Figure size 432x288 with 6 Axes>"
      ]
     },
     "metadata": {
      "needs_background": "light"
     },
     "output_type": "display_data"
    }
   ],
   "source": [
    "visualize.firing_overview(true_r[trial_inds],cmap='viridis');\n",
    "visualize.firing_overview(np.mean(ppc['obs'],axis=0)[trial_inds],cmap='viridis');"
   ]
  },
  {
   "cell_type": "code",
   "execution_count": 119,
   "metadata": {},
   "outputs": [
    {
     "name": "stdout",
     "output_type": "stream",
     "text": [
      "(2000, 30, 3)\n",
      "(30, 3)\n"
     ]
    }
   ],
   "source": [
    "#min_val,max_val = min(true_r),max(true_r)\n",
    "tau = trace['tau']\n",
    "lambda_mat = trace['lambda']\n",
    "mean_lambda = np.mean(lambda_mat,axis=0)\n",
    "print(tau.shape)\n",
    "mode_tau = stats.mode(np.vectorize(np.int)(tau),axis=0)[0][0]\n",
    "print(mode_tau.shape)"
   ]
  },
  {
   "cell_type": "code",
   "execution_count": 114,
   "metadata": {},
   "outputs": [
    {
     "data": {
      "image/png": "[encoded data removed]",
      "text/plain": [
       "<Figure size 1440x720 with 15 Axes>"
      ]
     },
     "metadata": {
      "needs_background": "light"
     },
     "output_type": "display_data"
    }
   ],
   "source": [
    "fig,ax = plt.subplots(3,trial_count,sharex=True,figsize=(20,10))\n",
    "for trial_num,this_trial_ind in enumerate(trial_inds):\n",
    "    ax[0,trial_num].imshow(true_r[this_trial_ind],aspect='auto')\n",
    "    ax[1,trial_num].imshow(data_array[this_trial_ind],aspect='auto')\n",
    "    \n",
    "    for tau_num, this_tau in enumerate(tau[:,this_trial_ind].T):\n",
    "        ax[2,trial_num].hist(this_tau,bins=50)\n",
    "        ax[0,trial_num].vlines(mode_tau[this_trial_ind,tau_num],-0.5,nrns-0.5,color='red',alpha=1,linewidth=5, linestyles='dashed')"
   ]
  },
  {
   "cell_type": "code",
   "execution_count": 115,
   "metadata": {},
   "outputs": [
    {
     "data": {
      "image/png": "[encoded data removed]",
      "text/plain": [
       "<Figure size 432x288 with 1 Axes>"
      ]
     },
     "metadata": {
      "needs_background": "light"
     },
     "output_type": "display_data"
    }
   ],
   "source": [
    "# Check variances of overall changepoint distribution\n",
    "tau_vars = [np.round(np.std(x.flatten()),1) for x in tau.T]\n",
    "for num, tau_vals in enumerate(tau.T):\n",
    "    plt.hist(tau_vals.flatten(), label = num,bins=20)\n",
    "    plt.title(tau_vars)"
   ]
  },
  {
   "cell_type": "code",
   "execution_count": 125,
   "metadata": {},
   "outputs": [],
   "source": [
    "# Per trial variance of tau\n",
    "tau_trial_vars = np.std(tau,axis=0)\n",
    "tau_trial_mean_vars = np.mean(tau_trial_vars,axis=0)"
   ]
  },
  {
   "cell_type": "code",
   "execution_count": 118,
   "metadata": {},
   "outputs": [
    {
     "data": {
      "image/png": "[encoded data removed]",
      "text/plain": [
       "<Figure size 432x288 with 1 Axes>"
      ]
     },
     "metadata": {
      "needs_background": "light"
     },
     "output_type": "display_data"
    }
   ],
   "source": [
    "plt.boxplot(tau_trial_vars);"
   ]
  },
  {
   "cell_type": "code",
   "execution_count": 128,
   "metadata": {},
   "outputs": [
    {
     "data": {
      "image/png": "[encoded data removed]",
      "text/plain": [
       "<Figure size 432x288 with 1 Axes>"
      ]
     },
     "metadata": {
      "needs_background": "light"
     },
     "output_type": "display_data"
    }
   ],
   "source": [
    "plt.imshow(mean_lambda)\n",
    "lambda_diff_norm = np.linalg.norm(np.diff(mean_lambda,axis=-1),axis=0)"
   ]
  },
  {
   "cell_type": "code",
   "execution_count": 129,
   "metadata": {},
   "outputs": [
    {
     "data": {
      "text/plain": [
       "<matplotlib.collections.PathCollection at 0x7fb1a7d15710>"
      ]
     },
     "execution_count": 129,
     "metadata": {},
     "output_type": "execute_result"
    },
    {
     "data": {
      "image/png": "[encoded data removed]",
      "text/plain": [
       "<Figure size 432x288 with 1 Axes>"
      ]
     },
     "metadata": {
      "needs_background": "light"
     },
     "output_type": "display_data"
    }
   ],
   "source": [
    "plt.scatter(lambda_diff_norm, tau_trial_mean_vars)"
   ]
  },
  {
   "cell_type": "code",
   "execution_count": null,
   "metadata": {},
   "outputs": [],
   "source": []
  }
 ],
 "metadata": {
  "kernelspec": {
   "display_name": "Python 3",
   "language": "python",
   "name": "python3"
  },
  "language_info": {
   "codemirror_mode": {
    "name": "ipython",
    "version": 3
   },
   "file_extension": ".py",
   "mimetype": "text/x-python",
   "name": "python",
   "nbconvert_exporter": "python",
   "pygments_lexer": "ipython3",
   "version": "3.6.10"
  }
 },
 "nbformat": 4,
 "nbformat_minor": 4
}
