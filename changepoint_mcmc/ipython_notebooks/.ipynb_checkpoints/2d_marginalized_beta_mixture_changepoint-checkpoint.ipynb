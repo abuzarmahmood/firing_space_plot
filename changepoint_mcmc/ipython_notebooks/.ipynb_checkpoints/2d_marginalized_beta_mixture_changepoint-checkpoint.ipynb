{
 "cells": [
  {
   "cell_type": "markdown",
   "metadata": {},
   "source": [
    "\"\"\"\n",
    "Generate data with specified changepoints\n",
    "Compare ELBO fits for changepoint model with different\n",
    "numbers of changepoints\n",
    "\"\"\""
   ]
  },
  {
   "cell_type": "code",
   "execution_count": 2,
   "metadata": {},
   "outputs": [],
   "source": [
    "import os\n",
    "import pickle\n",
    "import scipy.stats as stats\n",
    "import pymc3 as pm\n",
    "import theano.tensor as tt\n",
    "import numpy as np\n",
    "import pylab as plt\n",
    "from pymc3.variational.callbacks import CheckParametersConvergence\n",
    "from theano.tensor.extra_ops import cumsum\n",
    "from scipy.stats import beta"
   ]
  },
  {
   "cell_type": "code",
   "execution_count": 3,
   "metadata": {},
   "outputs": [
    {
     "name": "stdout",
     "output_type": "stream",
     "text": [
      "(30, 3)\n",
      "(29, 3)\n",
      "(30, 4)\n",
      "(2, 3)\n",
      "(30, 100)\n"
     ]
    },
    {
     "data": {
      "text/plain": [
       "<matplotlib.image.AxesImage at 0x7fe093ab1d30>"
      ]
     },
     "execution_count": 3,
     "metadata": {},
     "output_type": "execute_result"
    },
    {
     "data": {
      "image/png": "[encoded data removed]",
      "text/plain": [
       "<Figure size 720x720 with 4 Axes>"
      ]
     },
     "metadata": {
      "needs_background": "light"
     },
     "output_type": "display_data"
    }
   ],
   "source": [
    "# Some poisson spiking\n",
    "length = 100\n",
    "states = 3\n",
    "trials = 30\n",
    "fit = int(1e5)\n",
    "samples = 2000\n",
    "idx = np.arange(length)\n",
    "\n",
    "true_tau = np.cumsum(np.random.random((trials,states)),axis=-1)\n",
    "print(true_tau.shape)\n",
    "true_tau /= np.max(true_tau,axis=-1)[:,np.newaxis]\n",
    "true_tau *= length\n",
    "true_tau = np.vectorize(np.int)(true_tau)\n",
    "\n",
    "\n",
    "state_inds = np.concatenate([np.zeros((trials,1)),true_tau],axis=-1)\n",
    "state_inds = np.vectorize(np.int)(state_inds)\n",
    "true_tau = true_tau[:-1]\n",
    "\n",
    "n_components = 2\n",
    "true_lambda = np.random.random((n_components,states))\n",
    "\n",
    "print(true_tau.shape)\n",
    "print(state_inds.shape)\n",
    "print(true_lambda.shape)\n",
    "\n",
    "component_inds = np.random.choice(range(n_components), trials, p = [0.3,0.7])\n",
    "true_r = np.zeros((trials,length))\n",
    "for trial in range(trials):\n",
    "    for state in range(states):\n",
    "        true_r[trial, state_inds[trial,state]:state_inds[trial,state+1]] = \\\n",
    "                    true_lambda[component_inds[trial],state]\n",
    "  \n",
    "data_vec = np.random.random(true_r.shape) < true_r\n",
    "#data_vec = stats.poisson.rvs(true_r)\n",
    "print(data_vec.shape)\n",
    "#data_vec = np.random.poisson(true_r)\n",
    "\n",
    "fig,ax = plt.subplots(2,2,figsize=(10,10))\n",
    "ax[0,0].imshow(true_r,aspect='auto',origin='lower',vmin=0,vmax=1)\n",
    "ax[0,1].plot(component_inds, np.arange(trials),'-x')\n",
    "ax[1,0].imshow(data_vec,aspect='auto',origin='lower')\n",
    "# ax[1].set_ylabel(\"True Rate\")\n",
    "# ax[2].set_ylabel(\"Spikes\")"
   ]
  },
  {
   "cell_type": "code",
   "execution_count": 4,
   "metadata": {},
   "outputs": [
    {
     "name": "stdout",
     "output_type": "stream",
     "text": [
      "[0.30196078 0.57777778 0.74545455]\n"
     ]
    }
   ],
   "source": [
    "mean_vals = np.array([np.mean(x,axis=(0,-1)) for x in np.array_split(data_vec,states,axis=-1)]).T\n",
    "print(mean_vals)"
   ]
  },
  {
   "cell_type": "code",
   "execution_count": 5,
   "metadata": {},
   "outputs": [],
   "source": [
    "with pm.Model() as model:\n",
    "    alpha_w = pm.Gamma('alpha_w',7.5,1,shape = n_components)\n",
    "    w = pm.Dirichlet('w', a=alpha_w, shape = (trials,n_components))\n",
    "    #w = pm.Dirichlet('w', a=np.ones(n_components)*5, shape = (trials,n_components))\n",
    "    \n",
    "    alphas = pm.HalfCauchy('alphas',5,shape=(2,3))\n",
    "    betas = pm.HalfCauchy('betas',5,shape=(2,3))\n",
    "    clust0_lambda = tt.stack([pm.Beta('l00',alphas[0,0], betas[0,0]),\n",
    "                             pm.Beta('l01',alphas[0,1], betas[0,1]),\n",
    "                             pm.Beta('l02',alphas[0,2], betas[0,2])])\n",
    "    clust1_lambda = tt.stack([pm.Beta('l10',alphas[1,0], betas[1,0]),\n",
    "                             pm.Beta('l11',alphas[1,1], betas[1,1]),\n",
    "                             pm.Beta('l12',alphas[1,2], betas[1,2])])\n",
    "    lambdas = tt.stack([clust0_lambda,clust1_lambda])\n",
    "    \n",
    "    #lambda0 = pm.Beta('l00',alphas[0,0], betas[0,0])*w[0] + pm.Beta('l10',alphas[1,0], betas[1,0])*w[1]\n",
    "    #lambda1 = pm.Beta('l01',alphas[0,1], betas[0,1])*w[0] + pm.Beta('l11',alphas[1,1], betas[1,1])*w[1]\n",
    "    #lambda2 = pm.Beta('l02',alphas[0,2], betas[0,2])*w[0] + pm.Beta('l12',alphas[1,2], betas[1,2])*w[1]\n",
    "    #lambdas = tt.stack([lambda0,lambda1,lambda2])\n",
    "    #components = [[pm.Beta.dist(alphas[comp,state], betas[comp,state]) for comp in range(comps)] for state in range(states)]\n",
    "    #mixes = tt.stack([pm.Mixture(f'mixes{num}', w=w, comp_dists = this_comp, testval = mean_vals[num]) for num,this_comp in enumerate(components)])"
   ]
  },
  {
   "cell_type": "code",
   "execution_count": 8,
   "metadata": {},
   "outputs": [],
   "source": [
    "with model:   \n",
    "    a = pm.HalfCauchy('a_tau', 3., shape = states - 1)\n",
    "    b = pm.HalfCauchy('b_tau', 3., shape = states - 1)\n",
    "    \n",
    "    even_switches = np.linspace(0,1,states+1)[1:-1]\n",
    "    tau_latent = pm.Beta('tau_latent', a, b, \n",
    "                         testval = even_switches,\n",
    "                         shape = (trials,states-1)).sort(axis=-1)    \n",
    "    \n",
    "    tau = pm.Deterministic('tau', \n",
    "            idx.min() + (idx.max() - idx.min()) * tau_latent)"
   ]
  },
  {
   "cell_type": "code",
   "execution_count": 10,
   "metadata": {},
   "outputs": [],
   "source": [
    "with model:   \n",
    "    weight_stack = tt.nnet.sigmoid(idx[np.newaxis, np.newaxis, :]-tau[:,:,np.newaxis])\n",
    "    weight_stack_shape = weight_stack.tag.test_value.shape\n",
    "    weight_stack = tt.concatenate([np.ones((weight_stack_shape[0],1,weight_stack_shape[-1])),weight_stack],axis=1)\n",
    "    inverse_stack = 1 - weight_stack[:,1:]\n",
    "    inverse_stack = tt.concatenate([inverse_stack, np.ones((weight_stack_shape[0],1,weight_stack_shape[-1]))],axis=1)\n",
    "    weight_stack = np.multiply(weight_stack,inverse_stack)"
   ]
  },
  {
   "cell_type": "code",
   "execution_count": 14,
   "metadata": {},
   "outputs": [
    {
     "name": "stdout",
     "output_type": "stream",
     "text": [
      "(30, 3, 1)\n"
     ]
    }
   ],
   "source": [
    "with model:\n",
    "    selected_lambdas = tt.tensordot(w,lambdas,[1,0])[:,:,np.newaxis]\n",
    "    lambda_ = tt.sum(selected_lambdas*weight_stack,axis=1)\n",
    "    observation = pm.Bernoulli(\"obs\", lambda_, observed=data_vec)"
   ]
  },
  {
   "cell_type": "code",
   "execution_count": 19,
   "metadata": {},
   "outputs": [
    {
     "data": {
      "image/svg+xml": [
       "<?xml version=\"1.0\" encoding=\"UTF-8\" standalone=\"no\"?>\n",
       "<!DOCTYPE svg PUBLIC \"-//W3C//DTD SVG 1.1//EN\"\n",
       " \"http://www.w3.org/Graphics/SVG/1.1/DTD/svg11.dtd\">\n",
       "<!-- Generated by graphviz version 2.40.1 (20161225.0304)\n",
       " -->\n",
       "<!-- Title: %3 Pages: 1 -->\n",
       "<svg width=\"1175pt\" height=\"340pt\"\n",
       " viewBox=\"0.00 0.00 1175.10 340.00\" xmlns=\"http://www.w3.org/2000/svg\" xmlns:xlink=\"http://www.w3.org/1999/xlink\">\n",
       "<g id=\"graph0\" class=\"graph\" transform=\"scale(1 1) rotate(0) translate(4 336)\">\n",
       "<title>%3</title>\n",
       "<polygon fill=\"#ffffff\" stroke=\"transparent\" points=\"-4,4 -4,-336 1171.0957,-336 1171.0957,4 -4,4\"/>\n",
       "<g id=\"clust1\" class=\"cluster\">\n",
       "<title>cluster2</title>\n",
       "<path fill=\"none\" stroke=\"#000000\" d=\"M20,-249C20,-249 535,-249 535,-249 541,-249 547,-255 547,-261 547,-261 547,-312 547,-312 547,-318 541,-324 535,-324 535,-324 20,-324 20,-324 14,-324 8,-318 8,-312 8,-312 8,-261 8,-261 8,-255 14,-249 20,-249\"/>\n",
       "<text text-anchor=\"middle\" x=\"535.5\" y=\"-256.8\" font-family=\"Times,serif\" font-size=\"14.00\" fill=\"#000000\">2</text>\n",
       "</g>\n",
       "<g id=\"clust2\" class=\"cluster\">\n",
       "<title>cluster30 x 2</title>\n",
       "<path fill=\"none\" stroke=\"#000000\" d=\"M213,-91C213,-91 481,-91 481,-91 487,-91 493,-97 493,-103 493,-103 493,-229 493,-229 493,-235 487,-241 481,-241 481,-241 213,-241 213,-241 207,-241 201,-235 201,-229 201,-229 201,-103 201,-103 201,-97 207,-91 213,-91\"/>\n",
       "<text text-anchor=\"middle\" x=\"467.5\" y=\"-98.8\" font-family=\"Times,serif\" font-size=\"14.00\" fill=\"#000000\">30 x 2</text>\n",
       "</g>\n",
       "<g id=\"clust3\" class=\"cluster\">\n",
       "<title>cluster2 x 3</title>\n",
       "<path fill=\"none\" stroke=\"#000000\" d=\"M665,-166C665,-166 1007,-166 1007,-166 1013,-166 1019,-172 1019,-178 1019,-178 1019,-229 1019,-229 1019,-235 1013,-241 1007,-241 1007,-241 665,-241 665,-241 659,-241 653,-235 653,-229 653,-229 653,-178 653,-178 653,-172 659,-166 665,-166\"/>\n",
       "<text text-anchor=\"middle\" x=\"997\" y=\"-173.8\" font-family=\"Times,serif\" font-size=\"14.00\" fill=\"#000000\">2 x 3</text>\n",
       "</g>\n",
       "<g id=\"clust4\" class=\"cluster\">\n",
       "<title>cluster30 x 100</title>\n",
       "<path fill=\"none\" stroke=\"#000000\" d=\"M658,-8C658,-8 782,-8 782,-8 788,-8 794,-14 794,-20 794,-20 794,-71 794,-71 794,-77 788,-83 782,-83 782,-83 658,-83 658,-83 652,-83 646,-77 646,-71 646,-71 646,-20 646,-20 646,-14 652,-8 658,-8\"/>\n",
       "<text text-anchor=\"middle\" x=\"761.5\" y=\"-15.8\" font-family=\"Times,serif\" font-size=\"14.00\" fill=\"#000000\">30 x 100</text>\n",
       "</g>\n",
       "<!-- b_tau -->\n",
       "<g id=\"node1\" class=\"node\">\n",
       "<title>b_tau</title>\n",
       "<ellipse fill=\"none\" stroke=\"#000000\" cx=\"280\" cy=\"-298\" rx=\"82.5854\" ry=\"18\"/>\n",
       "<text text-anchor=\"middle\" x=\"280\" y=\"-294.3\" font-family=\"Times,serif\" font-size=\"14.00\" fill=\"#000000\">b_tau ~ HalfCauchy</text>\n",
       "</g>\n",
       "<!-- tau_latent -->\n",
       "<g id=\"node6\" class=\"node\">\n",
       "<title>tau_latent</title>\n",
       "<ellipse fill=\"none\" stroke=\"#000000\" cx=\"280\" cy=\"-215\" rx=\"71.4873\" ry=\"18\"/>\n",
       "<text text-anchor=\"middle\" x=\"280\" y=\"-211.3\" font-family=\"Times,serif\" font-size=\"14.00\" fill=\"#000000\">tau_latent ~ Beta</text>\n",
       "</g>\n",
       "<!-- b_tau&#45;&gt;tau_latent -->\n",
       "<g id=\"edge14\" class=\"edge\">\n",
       "<title>b_tau&#45;&gt;tau_latent</title>\n",
       "<path fill=\"none\" stroke=\"#000000\" d=\"M280,-279.9902C280,-269.2963 280,-255.4994 280,-243.3706\"/>\n",
       "<polygon fill=\"#000000\" stroke=\"#000000\" points=\"283.5001,-243.2612 280,-233.2612 276.5001,-243.2613 283.5001,-243.2612\"/>\n",
       "</g>\n",
       "<!-- alpha_w -->\n",
       "<g id=\"node2\" class=\"node\">\n",
       "<title>alpha_w</title>\n",
       "<ellipse fill=\"none\" stroke=\"#000000\" cx=\"460\" cy=\"-298\" rx=\"79.0865\" ry=\"18\"/>\n",
       "<text text-anchor=\"middle\" x=\"460\" y=\"-294.3\" font-family=\"Times,serif\" font-size=\"14.00\" fill=\"#000000\">alpha_w ~ Gamma</text>\n",
       "</g>\n",
       "<!-- w -->\n",
       "<g id=\"node5\" class=\"node\">\n",
       "<title>w</title>\n",
       "<ellipse fill=\"none\" stroke=\"#000000\" cx=\"427\" cy=\"-215\" rx=\"57.6901\" ry=\"18\"/>\n",
       "<text text-anchor=\"middle\" x=\"427\" y=\"-211.3\" font-family=\"Times,serif\" font-size=\"14.00\" fill=\"#000000\">w ~ Dirichlet</text>\n",
       "</g>\n",
       "<!-- alpha_w&#45;&gt;w -->\n",
       "<g id=\"edge1\" class=\"edge\">\n",
       "<title>alpha_w&#45;&gt;w</title>\n",
       "<path fill=\"none\" stroke=\"#000000\" d=\"M452.8395,-279.9902C448.4719,-269.005 442.8024,-254.7455 437.8873,-242.3833\"/>\n",
       "<polygon fill=\"#000000\" stroke=\"#000000\" points=\"441.0936,-240.974 434.1465,-232.9746 434.5888,-243.5602 441.0936,-240.974\"/>\n",
       "</g>\n",
       "<!-- a_tau -->\n",
       "<g id=\"node3\" class=\"node\">\n",
       "<title>a_tau</title>\n",
       "<ellipse fill=\"none\" stroke=\"#000000\" cx=\"98\" cy=\"-298\" rx=\"81.7856\" ry=\"18\"/>\n",
       "<text text-anchor=\"middle\" x=\"98\" y=\"-294.3\" font-family=\"Times,serif\" font-size=\"14.00\" fill=\"#000000\">a_tau ~ HalfCauchy</text>\n",
       "</g>\n",
       "<!-- a_tau&#45;&gt;tau_latent -->\n",
       "<g id=\"edge15\" class=\"edge\">\n",
       "<title>a_tau&#45;&gt;tau_latent</title>\n",
       "<path fill=\"none\" stroke=\"#000000\" d=\"M126.6415,-281.0241C144.0623,-271.0495 166.9418,-258.5631 188,-249 200.4785,-243.3332 214.2042,-237.8689 227.1595,-233.04\"/>\n",
       "<polygon fill=\"#000000\" stroke=\"#000000\" points=\"228.6968,-236.2043 236.8829,-229.4783 226.2891,-229.6314 228.6968,-236.2043\"/>\n",
       "</g>\n",
       "<!-- tau -->\n",
       "<g id=\"node4\" class=\"node\">\n",
       "<title>tau</title>\n",
       "<polygon fill=\"none\" stroke=\"#000000\" points=\"393,-158 271,-158 271,-122 393,-122 393,-158\"/>\n",
       "<text text-anchor=\"middle\" x=\"332\" y=\"-136.3\" font-family=\"Times,serif\" font-size=\"14.00\" fill=\"#000000\">tau ~ Deterministic</text>\n",
       "</g>\n",
       "<!-- obs -->\n",
       "<g id=\"node15\" class=\"node\">\n",
       "<title>obs</title>\n",
       "<ellipse fill=\"#d3d3d3\" stroke=\"#000000\" cx=\"720\" cy=\"-57\" rx=\"65.7887\" ry=\"18\"/>\n",
       "<text text-anchor=\"middle\" x=\"720\" y=\"-53.3\" font-family=\"Times,serif\" font-size=\"14.00\" fill=\"#000000\">obs ~ Bernoulli</text>\n",
       "</g>\n",
       "<!-- tau&#45;&gt;obs -->\n",
       "<g id=\"edge19\" class=\"edge\">\n",
       "<title>tau&#45;&gt;obs</title>\n",
       "<path fill=\"none\" stroke=\"#000000\" d=\"M363.7401,-121.768C383.8188,-111.0743 410.6779,-98.274 436,-91 474.2687,-80.0069 576.0347,-69.4448 646.7296,-63.0873\"/>\n",
       "<polygon fill=\"#000000\" stroke=\"#000000\" points=\"647.2728,-66.5529 656.9233,-62.1803 646.6524,-59.5805 647.2728,-66.5529\"/>\n",
       "</g>\n",
       "<!-- w&#45;&gt;obs -->\n",
       "<g id=\"edge23\" class=\"edge\">\n",
       "<title>w&#45;&gt;obs</title>\n",
       "<path fill=\"none\" stroke=\"#000000\" d=\"M430.9983,-196.7886C438.1094,-169.0625 455.747,-116.7724 492,-91 516.1168,-73.8553 588.4446,-65.1729 645.2414,-60.8971\"/>\n",
       "<polygon fill=\"#000000\" stroke=\"#000000\" points=\"645.5672,-64.3827 655.2901,-60.1737 645.0645,-57.4008 645.5672,-64.3827\"/>\n",
       "</g>\n",
       "<!-- tau_latent&#45;&gt;tau -->\n",
       "<g id=\"edge16\" class=\"edge\">\n",
       "<title>tau_latent&#45;&gt;tau</title>\n",
       "<path fill=\"none\" stroke=\"#000000\" d=\"M292.3233,-197.226C298.7054,-188.0211 306.6244,-176.5994 313.7053,-166.3866\"/>\n",
       "<polygon fill=\"#000000\" stroke=\"#000000\" points=\"316.5824,-168.3796 319.404,-158.1674 310.8298,-164.3911 316.5824,-168.3796\"/>\n",
       "</g>\n",
       "<!-- alphas -->\n",
       "<g id=\"node7\" class=\"node\">\n",
       "<title>alphas</title>\n",
       "<ellipse fill=\"none\" stroke=\"#000000\" cx=\"926\" cy=\"-215\" rx=\"85.2851\" ry=\"18\"/>\n",
       "<text text-anchor=\"middle\" x=\"926\" y=\"-211.3\" font-family=\"Times,serif\" font-size=\"14.00\" fill=\"#000000\">alphas ~ HalfCauchy</text>\n",
       "</g>\n",
       "<!-- l00 -->\n",
       "<g id=\"node9\" class=\"node\">\n",
       "<title>l00</title>\n",
       "<ellipse fill=\"none\" stroke=\"#000000\" cx=\"777\" cy=\"-140\" rx=\"48.1917\" ry=\"18\"/>\n",
       "<text text-anchor=\"middle\" x=\"777\" y=\"-136.3\" font-family=\"Times,serif\" font-size=\"14.00\" fill=\"#000000\">l00 ~ Beta</text>\n",
       "</g>\n",
       "<!-- alphas&#45;&gt;l00 -->\n",
       "<g id=\"edge2\" class=\"edge\">\n",
       "<title>alphas&#45;&gt;l00</title>\n",
       "<path fill=\"none\" stroke=\"#000000\" d=\"M894.3945,-198.134C876.2298,-188.5389 852.9321,-176.3984 832,-166 827.0341,-163.5331 821.7918,-160.9845 816.5954,-158.4915\"/>\n",
       "<polygon fill=\"#000000\" stroke=\"#000000\" points=\"817.8943,-155.2335 807.361,-154.0938 814.8846,-161.5535 817.8943,-155.2335\"/>\n",
       "</g>\n",
       "<!-- l12 -->\n",
       "<g id=\"node10\" class=\"node\">\n",
       "<title>l12</title>\n",
       "<ellipse fill=\"none\" stroke=\"#000000\" cx=\"891\" cy=\"-140\" rx=\"48.1917\" ry=\"18\"/>\n",
       "<text text-anchor=\"middle\" x=\"891\" y=\"-136.3\" font-family=\"Times,serif\" font-size=\"14.00\" fill=\"#000000\">l12 ~ Beta</text>\n",
       "</g>\n",
       "<!-- alphas&#45;&gt;l12 -->\n",
       "<g id=\"edge12\" class=\"edge\">\n",
       "<title>alphas&#45;&gt;l12</title>\n",
       "<path fill=\"none\" stroke=\"#000000\" d=\"M917.5275,-196.8446C913.3573,-187.9086 908.2454,-176.9544 903.6259,-167.0554\"/>\n",
       "<polygon fill=\"#000000\" stroke=\"#000000\" points=\"906.7951,-165.5699 899.3945,-157.9882 900.4518,-168.5302 906.7951,-165.5699\"/>\n",
       "</g>\n",
       "<!-- l11 -->\n",
       "<g id=\"node11\" class=\"node\">\n",
       "<title>l11</title>\n",
       "<ellipse fill=\"none\" stroke=\"#000000\" cx=\"1005\" cy=\"-140\" rx=\"48.1917\" ry=\"18\"/>\n",
       "<text text-anchor=\"middle\" x=\"1005\" y=\"-136.3\" font-family=\"Times,serif\" font-size=\"14.00\" fill=\"#000000\">l11 ~ Beta</text>\n",
       "</g>\n",
       "<!-- alphas&#45;&gt;l11 -->\n",
       "<g id=\"edge10\" class=\"edge\">\n",
       "<title>alphas&#45;&gt;l11</title>\n",
       "<path fill=\"none\" stroke=\"#000000\" d=\"M944.7219,-197.226C955.1763,-187.3009 968.3454,-174.7986 979.7059,-164.0134\"/>\n",
       "<polygon fill=\"#000000\" stroke=\"#000000\" points=\"982.3837,-166.2972 987.2262,-156.8738 977.5641,-161.2206 982.3837,-166.2972\"/>\n",
       "</g>\n",
       "<!-- l01 -->\n",
       "<g id=\"node12\" class=\"node\">\n",
       "<title>l01</title>\n",
       "<ellipse fill=\"none\" stroke=\"#000000\" cx=\"1119\" cy=\"-140\" rx=\"48.1917\" ry=\"18\"/>\n",
       "<text text-anchor=\"middle\" x=\"1119\" y=\"-136.3\" font-family=\"Times,serif\" font-size=\"14.00\" fill=\"#000000\">l01 ~ Beta</text>\n",
       "</g>\n",
       "<!-- alphas&#45;&gt;l01 -->\n",
       "<g id=\"edge4\" class=\"edge\">\n",
       "<title>alphas&#45;&gt;l01</title>\n",
       "<path fill=\"none\" stroke=\"#000000\" d=\"M966.9303,-199.0944C998.9189,-186.6636 1043.2656,-169.4305 1075.8163,-156.7812\"/>\n",
       "<polygon fill=\"#000000\" stroke=\"#000000\" points=\"1077.4597,-159.8977 1085.5129,-153.0131 1074.9241,-153.373 1077.4597,-159.8977\"/>\n",
       "</g>\n",
       "<!-- l02 -->\n",
       "<g id=\"node13\" class=\"node\">\n",
       "<title>l02</title>\n",
       "<ellipse fill=\"none\" stroke=\"#000000\" cx=\"549\" cy=\"-140\" rx=\"48.1917\" ry=\"18\"/>\n",
       "<text text-anchor=\"middle\" x=\"549\" y=\"-136.3\" font-family=\"Times,serif\" font-size=\"14.00\" fill=\"#000000\">l02 ~ Beta</text>\n",
       "</g>\n",
       "<!-- alphas&#45;&gt;l02 -->\n",
       "<g id=\"edge6\" class=\"edge\">\n",
       "<title>alphas&#45;&gt;l02</title>\n",
       "<path fill=\"none\" stroke=\"#000000\" d=\"M900.5432,-197.7397C882.3216,-186.4109 856.7346,-172.5258 832,-166 783.409,-153.1802 655.5239,-166.5333 606,-158 601.8581,-157.2863 597.6002,-156.348 593.3665,-155.2739\"/>\n",
       "<polygon fill=\"#000000\" stroke=\"#000000\" points=\"594.1699,-151.8646 583.5981,-152.5631 592.2981,-158.6097 594.1699,-151.8646\"/>\n",
       "</g>\n",
       "<!-- l10 -->\n",
       "<g id=\"node14\" class=\"node\">\n",
       "<title>l10</title>\n",
       "<ellipse fill=\"none\" stroke=\"#000000\" cx=\"663\" cy=\"-140\" rx=\"48.1917\" ry=\"18\"/>\n",
       "<text text-anchor=\"middle\" x=\"663\" y=\"-136.3\" font-family=\"Times,serif\" font-size=\"14.00\" fill=\"#000000\">l10 ~ Beta</text>\n",
       "</g>\n",
       "<!-- alphas&#45;&gt;l10 -->\n",
       "<g id=\"edge8\" class=\"edge\">\n",
       "<title>alphas&#45;&gt;l10</title>\n",
       "<path fill=\"none\" stroke=\"#000000\" d=\"M900.0721,-197.7753C881.8426,-186.6171 856.4364,-172.9188 832,-166 783.983,-152.4046 769.0197,-167.356 720,-158 715.929,-157.223 711.7409,-156.2503 707.5713,-155.162\"/>\n",
       "<polygon fill=\"#000000\" stroke=\"#000000\" points=\"708.5143,-151.7915 697.9399,-152.4502 706.6171,-158.5295 708.5143,-151.7915\"/>\n",
       "</g>\n",
       "<!-- betas -->\n",
       "<g id=\"node8\" class=\"node\">\n",
       "<title>betas</title>\n",
       "<ellipse fill=\"none\" stroke=\"#000000\" cx=\"742\" cy=\"-215\" rx=\"81.4863\" ry=\"18\"/>\n",
       "<text text-anchor=\"middle\" x=\"742\" y=\"-211.3\" font-family=\"Times,serif\" font-size=\"14.00\" fill=\"#000000\">betas ~ HalfCauchy</text>\n",
       "</g>\n",
       "<!-- betas&#45;&gt;l00 -->\n",
       "<g id=\"edge3\" class=\"edge\">\n",
       "<title>betas&#45;&gt;l00</title>\n",
       "<path fill=\"none\" stroke=\"#000000\" d=\"M750.4725,-196.8446C754.6427,-187.9086 759.7546,-176.9544 764.3741,-167.0554\"/>\n",
       "<polygon fill=\"#000000\" stroke=\"#000000\" points=\"767.5482,-168.5302 768.6055,-157.9882 761.2049,-165.5699 767.5482,-168.5302\"/>\n",
       "</g>\n",
       "<!-- betas&#45;&gt;l12 -->\n",
       "<g id=\"edge13\" class=\"edge\">\n",
       "<title>betas&#45;&gt;l12</title>\n",
       "<path fill=\"none\" stroke=\"#000000\" d=\"M771.6722,-198.0335C789.063,-188.2947 811.563,-176.0447 832,-166 837.6696,-163.2134 843.7068,-160.3919 849.6742,-157.6861\"/>\n",
       "<polygon fill=\"#000000\" stroke=\"#000000\" points=\"851.2278,-160.8255 858.9309,-153.5513 848.3729,-154.4341 851.2278,-160.8255\"/>\n",
       "</g>\n",
       "<!-- betas&#45;&gt;l11 -->\n",
       "<g id=\"edge11\" class=\"edge\">\n",
       "<title>betas&#45;&gt;l11</title>\n",
       "<path fill=\"none\" stroke=\"#000000\" d=\"M766.7142,-197.7456C784.1188,-186.5743 808.4303,-172.8724 832,-166 881.6121,-151.5342 897.2265,-167.6262 948,-158 952.072,-157.228 956.2607,-156.2588 960.4307,-155.1727\"/>\n",
       "<polygon fill=\"#000000\" stroke=\"#000000\" points=\"961.3836,-158.5405 970.0627,-152.4641 959.4886,-151.8019 961.3836,-158.5405\"/>\n",
       "</g>\n",
       "<!-- betas&#45;&gt;l01 -->\n",
       "<g id=\"edge5\" class=\"edge\">\n",
       "<title>betas&#45;&gt;l01</title>\n",
       "<path fill=\"none\" stroke=\"#000000\" d=\"M766.2652,-197.7339C783.6617,-186.4025 808.145,-172.5166 832,-166 881.3344,-152.5231 1011.598,-166.6686 1062,-158 1066.1421,-157.2876 1070.4002,-156.3501 1074.634,-155.2766\"/>\n",
       "<polygon fill=\"#000000\" stroke=\"#000000\" points=\"1075.702,-158.6125 1084.4025,-152.5666 1073.8307,-151.8673 1075.702,-158.6125\"/>\n",
       "</g>\n",
       "<!-- betas&#45;&gt;l02 -->\n",
       "<g id=\"edge7\" class=\"edge\">\n",
       "<title>betas&#45;&gt;l02</title>\n",
       "<path fill=\"none\" stroke=\"#000000\" d=\"M701.5409,-199.2775C669.586,-186.8598 625.0847,-169.5666 592.393,-156.8626\"/>\n",
       "<polygon fill=\"#000000\" stroke=\"#000000\" points=\"593.2421,-153.4376 582.6534,-153.0777 590.7066,-159.9623 593.2421,-153.4376\"/>\n",
       "</g>\n",
       "<!-- betas&#45;&gt;l10 -->\n",
       "<g id=\"edge9\" class=\"edge\">\n",
       "<title>betas&#45;&gt;l10</title>\n",
       "<path fill=\"none\" stroke=\"#000000\" d=\"M723.2781,-197.226C712.8237,-187.3009 699.6546,-174.7986 688.2941,-164.0134\"/>\n",
       "<polygon fill=\"#000000\" stroke=\"#000000\" points=\"690.4359,-161.2206 680.7738,-156.8738 685.6163,-166.2972 690.4359,-161.2206\"/>\n",
       "</g>\n",
       "<!-- l00&#45;&gt;obs -->\n",
       "<g id=\"edge17\" class=\"edge\">\n",
       "<title>l00&#45;&gt;obs</title>\n",
       "<path fill=\"none\" stroke=\"#000000\" d=\"M764.9118,-122.3978C757.1055,-111.0308 746.8073,-96.0352 738.0416,-83.2711\"/>\n",
       "<polygon fill=\"#000000\" stroke=\"#000000\" points=\"740.8136,-81.1249 732.2673,-74.8629 735.0433,-85.0877 740.8136,-81.1249\"/>\n",
       "</g>\n",
       "<!-- l12&#45;&gt;obs -->\n",
       "<g id=\"edge18\" class=\"edge\">\n",
       "<title>l12&#45;&gt;obs</title>\n",
       "<path fill=\"none\" stroke=\"#000000\" d=\"M874.9584,-122.933C864.2442,-112.4153 849.3463,-99.3829 834,-91 818.2423,-82.3924 800.0399,-75.7099 782.8705,-70.6378\"/>\n",
       "<polygon fill=\"#000000\" stroke=\"#000000\" points=\"783.4812,-67.1738 772.907,-67.835 781.5856,-73.9122 783.4812,-67.1738\"/>\n",
       "</g>\n",
       "<!-- l11&#45;&gt;obs -->\n",
       "<g id=\"edge20\" class=\"edge\">\n",
       "<title>l11&#45;&gt;obs</title>\n",
       "<path fill=\"none\" stroke=\"#000000\" d=\"M989.8069,-122.6607C979.2172,-111.7508 964.139,-98.3832 948,-91 921.0622,-78.6767 849.0375,-69.2364 793.0782,-63.4656\"/>\n",
       "<polygon fill=\"#000000\" stroke=\"#000000\" points=\"793.1318,-59.9533 782.8308,-62.4309 792.4285,-66.9179 793.1318,-59.9533\"/>\n",
       "</g>\n",
       "<!-- l01&#45;&gt;obs -->\n",
       "<g id=\"edge21\" class=\"edge\">\n",
       "<title>l01&#45;&gt;obs</title>\n",
       "<path fill=\"none\" stroke=\"#000000\" d=\"M1103.9228,-122.3989C1093.3821,-111.3785 1078.3148,-97.986 1062,-91 1015.6828,-71.1669 881.6346,-62.7046 795.7664,-59.242\"/>\n",
       "<polygon fill=\"#000000\" stroke=\"#000000\" points=\"795.6713,-55.7357 785.5427,-58.8441 795.399,-62.7304 795.6713,-55.7357\"/>\n",
       "</g>\n",
       "<!-- l02&#45;&gt;obs -->\n",
       "<g id=\"edge22\" class=\"edge\">\n",
       "<title>l02&#45;&gt;obs</title>\n",
       "<path fill=\"none\" stroke=\"#000000\" d=\"M565.0416,-122.933C575.7558,-112.4153 590.6537,-99.3829 606,-91 621.7577,-82.3924 639.9601,-75.7099 657.1295,-70.6378\"/>\n",
       "<polygon fill=\"#000000\" stroke=\"#000000\" points=\"658.4144,-73.9122 667.093,-67.835 656.5188,-67.1738 658.4144,-73.9122\"/>\n",
       "</g>\n",
       "<!-- l10&#45;&gt;obs -->\n",
       "<g id=\"edge24\" class=\"edge\">\n",
       "<title>l10&#45;&gt;obs</title>\n",
       "<path fill=\"none\" stroke=\"#000000\" d=\"M675.0882,-122.3978C682.8945,-111.0308 693.1927,-96.0352 701.9584,-83.2711\"/>\n",
       "<polygon fill=\"#000000\" stroke=\"#000000\" points=\"704.9567,-85.0877 707.7327,-74.8629 699.1864,-81.1249 704.9567,-85.0877\"/>\n",
       "</g>\n",
       "</g>\n",
       "</svg>\n"
      ],
      "text/plain": [
       "<graphviz.dot.Digraph at 0x7fe06ebe8cc0>"
      ]
     },
     "execution_count": 19,
     "metadata": {},
     "output_type": "execute_result"
    }
   ],
   "source": [
    "pm.model_to_graphviz(model)"
   ]
  },
  {
   "cell_type": "code",
   "execution_count": 20,
   "metadata": {},
   "outputs": [
    {
     "name": "stderr",
     "output_type": "stream",
     "text": [
      "  0%|          | 0/100000 [00:00<?, ?it/s]/home/abuzarmahmood/anaconda3/lib/python3.6/site-packages/theano/tensor/subtensor.py:2197: FutureWarning: Using a non-tuple sequence for multidimensional indexing is deprecated; use `arr[tuple(seq)]` instead of `arr[seq]`. In the future this will be interpreted as an array index, `arr[np.array(seq)]`, which will result either in an error or a different result.\n",
      "  rval = inputs[0].__getitem__(inputs[1:])\n",
      "Average Loss = 1,490.8: 100%|██████████| 100000/100000 [01:27<00:00, 1141.62it/s]\n",
      "Finished [100%]: Average Loss = 1,490.9\n"
     ]
    }
   ],
   "source": [
    "#with model:     \n",
    "#     #step = pm.Metropolis()\n",
    "#     step = pm.NUTS()\n",
    "#     trace = pm.sample(step=step)\n",
    "with model:\n",
    "    inference = pm.ADVI('full-rank')\n",
    "    approx = pm.fit(n=fit, method=inference,\n",
    "                   random_seed = 3,\n",
    "                   obj_n_mc = 1)\n",
    "    trace = approx.sample(draws=samples)"
   ]
  },
  {
   "cell_type": "code",
   "execution_count": 27,
   "metadata": {},
   "outputs": [
    {
     "data": {
      "text/plain": [
       "[<matplotlib.lines.Line2D at 0x7fe04f0001d0>]"
      ]
     },
     "execution_count": 27,
     "metadata": {},
     "output_type": "execute_result"
    },
    {
     "data": {
      "image/png": "[encoded data removed]",
      "text/plain": [
       "<Figure size 432x288 with 2 Axes>"
      ]
     },
     "metadata": {
      "needs_background": "light"
     },
     "output_type": "display_data"
    }
   ],
   "source": [
    "#pm.traceplot(trace);\n",
    "fig,ax = plt.subplots(2,1)\n",
    "ax[0].plot(-inference.hist)\n",
    "len_hist = len(-inference.hist)\n",
    "kern_len = 5000\n",
    "#ax[1].plot(-np.median(np.reshape(inference.hist[int(0.75*len_hist):],(-1,100)),axis=-1))\n",
    "ax[1].plot(np.convolve(inference.hist[int(0.75*len_hist):], np.ones(kern_len)/kern_len, mode='valid'))"
   ]
  },
  {
   "cell_type": "code",
   "execution_count": 110,
   "metadata": {},
   "outputs": [
    {
     "name": "stderr",
     "output_type": "stream",
     "text": [
      "100%|██████████| 2000/2000 [00:04<00:00, 435.18it/s]\n"
     ]
    }
   ],
   "source": [
    "with model:\n",
    "    ppc_trace = pm.sample_posterior_predictive(trace)\n",
    "mean_ppc_obs = np.mean(ppc_trace['obs'],axis=0)"
   ]
  },
  {
   "cell_type": "code",
   "execution_count": 112,
   "metadata": {},
   "outputs": [
    {
     "name": "stdout",
     "output_type": "stream",
     "text": [
      "(2000, 30, 2)\n",
      "(30, 2)\n"
     ]
    }
   ],
   "source": [
    "tau_samples = trace['tau']\n",
    "int_tau = np.vectorize(np.int)(tau_samples)\n",
    "mode_tau = stats.mode(int_tau,axis=0)[0][0]\n",
    "hist_tau = np.array([np.histogram(trial, bins = np.arange(20))[0] for trial in int_tau.swapaxes(0,1)])"
   ]
  },
  {
   "cell_type": "code",
   "execution_count": 114,
   "metadata": {},
   "outputs": [
    {
     "name": "stdout",
     "output_type": "stream",
     "text": [
      "(60000, 2)\n",
      "(2000, 30, 2)\n",
      "(30,)\n"
     ]
    }
   ],
   "source": [
    "w_samples = trace['w']\n",
    "w_samples_long = np.reshape(w_samples,(-1,w_samples.shape[-1]))\n",
    "mean_w = np.mean(w_samples,axis=0)\n",
    "categorical_w = np.argmax(mean_w,axis=-1)"
   ]
  },
  {
   "cell_type": "code",
   "execution_count": 115,
   "metadata": {},
   "outputs": [
    {
     "name": "stdout",
     "output_type": "stream",
     "text": [
      "[0.66666667 1.        ]\n"
     ]
    }
   ],
   "source": [
    "# cat_hist = np.array([np.histogram(trial,bins=np.arange(3))[0] for trial in cat_samples.swapaxes(0,1)])\n",
    "# #print(cat_hist)\n",
    "cat_accuracy_list = [np.sum(categorical_w==component_inds),\n",
    "                      np.sum((1-categorical_w)==component_inds)]\n",
    "model_ind = np.int(np.argmax(cat_accuracy_list))\n",
    "if model_ind:\n",
    "    categorical_w = 1-categorical_w\n",
    "cat_accuracy = cat_accuracy_list[model_ind]\n",
    "\n",
    "hist_out = np.histogram2d(*w_samples_long.T,bins=50)\n",
    "diag_vals = np.diag(np.flip(hist_out[0],axis=-1))\n",
    "\n",
    "components_hist = np.histogram(component_inds,np.arange(3))[0]\n",
    "components_hist = components_hist/np.max(components_hist)\n",
    "print(components_hist)"
   ]
  },
  {
   "cell_type": "code",
   "execution_count": 116,
   "metadata": {},
   "outputs": [
    {
     "data": {
      "text/plain": [
       "Text(0.5, 1.0, 'Inferred Component Weights')"
      ]
     },
     "execution_count": 116,
     "metadata": {},
     "output_type": "execute_result"
    },
    {
     "data": {
      "image/png": "[encoded data removed]",
      "text/plain": [
       "<Figure size 720x720 with 6 Axes>"
      ]
     },
     "metadata": {
      "needs_background": "light"
     },
     "output_type": "display_data"
    }
   ],
   "source": [
    "fig,ax = plt.subplots(2,3,figsize=(10,10), sharey=True)\n",
    "ax[0,0].imshow(true_r,aspect='auto',origin='lower',vmin=0,vmax=1)\n",
    "ax[0,1].plot(component_inds, np.arange(trials),'-x',label='Actual')\n",
    "ax[0,1].plot(categorical_w, np.arange(trials),'-x', label='Inferred')\n",
    "ax[0,1].set_title(f'Accuracy : {cat_accuracy}/{categorical_w.shape[0]}')\n",
    "ax[0,1].legend()\n",
    "for trial,val in enumerate(mode_tau):\n",
    "    ax[0,0].vlines(val, trial-0.5,trial+0.5, linewidth = 5, color='red')\n",
    "ax[1,0].imshow(data_vec,aspect='auto',origin='lower')\n",
    "ax[1,1].imshow(mean_ppc_obs,aspect='auto',origin='lower',vmin=0,vmax=1);\n",
    "ax[0,2].imshow(mean_w,aspect='auto',origin='lower');\n",
    "ax[1,2].plot(hist_out[1][:-1],diag_vals/np.max(diag_vals),c='r');\n",
    "ax[1,2].bar([0,1],components_hist, alpha = 0.3);\n",
    "ax[1,2].set_title('Inferred Component Weights')"
   ]
  },
  {
   "cell_type": "code",
   "execution_count": null,
   "metadata": {},
   "outputs": [],
   "source": []
  }
 ],
 "metadata": {
  "kernelspec": {
   "display_name": "Python 3",
   "language": "python",
   "name": "python3"
  },
  "language_info": {
   "codemirror_mode": {
    "name": "ipython",
    "version": 3
   },
   "file_extension": ".py",
   "mimetype": "text/x-python",
   "name": "python",
   "nbconvert_exporter": "python",
   "pygments_lexer": "ipython3",
   "version": "3.6.10"
  }
 },
 "nbformat": 4,
 "nbformat_minor": 4
}
