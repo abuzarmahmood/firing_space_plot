{
 "cells": [
  {
   "cell_type": "markdown",
   "metadata": {},
   "source": [
    "\"\"\"\n",
    "Generate data with specified changepoints\n",
    "Compare ELBO fits for changepoint model with different\n",
    "numbers of changepoints\n",
    "\"\"\""
   ]
  },
  {
   "cell_type": "code",
   "execution_count": 1,
   "metadata": {},
   "outputs": [],
   "source": [
    "import os\n",
    "import pickle\n",
    "import scipy.stats as stats\n",
    "import pymc3 as pm\n",
    "import theano.tensor as tt\n",
    "import numpy as np\n",
    "import pylab as plt\n",
    "from pymc3.variational.callbacks import CheckParametersConvergence\n",
    "from theano.tensor.extra_ops import cumsum\n",
    "import sys\n",
    "sys.path.append('/media/bigdata/firing_space_plot/ephys_data')\n",
    "from ephys_data import ephys_data\n",
    "import visualize"
   ]
  },
  {
   "cell_type": "code",
   "execution_count": 41,
   "metadata": {},
   "outputs": [
    {
     "name": "stdout",
     "output_type": "stream",
     "text": [
      "(15, 3)\n",
      "(15, 2)\n",
      "(15, 4)\n",
      "(10, 3)\n"
     ]
    }
   ],
   "source": [
    "# Some poisson spiking\n",
    "length = 100\n",
    "states = 3\n",
    "nrns = 10\n",
    "trials = 15\n",
    "fit = int(1e5)\n",
    "samples = 2000\n",
    "idx = np.arange(length)\n",
    "\n",
    "true_tau = np.cumsum(np.random.random((trials,states)),axis=-1)\n",
    "true_tau /= np.max(true_tau,axis=-1)[...,np.newaxis]\n",
    "true_tau *= length\n",
    "true_tau = np.vectorize(np.int)(true_tau)\n",
    "\n",
    "print(true_tau.shape)\n",
    "\n",
    "state_inds = np.concatenate([np.zeros((trials,1)),true_tau],axis=-1)\n",
    "state_inds = np.vectorize(np.int)(state_inds)\n",
    "true_tau = true_tau[:,:-1]\n",
    "\n",
    "print(true_tau.shape)\n",
    "print(state_inds.shape)\n",
    "\n",
    "true_lambda = np.random.random((nrns,states))\n",
    "print(true_lambda.shape)\n",
    "true_r = np.zeros((trials, nrns, length))\n",
    "\n",
    "for trial_num in range(trials):\n",
    "    for state_num in range(states):\n",
    "        true_r[trial_num,:,state_inds[trial_num,state_num]:state_inds[trial_num,state_num+1]] = \\\n",
    "                        true_lambda[:,state_num][:,np.newaxis]\n",
    "        \n",
    "data_array = np.random.random(true_r.shape) < true_r     "
   ]
  },
  {
   "cell_type": "code",
   "execution_count": 42,
   "metadata": {},
   "outputs": [
    {
     "data": {
      "text/plain": [
       "(15, 10, 100)"
      ]
     },
     "execution_count": 42,
     "metadata": {},
     "output_type": "execute_result"
    }
   ],
   "source": [
    "data_array.shape"
   ]
  },
  {
   "cell_type": "code",
   "execution_count": 43,
   "metadata": {},
   "outputs": [
    {
     "data": {
      "image/png": "[encoded data removed]",
      "text/plain": [
       "<Figure size 432x288 with 6 Axes>"
      ]
     },
     "metadata": {
      "needs_background": "light"
     },
     "output_type": "display_data"
    },
    {
     "data": {
      "image/png": "[encoded data removed]",
      "text/plain": [
       "<Figure size 432x288 with 6 Axes>"
      ]
     },
     "metadata": {
      "needs_background": "light"
     },
     "output_type": "display_data"
    }
   ],
   "source": [
    "trial_count = 5\n",
    "trial_inds = np.random.choice(np.arange(trials),5)\n",
    "visualize.firing_overview(true_r[trial_inds]);\n",
    "visualize.firing_overview(data_array[trial_inds], cmap='viridis');"
   ]
  },
  {
   "cell_type": "code",
   "execution_count": 44,
   "metadata": {},
   "outputs": [
    {
     "name": "stdout",
     "output_type": "stream",
     "text": [
      "(10, 3)\n"
     ]
    }
   ],
   "source": [
    "mean_vals = np.array([np.mean(x,axis=-1) for x in np.array_split(data_array,states,axis=-1)]).T\n",
    "mean_vals = np.mean(mean_vals,axis=1)\n",
    "print(mean_vals.shape)"
   ]
  },
  {
   "cell_type": "code",
   "execution_count": 45,
   "metadata": {},
   "outputs": [],
   "source": [
    "with pm.Model() as model:\n",
    "    # Finite, but somewhere on the lower end, Beta prior\n",
    "    a_lambda = 2\n",
    "    b_lambda = 5\n",
    "    lambda_latent = pm.Beta('lambda', \n",
    "                                    a_lambda, b_lambda, \n",
    "                                    shape = (nrns,states),\n",
    "                                  testval = mean_vals + 1e-3)\n",
    "\n",
    "    a = pm.HalfCauchy('a_tau', 3., shape = states - 1)\n",
    "    b = pm.HalfCauchy('b_tau', 3., shape = states - 1)\n",
    "    \n",
    "    even_switches = np.linspace(0,1,states+1)[1:-1]\n",
    "    tau_latent = pm.Beta('tau_latent', a, b, \n",
    "                         testval = even_switches,\n",
    "                         shape = (trials,states-1)).sort(axis=-1)    \n",
    "    \n",
    "    tau = pm.Deterministic('tau', \n",
    "            idx.min() + (idx.max() - idx.min()) * tau_latent)"
   ]
  },
  {
   "cell_type": "code",
   "execution_count": 46,
   "metadata": {},
   "outputs": [
    {
     "name": "stdout",
     "output_type": "stream",
     "text": [
      "(15, 2)\n"
     ]
    }
   ],
   "source": [
    "print(tau.tag.test_value.shape)"
   ]
  },
  {
   "cell_type": "code",
   "execution_count": 47,
   "metadata": {},
   "outputs": [
    {
     "name": "stdout",
     "output_type": "stream",
     "text": [
      "(100,)\n"
     ]
    }
   ],
   "source": [
    "print(idx.shape)"
   ]
  },
  {
   "cell_type": "code",
   "execution_count": 48,
   "metadata": {},
   "outputs": [],
   "source": [
    "with model:\n",
    "    weight_stack = tt.nnet.sigmoid(idx[np.newaxis,:]-tau[:,:,np.newaxis])\n",
    "    weight_stack = tt.concatenate([np.ones((trials,1,length)),weight_stack],axis=1)\n",
    "    inverse_stack = 1 - weight_stack[:,1:]\n",
    "    inverse_stack = tt.concatenate([inverse_stack, np.ones((trials,1,length))],axis=1)\n",
    "\n",
    "    weight_stack = np.multiply(weight_stack,inverse_stack)"
   ]
  },
  {
   "cell_type": "code",
   "execution_count": 49,
   "metadata": {},
   "outputs": [
    {
     "data": {
      "image/png": "[encoded data removed]",
      "text/plain": [
       "<Figure size 432x288 with 1 Axes>"
      ]
     },
     "metadata": {
      "needs_background": "light"
     },
     "output_type": "display_data"
    }
   ],
   "source": [
    "plt.imshow(weight_stack.tag.test_value[0],aspect='auto');"
   ]
  },
  {
   "cell_type": "code",
   "execution_count": 50,
   "metadata": {},
   "outputs": [
    {
     "name": "stdout",
     "output_type": "stream",
     "text": [
      "(15, 3, 100)\n",
      "(10, 3)\n"
     ]
    }
   ],
   "source": [
    "print(weight_stack.tag.test_value.shape)\n",
    "print(lambda_latent.tag.test_value.shape)"
   ]
  },
  {
   "cell_type": "code",
   "execution_count": 51,
   "metadata": {},
   "outputs": [
    {
     "name": "stdout",
     "output_type": "stream",
     "text": [
      "(15, 10, 100)\n"
     ]
    }
   ],
   "source": [
    "with model:\n",
    "    lambda_ = tt.tensordot(weight_stack,lambda_latent, [1,1]).swapaxes(1,2)\n",
    "    #lambda_ = lambda_latent.dot(weight_stack)\n",
    "print(lambda_.tag.test_value.shape)"
   ]
  },
  {
   "cell_type": "code",
   "execution_count": 52,
   "metadata": {},
   "outputs": [],
   "source": [
    "# visualize.firing_overview(true_r,cmap='viridis')\n",
    "# plt.figure()\n",
    "# visualize.firing_overview(lambda_.tag.test_value, cmap='viridis')\n",
    "# print(true_r.shape)\n",
    "# print(lambda_.tag.test_value.shape)"
   ]
  },
  {
   "cell_type": "code",
   "execution_count": 53,
   "metadata": {},
   "outputs": [],
   "source": [
    "with model:\n",
    "    # Add observations\n",
    "    observation = pm.Bernoulli(\"obs\", lambda_, observed=data_array)"
   ]
  },
  {
   "cell_type": "code",
   "execution_count": 54,
   "metadata": {},
   "outputs": [
    {
     "data": {
      "image/svg+xml": [
       "<?xml version=\"1.0\" encoding=\"UTF-8\" standalone=\"no\"?>\n",
       "<!DOCTYPE svg PUBLIC \"-//W3C//DTD SVG 1.1//EN\"\n",
       " \"http://www.w3.org/Graphics/SVG/1.1/DTD/svg11.dtd\">\n",
       "<!-- Generated by graphviz version 2.40.1 (20161225.0304)\n",
       " -->\n",
       "<!-- Title: %3 Pages: 1 -->\n",
       "<svg width=\"333pt\" height=\"493pt\"\n",
       " viewBox=\"0.00 0.00 333.00 492.81\" xmlns=\"http://www.w3.org/2000/svg\" xmlns:xlink=\"http://www.w3.org/1999/xlink\">\n",
       "<g id=\"graph0\" class=\"graph\" transform=\"scale(1 1) rotate(0) translate(4 488.8133)\">\n",
       "<title>%3</title>\n",
       "<polygon fill=\"#ffffff\" stroke=\"transparent\" points=\"-4,4 -4,-488.8133 329,-488.8133 329,4 -4,4\"/>\n",
       "<g id=\"clust1\" class=\"cluster\">\n",
       "<title>cluster10 x 3</title>\n",
       "<path fill=\"none\" stroke=\"#000000\" d=\"M20,-129.9533C20,-129.9533 92,-129.9533 92,-129.9533 98,-129.9533 104,-135.9533 104,-141.9533 104,-141.9533 104,-231.9066 104,-231.9066 104,-237.9066 98,-243.9066 92,-243.9066 92,-243.9066 20,-243.9066 20,-243.9066 14,-243.9066 8,-237.9066 8,-231.9066 8,-231.9066 8,-141.9533 8,-141.9533 8,-135.9533 14,-129.9533 20,-129.9533\"/>\n",
       "<text text-anchor=\"middle\" x=\"78.5\" y=\"-137.7533\" font-family=\"Times,serif\" font-size=\"14.00\" fill=\"#000000\">10 x 3</text>\n",
       "</g>\n",
       "<g id=\"clust2\" class=\"cluster\">\n",
       "<title>cluster2</title>\n",
       "<path fill=\"none\" stroke=\"#000000\" d=\"M63,-362.86C63,-362.86 305,-362.86 305,-362.86 311,-362.86 317,-368.86 317,-374.86 317,-374.86 317,-464.8133 317,-464.8133 317,-470.8133 311,-476.8133 305,-476.8133 305,-476.8133 63,-476.8133 63,-476.8133 57,-476.8133 51,-470.8133 51,-464.8133 51,-464.8133 51,-374.86 51,-374.86 51,-368.86 57,-362.86 63,-362.86\"/>\n",
       "<text text-anchor=\"middle\" x=\"305.5\" y=\"-370.66\" font-family=\"Times,serif\" font-size=\"14.00\" fill=\"#000000\">2</text>\n",
       "</g>\n",
       "<g id=\"clust3\" class=\"cluster\">\n",
       "<title>cluster15 x 2</title>\n",
       "<path fill=\"none\" stroke=\"#000000\" d=\"M124,-140.93C124,-140.93 214,-140.93 214,-140.93 220,-140.93 226,-146.93 226,-152.93 226,-152.93 226,-342.86 226,-342.86 226,-348.86 220,-354.86 214,-354.86 214,-354.86 124,-354.86 124,-354.86 118,-354.86 112,-348.86 112,-342.86 112,-342.86 112,-152.93 112,-152.93 112,-146.93 118,-140.93 124,-140.93\"/>\n",
       "<text text-anchor=\"middle\" x=\"200.5\" y=\"-148.73\" font-family=\"Times,serif\" font-size=\"14.00\" fill=\"#000000\">15 x 2</text>\n",
       "</g>\n",
       "<g id=\"clust4\" class=\"cluster\">\n",
       "<title>cluster15 x 10 x 100</title>\n",
       "<path fill=\"none\" stroke=\"#000000\" d=\"M69,-8C69,-8 157,-8 157,-8 163,-8 169,-14 169,-20 169,-20 169,-109.9533 169,-109.9533 169,-115.9533 163,-121.9533 157,-121.9533 157,-121.9533 69,-121.9533 69,-121.9533 63,-121.9533 57,-115.9533 57,-109.9533 57,-109.9533 57,-20 57,-20 57,-14 63,-8 69,-8\"/>\n",
       "<text text-anchor=\"middle\" x=\"123\" y=\"-15.8\" font-family=\"Times,serif\" font-size=\"14.00\" fill=\"#000000\">15 x 10 x 100</text>\n",
       "</g>\n",
       "<!-- lambda -->\n",
       "<g id=\"node1\" class=\"node\">\n",
       "<title>lambda</title>\n",
       "<ellipse fill=\"none\" stroke=\"#000000\" cx=\"56\" cy=\"-198.43\" rx=\"40.1111\" ry=\"37.4533\"/>\n",
       "<text text-anchor=\"middle\" x=\"56\" y=\"-209.73\" font-family=\"Times,serif\" font-size=\"14.00\" fill=\"#000000\">lambda</text>\n",
       "<text text-anchor=\"middle\" x=\"56\" y=\"-194.73\" font-family=\"Times,serif\" font-size=\"14.00\" fill=\"#000000\">~</text>\n",
       "<text text-anchor=\"middle\" x=\"56\" y=\"-179.73\" font-family=\"Times,serif\" font-size=\"14.00\" fill=\"#000000\">Beta</text>\n",
       "</g>\n",
       "<!-- obs -->\n",
       "<g id=\"node6\" class=\"node\">\n",
       "<title>obs</title>\n",
       "<ellipse fill=\"#d3d3d3\" stroke=\"#000000\" cx=\"113\" cy=\"-76.4767\" rx=\"48.1667\" ry=\"37.4533\"/>\n",
       "<text text-anchor=\"middle\" x=\"113\" y=\"-87.7767\" font-family=\"Times,serif\" font-size=\"14.00\" fill=\"#000000\">obs</text>\n",
       "<text text-anchor=\"middle\" x=\"113\" y=\"-72.7767\" font-family=\"Times,serif\" font-size=\"14.00\" fill=\"#000000\">~</text>\n",
       "<text text-anchor=\"middle\" x=\"113\" y=\"-57.7767\" font-family=\"Times,serif\" font-size=\"14.00\" fill=\"#000000\">Bernoulli</text>\n",
       "</g>\n",
       "<!-- lambda&#45;&gt;obs -->\n",
       "<g id=\"edge5\" class=\"edge\">\n",
       "<title>lambda&#45;&gt;obs</title>\n",
       "<path fill=\"none\" stroke=\"#000000\" d=\"M72.1814,-163.8093C78.3321,-150.6496 85.4307,-135.462 91.9659,-121.4799\"/>\n",
       "<polygon fill=\"#000000\" stroke=\"#000000\" points=\"95.318,-122.5736 96.3816,-112.0323 88.9765,-119.6096 95.318,-122.5736\"/>\n",
       "</g>\n",
       "<!-- a_tau -->\n",
       "<g id=\"node2\" class=\"node\">\n",
       "<title>a_tau</title>\n",
       "<ellipse fill=\"none\" stroke=\"#000000\" cx=\"251\" cy=\"-431.3366\" rx=\"57.9655\" ry=\"37.4533\"/>\n",
       "<text text-anchor=\"middle\" x=\"251\" y=\"-442.6366\" font-family=\"Times,serif\" font-size=\"14.00\" fill=\"#000000\">a_tau</text>\n",
       "<text text-anchor=\"middle\" x=\"251\" y=\"-427.6366\" font-family=\"Times,serif\" font-size=\"14.00\" fill=\"#000000\">~</text>\n",
       "<text text-anchor=\"middle\" x=\"251\" y=\"-412.6366\" font-family=\"Times,serif\" font-size=\"14.00\" fill=\"#000000\">HalfCauchy</text>\n",
       "</g>\n",
       "<!-- tau_latent -->\n",
       "<g id=\"node4\" class=\"node\">\n",
       "<title>tau_latent</title>\n",
       "<ellipse fill=\"none\" stroke=\"#000000\" cx=\"169\" cy=\"-309.3833\" rx=\"49.4949\" ry=\"37.4533\"/>\n",
       "<text text-anchor=\"middle\" x=\"169\" y=\"-320.6833\" font-family=\"Times,serif\" font-size=\"14.00\" fill=\"#000000\">tau_latent</text>\n",
       "<text text-anchor=\"middle\" x=\"169\" y=\"-305.6833\" font-family=\"Times,serif\" font-size=\"14.00\" fill=\"#000000\">~</text>\n",
       "<text text-anchor=\"middle\" x=\"169\" y=\"-290.6833\" font-family=\"Times,serif\" font-size=\"14.00\" fill=\"#000000\">Beta</text>\n",
       "</g>\n",
       "<!-- a_tau&#45;&gt;tau_latent -->\n",
       "<g id=\"edge1\" class=\"edge\">\n",
       "<title>a_tau&#45;&gt;tau_latent</title>\n",
       "<path fill=\"none\" stroke=\"#000000\" d=\"M227.7214,-396.7159C218.222,-382.588 207.1509,-366.1227 197.1985,-351.321\"/>\n",
       "<polygon fill=\"#000000\" stroke=\"#000000\" points=\"199.9726,-349.1741 191.4882,-342.8285 194.1636,-353.08 199.9726,-349.1741\"/>\n",
       "</g>\n",
       "<!-- b_tau -->\n",
       "<g id=\"node3\" class=\"node\">\n",
       "<title>b_tau</title>\n",
       "<ellipse fill=\"none\" stroke=\"#000000\" cx=\"117\" cy=\"-431.3366\" rx=\"57.9655\" ry=\"37.4533\"/>\n",
       "<text text-anchor=\"middle\" x=\"117\" y=\"-442.6366\" font-family=\"Times,serif\" font-size=\"14.00\" fill=\"#000000\">b_tau</text>\n",
       "<text text-anchor=\"middle\" x=\"117\" y=\"-427.6366\" font-family=\"Times,serif\" font-size=\"14.00\" fill=\"#000000\">~</text>\n",
       "<text text-anchor=\"middle\" x=\"117\" y=\"-412.6366\" font-family=\"Times,serif\" font-size=\"14.00\" fill=\"#000000\">HalfCauchy</text>\n",
       "</g>\n",
       "<!-- b_tau&#45;&gt;tau_latent -->\n",
       "<g id=\"edge2\" class=\"edge\">\n",
       "<title>b_tau&#45;&gt;tau_latent</title>\n",
       "<path fill=\"none\" stroke=\"#000000\" d=\"M132.4609,-395.0768C137.8572,-382.4211 143.9826,-368.0555 149.6549,-354.7524\"/>\n",
       "<polygon fill=\"#000000\" stroke=\"#000000\" points=\"152.9855,-355.8647 153.6883,-345.2931 146.5464,-353.119 152.9855,-355.8647\"/>\n",
       "</g>\n",
       "<!-- tau -->\n",
       "<g id=\"node5\" class=\"node\">\n",
       "<title>tau</title>\n",
       "<polygon fill=\"none\" stroke=\"#000000\" points=\"212.5,-224.93 121.5,-224.93 121.5,-171.93 212.5,-171.93 212.5,-224.93\"/>\n",
       "<text text-anchor=\"middle\" x=\"167\" y=\"-209.73\" font-family=\"Times,serif\" font-size=\"14.00\" fill=\"#000000\">tau</text>\n",
       "<text text-anchor=\"middle\" x=\"167\" y=\"-194.73\" font-family=\"Times,serif\" font-size=\"14.00\" fill=\"#000000\">~</text>\n",
       "<text text-anchor=\"middle\" x=\"167\" y=\"-179.73\" font-family=\"Times,serif\" font-size=\"14.00\" fill=\"#000000\">Deterministic</text>\n",
       "</g>\n",
       "<!-- tau_latent&#45;&gt;tau -->\n",
       "<g id=\"edge3\" class=\"edge\">\n",
       "<title>tau_latent&#45;&gt;tau</title>\n",
       "<path fill=\"none\" stroke=\"#000000\" d=\"M168.3229,-271.8196C168.1112,-260.075 167.8779,-247.1307 167.6669,-235.4255\"/>\n",
       "<polygon fill=\"#000000\" stroke=\"#000000\" points=\"171.1604,-235.0295 167.4806,-225.0943 164.1615,-235.1558 171.1604,-235.0295\"/>\n",
       "</g>\n",
       "<!-- tau&#45;&gt;obs -->\n",
       "<g id=\"edge4\" class=\"edge\">\n",
       "<title>tau&#45;&gt;obs</title>\n",
       "<path fill=\"none\" stroke=\"#000000\" d=\"M155.1495,-171.6668C148.6006,-156.8769 140.2937,-138.1165 132.7888,-121.1676\"/>\n",
       "<polygon fill=\"#000000\" stroke=\"#000000\" points=\"135.9674,-119.7013 128.7182,-111.9746 129.5668,-122.5354 135.9674,-119.7013\"/>\n",
       "</g>\n",
       "</g>\n",
       "</svg>\n"
      ],
      "text/plain": [
       "<graphviz.dot.Digraph at 0x7f05ecdc9e80>"
      ]
     },
     "execution_count": 54,
     "metadata": {},
     "output_type": "execute_result"
    }
   ],
   "source": [
    "pm.model_to_graphviz(model)"
   ]
  },
  {
   "cell_type": "code",
   "execution_count": 55,
   "metadata": {},
   "outputs": [
    {
     "data": {
      "text/html": [
       "\n",
       "    <div>\n",
       "        <style>\n",
       "            /* Turns off some styling */\n",
       "            progress {\n",
       "                /* gets rid of default border in Firefox and Opera. */\n",
       "                border: none;\n",
       "                /* Needs to be in here for Safari polyfill so background images work as expected. */\n",
       "                background-size: auto;\n",
       "            }\n",
       "            .progress-bar-interrupted, .progress-bar-interrupted::-webkit-progress-bar {\n",
       "                background: #F44336;\n",
       "            }\n",
       "        </style>\n",
       "      <progress value='100000' class='' max='100000' style='width:300px; height:20px; vertical-align: middle;'></progress>\n",
       "      100.00% [100000/100000 01:44<00:00 Average Loss = 7,129.3]\n",
       "    </div>\n",
       "    "
      ],
      "text/plain": [
       "<IPython.core.display.HTML object>"
      ]
     },
     "metadata": {},
     "output_type": "display_data"
    },
    {
     "name": "stderr",
     "output_type": "stream",
     "text": [
      "Finished [100%]: Average Loss = 7,129.3\n"
     ]
    }
   ],
   "source": [
    "with model:\n",
    "    inference = pm.ADVI('full-rank')\n",
    "    approx = pm.fit(n=fit, method=inference,\n",
    "                   random_seed = 3,\n",
    "                   obj_n_mc = 1)\n",
    "    trace = approx.sample(draws=samples)"
   ]
  },
  {
   "cell_type": "code",
   "execution_count": 56,
   "metadata": {},
   "outputs": [
    {
     "data": {
      "image/png": "[encoded data removed]",
      "text/plain": [
       "<Figure size 1080x360 with 2 Axes>"
      ]
     },
     "metadata": {
      "needs_background": "light"
     },
     "output_type": "display_data"
    }
   ],
   "source": [
    "fig,ax = plt.subplots(1,2,figsize=(15,5))\n",
    "ax[0].plot(-approx.hist, alpha=.3)\n",
    "ax[0].set_ylabel('ELBO')\n",
    "ax[0].set_xlabel('iteration');\n",
    "\n",
    "ind = int(fit - fit*0.05)\n",
    "ax[1].plot(-approx.hist[ind:], alpha=.3)\n",
    "ax[1].set_title('Final 5% of iterations')\n",
    "ax[1].set_ylabel('ELBO')\n",
    "ax[1].set_xlabel('iteration');"
   ]
  },
  {
   "cell_type": "code",
   "execution_count": 57,
   "metadata": {},
   "outputs": [
    {
     "data": {
      "text/html": [
       "\n",
       "    <div>\n",
       "        <style>\n",
       "            /* Turns off some styling */\n",
       "            progress {\n",
       "                /* gets rid of default border in Firefox and Opera. */\n",
       "                border: none;\n",
       "                /* Needs to be in here for Safari polyfill so background images work as expected. */\n",
       "                background-size: auto;\n",
       "            }\n",
       "            .progress-bar-interrupted, .progress-bar-interrupted::-webkit-progress-bar {\n",
       "                background: #F44336;\n",
       "            }\n",
       "        </style>\n",
       "      <progress value='2000' class='' max='2000' style='width:300px; height:20px; vertical-align: middle;'></progress>\n",
       "      100.00% [2000/2000 00:04<00:00]\n",
       "    </div>\n",
       "    "
      ],
      "text/plain": [
       "<IPython.core.display.HTML object>"
      ]
     },
     "metadata": {},
     "output_type": "display_data"
    }
   ],
   "source": [
    "ppc = pm.sample_posterior_predictive(trace, samples = 2000, model = model)"
   ]
  },
  {
   "cell_type": "code",
   "execution_count": 58,
   "metadata": {},
   "outputs": [],
   "source": [
    "trial_count = 5\n",
    "trial_inds = np.random.choice(np.arange(trials),5)"
   ]
  },
  {
   "cell_type": "code",
   "execution_count": 59,
   "metadata": {},
   "outputs": [
    {
     "data": {
      "image/png": "[encoded data removed]",
      "text/plain": [
       "<Figure size 432x288 with 6 Axes>"
      ]
     },
     "metadata": {
      "needs_background": "light"
     },
     "output_type": "display_data"
    },
    {
     "data": {
      "image/png": "[encoded data removed]",
      "text/plain": [
       "<Figure size 432x288 with 6 Axes>"
      ]
     },
     "metadata": {
      "needs_background": "light"
     },
     "output_type": "display_data"
    }
   ],
   "source": [
    "visualize.firing_overview(true_r[trial_inds],cmap='viridis');\n",
    "visualize.firing_overview(np.mean(ppc['obs'],axis=0)[trial_inds],cmap='viridis');"
   ]
  },
  {
   "cell_type": "code",
   "execution_count": 60,
   "metadata": {},
   "outputs": [
    {
     "name": "stdout",
     "output_type": "stream",
     "text": [
      "(2000, 15, 2)\n",
      "(15, 2)\n"
     ]
    }
   ],
   "source": [
    "#min_val,max_val = min(true_r),max(true_r)\n",
    "tau = trace['tau']\n",
    "print(tau.shape)\n",
    "mode_tau = stats.mode(np.vectorize(np.int)(tau),axis=0)[0][0]\n",
    "print(mode_tau.shape)"
   ]
  },
  {
   "cell_type": "code",
   "execution_count": 61,
   "metadata": {},
   "outputs": [
    {
     "data": {
      "image/png": "[encoded data removed]",
      "text/plain": [
       "<Figure size 1440x720 with 15 Axes>"
      ]
     },
     "metadata": {
      "needs_background": "light"
     },
     "output_type": "display_data"
    }
   ],
   "source": [
    "fig,ax = plt.subplots(3,trial_count,sharex=True,figsize=(20,10))\n",
    "for trial_num,this_trial_ind in enumerate(trial_inds):\n",
    "    ax[0,trial_num].imshow(true_r[this_trial_ind],aspect='auto')\n",
    "    ax[1,trial_num].imshow(data_array[this_trial_ind],aspect='auto')\n",
    "    \n",
    "    for tau_num, this_tau in enumerate(tau[:,this_trial_ind].T):\n",
    "        ax[2,trial_num].hist(this_tau,bins=50)\n",
    "        ax[0,trial_num].vlines(mode_tau[this_trial_ind,tau_num],-0.5,nrns-0.5,color='red',alpha=1,linewidth=5, linestyles='dashed')"
   ]
  },
  {
   "cell_type": "code",
   "execution_count": null,
   "metadata": {},
   "outputs": [],
   "source": []
  }
 ],
 "metadata": {
  "kernelspec": {
   "display_name": "Python 3",
   "language": "python",
   "name": "python3"
  },
  "language_info": {
   "codemirror_mode": {
    "name": "ipython",
    "version": 3
   },
   "file_extension": ".py",
   "mimetype": "text/x-python",
   "name": "python",
   "nbconvert_exporter": "python",
   "pygments_lexer": "ipython3",
   "version": "3.6.10"
  }
 },
 "nbformat": 4,
 "nbformat_minor": 4
}
