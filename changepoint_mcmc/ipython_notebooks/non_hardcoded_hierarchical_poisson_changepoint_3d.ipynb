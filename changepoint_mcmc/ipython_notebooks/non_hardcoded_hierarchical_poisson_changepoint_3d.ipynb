{
 "cells": [
  {
   "cell_type": "markdown",
   "metadata": {},
   "source": [
    "\"\"\"\n",
    "Generate data with specified changepoints\n",
    "Compare ELBO fits for changepoint model with different\n",
    "numbers of changepoints\n",
    "\"\"\""
   ]
  },
  {
   "cell_type": "code",
   "execution_count": 30,
   "metadata": {},
   "outputs": [],
   "source": [
    "import os\n",
    "import pickle\n",
    "import scipy.stats as stats\n",
    "import pymc3 as pm\n",
    "import theano.tensor as tt\n",
    "import numpy as np\n",
    "import pylab as plt\n",
    "from pymc3.variational.callbacks import CheckParametersConvergence\n",
    "from theano.tensor.extra_ops import cumsum\n",
    "import sys\n",
    "sys.path.append('/media/bigdata/firing_space_plot/ephys_data')\n",
    "from ephys_data import ephys_data\n",
    "import visualize as vz"
   ]
  },
  {
   "cell_type": "code",
   "execution_count": 75,
   "metadata": {},
   "outputs": [
    {
     "name": "stdout",
     "output_type": "stream",
     "text": [
      "(15, 3)\n",
      "(15, 2)\n",
      "(15, 4)\n",
      "(5, 3)\n"
     ]
    }
   ],
   "source": [
    "# Some poisson spiking\n",
    "length = 1000\n",
    "states = 3\n",
    "nrns = 5\n",
    "trials = 15\n",
    "fit = int(1e5)\n",
    "samples = 2000\n",
    "\n",
    "true_tau = np.cumsum(np.random.random((trials,states)),axis=-1)\n",
    "true_tau /= np.max(true_tau,axis=-1)[...,np.newaxis]\n",
    "true_tau *= length\n",
    "true_tau = np.vectorize(np.int)(true_tau)\n",
    "\n",
    "print(true_tau.shape)\n",
    "\n",
    "state_inds = np.concatenate([np.zeros((trials,1)),true_tau],axis=-1)\n",
    "state_inds = np.vectorize(np.int)(state_inds)\n",
    "true_tau = true_tau[:,:-1]\n",
    "\n",
    "print(true_tau.shape)\n",
    "print(state_inds.shape)\n",
    "\n",
    "max_p = 0.1\n",
    "bin_size = 25\n",
    "true_lambda = np.random.random((nrns,states))*max_p\n",
    "print(true_lambda.shape)\n",
    "true_r = np.zeros((trials, nrns, length))\n",
    "\n",
    "for trial_num in range(trials):\n",
    "    for state_num in range(states):\n",
    "        true_r[trial_num,:,state_inds[trial_num,state_num]:state_inds[trial_num,state_num+1]] = \\\n",
    "                        true_lambda[:,state_num][:,np.newaxis]\n",
    "        \n",
    "spike_array = np.random.random(true_r.shape) < true_r    \n",
    "data_array = np.reshape(spike_array, (*spike_array.shape[:2], -1, bin_size)).sum(axis=-1)\n",
    "idx = np.arange(length//bin_size)"
   ]
  },
  {
   "cell_type": "code",
   "execution_count": 76,
   "metadata": {},
   "outputs": [
    {
     "data": {
      "text/plain": [
       "array([[0.04062288, 0.03830846, 0.088237  ],\n",
       "       [0.01076944, 0.09993054, 0.00742933],\n",
       "       [0.08227426, 0.05621708, 0.02228368],\n",
       "       [0.07421782, 0.02894013, 0.03219367],\n",
       "       [0.09347262, 0.07121128, 0.00147444]])"
      ]
     },
     "execution_count": 76,
     "metadata": {},
     "output_type": "execute_result"
    }
   ],
   "source": [
    "true_lambda"
   ]
  },
  {
   "cell_type": "code",
   "execution_count": 77,
   "metadata": {},
   "outputs": [
    {
     "data": {
      "text/plain": [
       "(15, 5, 40)"
      ]
     },
     "execution_count": 77,
     "metadata": {},
     "output_type": "execute_result"
    }
   ],
   "source": [
    "data_array.shape"
   ]
  },
  {
   "cell_type": "code",
   "execution_count": 78,
   "metadata": {},
   "outputs": [
    {
     "name": "stderr",
     "output_type": "stream",
     "text": [
      "/media/bigdata/firing_space_plot/ephys_data/visualize.py:86: MatplotlibDeprecationWarning: shading='flat' when X and Y have the same dimensions as C is deprecated since 3.3.  Either specify the corners of the quadrilaterals with X and Y, or pass shading='auto', 'nearest' or 'gouraud', or set rcParams['pcolor.shading'].  This will become an error two minor releases later.\n",
      "  vmin = min_val[nrn], vmax = max_val[nrn])\n"
     ]
    },
    {
     "data": {
      "image/png": "[encoded data removed]",
      "text/plain": [
       "<Figure size 432x288 with 6 Axes>"
      ]
     },
     "metadata": {
      "needs_background": "light"
     },
     "output_type": "display_data"
    },
    {
     "data": {
      "image/png": "[encoded data removed]",
      "text/plain": [
       "<Figure size 432x288 with 6 Axes>"
      ]
     },
     "metadata": {
      "needs_background": "light"
     },
     "output_type": "display_data"
    }
   ],
   "source": [
    "trial_count = 5\n",
    "trial_inds = np.random.choice(np.arange(trials),5)\n",
    "vz.firing_overview(true_r[trial_inds]);\n",
    "vz.firing_overview(data_array[trial_inds], cmap='viridis');"
   ]
  },
  {
   "cell_type": "code",
   "execution_count": 79,
   "metadata": {},
   "outputs": [
    {
     "name": "stdout",
     "output_type": "stream",
     "text": [
      "(5, 15, 3)\n"
     ]
    }
   ],
   "source": [
    "# Testval for individual trials\n",
    "trial_mean = np.array([np.mean(x,axis=-1) for x in np.array_split(data_array,states,axis=-1)]).T\n",
    "# Testval for states\n",
    "state_mean = trial_mean.mean(axis=1)\n",
    "# Testval for neurons\n",
    "nrn_mean = state_mean.mean(axis=1)\n",
    "#mean_vals = np.mean(mean_vals,axis=1)\n",
    "print(mean_vals.shape)"
   ]
  },
  {
   "cell_type": "code",
   "execution_count": 80,
   "metadata": {},
   "outputs": [
    {
     "name": "stdout",
     "output_type": "stream",
     "text": [
      "(5, 15, 3)\n",
      "(5, 3)\n",
      "(5,)\n"
     ]
    }
   ],
   "source": [
    "print(trial_mean.shape)\n",
    "print(state_mean.shape)\n",
    "print(nrn_mean.shape)"
   ]
  },
  {
   "cell_type": "code",
   "execution_count": 81,
   "metadata": {},
   "outputs": [],
   "source": [
    "with pm.Model() as model:\n",
    "    # Finite, but somewhere on the lower end, Beta prior\n",
    "    nrn_lambda = pm.Exponential('nrn_lambda', \n",
    "                                    1/nrn_mean, \n",
    "                                    shape = nrns,\n",
    "                                  testval = nrn_mean + 1e-3)\n",
    "    state_lambda = pm.Exponential('state_lambda', \n",
    "                                    1/nrn_lambda[:,np.newaxis], \n",
    "                                    shape = (nrns, states),\n",
    "                                  testval = state_mean + 1e-3)\n",
    "    trial_lambda = pm.Exponential('trial_lambda', \n",
    "                                    1/state_lambda[:,:,np.newaxis], \n",
    "                                    shape = (nrns, states, trials),\n",
    "                                  testval = trial_mean.swapaxes(1,2) + 1e-3)\n",
    "\n",
    "    a = pm.HalfCauchy('a_tau', 3., shape = states - 1)\n",
    "    b = pm.HalfCauchy('b_tau', 3., shape = states - 1)\n",
    "    \n",
    "    even_switches = np.linspace(0,1,states+1)[1:-1]\n",
    "    tau_latent = pm.Beta('tau_latent', a, b, \n",
    "                         testval = even_switches,\n",
    "                         shape = (trials,states-1)).sort(axis=-1)    \n",
    "    \n",
    "    tau = pm.Deterministic('tau', \n",
    "            idx.min() + (idx.max() - idx.min()) * tau_latent)\n",
    "    \n",
    "    weight_stack = tt.nnet.sigmoid(idx[np.newaxis,:]-tau[:,:,np.newaxis])\n",
    "    weight_stack = tt.concatenate([np.ones((trials,1,length//bin_size)),weight_stack],axis=1)\n",
    "    inverse_stack = 1 - weight_stack[:,1:]\n",
    "    inverse_stack = tt.concatenate([inverse_stack, np.ones((trials,1,length//bin_size))],axis=1)\n",
    "    weight_stack = np.multiply(weight_stack,inverse_stack)\n",
    "    \n",
    "    lambda_ = tt.tensordot(weight_stack, trial_lambda, [1,1]).sum(axis=-1).dimshuffle(0,2,1)\n",
    "    \n",
    "    # Add observations\n",
    "    observation = pm.Poisson(\"obs\", lambda_, observed=data_array)"
   ]
  },
  {
   "cell_type": "code",
   "execution_count": 82,
   "metadata": {},
   "outputs": [
    {
     "data": {
      "image/png": "[encoded data removed]",
      "text/plain": [
       "<Figure size 432x288 with 16 Axes>"
      ]
     },
     "metadata": {
      "needs_background": "light"
     },
     "output_type": "display_data"
    }
   ],
   "source": [
    "vz.firing_overview(lambda_.tag.test_value);"
   ]
  },
  {
   "cell_type": "code",
   "execution_count": 83,
   "metadata": {},
   "outputs": [
    {
     "data": {
      "text/plain": [
       "(15, 5, 40)"
      ]
     },
     "execution_count": 83,
     "metadata": {},
     "output_type": "execute_result"
    }
   ],
   "source": [
    "lambda_.tag.test_value.shape"
   ]
  },
  {
   "cell_type": "code",
   "execution_count": 84,
   "metadata": {},
   "outputs": [
    {
     "data": {
      "text/plain": [
       "(15, 5, 40)"
      ]
     },
     "execution_count": 84,
     "metadata": {},
     "output_type": "execute_result"
    }
   ],
   "source": [
    "data_array.shape"
   ]
  },
  {
   "cell_type": "code",
   "execution_count": 85,
   "metadata": {},
   "outputs": [
    {
     "data": {
      "text/plain": [
       "(5, 3, 15)"
      ]
     },
     "execution_count": 85,
     "metadata": {},
     "output_type": "execute_result"
    }
   ],
   "source": [
    "trial_lambda.tag.test_value.shape"
   ]
  },
  {
   "cell_type": "code",
   "execution_count": 86,
   "metadata": {},
   "outputs": [
    {
     "data": {
      "text/plain": [
       "(15, 3, 40)"
      ]
     },
     "execution_count": 86,
     "metadata": {},
     "output_type": "execute_result"
    }
   ],
   "source": [
    "weight_stack.tag.test_value.shape"
   ]
  },
  {
   "cell_type": "code",
   "execution_count": 87,
   "metadata": {},
   "outputs": [
    {
     "data": {
      "image/svg+xml": [
       "<?xml version=\"1.0\" encoding=\"UTF-8\" standalone=\"no\"?>\n",
       "<!DOCTYPE svg PUBLIC \"-//W3C//DTD SVG 1.1//EN\"\n",
       " \"http://www.w3.org/Graphics/SVG/1.1/DTD/svg11.dtd\">\n",
       "<!-- Generated by graphviz version 2.48.0 (20210717.2242)\n",
       " -->\n",
       "<!-- Pages: 1 -->\n",
       "<svg width=\"513pt\" height=\"504pt\"\n",
       " viewBox=\"0.00 0.00 513.00 503.81\" xmlns=\"http://www.w3.org/2000/svg\" xmlns:xlink=\"http://www.w3.org/1999/xlink\">\n",
       "<g id=\"graph0\" class=\"graph\" transform=\"scale(1 1) rotate(0) translate(4 499.81)\">\n",
       "<polygon fill=\"white\" stroke=\"transparent\" points=\"-4,4 -4,-499.81 509,-499.81 509,4 -4,4\"/>\n",
       "<g id=\"clust1\" class=\"cluster\">\n",
       "<title>cluster5</title>\n",
       "<path fill=\"none\" stroke=\"black\" d=\"M27,-373.86C27,-373.86 163,-373.86 163,-373.86 169,-373.86 175,-379.86 175,-385.86 175,-385.86 175,-475.81 175,-475.81 175,-481.81 169,-487.81 163,-487.81 163,-487.81 27,-487.81 27,-487.81 21,-487.81 15,-481.81 15,-475.81 15,-475.81 15,-385.86 15,-385.86 15,-379.86 21,-373.86 27,-373.86\"/>\n",
       "<text text-anchor=\"middle\" x=\"162\" y=\"-381.66\" font-family=\"Times,serif\" font-size=\"14.00\">5</text>\n",
       "</g>\n",
       "<g id=\"clust2\" class=\"cluster\">\n",
       "<title>cluster5 x 3</title>\n",
       "<path fill=\"none\" stroke=\"black\" d=\"M20,-251.91C20,-251.91 170,-251.91 170,-251.91 176,-251.91 182,-257.91 182,-263.91 182,-263.91 182,-353.86 182,-353.86 182,-359.86 176,-365.86 170,-365.86 170,-365.86 20,-365.86 20,-365.86 14,-365.86 8,-359.86 8,-353.86 8,-353.86 8,-263.91 8,-263.91 8,-257.91 14,-251.91 20,-251.91\"/>\n",
       "<text text-anchor=\"middle\" x=\"156\" y=\"-259.71\" font-family=\"Times,serif\" font-size=\"14.00\">5 x 3</text>\n",
       "</g>\n",
       "<g id=\"clust3\" class=\"cluster\">\n",
       "<title>cluster5 x 3 x 15</title>\n",
       "<path fill=\"none\" stroke=\"black\" d=\"M26,-129.95C26,-129.95 168,-129.95 168,-129.95 174,-129.95 180,-135.95 180,-141.95 180,-141.95 180,-231.91 180,-231.91 180,-237.91 174,-243.91 168,-243.91 168,-243.91 26,-243.91 26,-243.91 20,-243.91 14,-237.91 14,-231.91 14,-231.91 14,-141.95 14,-141.95 14,-135.95 20,-129.95 26,-129.95\"/>\n",
       "<text text-anchor=\"middle\" x=\"136.5\" y=\"-137.75\" font-family=\"Times,serif\" font-size=\"14.00\">5 x 3 x 15</text>\n",
       "</g>\n",
       "<g id=\"clust4\" class=\"cluster\">\n",
       "<title>cluster2</title>\n",
       "<path fill=\"none\" stroke=\"black\" d=\"M195,-373.86C195,-373.86 485,-373.86 485,-373.86 491,-373.86 497,-379.86 497,-385.86 497,-385.86 497,-475.81 497,-475.81 497,-481.81 491,-487.81 485,-487.81 485,-487.81 195,-487.81 195,-487.81 189,-487.81 183,-481.81 183,-475.81 183,-475.81 183,-385.86 183,-385.86 183,-379.86 189,-373.86 195,-373.86\"/>\n",
       "<text text-anchor=\"middle\" x=\"484\" y=\"-381.66\" font-family=\"Times,serif\" font-size=\"14.00\">2</text>\n",
       "</g>\n",
       "<g id=\"clust5\" class=\"cluster\">\n",
       "<title>cluster15 x 2</title>\n",
       "<path fill=\"none\" stroke=\"black\" d=\"M202,-140.93C202,-140.93 320,-140.93 320,-140.93 326,-140.93 332,-146.93 332,-152.93 332,-152.93 332,-353.86 332,-353.86 332,-359.86 326,-365.86 320,-365.86 320,-365.86 202,-365.86 202,-365.86 196,-365.86 190,-359.86 190,-353.86 190,-353.86 190,-152.93 190,-152.93 190,-146.93 196,-140.93 202,-140.93\"/>\n",
       "<text text-anchor=\"middle\" x=\"301.5\" y=\"-148.73\" font-family=\"Times,serif\" font-size=\"14.00\">15 x 2</text>\n",
       "</g>\n",
       "<g id=\"clust6\" class=\"cluster\">\n",
       "<title>cluster15 x 5 x 40</title>\n",
       "<path fill=\"none\" stroke=\"black\" d=\"M132,-8C132,-8 224,-8 224,-8 230,-8 236,-14 236,-20 236,-20 236,-109.95 236,-109.95 236,-115.95 230,-121.95 224,-121.95 224,-121.95 132,-121.95 132,-121.95 126,-121.95 120,-115.95 120,-109.95 120,-109.95 120,-20 120,-20 120,-14 126,-8 132,-8\"/>\n",
       "<text text-anchor=\"middle\" x=\"188\" y=\"-15.8\" font-family=\"Times,serif\" font-size=\"14.00\">15 x 5 x 40</text>\n",
       "</g>\n",
       "<!-- nrn_lambda -->\n",
       "<g id=\"node1\" class=\"node\">\n",
       "<title>nrn_lambda</title>\n",
       "<ellipse fill=\"none\" stroke=\"black\" cx=\"95\" cy=\"-442.34\" rx=\"72.25\" ry=\"37.45\"/>\n",
       "<text text-anchor=\"middle\" x=\"95\" y=\"-453.64\" font-family=\"Times,serif\" font-size=\"14.00\">nrn_lambda</text>\n",
       "<text text-anchor=\"middle\" x=\"95\" y=\"-438.64\" font-family=\"Times,serif\" font-size=\"14.00\">~</text>\n",
       "<text text-anchor=\"middle\" x=\"95\" y=\"-423.64\" font-family=\"Times,serif\" font-size=\"14.00\">Exponential</text>\n",
       "</g>\n",
       "<!-- state_lambda -->\n",
       "<g id=\"node2\" class=\"node\">\n",
       "<title>state_lambda</title>\n",
       "<ellipse fill=\"none\" stroke=\"black\" cx=\"95\" cy=\"-320.38\" rx=\"79.39\" ry=\"37.45\"/>\n",
       "<text text-anchor=\"middle\" x=\"95\" y=\"-331.68\" font-family=\"Times,serif\" font-size=\"14.00\">state_lambda</text>\n",
       "<text text-anchor=\"middle\" x=\"95\" y=\"-316.68\" font-family=\"Times,serif\" font-size=\"14.00\">~</text>\n",
       "<text text-anchor=\"middle\" x=\"95\" y=\"-301.68\" font-family=\"Times,serif\" font-size=\"14.00\">Exponential</text>\n",
       "</g>\n",
       "<!-- nrn_lambda&#45;&gt;state_lambda -->\n",
       "<g id=\"edge1\" class=\"edge\">\n",
       "<title>nrn_lambda&#45;&gt;state_lambda</title>\n",
       "<path fill=\"none\" stroke=\"black\" d=\"M95,-404.69C95,-393.29 95,-380.55 95,-368.54\"/>\n",
       "<polygon fill=\"black\" stroke=\"black\" points=\"98.5,-368.21 95,-358.21 91.5,-368.21 98.5,-368.21\"/>\n",
       "</g>\n",
       "<!-- trial_lambda -->\n",
       "<g id=\"node3\" class=\"node\">\n",
       "<title>trial_lambda</title>\n",
       "<ellipse fill=\"none\" stroke=\"black\" cx=\"97\" cy=\"-198.43\" rx=\"74.91\" ry=\"37.45\"/>\n",
       "<text text-anchor=\"middle\" x=\"97\" y=\"-209.73\" font-family=\"Times,serif\" font-size=\"14.00\">trial_lambda</text>\n",
       "<text text-anchor=\"middle\" x=\"97\" y=\"-194.73\" font-family=\"Times,serif\" font-size=\"14.00\">~</text>\n",
       "<text text-anchor=\"middle\" x=\"97\" y=\"-179.73\" font-family=\"Times,serif\" font-size=\"14.00\">Exponential</text>\n",
       "</g>\n",
       "<!-- state_lambda&#45;&gt;trial_lambda -->\n",
       "<g id=\"edge2\" class=\"edge\">\n",
       "<title>state_lambda&#45;&gt;trial_lambda</title>\n",
       "<path fill=\"none\" stroke=\"black\" d=\"M95.61,-282.74C95.8,-271.34 96.01,-258.6 96.21,-246.58\"/>\n",
       "<polygon fill=\"black\" stroke=\"black\" points=\"99.72,-246.32 96.39,-236.26 92.72,-246.2 99.72,-246.32\"/>\n",
       "</g>\n",
       "<!-- obs -->\n",
       "<g id=\"node8\" class=\"node\">\n",
       "<title>obs</title>\n",
       "<ellipse fill=\"lightgrey\" stroke=\"black\" cx=\"178\" cy=\"-76.48\" rx=\"50.41\" ry=\"37.45\"/>\n",
       "<text text-anchor=\"middle\" x=\"178\" y=\"-87.78\" font-family=\"Times,serif\" font-size=\"14.00\">obs</text>\n",
       "<text text-anchor=\"middle\" x=\"178\" y=\"-72.78\" font-family=\"Times,serif\" font-size=\"14.00\">~</text>\n",
       "<text text-anchor=\"middle\" x=\"178\" y=\"-57.78\" font-family=\"Times,serif\" font-size=\"14.00\">Poisson</text>\n",
       "</g>\n",
       "<!-- trial_lambda&#45;&gt;obs -->\n",
       "<g id=\"edge7\" class=\"edge\">\n",
       "<title>trial_lambda&#45;&gt;obs</title>\n",
       "<path fill=\"none\" stroke=\"black\" d=\"M120.43,-162.73C129.64,-149.1 140.29,-133.33 149.9,-119.08\"/>\n",
       "<polygon fill=\"black\" stroke=\"black\" points=\"153.04,-120.69 155.74,-110.45 147.24,-116.77 153.04,-120.69\"/>\n",
       "</g>\n",
       "<!-- b_tau -->\n",
       "<g id=\"node4\" class=\"node\">\n",
       "<title>b_tau</title>\n",
       "<ellipse fill=\"none\" stroke=\"black\" cx=\"419\" cy=\"-442.34\" rx=\"70.01\" ry=\"37.45\"/>\n",
       "<text text-anchor=\"middle\" x=\"419\" y=\"-453.64\" font-family=\"Times,serif\" font-size=\"14.00\">b_tau</text>\n",
       "<text text-anchor=\"middle\" x=\"419\" y=\"-438.64\" font-family=\"Times,serif\" font-size=\"14.00\">~</text>\n",
       "<text text-anchor=\"middle\" x=\"419\" y=\"-423.64\" font-family=\"Times,serif\" font-size=\"14.00\">HalfCauchy</text>\n",
       "</g>\n",
       "<!-- tau_latent -->\n",
       "<g id=\"node6\" class=\"node\">\n",
       "<title>tau_latent</title>\n",
       "<ellipse fill=\"none\" stroke=\"black\" cx=\"261\" cy=\"-320.38\" rx=\"62.87\" ry=\"37.45\"/>\n",
       "<text text-anchor=\"middle\" x=\"261\" y=\"-331.68\" font-family=\"Times,serif\" font-size=\"14.00\">tau_latent</text>\n",
       "<text text-anchor=\"middle\" x=\"261\" y=\"-316.68\" font-family=\"Times,serif\" font-size=\"14.00\">~</text>\n",
       "<text text-anchor=\"middle\" x=\"261\" y=\"-301.68\" font-family=\"Times,serif\" font-size=\"14.00\">Beta</text>\n",
       "</g>\n",
       "<!-- b_tau&#45;&gt;tau_latent -->\n",
       "<g id=\"edge3\" class=\"edge\">\n",
       "<title>b_tau&#45;&gt;tau_latent</title>\n",
       "<path fill=\"none\" stroke=\"black\" d=\"M383.96,-409.83C370.51,-398.16 354.83,-385.05 340,-373.86 331.15,-367.18 321.48,-360.38 312.04,-353.98\"/>\n",
       "<polygon fill=\"black\" stroke=\"black\" points=\"313.73,-350.9 303.47,-348.24 309.83,-356.71 313.73,-350.9\"/>\n",
       "</g>\n",
       "<!-- a_tau -->\n",
       "<g id=\"node5\" class=\"node\">\n",
       "<title>a_tau</title>\n",
       "<ellipse fill=\"none\" stroke=\"black\" cx=\"261\" cy=\"-442.34\" rx=\"70.01\" ry=\"37.45\"/>\n",
       "<text text-anchor=\"middle\" x=\"261\" y=\"-453.64\" font-family=\"Times,serif\" font-size=\"14.00\">a_tau</text>\n",
       "<text text-anchor=\"middle\" x=\"261\" y=\"-438.64\" font-family=\"Times,serif\" font-size=\"14.00\">~</text>\n",
       "<text text-anchor=\"middle\" x=\"261\" y=\"-423.64\" font-family=\"Times,serif\" font-size=\"14.00\">HalfCauchy</text>\n",
       "</g>\n",
       "<!-- a_tau&#45;&gt;tau_latent -->\n",
       "<g id=\"edge4\" class=\"edge\">\n",
       "<title>a_tau&#45;&gt;tau_latent</title>\n",
       "<path fill=\"none\" stroke=\"black\" d=\"M261,-404.69C261,-393.29 261,-380.55 261,-368.54\"/>\n",
       "<polygon fill=\"black\" stroke=\"black\" points=\"264.5,-368.21 261,-358.21 257.5,-368.21 264.5,-368.21\"/>\n",
       "</g>\n",
       "<!-- tau -->\n",
       "<g id=\"node7\" class=\"node\">\n",
       "<title>tau</title>\n",
       "<polygon fill=\"none\" stroke=\"black\" points=\"315,-224.93 201,-224.93 201,-171.93 315,-171.93 315,-224.93\"/>\n",
       "<text text-anchor=\"middle\" x=\"258\" y=\"-209.73\" font-family=\"Times,serif\" font-size=\"14.00\">tau</text>\n",
       "<text text-anchor=\"middle\" x=\"258\" y=\"-194.73\" font-family=\"Times,serif\" font-size=\"14.00\">~</text>\n",
       "<text text-anchor=\"middle\" x=\"258\" y=\"-179.73\" font-family=\"Times,serif\" font-size=\"14.00\">Deterministic</text>\n",
       "</g>\n",
       "<!-- tau_latent&#45;&gt;tau -->\n",
       "<g id=\"edge5\" class=\"edge\">\n",
       "<title>tau_latent&#45;&gt;tau</title>\n",
       "<path fill=\"none\" stroke=\"black\" d=\"M260.08,-282.74C259.71,-267.77 259.28,-250.51 258.9,-235.59\"/>\n",
       "<polygon fill=\"black\" stroke=\"black\" points=\"262.39,-235.11 258.64,-225.2 255.4,-235.29 262.39,-235.11\"/>\n",
       "</g>\n",
       "<!-- tau&#45;&gt;obs -->\n",
       "<g id=\"edge6\" class=\"edge\">\n",
       "<title>tau&#45;&gt;obs</title>\n",
       "<path fill=\"none\" stroke=\"black\" d=\"M240.84,-171.7C230.58,-156.32 217.31,-136.42 205.61,-118.87\"/>\n",
       "<polygon fill=\"black\" stroke=\"black\" points=\"208.47,-116.85 200.01,-110.48 202.64,-120.74 208.47,-116.85\"/>\n",
       "</g>\n",
       "</g>\n",
       "</svg>\n"
      ],
      "text/plain": [
       "<graphviz.dot.Digraph at 0x7fe9ec51a2e8>"
      ]
     },
     "execution_count": 87,
     "metadata": {},
     "output_type": "execute_result"
    }
   ],
   "source": [
    "pm.model_to_graphviz(model)"
   ]
  },
  {
   "cell_type": "code",
   "execution_count": 88,
   "metadata": {},
   "outputs": [
    {
     "data": {
      "text/html": [
       "\n",
       "    <div>\n",
       "        <style>\n",
       "            /* Turns off some styling */\n",
       "            progress {\n",
       "                /* gets rid of default border in Firefox and Opera. */\n",
       "                border: none;\n",
       "                /* Needs to be in here for Safari polyfill so background images work as expected. */\n",
       "                background-size: auto;\n",
       "            }\n",
       "            .progress-bar-interrupted, .progress-bar-interrupted::-webkit-progress-bar {\n",
       "                background: #F44336;\n",
       "            }\n",
       "        </style>\n",
       "      <progress value='100000' class='' max='100000' style='width:300px; height:20px; vertical-align: middle;'></progress>\n",
       "      100.00% [100000/100000 01:05<00:00 Average Loss = 3,957.1]\n",
       "    </div>\n",
       "    "
      ],
      "text/plain": [
       "<IPython.core.display.HTML object>"
      ]
     },
     "metadata": {},
     "output_type": "display_data"
    },
    {
     "name": "stderr",
     "output_type": "stream",
     "text": [
      "Finished [100%]: Average Loss = 3,956.9\n"
     ]
    }
   ],
   "source": [
    "with model:\n",
    "    inference = pm.ADVI('full-rank')\n",
    "    approx = pm.fit(n=fit, method=inference,\n",
    "                   random_seed = 3,\n",
    "                   obj_n_mc = 1)\n",
    "    trace = approx.sample(draws=samples)"
   ]
  },
  {
   "cell_type": "code",
   "execution_count": 89,
   "metadata": {},
   "outputs": [
    {
     "data": {
      "image/png": "[encoded data removed]",
      "text/plain": [
       "<Figure size 1080x360 with 2 Axes>"
      ]
     },
     "metadata": {
      "needs_background": "light"
     },
     "output_type": "display_data"
    }
   ],
   "source": [
    "fig,ax = plt.subplots(1,2,figsize=(15,5))\n",
    "ax[0].plot(-approx.hist, alpha=.3)\n",
    "ax[0].set_ylabel('ELBO')\n",
    "ax[0].set_xlabel('iteration');\n",
    "\n",
    "ind = int(fit - fit*0.05)\n",
    "ax[1].plot(-approx.hist[ind:], alpha=.3)\n",
    "ax[1].set_title('Final 5% of iterations')\n",
    "ax[1].set_ylabel('ELBO')\n",
    "ax[1].set_xlabel('iteration');"
   ]
  },
  {
   "cell_type": "code",
   "execution_count": 90,
   "metadata": {},
   "outputs": [
    {
     "data": {
      "text/html": [
       "\n",
       "    <div>\n",
       "        <style>\n",
       "            /* Turns off some styling */\n",
       "            progress {\n",
       "                /* gets rid of default border in Firefox and Opera. */\n",
       "                border: none;\n",
       "                /* Needs to be in here for Safari polyfill so background images work as expected. */\n",
       "                background-size: auto;\n",
       "            }\n",
       "            .progress-bar-interrupted, .progress-bar-interrupted::-webkit-progress-bar {\n",
       "                background: #F44336;\n",
       "            }\n",
       "        </style>\n",
       "      <progress value='2000' class='' max='2000' style='width:300px; height:20px; vertical-align: middle;'></progress>\n",
       "      100.00% [2000/2000 00:02<00:00]\n",
       "    </div>\n",
       "    "
      ],
      "text/plain": [
       "<IPython.core.display.HTML object>"
      ]
     },
     "metadata": {},
     "output_type": "display_data"
    }
   ],
   "source": [
    "ppc = pm.sample_posterior_predictive(trace, samples = 2000, model = model)"
   ]
  },
  {
   "cell_type": "code",
   "execution_count": 91,
   "metadata": {},
   "outputs": [],
   "source": [
    "trial_count = 5\n",
    "trial_inds = np.random.choice(np.arange(trials),5)"
   ]
  },
  {
   "cell_type": "code",
   "execution_count": 92,
   "metadata": {},
   "outputs": [
    {
     "name": "stderr",
     "output_type": "stream",
     "text": [
      "/media/bigdata/firing_space_plot/ephys_data/visualize.py:86: MatplotlibDeprecationWarning: shading='flat' when X and Y have the same dimensions as C is deprecated since 3.3.  Either specify the corners of the quadrilaterals with X and Y, or pass shading='auto', 'nearest' or 'gouraud', or set rcParams['pcolor.shading'].  This will become an error two minor releases later.\n",
      "  vmin = min_val[nrn], vmax = max_val[nrn])\n"
     ]
    },
    {
     "data": {
      "image/png": "[encoded data removed]",
      "text/plain": [
       "<Figure size 432x288 with 6 Axes>"
      ]
     },
     "metadata": {
      "needs_background": "light"
     },
     "output_type": "display_data"
    },
    {
     "data": {
      "image/png": "[encoded data removed]",
      "text/plain": [
       "<Figure size 432x288 with 6 Axes>"
      ]
     },
     "metadata": {
      "needs_background": "light"
     },
     "output_type": "display_data"
    }
   ],
   "source": [
    "vz.firing_overview(true_r[trial_inds],cmap='viridis');\n",
    "vz.firing_overview(np.mean(ppc['obs'],axis=0)[trial_inds],cmap='viridis');"
   ]
  },
  {
   "cell_type": "code",
   "execution_count": 93,
   "metadata": {},
   "outputs": [
    {
     "name": "stdout",
     "output_type": "stream",
     "text": [
      "(2000, 15, 2)\n",
      "(15, 2)\n"
     ]
    }
   ],
   "source": [
    "#min_val,max_val = min(true_r),max(true_r)\n",
    "tau = trace['tau']\n",
    "print(tau.shape)\n",
    "mode_tau = stats.mode(np.vectorize(np.int)(tau),axis=0)[0][0]\n",
    "print(mode_tau.shape)"
   ]
  },
  {
   "cell_type": "code",
   "execution_count": 94,
   "metadata": {},
   "outputs": [],
   "source": [
    "mean_lambda = trace['state_lambda'].mean(axis=0)"
   ]
  },
  {
   "cell_type": "code",
   "execution_count": 95,
   "metadata": {},
   "outputs": [
    {
     "data": {
      "text/plain": [
       "[<matplotlib.lines.Line2D at 0x7fe9f0797e10>]"
      ]
     },
     "execution_count": 95,
     "metadata": {},
     "output_type": "execute_result"
    },
    {
     "data": {
      "image/png": "[encoded data removed]",
      "text/plain": [
       "<Figure size 432x288 with 1 Axes>"
      ]
     },
     "metadata": {
      "needs_background": "light"
     },
     "output_type": "display_data"
    }
   ],
   "source": [
    "min_val, max_val = true_lambda.min(axis=None), true_lambda.max(axis=None)\n",
    "x = np.linspace(min_val, max_val)\n",
    "fig,ax = plt.subplots()\n",
    "ax.scatter(mean_lambda/2, true_lambda)\n",
    "ax.set_aspect('equal')\n",
    "ax.plot(x,x, color = 'red', linestyle = '--', alpha = 0.7)"
   ]
  },
  {
   "cell_type": "code",
   "execution_count": 96,
   "metadata": {},
   "outputs": [
    {
     "data": {
      "image/png": "[encoded data removed]",
      "text/plain": [
       "<Figure size 1440x720 with 15 Axes>"
      ]
     },
     "metadata": {
      "needs_background": "light"
     },
     "output_type": "display_data"
    }
   ],
   "source": [
    "fig,ax = plt.subplots(3,trial_count,sharex=True,figsize=(20,10))\n",
    "for trial_num,this_trial_ind in enumerate(trial_inds):\n",
    "    ax[0,trial_num].imshow(true_r[this_trial_ind][...,::bin_size],aspect='auto', interpolation='nearest')\n",
    "    ax[1,trial_num].imshow(data_array[this_trial_ind],aspect='auto', interpolation='nearest')\n",
    "    \n",
    "    for tau_num, this_tau in enumerate(tau[:,this_trial_ind].T):\n",
    "        ax[2,trial_num].hist(this_tau,bins=50)\n",
    "        ax[0,trial_num].vlines(mode_tau[this_trial_ind,tau_num],-0.5,nrns-0.5,color='red',alpha=1,linewidth=5, linestyles='dashed')"
   ]
  },
  {
   "cell_type": "code",
   "execution_count": null,
   "metadata": {},
   "outputs": [],
   "source": []
  }
 ],
 "metadata": {
  "kernelspec": {
   "display_name": "Python 3 (ipykernel)",
   "language": "python",
   "name": "python3"
  },
  "language_info": {
   "codemirror_mode": {
    "name": "ipython",
    "version": 3
   },
   "file_extension": ".py",
   "mimetype": "text/x-python",
   "name": "python",
   "nbconvert_exporter": "python",
   "pygments_lexer": "ipython3",
   "version": "3.6.13"
  }
 },
 "nbformat": 4,
 "nbformat_minor": 4
}
