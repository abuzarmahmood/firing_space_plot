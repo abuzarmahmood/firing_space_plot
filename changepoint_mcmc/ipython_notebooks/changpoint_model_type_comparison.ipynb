{
 "cells": [
  {
   "cell_type": "markdown",
   "metadata": {},
   "source": [
    "\"\"\"\n",
    "Generate data with specified changepoints\n",
    "Compare ELBO fits for changepoint model with different\n",
    "numbers of changepoints\n",
    "\"\"\""
   ]
  },
  {
   "cell_type": "code",
   "execution_count": 2,
   "metadata": {},
   "outputs": [],
   "source": [
    "import os\n",
    "os.environ['OMP_NUM_THREADS'] = '1'\n",
    "\n",
    "import pymc3 as pm\n",
    "import theano.tensor as tt\n",
    "from scipy import stats\n",
    "import numpy as np\n",
    "import pylab as plt\n",
    "import sys\n",
    "sys.path.append('/media/bigdata/firing_space_plot/ephys_data')\n",
    "from time import time\n",
    "\n",
    "sys.path.append('/media/bigdata/projects/parametric_firing/src')\n",
    "from hierarchical_fake_firing import fake_poisson_firing\n",
    "from poisson_changepoint_models import (return_unpooled_model, \n",
    "                                        return_pooled_model,\n",
    "                                        return_hierarchical_model,\n",
    "                                        fit_model,)"
   ]
  },
  {
   "cell_type": "code",
   "execution_count": 15,
   "metadata": {},
   "outputs": [],
   "source": [
    "def firing_properties(data_array):\n",
    "    # average for whole dataset\n",
    "    mean_total_firing = data_array.mean(axis=None)\n",
    "    # max average firing for a neuron\n",
    "    max_neuron_firing = np.max(data_array.mean(axis=(0,2)))\n",
    "    return mean_total_firing, max_neuron_firing"
   ]
  },
  {
   "cell_type": "code",
   "execution_count": 10,
   "metadata": {},
   "outputs": [],
   "source": [
    "# Params to test:\n",
    "# 1) neuron count\n",
    "# 2) trials count\n",
    "# 3) states count\n",
    "# 4) emission rate\n",
    "# 5) emission jitter\n",
    "\n",
    "firing_params = dict(\n",
    "        n_nrns = 7,\n",
    "        n_trials = 15,\n",
    "        n_states = 3,\n",
    "        duration = 1000,\n",
    "        min_duration = 200,\n",
    "        ceil_p = 0.1,\n",
    "        jitter_p = 0.2,\n",
    "        bin_size = 25\n",
    "        )\n",
    "\n",
    "fit_params = dict(\n",
    "        n_fit = int(1e5),\n",
    "        n_samples = 2000\n",
    ")\n",
    "\n",
    "data_array, true_r, true_tau, state_inds, trial_p = fake_poisson_firing(**firing_params)"
   ]
  },
  {
   "cell_type": "code",
   "execution_count": 11,
   "metadata": {},
   "outputs": [],
   "source": [
    "model_gen_funcs = [return_unpooled_model,\n",
    "                  return_pooled_model,\n",
    "                  return_hierarchical_model]\n",
    "model_params = [data_array, firing_params['n_states']]\n",
    "model_names = [x.__name__[7:] for x in model_gen_funcs]\n",
    "model_list = [f(*model_params) for f in model_gen_funcs]"
   ]
  },
  {
   "cell_type": "code",
   "execution_count": 12,
   "metadata": {},
   "outputs": [
    {
     "data": {
      "text/html": [
       "\n",
       "    <div>\n",
       "        <style>\n",
       "            /* Turns off some styling */\n",
       "            progress {\n",
       "                /* gets rid of default border in Firefox and Opera. */\n",
       "                border: none;\n",
       "                /* Needs to be in here for Safari polyfill so background images work as expected. */\n",
       "                background-size: auto;\n",
       "            }\n",
       "            .progress-bar-interrupted, .progress-bar-interrupted::-webkit-progress-bar {\n",
       "                background: #F44336;\n",
       "            }\n",
       "        </style>\n",
       "      <progress value='100000' class='' max='100000' style='width:300px; height:20px; vertical-align: middle;'></progress>\n",
       "      100.00% [100000/100000 01:00<00:00 Average Loss = 4,441.1]\n",
       "    </div>\n",
       "    "
      ],
      "text/plain": [
       "<IPython.core.display.HTML object>"
      ]
     },
     "metadata": {},
     "output_type": "display_data"
    },
    {
     "name": "stderr",
     "output_type": "stream",
     "text": [
      "Finished [100%]: Average Loss = 4,441.2\n"
     ]
    },
    {
     "data": {
      "text/html": [
       "\n",
       "    <div>\n",
       "        <style>\n",
       "            /* Turns off some styling */\n",
       "            progress {\n",
       "                /* gets rid of default border in Firefox and Opera. */\n",
       "                border: none;\n",
       "                /* Needs to be in here for Safari polyfill so background images work as expected. */\n",
       "                background-size: auto;\n",
       "            }\n",
       "            .progress-bar-interrupted, .progress-bar-interrupted::-webkit-progress-bar {\n",
       "                background: #F44336;\n",
       "            }\n",
       "        </style>\n",
       "      <progress value='100000' class='' max='100000' style='width:300px; height:20px; vertical-align: middle;'></progress>\n",
       "      100.00% [100000/100000 00:38<00:00 Average Loss = 3,864.4]\n",
       "    </div>\n",
       "    "
      ],
      "text/plain": [
       "<IPython.core.display.HTML object>"
      ]
     },
     "metadata": {},
     "output_type": "display_data"
    },
    {
     "name": "stderr",
     "output_type": "stream",
     "text": [
      "Finished [100%]: Average Loss = 3,864.5\n"
     ]
    },
    {
     "data": {
      "text/html": [
       "\n",
       "    <div>\n",
       "        <style>\n",
       "            /* Turns off some styling */\n",
       "            progress {\n",
       "                /* gets rid of default border in Firefox and Opera. */\n",
       "                border: none;\n",
       "                /* Needs to be in here for Safari polyfill so background images work as expected. */\n",
       "                background-size: auto;\n",
       "            }\n",
       "            .progress-bar-interrupted, .progress-bar-interrupted::-webkit-progress-bar {\n",
       "                background: #F44336;\n",
       "            }\n",
       "        </style>\n",
       "      <progress value='100000' class='' max='100000' style='width:300px; height:20px; vertical-align: middle;'></progress>\n",
       "      100.00% [100000/100000 01:03<00:00 Average Loss = 4,030.4]\n",
       "    </div>\n",
       "    "
      ],
      "text/plain": [
       "<IPython.core.display.HTML object>"
      ]
     },
     "metadata": {},
     "output_type": "display_data"
    },
    {
     "name": "stderr",
     "output_type": "stream",
     "text": [
      "Finished [100%]: Average Loss = 4,030.8\n"
     ]
    },
    {
     "name": "stdout",
     "output_type": "stream",
     "text": [
      "[63.507073163986206, 41.43665051460266, 66.8029396533966]\n"
     ]
    }
   ],
   "source": [
    "time_list = []\n",
    "trace_list = []\n",
    "\n",
    "for model in model_list:\n",
    "    start_t = time()\n",
    "    trace, approx = fit_model(model, **fit_params)\n",
    "    trace_list.append(trace)\n",
    "    time_taken = time() - start_t\n",
    "    time_list.append(time_taken)\n",
    "    \n",
    "print(time_list)"
   ]
  },
  {
   "cell_type": "code",
   "execution_count": 13,
   "metadata": {},
   "outputs": [],
   "source": [
    "mode_tau_list = []\n",
    "for trace in trace_list:\n",
    "    tau = trace['tau']\n",
    "    mode_tau = stats.mode(np.vectorize(np.int)(tau),axis=0)[0][0]\n",
    "    mode_tau_list.append(mode_tau)\n",
    "tau_errors = [np.abs(true_tau - x).flatten() for x in mode_tau_list]"
   ]
  },
  {
   "cell_type": "code",
   "execution_count": 49,
   "metadata": {},
   "outputs": [],
   "source": [
    "model_dict = {f'{this_name}' : dict(error = this_error, runtime = this_time) \\\n",
    "              for this_name, this_error, this_time \\\n",
    "              in zip(model_names, tau_errors, time_list)}\n",
    "out_dict = dict(\n",
    "    **dict(\n",
    "        zip(\n",
    "            ['mean_total_firing', 'max_neuron_firing'], \n",
    "            firing_properties(data_array)\n",
    "        )\n",
    "    ),\n",
    "    **model_dict,\n",
    "    **firing_params,\n",
    ")"
   ]
  },
  {
   "cell_type": "code",
   "execution_count": 50,
   "metadata": {},
   "outputs": [
    {
     "data": {
      "text/plain": [
       "{'mean_total_firing': 0.6630952380952381,\n",
       " 'max_neuron_firing': 1.6733333333333333,\n",
       " 'unpooled_model': {'error': array([16,  1, 10,  1, 12,  1, 16,  0, 13,  3, 16,  0, 16,  3,  7,  1, 19,\n",
       "          1, 15,  1,  8,  2, 15,  3, 16,  6, 14,  2, 16,  0]),\n",
       "  'runtime': 63.507073163986206},\n",
       " 'pooled_model': {'error': array([1, 1, 1, 2, 0, 0, 0, 0, 1, 1, 0, 0, 1, 1, 2, 1, 1, 1, 1, 1, 2, 0,\n",
       "         1, 2, 1, 0, 4, 1, 0, 1]),\n",
       "  'runtime': 41.43665051460266},\n",
       " 'hierarchical_model': {'error': array([13,  0,  2,  2, 10,  0,  2,  0,  2,  1,  3,  0,  1,  1,  1,  1, 10,\n",
       "          1,  8,  1,  1,  0, 11,  2, 10,  1, 10,  1,  6,  1]),\n",
       "  'runtime': 66.8029396533966},\n",
       " 'n_nrns': 7,\n",
       " 'n_trials': 15,\n",
       " 'n_states': 3,\n",
       " 'duration': 1000,\n",
       " 'min_duration': 200,\n",
       " 'ceil_p': 0.1,\n",
       " 'jitter_p': 0.2,\n",
       " 'bin_size': 25}"
      ]
     },
     "execution_count": 50,
     "metadata": {},
     "output_type": "execute_result"
    }
   ],
   "source": [
    "out_dict"
   ]
  },
  {
   "cell_type": "code",
   "execution_count": null,
   "metadata": {},
   "outputs": [],
   "source": []
  }
 ],
 "metadata": {
  "kernelspec": {
   "display_name": "Python 3 (ipykernel)",
   "language": "python",
   "name": "python3"
  },
  "language_info": {
   "codemirror_mode": {
    "name": "ipython",
    "version": 3
   },
   "file_extension": ".py",
   "mimetype": "text/x-python",
   "name": "python",
   "nbconvert_exporter": "python",
   "pygments_lexer": "ipython3",
   "version": "3.6.13"
  }
 },
 "nbformat": 4,
 "nbformat_minor": 4
}
