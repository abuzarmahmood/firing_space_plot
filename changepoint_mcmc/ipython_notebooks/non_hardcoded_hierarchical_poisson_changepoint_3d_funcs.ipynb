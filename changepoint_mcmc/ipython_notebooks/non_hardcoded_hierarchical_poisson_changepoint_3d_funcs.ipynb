{
 "cells": [
  {
   "cell_type": "markdown",
   "metadata": {},
   "source": [
    "\"\"\"\n",
    "Generate data with specified changepoints\n",
    "Compare ELBO fits for changepoint model with different\n",
    "numbers of changepoints\n",
    "\"\"\""
   ]
  },
  {
   "cell_type": "code",
   "execution_count": 1,
   "metadata": {},
   "outputs": [],
   "source": [
    "import pymc3 as pm\n",
    "import theano.tensor as tt\n",
    "from scipy import stats\n",
    "import numpy as np\n",
    "import pylab as plt\n",
    "import sys\n",
    "sys.path.append('/media/bigdata/firing_space_plot/ephys_data')\n",
    "from ephys_data import ephys_data\n",
    "import visualize as vz\n",
    "from time import time\n",
    "\n",
    "sys.path.append('/media/bigdata/projects/parametric_firing/src')\n",
    "from hierarchical_fake_firing import fake_poisson_firing\n",
    "from poisson_changepoint_models import (return_unpooled_model, \n",
    "                                        return_hierarchical_model,\n",
    "                                        fit_model,)"
   ]
  },
  {
   "cell_type": "code",
   "execution_count": 2,
   "metadata": {},
   "outputs": [
    {
     "name": "stderr",
     "output_type": "stream",
     "text": [
      "/media/bigdata/firing_space_plot/ephys_data/visualize.py:86: MatplotlibDeprecationWarning: shading='flat' when X and Y have the same dimensions as C is deprecated since 3.3.  Either specify the corners of the quadrilaterals with X and Y, or pass shading='auto', 'nearest' or 'gouraud', or set rcParams['pcolor.shading'].  This will become an error two minor releases later.\n",
      "  vmin = min_val[nrn], vmax = max_val[nrn])\n"
     ]
    },
    {
     "data": {
      "image/png": "[encoded data removed]",
      "text/plain": [
       "<Figure size 432x288 with 6 Axes>"
      ]
     },
     "metadata": {
      "needs_background": "light"
     },
     "output_type": "display_data"
    },
    {
     "data": {
      "image/png": "[encoded data removed]",
      "text/plain": [
       "<Figure size 432x288 with 6 Axes>"
      ]
     },
     "metadata": {
      "needs_background": "light"
     },
     "output_type": "display_data"
    }
   ],
   "source": [
    "firing_params = dict(\n",
    "        n_nrns = 7,\n",
    "        n_trials = 5,\n",
    "        n_states = 3,\n",
    "        duration = 1000,\n",
    "        min_duration = 200,\n",
    "        ceil_p = 0.1,\n",
    "        jitter_p = 0.2,\n",
    "        bin_size = 25\n",
    "        )\n",
    "\n",
    "fit_params = dict(\n",
    "        n_fit = int(1e5),\n",
    "        n_samples = 2000\n",
    ")\n",
    "\n",
    "data_array, true_r, true_tau, state_inds, trial_p = fake_poisson_firing(**firing_params)\n",
    "\n",
    "trial_count = 5\n",
    "trial_inds = np.random.choice(np.arange(firing_params['n_trials']),5)\n",
    "vz.firing_overview(true_r[trial_inds]);\n",
    "vz.firing_overview(data_array[trial_inds], cmap='viridis');"
   ]
  },
  {
   "cell_type": "code",
   "execution_count": 3,
   "metadata": {},
   "outputs": [],
   "source": [
    "hierarchical_model = return_hierarchical_model(data_array, firing_params['n_states'])"
   ]
  },
  {
   "cell_type": "code",
   "execution_count": 5,
   "metadata": {},
   "outputs": [
    {
     "data": {
      "image/svg+xml": [
       "<?xml version=\"1.0\" encoding=\"UTF-8\" standalone=\"no\"?>\n",
       "<!DOCTYPE svg PUBLIC \"-//W3C//DTD SVG 1.1//EN\"\n",
       " \"http://www.w3.org/Graphics/SVG/1.1/DTD/svg11.dtd\">\n",
       "<!-- Generated by graphviz version 2.48.0 (20210717.2242)\n",
       " -->\n",
       "<!-- Pages: 1 -->\n",
       "<svg width=\"518pt\" height=\"504pt\"\n",
       " viewBox=\"0.00 0.00 518.00 503.81\" xmlns=\"http://www.w3.org/2000/svg\" xmlns:xlink=\"http://www.w3.org/1999/xlink\">\n",
       "<g id=\"graph0\" class=\"graph\" transform=\"scale(1 1) rotate(0) translate(4 499.81)\">\n",
       "<polygon fill=\"white\" stroke=\"transparent\" points=\"-4,4 -4,-499.81 514,-499.81 514,4 -4,4\"/>\n",
       "<g id=\"clust1\" class=\"cluster\">\n",
       "<title>cluster7</title>\n",
       "<path fill=\"none\" stroke=\"black\" d=\"M27,-373.86C27,-373.86 163,-373.86 163,-373.86 169,-373.86 175,-379.86 175,-385.86 175,-385.86 175,-475.81 175,-475.81 175,-481.81 169,-487.81 163,-487.81 163,-487.81 27,-487.81 27,-487.81 21,-487.81 15,-481.81 15,-475.81 15,-475.81 15,-385.86 15,-385.86 15,-379.86 21,-373.86 27,-373.86\"/>\n",
       "<text text-anchor=\"middle\" x=\"162\" y=\"-381.66\" font-family=\"Times,serif\" font-size=\"14.00\">7</text>\n",
       "</g>\n",
       "<g id=\"clust2\" class=\"cluster\">\n",
       "<title>cluster7 x 3</title>\n",
       "<path fill=\"none\" stroke=\"black\" d=\"M20,-251.91C20,-251.91 170,-251.91 170,-251.91 176,-251.91 182,-257.91 182,-263.91 182,-263.91 182,-353.86 182,-353.86 182,-359.86 176,-365.86 170,-365.86 170,-365.86 20,-365.86 20,-365.86 14,-365.86 8,-359.86 8,-353.86 8,-353.86 8,-263.91 8,-263.91 8,-257.91 14,-251.91 20,-251.91\"/>\n",
       "<text text-anchor=\"middle\" x=\"156\" y=\"-259.71\" font-family=\"Times,serif\" font-size=\"14.00\">7 x 3</text>\n",
       "</g>\n",
       "<g id=\"clust3\" class=\"cluster\">\n",
       "<title>cluster7 x 3 x 5</title>\n",
       "<path fill=\"none\" stroke=\"black\" d=\"M26,-129.95C26,-129.95 168,-129.95 168,-129.95 174,-129.95 180,-135.95 180,-141.95 180,-141.95 180,-231.91 180,-231.91 180,-237.91 174,-243.91 168,-243.91 168,-243.91 26,-243.91 26,-243.91 20,-243.91 14,-237.91 14,-231.91 14,-231.91 14,-141.95 14,-141.95 14,-135.95 20,-129.95 26,-129.95\"/>\n",
       "<text text-anchor=\"middle\" x=\"141\" y=\"-137.75\" font-family=\"Times,serif\" font-size=\"14.00\">7 x 3 x 5</text>\n",
       "</g>\n",
       "<g id=\"clust4\" class=\"cluster\">\n",
       "<title>cluster2</title>\n",
       "<path fill=\"none\" stroke=\"black\" d=\"M200,-373.86C200,-373.86 490,-373.86 490,-373.86 496,-373.86 502,-379.86 502,-385.86 502,-385.86 502,-475.81 502,-475.81 502,-481.81 496,-487.81 490,-487.81 490,-487.81 200,-487.81 200,-487.81 194,-487.81 188,-481.81 188,-475.81 188,-475.81 188,-385.86 188,-385.86 188,-379.86 194,-373.86 200,-373.86\"/>\n",
       "<text text-anchor=\"middle\" x=\"489\" y=\"-381.66\" font-family=\"Times,serif\" font-size=\"14.00\">2</text>\n",
       "</g>\n",
       "<g id=\"clust5\" class=\"cluster\">\n",
       "<title>cluster5 x 2</title>\n",
       "<path fill=\"none\" stroke=\"black\" d=\"M202,-140.93C202,-140.93 342,-140.93 342,-140.93 348,-140.93 354,-146.93 354,-152.93 354,-152.93 354,-353.86 354,-353.86 354,-359.86 348,-365.86 342,-365.86 342,-365.86 202,-365.86 202,-365.86 196,-365.86 190,-359.86 190,-353.86 190,-353.86 190,-152.93 190,-152.93 190,-146.93 196,-140.93 202,-140.93\"/>\n",
       "<text text-anchor=\"middle\" x=\"328\" y=\"-148.73\" font-family=\"Times,serif\" font-size=\"14.00\">5 x 2</text>\n",
       "</g>\n",
       "<g id=\"clust6\" class=\"cluster\">\n",
       "<title>cluster5 x 7 x 40</title>\n",
       "<path fill=\"none\" stroke=\"black\" d=\"M135,-8C135,-8 227,-8 227,-8 233,-8 239,-14 239,-20 239,-20 239,-109.95 239,-109.95 239,-115.95 233,-121.95 227,-121.95 227,-121.95 135,-121.95 135,-121.95 129,-121.95 123,-115.95 123,-109.95 123,-109.95 123,-20 123,-20 123,-14 129,-8 135,-8\"/>\n",
       "<text text-anchor=\"middle\" x=\"195.5\" y=\"-15.8\" font-family=\"Times,serif\" font-size=\"14.00\">5 x 7 x 40</text>\n",
       "</g>\n",
       "<!-- nrn_lambda -->\n",
       "<g id=\"node1\" class=\"node\">\n",
       "<title>nrn_lambda</title>\n",
       "<ellipse fill=\"none\" stroke=\"black\" cx=\"95\" cy=\"-442.34\" rx=\"72.25\" ry=\"37.45\"/>\n",
       "<text text-anchor=\"middle\" x=\"95\" y=\"-453.64\" font-family=\"Times,serif\" font-size=\"14.00\">nrn_lambda</text>\n",
       "<text text-anchor=\"middle\" x=\"95\" y=\"-438.64\" font-family=\"Times,serif\" font-size=\"14.00\">~</text>\n",
       "<text text-anchor=\"middle\" x=\"95\" y=\"-423.64\" font-family=\"Times,serif\" font-size=\"14.00\">Exponential</text>\n",
       "</g>\n",
       "<!-- state_lambda -->\n",
       "<g id=\"node2\" class=\"node\">\n",
       "<title>state_lambda</title>\n",
       "<ellipse fill=\"none\" stroke=\"black\" cx=\"95\" cy=\"-320.38\" rx=\"79.39\" ry=\"37.45\"/>\n",
       "<text text-anchor=\"middle\" x=\"95\" y=\"-331.68\" font-family=\"Times,serif\" font-size=\"14.00\">state_lambda</text>\n",
       "<text text-anchor=\"middle\" x=\"95\" y=\"-316.68\" font-family=\"Times,serif\" font-size=\"14.00\">~</text>\n",
       "<text text-anchor=\"middle\" x=\"95\" y=\"-301.68\" font-family=\"Times,serif\" font-size=\"14.00\">Exponential</text>\n",
       "</g>\n",
       "<!-- nrn_lambda&#45;&gt;state_lambda -->\n",
       "<g id=\"edge1\" class=\"edge\">\n",
       "<title>nrn_lambda&#45;&gt;state_lambda</title>\n",
       "<path fill=\"none\" stroke=\"black\" d=\"M95,-404.69C95,-393.29 95,-380.55 95,-368.54\"/>\n",
       "<polygon fill=\"black\" stroke=\"black\" points=\"98.5,-368.21 95,-358.21 91.5,-368.21 98.5,-368.21\"/>\n",
       "</g>\n",
       "<!-- trial_lambda -->\n",
       "<g id=\"node3\" class=\"node\">\n",
       "<title>trial_lambda</title>\n",
       "<ellipse fill=\"none\" stroke=\"black\" cx=\"97\" cy=\"-198.43\" rx=\"74.91\" ry=\"37.45\"/>\n",
       "<text text-anchor=\"middle\" x=\"97\" y=\"-209.73\" font-family=\"Times,serif\" font-size=\"14.00\">trial_lambda</text>\n",
       "<text text-anchor=\"middle\" x=\"97\" y=\"-194.73\" font-family=\"Times,serif\" font-size=\"14.00\">~</text>\n",
       "<text text-anchor=\"middle\" x=\"97\" y=\"-179.73\" font-family=\"Times,serif\" font-size=\"14.00\">Exponential</text>\n",
       "</g>\n",
       "<!-- state_lambda&#45;&gt;trial_lambda -->\n",
       "<g id=\"edge2\" class=\"edge\">\n",
       "<title>state_lambda&#45;&gt;trial_lambda</title>\n",
       "<path fill=\"none\" stroke=\"black\" d=\"M95.61,-282.74C95.8,-271.34 96.01,-258.6 96.21,-246.58\"/>\n",
       "<polygon fill=\"black\" stroke=\"black\" points=\"99.72,-246.32 96.39,-236.26 92.72,-246.2 99.72,-246.32\"/>\n",
       "</g>\n",
       "<!-- obs -->\n",
       "<g id=\"node8\" class=\"node\">\n",
       "<title>obs</title>\n",
       "<ellipse fill=\"lightgrey\" stroke=\"black\" cx=\"181\" cy=\"-76.48\" rx=\"50.41\" ry=\"37.45\"/>\n",
       "<text text-anchor=\"middle\" x=\"181\" y=\"-87.78\" font-family=\"Times,serif\" font-size=\"14.00\">obs</text>\n",
       "<text text-anchor=\"middle\" x=\"181\" y=\"-72.78\" font-family=\"Times,serif\" font-size=\"14.00\">~</text>\n",
       "<text text-anchor=\"middle\" x=\"181\" y=\"-57.78\" font-family=\"Times,serif\" font-size=\"14.00\">Poisson</text>\n",
       "</g>\n",
       "<!-- trial_lambda&#45;&gt;obs -->\n",
       "<g id=\"edge7\" class=\"edge\">\n",
       "<title>trial_lambda&#45;&gt;obs</title>\n",
       "<path fill=\"none\" stroke=\"black\" d=\"M121.3,-162.73C131.02,-148.85 142.29,-132.76 152.4,-118.32\"/>\n",
       "<polygon fill=\"black\" stroke=\"black\" points=\"155.33,-120.24 158.2,-110.04 149.6,-116.22 155.33,-120.24\"/>\n",
       "</g>\n",
       "<!-- b_tau -->\n",
       "<g id=\"node4\" class=\"node\">\n",
       "<title>b_tau</title>\n",
       "<ellipse fill=\"none\" stroke=\"black\" cx=\"424\" cy=\"-442.34\" rx=\"70.01\" ry=\"37.45\"/>\n",
       "<text text-anchor=\"middle\" x=\"424\" y=\"-453.64\" font-family=\"Times,serif\" font-size=\"14.00\">b_tau</text>\n",
       "<text text-anchor=\"middle\" x=\"424\" y=\"-438.64\" font-family=\"Times,serif\" font-size=\"14.00\">~</text>\n",
       "<text text-anchor=\"middle\" x=\"424\" y=\"-423.64\" font-family=\"Times,serif\" font-size=\"14.00\">HalfCauchy</text>\n",
       "</g>\n",
       "<!-- tau_latentn_ -->\n",
       "<g id=\"node7\" class=\"node\">\n",
       "<title>tau_latentn_</title>\n",
       "<ellipse fill=\"none\" stroke=\"black\" cx=\"272\" cy=\"-320.38\" rx=\"73.58\" ry=\"37.45\"/>\n",
       "<text text-anchor=\"middle\" x=\"272\" y=\"-331.68\" font-family=\"Times,serif\" font-size=\"14.00\">tau_latentn_</text>\n",
       "<text text-anchor=\"middle\" x=\"272\" y=\"-316.68\" font-family=\"Times,serif\" font-size=\"14.00\">~</text>\n",
       "<text text-anchor=\"middle\" x=\"272\" y=\"-301.68\" font-family=\"Times,serif\" font-size=\"14.00\">Beta</text>\n",
       "</g>\n",
       "<!-- b_tau&#45;&gt;tau_latentn_ -->\n",
       "<g id=\"edge4\" class=\"edge\">\n",
       "<title>b_tau&#45;&gt;tau_latentn_</title>\n",
       "<path fill=\"none\" stroke=\"black\" d=\"M388.35,-409.79C374.96,-398.23 359.48,-385.21 345,-373.86 337.87,-368.27 330.23,-362.52 322.67,-356.97\"/>\n",
       "<polygon fill=\"black\" stroke=\"black\" points=\"324.67,-354.09 314.52,-351.04 320.55,-359.75 324.67,-354.09\"/>\n",
       "</g>\n",
       "<!-- a_tau -->\n",
       "<g id=\"node5\" class=\"node\">\n",
       "<title>a_tau</title>\n",
       "<ellipse fill=\"none\" stroke=\"black\" cx=\"266\" cy=\"-442.34\" rx=\"70.01\" ry=\"37.45\"/>\n",
       "<text text-anchor=\"middle\" x=\"266\" y=\"-453.64\" font-family=\"Times,serif\" font-size=\"14.00\">a_tau</text>\n",
       "<text text-anchor=\"middle\" x=\"266\" y=\"-438.64\" font-family=\"Times,serif\" font-size=\"14.00\">~</text>\n",
       "<text text-anchor=\"middle\" x=\"266\" y=\"-423.64\" font-family=\"Times,serif\" font-size=\"14.00\">HalfCauchy</text>\n",
       "</g>\n",
       "<!-- a_tau&#45;&gt;tau_latentn_ -->\n",
       "<g id=\"edge3\" class=\"edge\">\n",
       "<title>a_tau&#45;&gt;tau_latentn_</title>\n",
       "<path fill=\"none\" stroke=\"black\" d=\"M267.83,-404.69C268.4,-393.29 269.04,-380.55 269.64,-368.54\"/>\n",
       "<polygon fill=\"black\" stroke=\"black\" points=\"273.15,-368.38 270.16,-358.21 266.16,-368.03 273.15,-368.38\"/>\n",
       "</g>\n",
       "<!-- tau -->\n",
       "<g id=\"node6\" class=\"node\">\n",
       "<title>tau</title>\n",
       "<polygon fill=\"none\" stroke=\"black\" points=\"320,-224.93 206,-224.93 206,-171.93 320,-171.93 320,-224.93\"/>\n",
       "<text text-anchor=\"middle\" x=\"263\" y=\"-209.73\" font-family=\"Times,serif\" font-size=\"14.00\">tau</text>\n",
       "<text text-anchor=\"middle\" x=\"263\" y=\"-194.73\" font-family=\"Times,serif\" font-size=\"14.00\">~</text>\n",
       "<text text-anchor=\"middle\" x=\"263\" y=\"-179.73\" font-family=\"Times,serif\" font-size=\"14.00\">Deterministic</text>\n",
       "</g>\n",
       "<!-- tau&#45;&gt;obs -->\n",
       "<g id=\"edge6\" class=\"edge\">\n",
       "<title>tau&#45;&gt;obs</title>\n",
       "<path fill=\"none\" stroke=\"black\" d=\"M245.41,-171.7C234.89,-156.32 221.29,-136.42 209.3,-118.87\"/>\n",
       "<polygon fill=\"black\" stroke=\"black\" points=\"212.09,-116.76 203.56,-110.48 206.31,-120.71 212.09,-116.76\"/>\n",
       "</g>\n",
       "<!-- tau_latentn_&#45;&gt;tau -->\n",
       "<g id=\"edge5\" class=\"edge\">\n",
       "<title>tau_latentn_&#45;&gt;tau</title>\n",
       "<path fill=\"none\" stroke=\"black\" d=\"M269.25,-282.74C268.13,-267.77 266.83,-250.51 265.71,-235.59\"/>\n",
       "<polygon fill=\"black\" stroke=\"black\" points=\"269.17,-234.91 264.93,-225.2 262.19,-235.44 269.17,-234.91\"/>\n",
       "</g>\n",
       "</g>\n",
       "</svg>\n"
      ],
      "text/plain": [
       "<graphviz.dot.Digraph at 0x7f376025cef0>"
      ]
     },
     "execution_count": 5,
     "metadata": {},
     "output_type": "execute_result"
    }
   ],
   "source": [
    "pm.model_to_graphviz(hierarchical_model)"
   ]
  },
  {
   "cell_type": "code",
   "execution_count": 6,
   "metadata": {},
   "outputs": [
    {
     "data": {
      "text/html": [
       "\n",
       "    <div>\n",
       "        <style>\n",
       "            /* Turns off some styling */\n",
       "            progress {\n",
       "                /* gets rid of default border in Firefox and Opera. */\n",
       "                border: none;\n",
       "                /* Needs to be in here for Safari polyfill so background images work as expected. */\n",
       "                background-size: auto;\n",
       "            }\n",
       "            .progress-bar-interrupted, .progress-bar-interrupted::-webkit-progress-bar {\n",
       "                background: #F44336;\n",
       "            }\n",
       "        </style>\n",
       "      <progress value='100000' class='' max='100000' style='width:300px; height:20px; vertical-align: middle;'></progress>\n",
       "      100.00% [100000/100000 00:38<00:00 Average Loss = 1,365.7]\n",
       "    </div>\n",
       "    "
      ],
      "text/plain": [
       "<IPython.core.display.HTML object>"
      ]
     },
     "metadata": {},
     "output_type": "display_data"
    },
    {
     "name": "stderr",
     "output_type": "stream",
     "text": [
      "Finished [100%]: Average Loss = 1,365.6\n"
     ]
    }
   ],
   "source": [
    "start_t = time()\n",
    "trace, approx = fit_model(hierarchical_model, **fit_params)\n",
    "time_taken = time() - start_t\n",
    "print(time_taken)"
   ]
  },
  {
   "cell_type": "code",
   "execution_count": 7,
   "metadata": {},
   "outputs": [
    {
     "name": "stdout",
     "output_type": "stream",
     "text": [
      "(2000, 5, 2)\n",
      "(5, 2)\n"
     ]
    }
   ],
   "source": [
    "trial_count = 5\n",
    "trial_inds = np.random.choice(np.arange(firing_params['n_trials']),5, replace=False)\n",
    "\n",
    "#min_val,max_val = min(true_r),max(true_r)\n",
    "tau = trace['tau']\n",
    "print(tau.shape)\n",
    "mode_tau = stats.mode(np.vectorize(np.int)(tau),axis=0)[0][0]\n",
    "print(mode_tau.shape)"
   ]
  },
  {
   "cell_type": "code",
   "execution_count": 8,
   "metadata": {},
   "outputs": [
    {
     "data": {
      "image/png": "[encoded data removed]",
      "text/plain": [
       "<Figure size 1440x720 with 15 Axes>"
      ]
     },
     "metadata": {
      "needs_background": "light"
     },
     "output_type": "display_data"
    }
   ],
   "source": [
    "fig,ax = plt.subplots(3,trial_count,sharex=True,figsize=(20,10))\n",
    "for trial_num,this_trial_ind in enumerate(trial_inds):\n",
    "    ax[0,trial_num].imshow(true_r[this_trial_ind],aspect='auto', interpolation='nearest')\n",
    "    ax[1,trial_num].imshow(data_array[this_trial_ind],aspect='auto', interpolation='nearest')\n",
    "    \n",
    "    for tau_num, this_tau in enumerate(tau[:,this_trial_ind].T):\n",
    "        ax[2,trial_num].hist(this_tau,bins=50)\n",
    "        ax[0,trial_num].vlines(mode_tau[this_trial_ind,tau_num],\n",
    "                               -0.5,\n",
    "                               firing_params['n_nrns']-0.5,\n",
    "                               color='red',alpha=1,linewidth=5, linestyles='dashed')"
   ]
  },
  {
   "cell_type": "code",
   "execution_count": 12,
   "metadata": {},
   "outputs": [
    {
     "name": "stdout",
     "output_type": "stream",
     "text": [
      "[1 1 0 0 5 4 2 1 0 9]\n"
     ]
    }
   ],
   "source": [
    "tau_errors = np.abs(true_tau - mode_tau).flatten()\n",
    "print(tau_errors)\n",
    "#mean_error, std_error = tau_errors.mean(), tau_errors.std()"
   ]
  },
  {
   "cell_type": "code",
   "execution_count": 13,
   "metadata": {},
   "outputs": [],
   "source": [
    "def firing_properties(data_array):\n",
    "    # average for whole dataset\n",
    "    mean_total_firing = data_array.mean(axis=None)\n",
    "    # max average firing for a neuron\n",
    "    max_neuron_firing = np.max(data_array.mean(axis=(0,2)))\n",
    "    return mean_total_firing, max_neuron_firing"
   ]
  },
  {
   "cell_type": "code",
   "execution_count": 14,
   "metadata": {},
   "outputs": [
    {
     "data": {
      "text/plain": [
       "(0.6228571428571429, 1.1)"
      ]
     },
     "execution_count": 14,
     "metadata": {},
     "output_type": "execute_result"
    }
   ],
   "source": [
    "firing_properties(data_array)"
   ]
  },
  {
   "cell_type": "code",
   "execution_count": null,
   "metadata": {},
   "outputs": [],
   "source": []
  }
 ],
 "metadata": {
  "kernelspec": {
   "display_name": "Python 3 (ipykernel)",
   "language": "python",
   "name": "python3"
  },
  "language_info": {
   "codemirror_mode": {
    "name": "ipython",
    "version": 3
   },
   "file_extension": ".py",
   "mimetype": "text/x-python",
   "name": "python",
   "nbconvert_exporter": "python",
   "pygments_lexer": "ipython3",
   "version": "3.6.13"
  }
 },
 "nbformat": 4,
 "nbformat_minor": 4
}
