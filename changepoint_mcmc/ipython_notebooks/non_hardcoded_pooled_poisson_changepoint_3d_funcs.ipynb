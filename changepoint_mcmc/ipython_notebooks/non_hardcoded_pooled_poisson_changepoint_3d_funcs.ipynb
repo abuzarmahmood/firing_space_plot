{
 "cells": [
  {
   "cell_type": "markdown",
   "metadata": {},
   "source": [
    "\"\"\"\n",
    "Generate data with specified changepoints\n",
    "Compare ELBO fits for changepoint model with different\n",
    "numbers of changepoints\n",
    "\"\"\""
   ]
  },
  {
   "cell_type": "code",
   "execution_count": 1,
   "metadata": {},
   "outputs": [],
   "source": [
    "import pymc3 as pm\n",
    "import theano.tensor as tt\n",
    "from scipy import stats\n",
    "import numpy as np\n",
    "import pylab as plt\n",
    "import sys\n",
    "sys.path.append('/media/bigdata/firing_space_plot/ephys_data')\n",
    "from ephys_data import ephys_data\n",
    "import visualize as vz\n",
    "from time import time\n",
    "\n",
    "sys.path.append('/media/bigdata/projects/parametric_firing/src')\n",
    "from hierarchical_fake_firing import fake_poisson_firing\n",
    "from poisson_changepoint_models import (return_unpooled_model, \n",
    "                                        return_pooled_model,\n",
    "                                        return_hierarchical_model,\n",
    "                                        fit_model,)"
   ]
  },
  {
   "cell_type": "code",
   "execution_count": 2,
   "metadata": {},
   "outputs": [
    {
     "name": "stderr",
     "output_type": "stream",
     "text": [
      "/media/bigdata/firing_space_plot/ephys_data/visualize.py:86: MatplotlibDeprecationWarning: shading='flat' when X and Y have the same dimensions as C is deprecated since 3.3.  Either specify the corners of the quadrilaterals with X and Y, or pass shading='auto', 'nearest' or 'gouraud', or set rcParams['pcolor.shading'].  This will become an error two minor releases later.\n",
      "  vmin = min_val[nrn], vmax = max_val[nrn])\n"
     ]
    },
    {
     "data": {
      "image/png": "[encoded data removed]",
      "text/plain": [
       "<Figure size 432x288 with 6 Axes>"
      ]
     },
     "metadata": {
      "needs_background": "light"
     },
     "output_type": "display_data"
    },
    {
     "data": {
      "image/png": "[encoded data removed]",
      "text/plain": [
       "<Figure size 432x288 with 6 Axes>"
      ]
     },
     "metadata": {
      "needs_background": "light"
     },
     "output_type": "display_data"
    }
   ],
   "source": [
    "firing_params = dict(\n",
    "        n_nrns = 7,\n",
    "        n_trials = 5,\n",
    "        n_states = 3,\n",
    "        duration = 1000,\n",
    "        min_duration = 200,\n",
    "        ceil_p = 0.1,\n",
    "        jitter_p = 0.2,\n",
    "        bin_size = 25\n",
    "        )\n",
    "\n",
    "fit_params = dict(\n",
    "        n_fit = int(1e5),\n",
    "        n_samples = 2000\n",
    ")\n",
    "\n",
    "data_array, true_r, true_tau, state_inds, trial_p = fake_poisson_firing(**firing_params)\n",
    "\n",
    "trial_count = 5\n",
    "trial_inds = np.random.choice(np.arange(firing_params['n_trials']),5)\n",
    "vz.firing_overview(true_r[trial_inds]);\n",
    "vz.firing_overview(data_array[trial_inds], cmap='viridis');"
   ]
  },
  {
   "cell_type": "code",
   "execution_count": 3,
   "metadata": {},
   "outputs": [],
   "source": [
    "pooled_model = return_pooled_model(data_array, firing_params['n_states'])"
   ]
  },
  {
   "cell_type": "code",
   "execution_count": 4,
   "metadata": {},
   "outputs": [
    {
     "data": {
      "image/svg+xml": [
       "<?xml version=\"1.0\" encoding=\"UTF-8\" standalone=\"no\"?>\n",
       "<!DOCTYPE svg PUBLIC \"-//W3C//DTD SVG 1.1//EN\"\n",
       " \"http://www.w3.org/Graphics/SVG/1.1/DTD/svg11.dtd\">\n",
       "<!-- Generated by graphviz version 2.48.0 (20210717.2242)\n",
       " -->\n",
       "<!-- Pages: 1 -->\n",
       "<svg width=\"420pt\" height=\"493pt\"\n",
       " viewBox=\"0.00 0.00 420.00 492.81\" xmlns=\"http://www.w3.org/2000/svg\" xmlns:xlink=\"http://www.w3.org/1999/xlink\">\n",
       "<g id=\"graph0\" class=\"graph\" transform=\"scale(1 1) rotate(0) translate(4 488.81)\">\n",
       "<polygon fill=\"white\" stroke=\"transparent\" points=\"-4,4 -4,-488.81 416,-488.81 416,4 -4,4\"/>\n",
       "<g id=\"clust1\" class=\"cluster\">\n",
       "<title>cluster7 x 3</title>\n",
       "<path fill=\"none\" stroke=\"black\" d=\"M20,-129.95C20,-129.95 156,-129.95 156,-129.95 162,-129.95 168,-135.95 168,-141.95 168,-141.95 168,-231.91 168,-231.91 168,-237.91 162,-243.91 156,-243.91 156,-243.91 20,-243.91 20,-243.91 14,-243.91 8,-237.91 8,-231.91 8,-231.91 8,-141.95 8,-141.95 8,-135.95 14,-129.95 20,-129.95\"/>\n",
       "<text text-anchor=\"middle\" x=\"142\" y=\"-137.75\" font-family=\"Times,serif\" font-size=\"14.00\">7 x 3</text>\n",
       "</g>\n",
       "<g id=\"clust2\" class=\"cluster\">\n",
       "<title>cluster2</title>\n",
       "<path fill=\"none\" stroke=\"black\" d=\"M102,-362.86C102,-362.86 392,-362.86 392,-362.86 398,-362.86 404,-368.86 404,-374.86 404,-374.86 404,-464.81 404,-464.81 404,-470.81 398,-476.81 392,-476.81 392,-476.81 102,-476.81 102,-476.81 96,-476.81 90,-470.81 90,-464.81 90,-464.81 90,-374.86 90,-374.86 90,-368.86 96,-362.86 102,-362.86\"/>\n",
       "<text text-anchor=\"middle\" x=\"391\" y=\"-370.66\" font-family=\"Times,serif\" font-size=\"14.00\">2</text>\n",
       "</g>\n",
       "<g id=\"clust3\" class=\"cluster\">\n",
       "<title>cluster5 x 2</title>\n",
       "<path fill=\"none\" stroke=\"black\" d=\"M188,-140.93C188,-140.93 306,-140.93 306,-140.93 312,-140.93 318,-146.93 318,-152.93 318,-152.93 318,-342.86 318,-342.86 318,-348.86 312,-354.86 306,-354.86 306,-354.86 188,-354.86 188,-354.86 182,-354.86 176,-348.86 176,-342.86 176,-342.86 176,-152.93 176,-152.93 176,-146.93 182,-140.93 188,-140.93\"/>\n",
       "<text text-anchor=\"middle\" x=\"292\" y=\"-148.73\" font-family=\"Times,serif\" font-size=\"14.00\">5 x 2</text>\n",
       "</g>\n",
       "<g id=\"clust4\" class=\"cluster\">\n",
       "<title>cluster5 x 7 x 40</title>\n",
       "<path fill=\"none\" stroke=\"black\" d=\"M120,-8C120,-8 212,-8 212,-8 218,-8 224,-14 224,-20 224,-20 224,-109.95 224,-109.95 224,-115.95 218,-121.95 212,-121.95 212,-121.95 120,-121.95 120,-121.95 114,-121.95 108,-115.95 108,-109.95 108,-109.95 108,-20 108,-20 108,-14 114,-8 120,-8\"/>\n",
       "<text text-anchor=\"middle\" x=\"180.5\" y=\"-15.8\" font-family=\"Times,serif\" font-size=\"14.00\">5 x 7 x 40</text>\n",
       "</g>\n",
       "<!-- lambda -->\n",
       "<g id=\"node1\" class=\"node\">\n",
       "<title>lambda</title>\n",
       "<ellipse fill=\"none\" stroke=\"black\" cx=\"88\" cy=\"-198.43\" rx=\"72.25\" ry=\"37.45\"/>\n",
       "<text text-anchor=\"middle\" x=\"88\" y=\"-209.73\" font-family=\"Times,serif\" font-size=\"14.00\">lambda</text>\n",
       "<text text-anchor=\"middle\" x=\"88\" y=\"-194.73\" font-family=\"Times,serif\" font-size=\"14.00\">~</text>\n",
       "<text text-anchor=\"middle\" x=\"88\" y=\"-179.73\" font-family=\"Times,serif\" font-size=\"14.00\">Exponential</text>\n",
       "</g>\n",
       "<!-- obs -->\n",
       "<g id=\"node6\" class=\"node\">\n",
       "<title>obs</title>\n",
       "<ellipse fill=\"lightgrey\" stroke=\"black\" cx=\"166\" cy=\"-76.48\" rx=\"50.41\" ry=\"37.45\"/>\n",
       "<text text-anchor=\"middle\" x=\"166\" y=\"-87.78\" font-family=\"Times,serif\" font-size=\"14.00\">obs</text>\n",
       "<text text-anchor=\"middle\" x=\"166\" y=\"-72.78\" font-family=\"Times,serif\" font-size=\"14.00\">~</text>\n",
       "<text text-anchor=\"middle\" x=\"166\" y=\"-57.78\" font-family=\"Times,serif\" font-size=\"14.00\">Poisson</text>\n",
       "</g>\n",
       "<!-- lambda&#45;&gt;obs -->\n",
       "<g id=\"edge4\" class=\"edge\">\n",
       "<title>lambda&#45;&gt;obs</title>\n",
       "<path fill=\"none\" stroke=\"black\" d=\"M110.56,-162.73C119.43,-149.1 129.68,-133.33 138.95,-119.08\"/>\n",
       "<polygon fill=\"black\" stroke=\"black\" points=\"142.04,-120.74 144.56,-110.45 136.18,-116.92 142.04,-120.74\"/>\n",
       "</g>\n",
       "<!-- b_tau -->\n",
       "<g id=\"node2\" class=\"node\">\n",
       "<title>b_tau</title>\n",
       "<ellipse fill=\"none\" stroke=\"black\" cx=\"326\" cy=\"-431.34\" rx=\"70.01\" ry=\"37.45\"/>\n",
       "<text text-anchor=\"middle\" x=\"326\" y=\"-442.64\" font-family=\"Times,serif\" font-size=\"14.00\">b_tau</text>\n",
       "<text text-anchor=\"middle\" x=\"326\" y=\"-427.64\" font-family=\"Times,serif\" font-size=\"14.00\">~</text>\n",
       "<text text-anchor=\"middle\" x=\"326\" y=\"-412.64\" font-family=\"Times,serif\" font-size=\"14.00\">HalfCauchy</text>\n",
       "</g>\n",
       "<!-- tau_latent -->\n",
       "<g id=\"node5\" class=\"node\">\n",
       "<title>tau_latent</title>\n",
       "<ellipse fill=\"none\" stroke=\"black\" cx=\"247\" cy=\"-309.38\" rx=\"62.87\" ry=\"37.45\"/>\n",
       "<text text-anchor=\"middle\" x=\"247\" y=\"-320.68\" font-family=\"Times,serif\" font-size=\"14.00\">tau_latent</text>\n",
       "<text text-anchor=\"middle\" x=\"247\" y=\"-305.68\" font-family=\"Times,serif\" font-size=\"14.00\">~</text>\n",
       "<text text-anchor=\"middle\" x=\"247\" y=\"-290.68\" font-family=\"Times,serif\" font-size=\"14.00\">Beta</text>\n",
       "</g>\n",
       "<!-- b_tau&#45;&gt;tau_latent -->\n",
       "<g id=\"edge1\" class=\"edge\">\n",
       "<title>b_tau&#45;&gt;tau_latent</title>\n",
       "<path fill=\"none\" stroke=\"black\" d=\"M303.15,-395.64C294.39,-382.35 284.3,-367.03 275.11,-353.07\"/>\n",
       "<polygon fill=\"black\" stroke=\"black\" points=\"277.95,-351.01 269.53,-344.59 272.1,-354.86 277.95,-351.01\"/>\n",
       "</g>\n",
       "<!-- a_tau -->\n",
       "<g id=\"node3\" class=\"node\">\n",
       "<title>a_tau</title>\n",
       "<ellipse fill=\"none\" stroke=\"black\" cx=\"168\" cy=\"-431.34\" rx=\"70.01\" ry=\"37.45\"/>\n",
       "<text text-anchor=\"middle\" x=\"168\" y=\"-442.64\" font-family=\"Times,serif\" font-size=\"14.00\">a_tau</text>\n",
       "<text text-anchor=\"middle\" x=\"168\" y=\"-427.64\" font-family=\"Times,serif\" font-size=\"14.00\">~</text>\n",
       "<text text-anchor=\"middle\" x=\"168\" y=\"-412.64\" font-family=\"Times,serif\" font-size=\"14.00\">HalfCauchy</text>\n",
       "</g>\n",
       "<!-- a_tau&#45;&gt;tau_latent -->\n",
       "<g id=\"edge2\" class=\"edge\">\n",
       "<title>a_tau&#45;&gt;tau_latent</title>\n",
       "<path fill=\"none\" stroke=\"black\" d=\"M190.85,-395.64C199.61,-382.35 209.7,-367.03 218.89,-353.07\"/>\n",
       "<polygon fill=\"black\" stroke=\"black\" points=\"221.9,-354.86 224.47,-344.59 216.05,-351.01 221.9,-354.86\"/>\n",
       "</g>\n",
       "<!-- tau -->\n",
       "<g id=\"node4\" class=\"node\">\n",
       "<title>tau</title>\n",
       "<polygon fill=\"none\" stroke=\"black\" points=\"301,-224.93 187,-224.93 187,-171.93 301,-171.93 301,-224.93\"/>\n",
       "<text text-anchor=\"middle\" x=\"244\" y=\"-209.73\" font-family=\"Times,serif\" font-size=\"14.00\">tau</text>\n",
       "<text text-anchor=\"middle\" x=\"244\" y=\"-194.73\" font-family=\"Times,serif\" font-size=\"14.00\">~</text>\n",
       "<text text-anchor=\"middle\" x=\"244\" y=\"-179.73\" font-family=\"Times,serif\" font-size=\"14.00\">Deterministic</text>\n",
       "</g>\n",
       "<!-- tau&#45;&gt;obs -->\n",
       "<g id=\"edge5\" class=\"edge\">\n",
       "<title>tau&#45;&gt;obs</title>\n",
       "<path fill=\"none\" stroke=\"black\" d=\"M227.27,-171.7C217.27,-156.32 204.32,-136.42 192.92,-118.87\"/>\n",
       "<polygon fill=\"black\" stroke=\"black\" points=\"195.84,-116.95 187.46,-110.48 189.97,-120.77 195.84,-116.95\"/>\n",
       "</g>\n",
       "<!-- tau_latent&#45;&gt;tau -->\n",
       "<g id=\"edge3\" class=\"edge\">\n",
       "<title>tau_latent&#45;&gt;tau</title>\n",
       "<path fill=\"none\" stroke=\"black\" d=\"M245.99,-271.8C245.67,-260.06 245.31,-247.08 244.99,-235.38\"/>\n",
       "<polygon fill=\"black\" stroke=\"black\" points=\"248.48,-234.98 244.71,-225.08 241.48,-235.17 248.48,-234.98\"/>\n",
       "</g>\n",
       "</g>\n",
       "</svg>\n"
      ],
      "text/plain": [
       "<graphviz.dot.Digraph at 0x7f8ccca83198>"
      ]
     },
     "execution_count": 4,
     "metadata": {},
     "output_type": "execute_result"
    }
   ],
   "source": [
    "pm.model_to_graphviz(pooled_model)"
   ]
  },
  {
   "cell_type": "code",
   "execution_count": 14,
   "metadata": {},
   "outputs": [
    {
     "data": {
      "text/html": [
       "\n",
       "    <div>\n",
       "        <style>\n",
       "            /* Turns off some styling */\n",
       "            progress {\n",
       "                /* gets rid of default border in Firefox and Opera. */\n",
       "                border: none;\n",
       "                /* Needs to be in here for Safari polyfill so background images work as expected. */\n",
       "                background-size: auto;\n",
       "            }\n",
       "            .progress-bar-interrupted, .progress-bar-interrupted::-webkit-progress-bar {\n",
       "                background: #F44336;\n",
       "            }\n",
       "        </style>\n",
       "      <progress value='100000' class='' max='100000' style='width:300px; height:20px; vertical-align: middle;'></progress>\n",
       "      100.00% [100000/100000 00:27<00:00 Average Loss = 1,357]\n",
       "    </div>\n",
       "    "
      ],
      "text/plain": [
       "<IPython.core.display.HTML object>"
      ]
     },
     "metadata": {},
     "output_type": "display_data"
    },
    {
     "name": "stderr",
     "output_type": "stream",
     "text": [
      "Finished [100%]: Average Loss = 1,357\n"
     ]
    },
    {
     "name": "stdout",
     "output_type": "stream",
     "text": [
      "29.63616967201233\n"
     ]
    }
   ],
   "source": [
    "start_t = time()\n",
    "trace, approx = fit_model(pooled_model, **fit_params)\n",
    "time_taken = time() - start_t\n",
    "print(time_taken)"
   ]
  },
  {
   "cell_type": "code",
   "execution_count": 9,
   "metadata": {},
   "outputs": [
    {
     "name": "stdout",
     "output_type": "stream",
     "text": [
      "(2000, 5, 2)\n",
      "(5, 2)\n"
     ]
    }
   ],
   "source": [
    "trial_count = 5\n",
    "trial_inds = np.random.choice(np.arange(firing_params['n_trials']),5, replace=False)\n",
    "\n",
    "#min_val,max_val = min(true_r),max(true_r)\n",
    "tau = trace['tau']\n",
    "print(tau.shape)\n",
    "mode_tau = stats.mode(np.vectorize(np.int)(tau),axis=0)[0][0]\n",
    "print(mode_tau.shape)"
   ]
  },
  {
   "cell_type": "code",
   "execution_count": 10,
   "metadata": {},
   "outputs": [
    {
     "data": {
      "image/png": "[encoded data removed]",
      "text/plain": [
       "<Figure size 1440x720 with 15 Axes>"
      ]
     },
     "metadata": {
      "needs_background": "light"
     },
     "output_type": "display_data"
    }
   ],
   "source": [
    "fig,ax = plt.subplots(3,trial_count,sharex=True,figsize=(20,10))\n",
    "for trial_num,this_trial_ind in enumerate(trial_inds):\n",
    "    ax[0,trial_num].imshow(true_r[this_trial_ind],aspect='auto', interpolation='nearest')\n",
    "    ax[1,trial_num].imshow(data_array[this_trial_ind],aspect='auto', interpolation='nearest')\n",
    "    \n",
    "    for tau_num, this_tau in enumerate(tau[:,this_trial_ind].T):\n",
    "        ax[2,trial_num].hist(this_tau,bins=50)\n",
    "        ax[0,trial_num].vlines(mode_tau[this_trial_ind,tau_num],\n",
    "                               -0.5,\n",
    "                               firing_params['n_nrns']-0.5,\n",
    "                               color='red',alpha=1,linewidth=5, linestyles='dashed')"
   ]
  },
  {
   "cell_type": "code",
   "execution_count": 11,
   "metadata": {},
   "outputs": [
    {
     "name": "stdout",
     "output_type": "stream",
     "text": [
      "[1 3 2 2 0 4 1 0 4 0]\n"
     ]
    }
   ],
   "source": [
    "tau_errors = np.abs(true_tau - mode_tau).flatten()\n",
    "print(tau_errors)\n",
    "#mean_error, std_error = tau_errors.mean(), tau_errors.std()"
   ]
  },
  {
   "cell_type": "code",
   "execution_count": 12,
   "metadata": {},
   "outputs": [],
   "source": [
    "def firing_properties(data_array):\n",
    "    # average for whole dataset\n",
    "    mean_total_firing = data_array.mean(axis=None)\n",
    "    # max average firing for a neuron\n",
    "    max_neuron_firing = np.max(data_array.mean(axis=(0,2)))\n",
    "    return mean_total_firing, max_neuron_firing"
   ]
  },
  {
   "cell_type": "code",
   "execution_count": 13,
   "metadata": {},
   "outputs": [
    {
     "data": {
      "text/plain": [
       "(0.7521428571428571, 1.97)"
      ]
     },
     "execution_count": 13,
     "metadata": {},
     "output_type": "execute_result"
    }
   ],
   "source": [
    "firing_properties(data_array)"
   ]
  },
  {
   "cell_type": "code",
   "execution_count": null,
   "metadata": {},
   "outputs": [],
   "source": []
  }
 ],
 "metadata": {
  "kernelspec": {
   "display_name": "Python 3 (ipykernel)",
   "language": "python",
   "name": "python3"
  },
  "language_info": {
   "codemirror_mode": {
    "name": "ipython",
    "version": 3
   },
   "file_extension": ".py",
   "mimetype": "text/x-python",
   "name": "python",
   "nbconvert_exporter": "python",
   "pygments_lexer": "ipython3",
   "version": "3.6.13"
  }
 },
 "nbformat": 4,
 "nbformat_minor": 4
}
