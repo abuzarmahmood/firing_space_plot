{
 "cells": [
  {
   "cell_type": "markdown",
   "metadata": {},
   "source": [
    "\"\"\"\n",
    "Generate data with specified changepoints\n",
    "Compare ELBO fits for changepoint model with different\n",
    "numbers of changepoints\n",
    "\"\"\""
   ]
  },
  {
   "cell_type": "code",
   "execution_count": 2,
   "metadata": {},
   "outputs": [],
   "source": [
    "import os\n",
    "import pickle\n",
    "import scipy.stats as stats\n",
    "import pymc3 as pm\n",
    "import theano.tensor as tt\n",
    "import numpy as np\n",
    "import pylab as plt\n",
    "from pymc3.variational.callbacks import CheckParametersConvergence\n",
    "from theano.tensor.extra_ops import cumsum\n",
    "from scipy.stats import beta"
   ]
  },
  {
   "cell_type": "code",
   "execution_count": 33,
   "metadata": {},
   "outputs": [],
   "source": [
    "import sys                                                                       \n",
    "sys.path.append('/media/bigdata/firing_space_plot/ephys_data')                   \n",
    "from visualize import gen_square_subplots, imshow, firing_overview       "
   ]
  },
  {
   "cell_type": "code",
   "execution_count": 175,
   "metadata": {},
   "outputs": [],
   "source": [
    "# Some poisson spiking\n",
    "length = 100\n",
    "states = 3\n",
    "trials = 10\n",
    "neurons = 7\n",
    "fit = int(1e5)\n",
    "samples = 2000\n",
    "idx = np.arange(length)\n",
    "\n",
    "true_tau = np.cumsum(np.random.random((trials,states)),axis=-1)\n",
    "true_tau /= np.max(true_tau,axis=-1)[:,np.newaxis]\n",
    "true_tau *= length\n",
    "true_tau = np.vectorize(np.int)(true_tau)\n",
    "\n",
    "#print(true_tau)"
   ]
  },
  {
   "cell_type": "code",
   "execution_count": 176,
   "metadata": {},
   "outputs": [
    {
     "name": "stdout",
     "output_type": "stream",
     "text": [
      "(10, 4)\n"
     ]
    }
   ],
   "source": [
    "state_inds = np.concatenate([np.zeros((trials,1)),true_tau],axis=-1)\n",
    "state_inds = np.vectorize(np.int)(state_inds)\n",
    "true_tau = true_tau[:,:-1]\n",
    "print(state_inds.shape)\n",
    "#print(state_inds)"
   ]
  },
  {
   "cell_type": "code",
   "execution_count": 177,
   "metadata": {},
   "outputs": [
    {
     "name": "stdout",
     "output_type": "stream",
     "text": [
      "(2, 3, 7)\n"
     ]
    }
   ],
   "source": [
    "n_components = 2\n",
    "true_lambda = np.random.random((n_components,states, neurons))\n",
    "print(true_lambda.shape)"
   ]
  },
  {
   "cell_type": "code",
   "execution_count": 178,
   "metadata": {},
   "outputs": [],
   "source": [
    "component_inds = np.random.choice(range(n_components), trials, p = [0.3,0.7])\n",
    "true_r = np.zeros((trials,neurons,length))\n",
    "for trial in range(trials):\n",
    "    for neuron in range(neurons):\n",
    "        for state in range(states):\n",
    "            true_r[trial, neuron, state_inds[trial,state]:state_inds[trial,state+1]] = \\\n",
    "                        true_lambda[component_inds[trial],state, neuron]"
   ]
  },
  {
   "cell_type": "code",
   "execution_count": 179,
   "metadata": {},
   "outputs": [
    {
     "name": "stdout",
     "output_type": "stream",
     "text": [
      "(10, 7, 100)\n"
     ]
    }
   ],
   "source": [
    "data_vec = np.random.random(true_r.shape) < true_r\n",
    "print(data_vec.shape)"
   ]
  },
  {
   "cell_type": "code",
   "execution_count": 180,
   "metadata": {},
   "outputs": [
    {
     "data": {
      "text/plain": [
       "[<matplotlib.lines.Line2D at 0x7fcf1d495940>]"
      ]
     },
     "execution_count": 180,
     "metadata": {},
     "output_type": "execute_result"
    },
    {
     "data": {
      "image/png": "[encoded data removed]",
      "text/plain": [
       "<Figure size 432x288 with 12 Axes>"
      ]
     },
     "metadata": {
      "needs_background": "light"
     },
     "output_type": "display_data"
    },
    {
     "data": {
      "text/plain": [
       "<Figure size 432x288 with 0 Axes>"
      ]
     },
     "metadata": {},
     "output_type": "display_data"
    },
    {
     "data": {
      "image/png": "[encoded data removed]",
      "text/plain": [
       "<Figure size 432x288 with 12 Axes>"
      ]
     },
     "metadata": {
      "needs_background": "light"
     },
     "output_type": "display_data"
    },
    {
     "data": {
      "image/png": "[encoded data removed]",
      "text/plain": [
       "<Figure size 432x288 with 1 Axes>"
      ]
     },
     "metadata": {
      "needs_background": "light"
     },
     "output_type": "display_data"
    }
   ],
   "source": [
    "firing_overview(true_r,cmap='viridis');\n",
    "plt.figure();\n",
    "firing_overview(data_vec,cmap='viridis');\n",
    "plt.figure();\n",
    "plt.plot(component_inds)\n",
    "# fig,ax = plt.subplots(2,2,figsize=(10,10))\n",
    "# ax[0,0].imshow(true_r,aspect='auto',origin='lower',vmin=0,vmax=1)\n",
    "# ax[0,1].plot(component_inds, np.arange(trials),'-x')\n",
    "# ax[1,0].imshow(data_vec,aspect='auto',origin='lower')"
   ]
  },
  {
   "cell_type": "code",
   "execution_count": 181,
   "metadata": {},
   "outputs": [
    {
     "name": "stdout",
     "output_type": "stream",
     "text": [
      "(7, 3)\n"
     ]
    }
   ],
   "source": [
    "mean_vals = np.array([np.mean(x,axis=(0,-1)) for x in np.array_split(data_vec,states,axis=-1)]).T\n",
    "print(mean_vals.shape)"
   ]
  },
  {
   "cell_type": "code",
   "execution_count": 182,
   "metadata": {},
   "outputs": [],
   "source": [
    "with pm.Model() as model:\n",
    "    alpha_w = pm.Gamma('alpha_w',7.5,1,shape = n_components)\n",
    "    w = pm.Dirichlet('w', a=alpha_w, shape = (trials,n_components))\n",
    "    #w = pm.Dirichlet('w', a=np.ones(n_components)*5, shape = (trials,n_components))\n",
    "    \n",
    "    alphas = pm.HalfCauchy('alphas',5,shape=(2,3))\n",
    "    betas = pm.HalfCauchy('betas',5,shape=(2,3))\n",
    "    \n",
    "    # Beta distributions of size \"nrn\"\n",
    "    \n",
    "    clust0_lambda = tt.stack([pm.Beta('l00',alphas[0,0], betas[0,0], shape = (neurons)),\n",
    "                             pm.Beta('l01',alphas[0,1], betas[0,1], shape = (neurons)),\n",
    "                             pm.Beta('l02',alphas[0,2], betas[0,2], shape = (neurons))])\n",
    "    clust1_lambda = tt.stack([pm.Beta('l10',alphas[1,0], betas[1,0], shape = (neurons)),\n",
    "                             pm.Beta('l11',alphas[1,1], betas[1,1], shape = (neurons)),\n",
    "                             pm.Beta('l12',alphas[1,2], betas[1,2], shape = (neurons))])\n",
    "    lambdas = tt.stack([clust0_lambda,clust1_lambda])\n",
    "    \n",
    "    #lambda0 = pm.Beta('l00',alphas[0,0], betas[0,0])*w[0] + pm.Beta('l10',alphas[1,0], betas[1,0])*w[1]\n",
    "    #lambda1 = pm.Beta('l01',alphas[0,1], betas[0,1])*w[0] + pm.Beta('l11',alphas[1,1], betas[1,1])*w[1]\n",
    "    #lambda2 = pm.Beta('l02',alphas[0,2], betas[0,2])*w[0] + pm.Beta('l12',alphas[1,2], betas[1,2])*w[1]\n",
    "    #lambdas = tt.stack([lambda0,lambda1,lambda2])\n",
    "    #components = [[pm.Beta.dist(alphas[comp,state], betas[comp,state]) for comp in range(comps)] for state in range(states)]\n",
    "    #mixes = tt.stack([pm.Mixture(f'mixes{num}', w=w, comp_dists = this_comp, testval = mean_vals[num]) for num,this_comp in enumerate(components)])"
   ]
  },
  {
   "cell_type": "code",
   "execution_count": 183,
   "metadata": {},
   "outputs": [
    {
     "name": "stdout",
     "output_type": "stream",
     "text": [
      "(10, 2)\n",
      "(3, 7)\n",
      "(3, 7)\n",
      "(2, 3, 7)\n"
     ]
    }
   ],
   "source": [
    "#print(alpha_w.tag.test_value)\n",
    "print(w.tag.test_value.shape)\n",
    "#print(category.tag.test_value)\n",
    "print(clust0_lambda.tag.test_value.shape)\n",
    "print(clust1_lambda.tag.test_value.shape)\n",
    "print(lambdas.tag.test_value.shape)"
   ]
  },
  {
   "cell_type": "code",
   "execution_count": 184,
   "metadata": {},
   "outputs": [],
   "source": [
    "# print(mixes.tag.test_value.shape)\n",
    "# print(mixes.tag.test_value)\n",
    "#print(lambdas.tag.test_value.shape)"
   ]
  },
  {
   "cell_type": "code",
   "execution_count": 185,
   "metadata": {},
   "outputs": [],
   "source": [
    "with model:   \n",
    "    a = pm.HalfCauchy('a_tau', 3., shape = states - 1)\n",
    "    b = pm.HalfCauchy('b_tau', 3., shape = states - 1)\n",
    "    \n",
    "    even_switches = np.linspace(0,1,states+1)[1:-1]\n",
    "    tau_latent = pm.Beta('tau_latent', a, b, \n",
    "                         testval = even_switches,\n",
    "                         shape = (trials,states-1)).sort(axis=-1)    \n",
    "    \n",
    "    tau = pm.Deterministic('tau', \n",
    "            idx.min() + (idx.max() - idx.min()) * tau_latent)"
   ]
  },
  {
   "cell_type": "code",
   "execution_count": 186,
   "metadata": {},
   "outputs": [
    {
     "name": "stdout",
     "output_type": "stream",
     "text": [
      "(10, 2)\n",
      "(100,)\n"
     ]
    }
   ],
   "source": [
    "print(tau.tag.test_value.shape)\n",
    "print(idx.shape)"
   ]
  },
  {
   "cell_type": "code",
   "execution_count": 187,
   "metadata": {},
   "outputs": [],
   "source": [
    "with model:\n",
    "    weight_stack = tt.nnet.sigmoid(idx[np.newaxis,:]-tau[:,:,np.newaxis])\n",
    "    weight_stack = tt.concatenate([np.ones((trials,1,length)),weight_stack],axis=1)\n",
    "    inverse_stack = 1 - weight_stack[:,1:]\n",
    "    inverse_stack = tt.concatenate([inverse_stack, np.ones((trials,1,length))],axis=1)\n",
    "    weight_stack = np.multiply(weight_stack,inverse_stack)[:,:,np.newaxis,:]"
   ]
  },
  {
   "cell_type": "code",
   "execution_count": 188,
   "metadata": {},
   "outputs": [],
   "source": [
    "# with model:   \n",
    "#     weight_stack = tt.nnet.sigmoid(idx[np.newaxis, np.newaxis, :]-tau[:,:,np.newaxis])\n",
    "#     weight_stack_shape = weight_stack.tag.test_value.shape\n",
    "#     weight_stack = tt.concatenate([np.ones((weight_stack_shape[0],1,weight_stack_shape[-1])),weight_stack],axis=1)\n",
    "#     inverse_stack = 1 - weight_stack[:,1:]\n",
    "#     inverse_stack = tt.concatenate([inverse_stack, np.ones((weight_stack_shape[0],1,weight_stack_shape[-1]))],axis=1)\n",
    "#     weight_stack = np.multiply(weight_stack,inverse_stack)"
   ]
  },
  {
   "cell_type": "code",
   "execution_count": 189,
   "metadata": {},
   "outputs": [
    {
     "name": "stdout",
     "output_type": "stream",
     "text": [
      "(10, 3, 1, 100)\n",
      "(10, 3, 100)\n"
     ]
    }
   ],
   "source": [
    "print(weight_stack.tag.test_value.shape)\n",
    "print(inverse_stack.tag.test_value.shape)"
   ]
  },
  {
   "cell_type": "code",
   "execution_count": 190,
   "metadata": {},
   "outputs": [],
   "source": [
    "#plt.imshow(weight_stack.tag.test_value[1],aspect='auto')"
   ]
  },
  {
   "cell_type": "code",
   "execution_count": 191,
   "metadata": {},
   "outputs": [
    {
     "name": "stdout",
     "output_type": "stream",
     "text": [
      "(10, 2)\n",
      "(2, 3, 7)\n"
     ]
    }
   ],
   "source": [
    "print(w.tag.test_value.shape)\n",
    "print(lambdas.tag.test_value.shape)"
   ]
  },
  {
   "cell_type": "code",
   "execution_count": 192,
   "metadata": {},
   "outputs": [
    {
     "name": "stdout",
     "output_type": "stream",
     "text": [
      "(10, 3, 7, 1)\n"
     ]
    }
   ],
   "source": [
    "with model:\n",
    "    selected_lambdas = tt.tensordot(w,lambdas,[1,0])[...,np.newaxis]\n",
    "print(selected_lambdas.tag.test_value.shape)"
   ]
  },
  {
   "cell_type": "code",
   "execution_count": 193,
   "metadata": {},
   "outputs": [],
   "source": [
    "with model:\n",
    "    lambda_ = tt.sum(selected_lambdas*weight_stack,axis=1)"
   ]
  },
  {
   "cell_type": "code",
   "execution_count": 194,
   "metadata": {},
   "outputs": [
    {
     "name": "stdout",
     "output_type": "stream",
     "text": [
      "(10, 7, 100)\n"
     ]
    }
   ],
   "source": [
    "print(lambda_.tag.test_value.shape)"
   ]
  },
  {
   "cell_type": "code",
   "execution_count": 195,
   "metadata": {},
   "outputs": [
    {
     "data": {
      "image/png": "[encoded data removed]",
      "text/plain": [
       "<Figure size 432x288 with 12 Axes>"
      ]
     },
     "metadata": {
      "needs_background": "light"
     },
     "output_type": "display_data"
    }
   ],
   "source": [
    "firing_overview(lambda_.tag.test_value);"
   ]
  },
  {
   "cell_type": "code",
   "execution_count": 196,
   "metadata": {},
   "outputs": [],
   "source": [
    "with model:\n",
    "    # Add observations\n",
    "    observation = pm.Bernoulli(\"obs\", lambda_, observed=data_vec)"
   ]
  },
  {
   "cell_type": "code",
   "execution_count": 197,
   "metadata": {},
   "outputs": [
    {
     "data": {
      "image/svg+xml": [
       "<?xml version=\"1.0\" encoding=\"UTF-8\" standalone=\"no\"?>\n",
       "<!DOCTYPE svg PUBLIC \"-//W3C//DTD SVG 1.1//EN\"\n",
       " \"http://www.w3.org/Graphics/SVG/1.1/DTD/svg11.dtd\">\n",
       "<!-- Generated by graphviz version 2.40.1 (20161225.0304)\n",
       " -->\n",
       "<!-- Title: %3 Pages: 1 -->\n",
       "<svg width=\"1199pt\" height=\"348pt\"\n",
       " viewBox=\"0.00 0.00 1199.00 348.00\" xmlns=\"http://www.w3.org/2000/svg\" xmlns:xlink=\"http://www.w3.org/1999/xlink\">\n",
       "<g id=\"graph0\" class=\"graph\" transform=\"scale(1 1) rotate(0) translate(4 344)\">\n",
       "<title>%3</title>\n",
       "<polygon fill=\"#ffffff\" stroke=\"transparent\" points=\"-4,4 -4,-344 1195,-344 1195,4 -4,4\"/>\n",
       "<g id=\"clust1\" class=\"cluster\">\n",
       "<title>cluster2</title>\n",
       "<path fill=\"none\" stroke=\"#000000\" d=\"M20,-257C20,-257 535,-257 535,-257 541,-257 547,-263 547,-269 547,-269 547,-320 547,-320 547,-326 541,-332 535,-332 535,-332 20,-332 20,-332 14,-332 8,-326 8,-320 8,-320 8,-269 8,-269 8,-263 14,-257 20,-257\"/>\n",
       "<text text-anchor=\"middle\" x=\"535.5\" y=\"-264.8\" font-family=\"Times,serif\" font-size=\"14.00\" fill=\"#000000\">2</text>\n",
       "</g>\n",
       "<g id=\"clust2\" class=\"cluster\">\n",
       "<title>cluster10 x 2</title>\n",
       "<path fill=\"none\" stroke=\"#000000\" d=\"M213,-91C213,-91 481,-91 481,-91 487,-91 493,-97 493,-103 493,-103 493,-237 493,-237 493,-243 487,-249 481,-249 481,-249 213,-249 213,-249 207,-249 201,-243 201,-237 201,-237 201,-103 201,-103 201,-97 207,-91 213,-91\"/>\n",
       "<text text-anchor=\"middle\" x=\"467.5\" y=\"-98.8\" font-family=\"Times,serif\" font-size=\"14.00\" fill=\"#000000\">10 x 2</text>\n",
       "</g>\n",
       "<g id=\"clust3\" class=\"cluster\">\n",
       "<title>cluster2 x 3</title>\n",
       "<path fill=\"none\" stroke=\"#000000\" d=\"M669,-174C669,-174 1011,-174 1011,-174 1017,-174 1023,-180 1023,-186 1023,-186 1023,-237 1023,-237 1023,-243 1017,-249 1011,-249 1011,-249 669,-249 669,-249 663,-249 657,-243 657,-237 657,-237 657,-186 657,-186 657,-180 663,-174 669,-174\"/>\n",
       "<text text-anchor=\"middle\" x=\"1001\" y=\"-181.8\" font-family=\"Times,serif\" font-size=\"14.00\" fill=\"#000000\">2 x 3</text>\n",
       "</g>\n",
       "<g id=\"clust4\" class=\"cluster\">\n",
       "<title>cluster7</title>\n",
       "<path fill=\"none\" stroke=\"#000000\" d=\"M513,-91C513,-91 1171,-91 1171,-91 1177,-91 1183,-97 1183,-103 1183,-103 1183,-154 1183,-154 1183,-160 1177,-166 1171,-166 1171,-166 513,-166 513,-166 507,-166 501,-160 501,-154 501,-154 501,-103 501,-103 501,-97 507,-91 513,-91\"/>\n",
       "<text text-anchor=\"middle\" x=\"1171.5\" y=\"-98.8\" font-family=\"Times,serif\" font-size=\"14.00\" fill=\"#000000\">7</text>\n",
       "</g>\n",
       "<g id=\"clust5\" class=\"cluster\">\n",
       "<title>cluster10 x 7 x 100</title>\n",
       "<path fill=\"none\" stroke=\"#000000\" d=\"M666,-8C666,-8 790,-8 790,-8 796,-8 802,-14 802,-20 802,-20 802,-71 802,-71 802,-77 796,-83 790,-83 790,-83 666,-83 666,-83 660,-83 654,-77 654,-71 654,-71 654,-20 654,-20 654,-14 660,-8 666,-8\"/>\n",
       "<text text-anchor=\"middle\" x=\"759\" y=\"-15.8\" font-family=\"Times,serif\" font-size=\"14.00\" fill=\"#000000\">10 x 7 x 100</text>\n",
       "</g>\n",
       "<!-- b_tau -->\n",
       "<g id=\"node1\" class=\"node\">\n",
       "<title>b_tau</title>\n",
       "<ellipse fill=\"none\" stroke=\"#000000\" cx=\"280\" cy=\"-306\" rx=\"82.5854\" ry=\"18\"/>\n",
       "<text text-anchor=\"middle\" x=\"280\" y=\"-302.3\" font-family=\"Times,serif\" font-size=\"14.00\" fill=\"#000000\">b_tau ~ HalfCauchy</text>\n",
       "</g>\n",
       "<!-- tau_latent -->\n",
       "<g id=\"node5\" class=\"node\">\n",
       "<title>tau_latent</title>\n",
       "<ellipse fill=\"none\" stroke=\"#000000\" cx=\"280\" cy=\"-223\" rx=\"71.4873\" ry=\"18\"/>\n",
       "<text text-anchor=\"middle\" x=\"280\" y=\"-219.3\" font-family=\"Times,serif\" font-size=\"14.00\" fill=\"#000000\">tau_latent ~ Beta</text>\n",
       "</g>\n",
       "<!-- b_tau&#45;&gt;tau_latent -->\n",
       "<g id=\"edge14\" class=\"edge\">\n",
       "<title>b_tau&#45;&gt;tau_latent</title>\n",
       "<path fill=\"none\" stroke=\"#000000\" d=\"M280,-287.9902C280,-277.2963 280,-263.4994 280,-251.3706\"/>\n",
       "<polygon fill=\"#000000\" stroke=\"#000000\" points=\"283.5001,-251.2612 280,-241.2612 276.5001,-251.2613 283.5001,-251.2612\"/>\n",
       "</g>\n",
       "<!-- alpha_w -->\n",
       "<g id=\"node2\" class=\"node\">\n",
       "<title>alpha_w</title>\n",
       "<ellipse fill=\"none\" stroke=\"#000000\" cx=\"460\" cy=\"-306\" rx=\"79.0865\" ry=\"18\"/>\n",
       "<text text-anchor=\"middle\" x=\"460\" y=\"-302.3\" font-family=\"Times,serif\" font-size=\"14.00\" fill=\"#000000\">alpha_w ~ Gamma</text>\n",
       "</g>\n",
       "<!-- w -->\n",
       "<g id=\"node4\" class=\"node\">\n",
       "<title>w</title>\n",
       "<ellipse fill=\"none\" stroke=\"#000000\" cx=\"427\" cy=\"-223\" rx=\"57.6901\" ry=\"18\"/>\n",
       "<text text-anchor=\"middle\" x=\"427\" y=\"-219.3\" font-family=\"Times,serif\" font-size=\"14.00\" fill=\"#000000\">w ~ Dirichlet</text>\n",
       "</g>\n",
       "<!-- alpha_w&#45;&gt;w -->\n",
       "<g id=\"edge1\" class=\"edge\">\n",
       "<title>alpha_w&#45;&gt;w</title>\n",
       "<path fill=\"none\" stroke=\"#000000\" d=\"M452.8395,-287.9902C448.4719,-277.005 442.8024,-262.7455 437.8873,-250.3833\"/>\n",
       "<polygon fill=\"#000000\" stroke=\"#000000\" points=\"441.0936,-248.974 434.1465,-240.9746 434.5888,-251.5602 441.0936,-248.974\"/>\n",
       "</g>\n",
       "<!-- a_tau -->\n",
       "<g id=\"node3\" class=\"node\">\n",
       "<title>a_tau</title>\n",
       "<ellipse fill=\"none\" stroke=\"#000000\" cx=\"98\" cy=\"-306\" rx=\"81.7856\" ry=\"18\"/>\n",
       "<text text-anchor=\"middle\" x=\"98\" y=\"-302.3\" font-family=\"Times,serif\" font-size=\"14.00\" fill=\"#000000\">a_tau ~ HalfCauchy</text>\n",
       "</g>\n",
       "<!-- a_tau&#45;&gt;tau_latent -->\n",
       "<g id=\"edge15\" class=\"edge\">\n",
       "<title>a_tau&#45;&gt;tau_latent</title>\n",
       "<path fill=\"none\" stroke=\"#000000\" d=\"M126.6415,-289.0241C144.0623,-279.0495 166.9418,-266.5631 188,-257 200.4785,-251.3332 214.2042,-245.8689 227.1595,-241.04\"/>\n",
       "<polygon fill=\"#000000\" stroke=\"#000000\" points=\"228.6968,-244.2043 236.8829,-237.4783 226.2891,-237.6314 228.6968,-244.2043\"/>\n",
       "</g>\n",
       "<!-- obs -->\n",
       "<g id=\"node15\" class=\"node\">\n",
       "<title>obs</title>\n",
       "<ellipse fill=\"#d3d3d3\" stroke=\"#000000\" cx=\"728\" cy=\"-57\" rx=\"65.7887\" ry=\"18\"/>\n",
       "<text text-anchor=\"middle\" x=\"728\" y=\"-53.3\" font-family=\"Times,serif\" font-size=\"14.00\" fill=\"#000000\">obs ~ Bernoulli</text>\n",
       "</g>\n",
       "<!-- w&#45;&gt;obs -->\n",
       "<g id=\"edge17\" class=\"edge\">\n",
       "<title>w&#45;&gt;obs</title>\n",
       "<path fill=\"none\" stroke=\"#000000\" d=\"M430.9978,-205.0302C438.4915,-175.8981 457.5834,-118.8239 497,-91 521.6022,-73.6335 595.459,-64.9727 653.1096,-60.7622\"/>\n",
       "<polygon fill=\"#000000\" stroke=\"#000000\" points=\"653.5723,-64.2385 663.3045,-60.0509 653.0851,-57.2555 653.5723,-64.2385\"/>\n",
       "</g>\n",
       "<!-- tau -->\n",
       "<g id=\"node6\" class=\"node\">\n",
       "<title>tau</title>\n",
       "<polygon fill=\"none\" stroke=\"#000000\" points=\"397,-158 275,-158 275,-122 397,-122 397,-158\"/>\n",
       "<text text-anchor=\"middle\" x=\"336\" y=\"-136.3\" font-family=\"Times,serif\" font-size=\"14.00\" fill=\"#000000\">tau ~ Deterministic</text>\n",
       "</g>\n",
       "<!-- tau_latent&#45;&gt;tau -->\n",
       "<g id=\"edge16\" class=\"edge\">\n",
       "<title>tau_latent&#45;&gt;tau</title>\n",
       "<path fill=\"none\" stroke=\"#000000\" d=\"M292.1512,-204.9902C299.6579,-193.8642 309.4307,-179.3794 317.8446,-166.9089\"/>\n",
       "<polygon fill=\"#000000\" stroke=\"#000000\" points=\"320.9875,-168.5085 323.6792,-158.2612 315.1847,-164.5933 320.9875,-168.5085\"/>\n",
       "</g>\n",
       "<!-- tau&#45;&gt;obs -->\n",
       "<g id=\"edge24\" class=\"edge\">\n",
       "<title>tau&#45;&gt;obs</title>\n",
       "<path fill=\"none\" stroke=\"#000000\" d=\"M367.2808,-121.9961C387.406,-111.2485 414.48,-98.3082 440,-91 478.9822,-79.8365 582.9295,-69.2606 654.6551,-62.9525\"/>\n",
       "<polygon fill=\"#000000\" stroke=\"#000000\" points=\"655.3332,-66.4068 664.9922,-62.0532 654.7264,-59.4332 655.3332,-66.4068\"/>\n",
       "</g>\n",
       "<!-- betas -->\n",
       "<g id=\"node7\" class=\"node\">\n",
       "<title>betas</title>\n",
       "<ellipse fill=\"none\" stroke=\"#000000\" cx=\"934\" cy=\"-223\" rx=\"81.4863\" ry=\"18\"/>\n",
       "<text text-anchor=\"middle\" x=\"934\" y=\"-219.3\" font-family=\"Times,serif\" font-size=\"14.00\" fill=\"#000000\">betas ~ HalfCauchy</text>\n",
       "</g>\n",
       "<!-- l02 -->\n",
       "<g id=\"node9\" class=\"node\">\n",
       "<title>l02</title>\n",
       "<ellipse fill=\"none\" stroke=\"#000000\" cx=\"1127\" cy=\"-140\" rx=\"48.1917\" ry=\"18\"/>\n",
       "<text text-anchor=\"middle\" x=\"1127\" y=\"-136.3\" font-family=\"Times,serif\" font-size=\"14.00\" fill=\"#000000\">l02 ~ Beta</text>\n",
       "</g>\n",
       "<!-- betas&#45;&gt;l02 -->\n",
       "<g id=\"edge6\" class=\"edge\">\n",
       "<title>betas&#45;&gt;l02</title>\n",
       "<path fill=\"none\" stroke=\"#000000\" d=\"M972.8266,-207.1027C1000.1051,-195.8421 1037.3982,-180.2634 1070,-166 1075.5538,-163.5702 1081.3911,-160.966 1087.1251,-158.3786\"/>\n",
       "<polygon fill=\"#000000\" stroke=\"#000000\" points=\"1088.9502,-161.3939 1096.6094,-154.0736 1086.0569,-155.0198 1088.9502,-161.3939\"/>\n",
       "</g>\n",
       "<!-- l12 -->\n",
       "<g id=\"node10\" class=\"node\">\n",
       "<title>l12</title>\n",
       "<ellipse fill=\"none\" stroke=\"#000000\" cx=\"1013\" cy=\"-140\" rx=\"48.1917\" ry=\"18\"/>\n",
       "<text text-anchor=\"middle\" x=\"1013\" y=\"-136.3\" font-family=\"Times,serif\" font-size=\"14.00\" fill=\"#000000\">l12 ~ Beta</text>\n",
       "</g>\n",
       "<!-- betas&#45;&gt;l12 -->\n",
       "<g id=\"edge12\" class=\"edge\">\n",
       "<title>betas&#45;&gt;l12</title>\n",
       "<path fill=\"none\" stroke=\"#000000\" d=\"M951.1418,-204.9902C962.4464,-193.1133 977.3939,-177.4089 989.7634,-164.4131\"/>\n",
       "<polygon fill=\"#000000\" stroke=\"#000000\" points=\"992.3423,-166.7803 996.7015,-157.1237 987.2719,-161.9542 992.3423,-166.7803\"/>\n",
       "</g>\n",
       "<!-- l10 -->\n",
       "<g id=\"node11\" class=\"node\">\n",
       "<title>l10</title>\n",
       "<ellipse fill=\"none\" stroke=\"#000000\" cx=\"899\" cy=\"-140\" rx=\"48.1917\" ry=\"18\"/>\n",
       "<text text-anchor=\"middle\" x=\"899\" y=\"-136.3\" font-family=\"Times,serif\" font-size=\"14.00\" fill=\"#000000\">l10 ~ Beta</text>\n",
       "</g>\n",
       "<!-- betas&#45;&gt;l10 -->\n",
       "<g id=\"edge8\" class=\"edge\">\n",
       "<title>betas&#45;&gt;l10</title>\n",
       "<path fill=\"none\" stroke=\"#000000\" d=\"M926.4055,-204.9902C921.7732,-194.005 915.7602,-179.7455 910.5472,-167.3833\"/>\n",
       "<polygon fill=\"#000000\" stroke=\"#000000\" points=\"913.6902,-165.8289 906.5797,-157.9746 907.2403,-168.5488 913.6902,-165.8289\"/>\n",
       "</g>\n",
       "<!-- l11 -->\n",
       "<g id=\"node12\" class=\"node\">\n",
       "<title>l11</title>\n",
       "<ellipse fill=\"none\" stroke=\"#000000\" cx=\"785\" cy=\"-140\" rx=\"48.1917\" ry=\"18\"/>\n",
       "<text text-anchor=\"middle\" x=\"785\" y=\"-136.3\" font-family=\"Times,serif\" font-size=\"14.00\" fill=\"#000000\">l11 ~ Beta</text>\n",
       "</g>\n",
       "<!-- betas&#45;&gt;l11 -->\n",
       "<g id=\"edge10\" class=\"edge\">\n",
       "<title>betas&#45;&gt;l11</title>\n",
       "<path fill=\"none\" stroke=\"#000000\" d=\"M903.8476,-206.2037C879.9154,-192.8723 846.3835,-174.1935 821.0366,-160.0741\"/>\n",
       "<polygon fill=\"#000000\" stroke=\"#000000\" points=\"822.5409,-156.9057 812.1016,-155.0969 819.1344,-163.0209 822.5409,-156.9057\"/>\n",
       "</g>\n",
       "<!-- l00 -->\n",
       "<g id=\"node13\" class=\"node\">\n",
       "<title>l00</title>\n",
       "<ellipse fill=\"none\" stroke=\"#000000\" cx=\"671\" cy=\"-140\" rx=\"48.1917\" ry=\"18\"/>\n",
       "<text text-anchor=\"middle\" x=\"671\" y=\"-136.3\" font-family=\"Times,serif\" font-size=\"14.00\" fill=\"#000000\">l00 ~ Beta</text>\n",
       "</g>\n",
       "<!-- betas&#45;&gt;l00 -->\n",
       "<g id=\"edge2\" class=\"edge\">\n",
       "<title>betas&#45;&gt;l00</title>\n",
       "<path fill=\"none\" stroke=\"#000000\" d=\"M909.2858,-205.7456C891.8812,-194.5743 867.5697,-180.8724 844,-174 794.3879,-159.5342 778.0918,-178.7053 728,-166 721.2707,-164.2932 714.3536,-161.8212 707.7607,-159.0717\"/>\n",
       "<polygon fill=\"#000000\" stroke=\"#000000\" points=\"708.9521,-155.7709 698.393,-154.9016 706.1053,-162.166 708.9521,-155.7709\"/>\n",
       "</g>\n",
       "<!-- l01 -->\n",
       "<g id=\"node14\" class=\"node\">\n",
       "<title>l01</title>\n",
       "<ellipse fill=\"none\" stroke=\"#000000\" cx=\"557\" cy=\"-140\" rx=\"48.1917\" ry=\"18\"/>\n",
       "<text text-anchor=\"middle\" x=\"557\" y=\"-136.3\" font-family=\"Times,serif\" font-size=\"14.00\" fill=\"#000000\">l01 ~ Beta</text>\n",
       "</g>\n",
       "<!-- betas&#45;&gt;l01 -->\n",
       "<g id=\"edge4\" class=\"edge\">\n",
       "<title>betas&#45;&gt;l01</title>\n",
       "<path fill=\"none\" stroke=\"#000000\" d=\"M909.7348,-205.7339C892.3383,-194.4025 867.855,-180.5166 844,-174 794.6656,-160.5231 663.7794,-177.7269 614,-166 607.1714,-164.3914 600.1655,-161.9428 593.5049,-159.1797\"/>\n",
       "<polygon fill=\"#000000\" stroke=\"#000000\" points=\"594.6133,-155.8419 584.0546,-154.9677 591.7635,-162.2356 594.6133,-155.8419\"/>\n",
       "</g>\n",
       "<!-- alphas -->\n",
       "<g id=\"node8\" class=\"node\">\n",
       "<title>alphas</title>\n",
       "<ellipse fill=\"none\" stroke=\"#000000\" cx=\"750\" cy=\"-223\" rx=\"85.2851\" ry=\"18\"/>\n",
       "<text text-anchor=\"middle\" x=\"750\" y=\"-219.3\" font-family=\"Times,serif\" font-size=\"14.00\" fill=\"#000000\">alphas ~ HalfCauchy</text>\n",
       "</g>\n",
       "<!-- alphas&#45;&gt;l02 -->\n",
       "<g id=\"edge7\" class=\"edge\">\n",
       "<title>alphas&#45;&gt;l02</title>\n",
       "<path fill=\"none\" stroke=\"#000000\" d=\"M775.4568,-205.7397C793.6784,-194.4109 819.2654,-180.5258 844,-174 892.591,-161.1802 1021.0888,-177.5382 1070,-166 1076.8281,-164.3893 1083.8338,-161.9397 1090.4942,-159.1762\"/>\n",
       "<polygon fill=\"#000000\" stroke=\"#000000\" points=\"1092.2357,-162.232 1099.9446,-154.964 1089.3859,-155.8384 1092.2357,-162.232\"/>\n",
       "</g>\n",
       "<!-- alphas&#45;&gt;l12 -->\n",
       "<g id=\"edge13\" class=\"edge\">\n",
       "<title>alphas&#45;&gt;l12</title>\n",
       "<path fill=\"none\" stroke=\"#000000\" d=\"M775.9279,-205.7753C794.1574,-194.6171 819.5636,-180.9188 844,-174 892.017,-160.4046 907.6422,-178.3286 956,-166 962.7272,-164.2849 969.6432,-161.8088 976.2357,-159.0577\"/>\n",
       "<polygon fill=\"#000000\" stroke=\"#000000\" points=\"977.8915,-162.1519 985.6033,-154.887 975.0443,-155.757 977.8915,-162.1519\"/>\n",
       "</g>\n",
       "<!-- alphas&#45;&gt;l10 -->\n",
       "<g id=\"edge9\" class=\"edge\">\n",
       "<title>alphas&#45;&gt;l10</title>\n",
       "<path fill=\"none\" stroke=\"#000000\" d=\"M780.5119,-206.0034C804.4736,-192.6556 837.894,-174.0389 863.1344,-159.9788\"/>\n",
       "<polygon fill=\"#000000\" stroke=\"#000000\" points=\"864.9979,-162.9472 872.0307,-155.0232 861.5914,-156.832 864.9979,-162.9472\"/>\n",
       "</g>\n",
       "<!-- alphas&#45;&gt;l11 -->\n",
       "<g id=\"edge11\" class=\"edge\">\n",
       "<title>alphas&#45;&gt;l11</title>\n",
       "<path fill=\"none\" stroke=\"#000000\" d=\"M757.5945,-204.9902C762.2268,-194.005 768.2398,-179.7455 773.4528,-167.3833\"/>\n",
       "<polygon fill=\"#000000\" stroke=\"#000000\" points=\"776.7597,-168.5488 777.4203,-157.9746 770.3098,-165.8289 776.7597,-168.5488\"/>\n",
       "</g>\n",
       "<!-- alphas&#45;&gt;l00 -->\n",
       "<g id=\"edge3\" class=\"edge\">\n",
       "<title>alphas&#45;&gt;l00</title>\n",
       "<path fill=\"none\" stroke=\"#000000\" d=\"M732.8582,-204.9902C721.5536,-193.1133 706.6061,-177.4089 694.2366,-164.4131\"/>\n",
       "<polygon fill=\"#000000\" stroke=\"#000000\" points=\"696.7281,-161.9542 687.2985,-157.1237 691.6577,-166.7803 696.7281,-161.9542\"/>\n",
       "</g>\n",
       "<!-- alphas&#45;&gt;l01 -->\n",
       "<g id=\"edge5\" class=\"edge\">\n",
       "<title>alphas&#45;&gt;l01</title>\n",
       "<path fill=\"none\" stroke=\"#000000\" d=\"M710.8786,-206.981C683.6267,-195.73 646.4845,-180.2121 614,-166 608.4462,-163.5702 602.6089,-160.966 596.8749,-158.3786\"/>\n",
       "<polygon fill=\"#000000\" stroke=\"#000000\" points=\"597.9431,-155.0198 587.3906,-154.0736 595.0498,-161.3939 597.9431,-155.0198\"/>\n",
       "</g>\n",
       "<!-- l02&#45;&gt;obs -->\n",
       "<g id=\"edge18\" class=\"edge\">\n",
       "<title>l02&#45;&gt;obs</title>\n",
       "<path fill=\"none\" stroke=\"#000000\" d=\"M1111.9228,-122.3989C1101.3821,-111.3785 1086.3148,-97.986 1070,-91 1023.6828,-71.1669 889.6346,-62.7046 803.7664,-59.242\"/>\n",
       "<polygon fill=\"#000000\" stroke=\"#000000\" points=\"803.6713,-55.7357 793.5427,-58.8441 803.399,-62.7304 803.6713,-55.7357\"/>\n",
       "</g>\n",
       "<!-- l12&#45;&gt;obs -->\n",
       "<g id=\"edge19\" class=\"edge\">\n",
       "<title>l12&#45;&gt;obs</title>\n",
       "<path fill=\"none\" stroke=\"#000000\" d=\"M997.8069,-122.6607C987.2172,-111.7508 972.139,-98.3832 956,-91 929.0622,-78.6767 857.0375,-69.2364 801.0782,-63.4656\"/>\n",
       "<polygon fill=\"#000000\" stroke=\"#000000\" points=\"801.1318,-59.9533 790.8308,-62.4309 800.4285,-66.9179 801.1318,-59.9533\"/>\n",
       "</g>\n",
       "<!-- l10&#45;&gt;obs -->\n",
       "<g id=\"edge20\" class=\"edge\">\n",
       "<title>l10&#45;&gt;obs</title>\n",
       "<path fill=\"none\" stroke=\"#000000\" d=\"M882.9584,-122.933C872.2442,-112.4153 857.3463,-99.3829 842,-91 826.2423,-82.3924 808.0399,-75.7099 790.8705,-70.6378\"/>\n",
       "<polygon fill=\"#000000\" stroke=\"#000000\" points=\"791.4812,-67.1738 780.907,-67.835 789.5856,-73.9122 791.4812,-67.1738\"/>\n",
       "</g>\n",
       "<!-- l11&#45;&gt;obs -->\n",
       "<g id=\"edge21\" class=\"edge\">\n",
       "<title>l11&#45;&gt;obs</title>\n",
       "<path fill=\"none\" stroke=\"#000000\" d=\"M772.9118,-122.3978C765.1055,-111.0308 754.8073,-96.0352 746.0416,-83.2711\"/>\n",
       "<polygon fill=\"#000000\" stroke=\"#000000\" points=\"748.8136,-81.1249 740.2673,-74.8629 743.0433,-85.0877 748.8136,-81.1249\"/>\n",
       "</g>\n",
       "<!-- l00&#45;&gt;obs -->\n",
       "<g id=\"edge22\" class=\"edge\">\n",
       "<title>l00&#45;&gt;obs</title>\n",
       "<path fill=\"none\" stroke=\"#000000\" d=\"M683.0882,-122.3978C690.8945,-111.0308 701.1927,-96.0352 709.9584,-83.2711\"/>\n",
       "<polygon fill=\"#000000\" stroke=\"#000000\" points=\"712.9567,-85.0877 715.7327,-74.8629 707.1864,-81.1249 712.9567,-85.0877\"/>\n",
       "</g>\n",
       "<!-- l01&#45;&gt;obs -->\n",
       "<g id=\"edge23\" class=\"edge\">\n",
       "<title>l01&#45;&gt;obs</title>\n",
       "<path fill=\"none\" stroke=\"#000000\" d=\"M573.0416,-122.933C583.7558,-112.4153 598.6537,-99.3829 614,-91 629.7577,-82.3924 647.9601,-75.7099 665.1295,-70.6378\"/>\n",
       "<polygon fill=\"#000000\" stroke=\"#000000\" points=\"666.4144,-73.9122 675.093,-67.835 664.5188,-67.1738 666.4144,-73.9122\"/>\n",
       "</g>\n",
       "</g>\n",
       "</svg>\n"
      ],
      "text/plain": [
       "<graphviz.dot.Digraph at 0x7fcf932506d8>"
      ]
     },
     "execution_count": 197,
     "metadata": {},
     "output_type": "execute_result"
    }
   ],
   "source": [
    "pm.model_to_graphviz(model)"
   ]
  },
  {
   "cell_type": "code",
   "execution_count": 198,
   "metadata": {},
   "outputs": [
    {
     "name": "stderr",
     "output_type": "stream",
     "text": [
      "  0%|          | 0/100000 [00:00<?, ?it/s]/home/abuzarmahmood/anaconda3/lib/python3.6/site-packages/theano/tensor/subtensor.py:2197: FutureWarning: Using a non-tuple sequence for multidimensional indexing is deprecated; use `arr[tuple(seq)]` instead of `arr[seq]`. In the future this will be interpreted as an array index, `arr[np.array(seq)]`, which will result either in an error or a different result.\n",
      "  rval = inputs[0].__getitem__(inputs[1:])\n",
      "Average Loss = 3,779: 100%|██████████| 100000/100000 [01:43<00:00, 964.36it/s]  \n",
      "Finished [100%]: Average Loss = 3,779.1\n"
     ]
    }
   ],
   "source": [
    "#with model:     \n",
    "#     #step = pm.Metropolis()\n",
    "#     step = pm.NUTS()\n",
    "#     trace = pm.sample(step=step)\n",
    "with model:\n",
    "    inference = pm.ADVI('full-rank')\n",
    "    approx = pm.fit(n=fit, method=inference,\n",
    "                   random_seed = 3,\n",
    "                   obj_n_mc = 1)\n",
    "    trace = approx.sample(draws=samples)"
   ]
  },
  {
   "cell_type": "code",
   "execution_count": 199,
   "metadata": {},
   "outputs": [
    {
     "data": {
      "text/plain": [
       "[<matplotlib.lines.Line2D at 0x7fcf15895a20>]"
      ]
     },
     "execution_count": 199,
     "metadata": {},
     "output_type": "execute_result"
    },
    {
     "data": {
      "image/png": "[encoded data removed]",
      "text/plain": [
       "<Figure size 432x288 with 1 Axes>"
      ]
     },
     "metadata": {
      "needs_background": "light"
     },
     "output_type": "display_data"
    }
   ],
   "source": [
    "#pm.traceplot(trace);\n",
    "plt.plot(-inference.hist)"
   ]
  },
  {
   "cell_type": "code",
   "execution_count": 200,
   "metadata": {},
   "outputs": [
    {
     "name": "stderr",
     "output_type": "stream",
     "text": [
      "100%|██████████| 2000/2000 [00:06<00:00, 300.04it/s]\n"
     ]
    }
   ],
   "source": [
    "with model:\n",
    "    ppc_trace = pm.sample_posterior_predictive(trace)"
   ]
  },
  {
   "cell_type": "code",
   "execution_count": 201,
   "metadata": {},
   "outputs": [
    {
     "name": "stdout",
     "output_type": "stream",
     "text": [
      "(2000, 10, 7, 100)\n"
     ]
    }
   ],
   "source": [
    "print(ppc_trace['obs'].shape)\n",
    "mean_ppc_obs = np.mean(ppc_trace['obs'],axis=0)"
   ]
  },
  {
   "cell_type": "code",
   "execution_count": 202,
   "metadata": {},
   "outputs": [
    {
     "name": "stdout",
     "output_type": "stream",
     "text": [
      "(2000, 10, 2)\n",
      "(10, 2)\n"
     ]
    }
   ],
   "source": [
    "tau_samples = trace['tau']\n",
    "int_tau = np.vectorize(np.int)(tau_samples)\n",
    "print(int_tau.shape)\n",
    "mode_tau = stats.mode(int_tau,axis=0)[0][0]\n",
    "print(mode_tau.shape)"
   ]
  },
  {
   "cell_type": "code",
   "execution_count": 203,
   "metadata": {},
   "outputs": [],
   "source": [
    "hist_tau = np.array([np.histogram(trial, bins = np.arange(20))[0] for trial in int_tau.swapaxes(0,1)])"
   ]
  },
  {
   "cell_type": "code",
   "execution_count": 204,
   "metadata": {},
   "outputs": [
    {
     "name": "stdout",
     "output_type": "stream",
     "text": [
      "(20000, 2)\n",
      "(2000, 10, 2)\n",
      "(10,)\n"
     ]
    }
   ],
   "source": [
    "# cat_samples = trace['category']\n",
    "# plt.imshow(cat_samples,aspect='auto')\n",
    "# print(cat_samples.shape)\n",
    "w_samples = trace['w']\n",
    "w_samples_long = np.reshape(w_samples,(-1,w_samples.shape[-1]))\n",
    "print(w_samples_long.shape)\n",
    "print(w_samples.shape)\n",
    "mean_w = np.mean(w_samples,axis=0)\n",
    "categorical_w = np.argmax(mean_w,axis=-1)\n",
    "print(categorical_w.shape)"
   ]
  },
  {
   "cell_type": "code",
   "execution_count": 205,
   "metadata": {},
   "outputs": [],
   "source": [
    "# cat_hist = np.array([np.histogram(trial,bins=np.arange(3))[0] for trial in cat_samples.swapaxes(0,1)])\n",
    "# #print(cat_hist)\n",
    "cat_accuracy_list = [np.sum(categorical_w==component_inds),\n",
    "                      np.sum((1-categorical_w)==component_inds)]\n",
    "model_ind = np.int(np.argmax(cat_accuracy_list))\n",
    "cat_accuracy = cat_accuracy_list[model_ind]\n",
    "\n",
    "hist_out = np.histogram2d(*w_samples_long.T,bins=50)\n",
    "diag_vals = np.diag(np.flip(hist_out[0],axis=-1))\n",
    "\n",
    "components_hist = np.histogram(component_inds,np.arange(3))[0]\n",
    "components_hist = components_hist/np.max(components_hist)"
   ]
  },
  {
   "cell_type": "code",
   "execution_count": 207,
   "metadata": {},
   "outputs": [
    {
     "data": {
      "text/plain": [
       "(10, 2)"
      ]
     },
     "execution_count": 207,
     "metadata": {},
     "output_type": "execute_result"
    }
   ],
   "source": [
    "true_tau.shape"
   ]
  },
  {
   "cell_type": "code",
   "execution_count": 208,
   "metadata": {},
   "outputs": [
    {
     "data": {
      "image/png": "[encoded data removed]",
      "text/plain": [
       "<Figure size 1440x360 with 30 Axes>"
      ]
     },
     "metadata": {
      "needs_background": "light"
     },
     "output_type": "display_data"
    }
   ],
   "source": [
    "fig, ax = plt.subplots(3,trials,figsize = (20,5),sharex=True)\n",
    "for trial in range(trials):\n",
    "    ax[0,trial].imshow(true_r[trial],cmap='viridis',aspect='auto')\n",
    "    ax[1,trial].vlines(true_tau[trial],-0.5,neurons-0.5, lw = 5, color='red',alpha = 0.7)\n",
    "    ax[1,trial].imshow(data_vec[trial],cmap='viridis',aspect='auto')\n",
    "    ax[2,trial].imshow(mean_ppc_obs[trial],cmap='viridis',aspect='auto')"
   ]
  },
  {
   "cell_type": "code",
   "execution_count": 209,
   "metadata": {},
   "outputs": [
    {
     "data": {
      "image/png": "[encoded data removed]",
      "text/plain": [
       "<Figure size 432x288 with 2 Axes>"
      ]
     },
     "metadata": {
      "needs_background": "light"
     },
     "output_type": "display_data"
    }
   ],
   "source": [
    "fig,ax = plt.subplots(1,2)\n",
    "ax[0].plot(component_inds, np.arange(trials),'-x',label='Actual')\n",
    "ax[0].plot(model_ind - categorical_w, np.arange(trials),'-x', label='Inferred')\n",
    "ax[0].set_title(f'Accuracy : {cat_accuracy}/{categorical_w.shape[0]}')\n",
    "ax[0].legend()\n",
    "ax[1].imshow(mean_w,aspect='auto',origin='lower');\n"
   ]
  },
  {
   "cell_type": "code",
   "execution_count": null,
   "metadata": {},
   "outputs": [],
   "source": []
  }
 ],
 "metadata": {
  "kernelspec": {
   "display_name": "Python 3",
   "language": "python",
   "name": "python3"
  },
  "language_info": {
   "codemirror_mode": {
    "name": "ipython",
    "version": 3
   },
   "file_extension": ".py",
   "mimetype": "text/x-python",
   "name": "python",
   "nbconvert_exporter": "python",
   "pygments_lexer": "ipython3",
   "version": "3.6.10"
  }
 },
 "nbformat": 4,
 "nbformat_minor": 4
}
