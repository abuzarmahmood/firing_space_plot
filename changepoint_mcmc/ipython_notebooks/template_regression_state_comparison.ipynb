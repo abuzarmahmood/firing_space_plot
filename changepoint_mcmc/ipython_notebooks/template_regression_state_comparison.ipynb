{
 "cells": [
  {
   "cell_type": "markdown",
   "metadata": {},
   "source": [
    "\"\"\"\n",
    "Generate data with specified changepoints\n",
    "Compare ELBO fits for changepoint model with different\n",
    "numbers of changepoints\n",
    "\"\"\""
   ]
  },
  {
   "cell_type": "code",
   "execution_count": 2,
   "metadata": {},
   "outputs": [],
   "source": [
    "#https://discourse.pymc.io/t/nuts-uses-all-cores/909/9\n",
    "\n",
    "\n",
    "import os\n",
    "os.environ[\"MKL_NUM_THREADS\"]='1'\n",
    "os.environ[\"OMP_NUM_THREADS\"]='1'"
   ]
  },
  {
   "cell_type": "code",
   "execution_count": 3,
   "metadata": {},
   "outputs": [],
   "source": [
    "import pickle\n",
    "import scipy.stats as stats\n",
    "import pymc3 as pm\n",
    "import theano.tensor as tt\n",
    "import numpy as np\n",
    "import pylab as plt\n",
    "from pymc3.variational.callbacks import CheckParametersConvergence\n",
    "from theano.tensor.extra_ops import cumsum\n",
    "import arviz as az\n",
    "import pandas as pd\n",
    "import seaborn as sns"
   ]
  },
  {
   "cell_type": "code",
   "execution_count": 4,
   "metadata": {},
   "outputs": [],
   "source": [
    "# np.__config__.show()"
   ]
  },
  {
   "cell_type": "code",
   "execution_count": 5,
   "metadata": {},
   "outputs": [],
   "source": [
    "def stick_breaking(beta):\n",
    "    portion_remaining = tt.concatenate([[1], tt.extra_ops.cumprod(1 - beta)[:-1]])\n",
    "    return beta * portion_remaining"
   ]
  },
  {
   "cell_type": "code",
   "execution_count": 50,
   "metadata": {},
   "outputs": [
    {
     "name": "stdout",
     "output_type": "stream",
     "text": [
      "[ 37 116]\n",
      "[  0  37 116 200]\n",
      "(5, 3)\n",
      "(5, 200)\n"
     ]
    },
    {
     "data": {
      "text/plain": [
       "Text(0, 0.5, 'Neuron # (Channels)')"
      ]
     },
     "execution_count": 50,
     "metadata": {},
     "output_type": "execute_result"
    },
    {
     "data": {
      "image/png": "[encoded data removed]",
      "text/plain": [
       "<Figure size 432x288 with 2 Axes>"
      ]
     },
     "metadata": {
      "needs_background": "light"
     },
     "output_type": "display_data"
    }
   ],
   "source": [
    "# Some poisson spiking\n",
    "length = 200\n",
    "states = 3\n",
    "fit = int(1e5)\n",
    "samples = 2000\n",
    "idx = np.arange(length)\n",
    "\n",
    "true_tau = np.cumsum(np.random.random(states))\n",
    "true_tau /= np.max(true_tau)\n",
    "true_tau *= length\n",
    "true_tau = np.vectorize(np.int)(true_tau)\n",
    "state_inds = np.concatenate([np.zeros((1)),true_tau])\n",
    "state_inds = np.vectorize(np.int)(state_inds)\n",
    "true_tau = true_tau[:-1]\n",
    "\n",
    "nrns = 5\n",
    "lambda_multipliers = np.random.random(states) * 10\n",
    "true_lambda = np.random.random((nrns,states))\n",
    "true_lambda = true_lambda * lambda_multipliers[np.newaxis,:]\n",
    "\n",
    "print(true_tau)\n",
    "print(state_inds)\n",
    "print(true_lambda.shape)\n",
    "\n",
    "true_r = np.zeros((nrns,length))\n",
    "print(true_r.shape)\n",
    "for num, val in enumerate(true_lambda.T):\n",
    "    true_r[:,state_inds[num]:state_inds[num+1]] = val[:,np.newaxis]\n",
    "  \n",
    "plt.imshow(true_r,aspect='auto', interpolation='nearest');plt.colorbar(label = 'Emission value')\n",
    "plt.xlabel('Time (arbitrary units)')\n",
    "plt.ylabel(\"Neuron # (Channels)\")"
   ]
  },
  {
   "cell_type": "code",
   "execution_count": 51,
   "metadata": {},
   "outputs": [],
   "source": [
    "# Max number of states\n",
    "templates = 3\n",
    "\n",
    "with pm.Model() as model:\n",
    "    \n",
    "    # =====================\n",
    "    # Changepoint Variables\n",
    "    # =====================\n",
    "    a = pm.HalfCauchy('a_tau', 3., shape = templates - 1)\n",
    "    b = pm.HalfCauchy('b_tau', 3., shape = templates - 1)\n",
    "    \n",
    "    even_switches = np.linspace(0,1,templates+1)[1:-1]\n",
    "    tau_latent = pm.Beta('tau_latent', a, b, \n",
    "                         testval = even_switches,\n",
    "                         shape = (templates-1)).sort(axis=-1)\n",
    "    \n",
    "    tau = pm.Deterministic('tau', \n",
    "            idx.min() + (idx.max() - idx.min()) * tau_latent)\n",
    "    \n",
    "    # Weight stack to assign lambda's to point in time\n",
    "    weight_stack = tt.nnet.sigmoid(idx[np.newaxis,:]-tau[:,np.newaxis])\n",
    "    weight_stack = tt.concatenate([np.ones((1,length)),weight_stack],axis=0)\n",
    "    inverse_stack = 1 - weight_stack[1:]\n",
    "    inverse_stack = tt.concatenate([inverse_stack, np.ones((1,length))],axis=0)\n",
    "    weight_stack = np.multiply(weight_stack,inverse_stack)\n",
    "    \n",
    "    # =====================\n",
    "    # Projection Matrix\n",
    "    # =====================\n",
    "    # Data = neurons x time\n",
    "    # Template = dims x time\n",
    "    # Projection mat = neurons x dims\n",
    "    proj_mat = pm.Normal('proj_mat', mu = 0, sigma = 10, shape = (nrns, templates))\n",
    "    \n",
    "    projected_dat = pm.Deterministic('proj_dat', tt.dot(proj_mat,weight_stack))\n",
    "    \n",
    "    # =====================\n",
    "    # Likelihood\n",
    "    # =====================\n",
    "    obs = pm.Normal('obs', mu = projected_dat, sigma = 10, observed = true_r)"
   ]
  },
  {
   "cell_type": "code",
   "execution_count": 52,
   "metadata": {},
   "outputs": [
    {
     "data": {
      "text/plain": [
       "<matplotlib.image.AxesImage at 0x7f6f3e2ebda0>"
      ]
     },
     "execution_count": 52,
     "metadata": {},
     "output_type": "execute_result"
    },
    {
     "data": {
      "image/png": "[encoded data removed]",
      "text/plain": [
       "<Figure size 432x288 with 1 Axes>"
      ]
     },
     "metadata": {
      "needs_background": "light"
     },
     "output_type": "display_data"
    }
   ],
   "source": [
    "plt.imshow(weight_stack.tag.test_value, aspect='auto', interpolation='nearest')"
   ]
  },
  {
   "cell_type": "code",
   "execution_count": 53,
   "metadata": {},
   "outputs": [],
   "source": [
    "with dpp_model:\n",
    "    spp = pm.sample_prior_predictive(samples = 5000)"
   ]
  },
  {
   "cell_type": "code",
   "execution_count": 54,
   "metadata": {},
   "outputs": [
    {
     "data": {
      "text/plain": [
       "<matplotlib.colorbar.Colorbar at 0x7f6f51df6240>"
      ]
     },
     "execution_count": 54,
     "metadata": {},
     "output_type": "execute_result"
    },
    {
     "data": {
      "image/png": "[encoded data removed]",
      "text/plain": [
       "<Figure size 1152x144 with 2 Axes>"
      ]
     },
     "metadata": {
      "needs_background": "light"
     },
     "output_type": "display_data"
    }
   ],
   "source": [
    "plt.matshow(spp['proj_dat'][0], aspect='auto');plt.colorbar()"
   ]
  },
  {
   "cell_type": "code",
   "execution_count": 55,
   "metadata": {},
   "outputs": [
    {
     "data": {
      "image/svg+xml": [
       "<?xml version=\"1.0\" encoding=\"UTF-8\" standalone=\"no\"?>\n",
       "<!DOCTYPE svg PUBLIC \"-//W3C//DTD SVG 1.1//EN\"\n",
       " \"http://www.w3.org/Graphics/SVG/1.1/DTD/svg11.dtd\">\n",
       "<!-- Generated by graphviz version 2.48.0 (20210717.2242)\n",
       " -->\n",
       "<!-- Pages: 1 -->\n",
       "<svg width=\"476pt\" height=\"571pt\"\n",
       " viewBox=\"0.00 0.00 476.00 570.81\" xmlns=\"http://www.w3.org/2000/svg\" xmlns:xlink=\"http://www.w3.org/1999/xlink\">\n",
       "<g id=\"graph0\" class=\"graph\" transform=\"scale(1 1) rotate(0) translate(4 566.81)\">\n",
       "<polygon fill=\"white\" stroke=\"transparent\" points=\"-4,4 -4,-566.81 472,-566.81 472,4 -4,4\"/>\n",
       "<g id=\"clust1\" class=\"cluster\">\n",
       "<title>cluster2</title>\n",
       "<path fill=\"none\" stroke=\"black\" d=\"M20,-229.93C20,-229.93 310,-229.93 310,-229.93 316,-229.93 322,-235.93 322,-241.93 322,-241.93 322,-542.81 322,-542.81 322,-548.81 316,-554.81 310,-554.81 310,-554.81 20,-554.81 20,-554.81 14,-554.81 8,-548.81 8,-542.81 8,-542.81 8,-241.93 8,-241.93 8,-235.93 14,-229.93 20,-229.93\"/>\n",
       "<text text-anchor=\"middle\" x=\"309\" y=\"-237.73\" font-family=\"Times,serif\" font-size=\"14.00\">2</text>\n",
       "</g>\n",
       "<g id=\"clust2\" class=\"cluster\">\n",
       "<title>cluster5 x 3</title>\n",
       "<path fill=\"none\" stroke=\"black\" d=\"M342,-218.95C342,-218.95 448,-218.95 448,-218.95 454,-218.95 460,-224.95 460,-230.95 460,-230.95 460,-320.91 460,-320.91 460,-326.91 454,-332.91 448,-332.91 448,-332.91 342,-332.91 342,-332.91 336,-332.91 330,-326.91 330,-320.91 330,-320.91 330,-230.95 330,-230.95 330,-224.95 336,-218.95 342,-218.95\"/>\n",
       "<text text-anchor=\"middle\" x=\"434\" y=\"-226.75\" font-family=\"Times,serif\" font-size=\"14.00\">5 x 3</text>\n",
       "</g>\n",
       "<g id=\"clust3\" class=\"cluster\">\n",
       "<title>cluster5 x 200</title>\n",
       "<path fill=\"none\" stroke=\"black\" d=\"M272,-8C272,-8 378,-8 378,-8 384,-8 390,-14 390,-20 390,-20 390,-198.95 390,-198.95 390,-204.95 384,-210.95 378,-210.95 378,-210.95 272,-210.95 272,-210.95 266,-210.95 260,-204.95 260,-198.95 260,-198.95 260,-20 260,-20 260,-14 266,-8 272,-8\"/>\n",
       "<text text-anchor=\"middle\" x=\"355\" y=\"-15.8\" font-family=\"Times,serif\" font-size=\"14.00\">5 x 200</text>\n",
       "</g>\n",
       "<!-- a_tau -->\n",
       "<g id=\"node1\" class=\"node\">\n",
       "<title>a_tau</title>\n",
       "<ellipse fill=\"none\" stroke=\"black\" cx=\"244\" cy=\"-509.34\" rx=\"70.01\" ry=\"37.45\"/>\n",
       "<text text-anchor=\"middle\" x=\"244\" y=\"-520.64\" font-family=\"Times,serif\" font-size=\"14.00\">a_tau</text>\n",
       "<text text-anchor=\"middle\" x=\"244\" y=\"-505.64\" font-family=\"Times,serif\" font-size=\"14.00\">~</text>\n",
       "<text text-anchor=\"middle\" x=\"244\" y=\"-490.64\" font-family=\"Times,serif\" font-size=\"14.00\">HalfCauchy</text>\n",
       "</g>\n",
       "<!-- tau_latent -->\n",
       "<g id=\"node4\" class=\"node\">\n",
       "<title>tau_latent</title>\n",
       "<ellipse fill=\"none\" stroke=\"black\" cx=\"244\" cy=\"-398.38\" rx=\"62.87\" ry=\"37.45\"/>\n",
       "<text text-anchor=\"middle\" x=\"244\" y=\"-409.68\" font-family=\"Times,serif\" font-size=\"14.00\">tau_latent</text>\n",
       "<text text-anchor=\"middle\" x=\"244\" y=\"-394.68\" font-family=\"Times,serif\" font-size=\"14.00\">~</text>\n",
       "<text text-anchor=\"middle\" x=\"244\" y=\"-379.68\" font-family=\"Times,serif\" font-size=\"14.00\">Beta</text>\n",
       "</g>\n",
       "<!-- a_tau&#45;&gt;tau_latent -->\n",
       "<g id=\"edge1\" class=\"edge\">\n",
       "<title>a_tau&#45;&gt;tau_latent</title>\n",
       "<path fill=\"none\" stroke=\"black\" d=\"M244,-471.75C244,-463.58 244,-454.8 244,-446.27\"/>\n",
       "<polygon fill=\"black\" stroke=\"black\" points=\"247.5,-446.06 244,-436.06 240.5,-446.06 247.5,-446.06\"/>\n",
       "</g>\n",
       "<!-- b_tau -->\n",
       "<g id=\"node2\" class=\"node\">\n",
       "<title>b_tau</title>\n",
       "<ellipse fill=\"none\" stroke=\"black\" cx=\"86\" cy=\"-509.34\" rx=\"70.01\" ry=\"37.45\"/>\n",
       "<text text-anchor=\"middle\" x=\"86\" y=\"-520.64\" font-family=\"Times,serif\" font-size=\"14.00\">b_tau</text>\n",
       "<text text-anchor=\"middle\" x=\"86\" y=\"-505.64\" font-family=\"Times,serif\" font-size=\"14.00\">~</text>\n",
       "<text text-anchor=\"middle\" x=\"86\" y=\"-490.64\" font-family=\"Times,serif\" font-size=\"14.00\">HalfCauchy</text>\n",
       "</g>\n",
       "<!-- b_tau&#45;&gt;tau_latent -->\n",
       "<g id=\"edge2\" class=\"edge\">\n",
       "<title>b_tau&#45;&gt;tau_latent</title>\n",
       "<path fill=\"none\" stroke=\"black\" d=\"M128.34,-479.14C148.92,-464.95 173.76,-447.82 195.14,-433.08\"/>\n",
       "<polygon fill=\"black\" stroke=\"black\" points=\"197.21,-435.9 203.45,-427.35 193.23,-430.14 197.21,-435.9\"/>\n",
       "</g>\n",
       "<!-- tau -->\n",
       "<g id=\"node3\" class=\"node\">\n",
       "<title>tau</title>\n",
       "<polygon fill=\"none\" stroke=\"black\" points=\"307,-313.93 193,-313.93 193,-260.93 307,-260.93 307,-313.93\"/>\n",
       "<text text-anchor=\"middle\" x=\"250\" y=\"-298.73\" font-family=\"Times,serif\" font-size=\"14.00\">tau</text>\n",
       "<text text-anchor=\"middle\" x=\"250\" y=\"-283.73\" font-family=\"Times,serif\" font-size=\"14.00\">~</text>\n",
       "<text text-anchor=\"middle\" x=\"250\" y=\"-268.73\" font-family=\"Times,serif\" font-size=\"14.00\">Deterministic</text>\n",
       "</g>\n",
       "<!-- proj_dat -->\n",
       "<g id=\"node7\" class=\"node\">\n",
       "<title>proj_dat</title>\n",
       "<polygon fill=\"none\" stroke=\"black\" points=\"382,-202.95 268,-202.95 268,-149.95 382,-149.95 382,-202.95\"/>\n",
       "<text text-anchor=\"middle\" x=\"325\" y=\"-187.75\" font-family=\"Times,serif\" font-size=\"14.00\">proj_dat</text>\n",
       "<text text-anchor=\"middle\" x=\"325\" y=\"-172.75\" font-family=\"Times,serif\" font-size=\"14.00\">~</text>\n",
       "<text text-anchor=\"middle\" x=\"325\" y=\"-157.75\" font-family=\"Times,serif\" font-size=\"14.00\">Deterministic</text>\n",
       "</g>\n",
       "<!-- tau&#45;&gt;proj_dat -->\n",
       "<g id=\"edge4\" class=\"edge\">\n",
       "<title>tau&#45;&gt;proj_dat</title>\n",
       "<path fill=\"none\" stroke=\"black\" d=\"M267.58,-260.88C277.67,-246.23 290.46,-227.65 301.4,-211.74\"/>\n",
       "<polygon fill=\"black\" stroke=\"black\" points=\"304.48,-213.44 307.27,-203.22 298.71,-209.47 304.48,-213.44\"/>\n",
       "</g>\n",
       "<!-- tau_latent&#45;&gt;tau -->\n",
       "<g id=\"edge3\" class=\"edge\">\n",
       "<title>tau_latent&#45;&gt;tau</title>\n",
       "<path fill=\"none\" stroke=\"black\" d=\"M246.01,-360.8C246.66,-349.06 247.38,-336.08 248.02,-324.38\"/>\n",
       "<polygon fill=\"black\" stroke=\"black\" points=\"251.53,-324.26 248.59,-314.08 244.54,-323.87 251.53,-324.26\"/>\n",
       "</g>\n",
       "<!-- proj_mat -->\n",
       "<g id=\"node5\" class=\"node\">\n",
       "<title>proj_mat</title>\n",
       "<ellipse fill=\"none\" stroke=\"black\" cx=\"395\" cy=\"-287.43\" rx=\"56.64\" ry=\"37.45\"/>\n",
       "<text text-anchor=\"middle\" x=\"395\" y=\"-298.73\" font-family=\"Times,serif\" font-size=\"14.00\">proj_mat</text>\n",
       "<text text-anchor=\"middle\" x=\"395\" y=\"-283.73\" font-family=\"Times,serif\" font-size=\"14.00\">~</text>\n",
       "<text text-anchor=\"middle\" x=\"395\" y=\"-268.73\" font-family=\"Times,serif\" font-size=\"14.00\">Normal</text>\n",
       "</g>\n",
       "<!-- proj_mat&#45;&gt;proj_dat -->\n",
       "<g id=\"edge5\" class=\"edge\">\n",
       "<title>proj_mat&#45;&gt;proj_dat</title>\n",
       "<path fill=\"none\" stroke=\"black\" d=\"M373.24,-252.55C364.89,-239.55 355.36,-224.72 346.99,-211.69\"/>\n",
       "<polygon fill=\"black\" stroke=\"black\" points=\"349.76,-209.53 341.41,-203 343.87,-213.31 349.76,-209.53\"/>\n",
       "</g>\n",
       "<!-- obs -->\n",
       "<g id=\"node6\" class=\"node\">\n",
       "<title>obs</title>\n",
       "<ellipse fill=\"lightgrey\" stroke=\"black\" cx=\"325\" cy=\"-76.48\" rx=\"49.49\" ry=\"37.45\"/>\n",
       "<text text-anchor=\"middle\" x=\"325\" y=\"-87.78\" font-family=\"Times,serif\" font-size=\"14.00\">obs</text>\n",
       "<text text-anchor=\"middle\" x=\"325\" y=\"-72.78\" font-family=\"Times,serif\" font-size=\"14.00\">~</text>\n",
       "<text text-anchor=\"middle\" x=\"325\" y=\"-57.78\" font-family=\"Times,serif\" font-size=\"14.00\">Normal</text>\n",
       "</g>\n",
       "<!-- proj_dat&#45;&gt;obs -->\n",
       "<g id=\"edge6\" class=\"edge\">\n",
       "<title>proj_dat&#45;&gt;obs</title>\n",
       "<path fill=\"none\" stroke=\"black\" d=\"M325,-149.71C325,-141.89 325,-133.03 325,-124.27\"/>\n",
       "<polygon fill=\"black\" stroke=\"black\" points=\"328.5,-124.1 325,-114.1 321.5,-124.1 328.5,-124.1\"/>\n",
       "</g>\n",
       "</g>\n",
       "</svg>\n"
      ],
      "text/plain": [
       "<graphviz.dot.Digraph at 0x7f6f58c6b4a8>"
      ]
     },
     "execution_count": 55,
     "metadata": {},
     "output_type": "execute_result"
    }
   ],
   "source": [
    "pm.model_to_graphviz(dpp_model)"
   ]
  },
  {
   "cell_type": "code",
   "execution_count": 56,
   "metadata": {
    "scrolled": true
   },
   "outputs": [
    {
     "name": "stderr",
     "output_type": "stream",
     "text": [
      "Auto-assigning NUTS sampler...\n",
      "Initializing NUTS using jitter+adapt_diag...\n",
      "Multiprocess sampling (4 chains in 4 jobs)\n",
      "NUTS: [proj_mat, tau_latent, b_tau, a_tau]\n"
     ]
    },
    {
     "data": {
      "text/html": [
       "\n",
       "    <div>\n",
       "        <style>\n",
       "            /* Turns off some styling */\n",
       "            progress {\n",
       "                /* gets rid of default border in Firefox and Opera. */\n",
       "                border: none;\n",
       "                /* Needs to be in here for Safari polyfill so background images work as expected. */\n",
       "                background-size: auto;\n",
       "            }\n",
       "            .progress-bar-interrupted, .progress-bar-interrupted::-webkit-progress-bar {\n",
       "                background: #F44336;\n",
       "            }\n",
       "        </style>\n",
       "      <progress value='8000' class='' max='8000' style='width:300px; height:20px; vertical-align: middle;'></progress>\n",
       "      100.00% [8000/8000 00:07<00:00 Sampling 4 chains, 2,185 divergences]\n",
       "    </div>\n",
       "    "
      ],
      "text/plain": [
       "<IPython.core.display.HTML object>"
      ]
     },
     "metadata": {},
     "output_type": "display_data"
    },
    {
     "name": "stderr",
     "output_type": "stream",
     "text": [
      "Sampling 4 chains for 1_000 tune and 1_000 draw iterations (4_000 + 4_000 draws total) took 8 seconds.\n",
      "There were 97 divergences after tuning. Increase `target_accept` or reparameterize.\n",
      "There were 307 divergences after tuning. Increase `target_accept` or reparameterize.\n",
      "There were 941 divergences after tuning. Increase `target_accept` or reparameterize.\n",
      "The acceptance probability does not match the target. It is 0.4947414396925432, but should be close to 0.8. Try to increase the number of tuning steps.\n",
      "There were 840 divergences after tuning. Increase `target_accept` or reparameterize.\n",
      "The acceptance probability does not match the target. It is 0.49476303160990004, but should be close to 0.8. Try to increase the number of tuning steps.\n",
      "The rhat statistic is larger than 1.4 for some parameters. The sampler did not converge.\n",
      "The estimated number of effective samples is smaller than 200 for some parameters.\n"
     ]
    }
   ],
   "source": [
    "with model:\n",
    "    trace = pm.sample()"
   ]
  },
  {
   "cell_type": "code",
   "execution_count": 57,
   "metadata": {},
   "outputs": [
    {
     "data": {
      "image/png": "[encoded data removed]",
      "text/plain": [
       "<Figure size 864x144 with 2 Axes>"
      ]
     },
     "metadata": {
      "needs_background": "light"
     },
     "output_type": "display_data"
    }
   ],
   "source": [
    "with model:\n",
    "    pm.traceplot(trace, var_names = ['tau']);"
   ]
  },
  {
   "cell_type": "code",
   "execution_count": 61,
   "metadata": {},
   "outputs": [
    {
     "data": {
      "text/plain": [
       "<matplotlib.colorbar.Colorbar at 0x7f6f3b9246a0>"
      ]
     },
     "execution_count": 61,
     "metadata": {},
     "output_type": "execute_result"
    },
    {
     "data": {
      "image/png": "[encoded data removed]",
      "text/plain": [
       "<Figure size 288x480 with 2 Axes>"
      ]
     },
     "metadata": {
      "needs_background": "light"
     },
     "output_type": "display_data"
    }
   ],
   "source": [
    "plt.matshow(trace['proj_mat'].mean(axis=0)); plt.colorbar()"
   ]
  },
  {
   "cell_type": "code",
   "execution_count": 58,
   "metadata": {},
   "outputs": [
    {
     "name": "stderr",
     "output_type": "stream",
     "text": [
      "/home/abuzarmahmood/anaconda3/lib/python3.6/site-packages/pymc3/sampling.py:1708: UserWarning: samples parameter is smaller than nchains times ndraws, some draws and/or chains may not be represented in the returned posterior predictive sample\n",
      "  \"samples parameter is smaller than nchains times ndraws, some draws \"\n"
     ]
    },
    {
     "data": {
      "text/html": [
       "\n",
       "    <div>\n",
       "        <style>\n",
       "            /* Turns off some styling */\n",
       "            progress {\n",
       "                /* gets rid of default border in Firefox and Opera. */\n",
       "                border: none;\n",
       "                /* Needs to be in here for Safari polyfill so background images work as expected. */\n",
       "                background-size: auto;\n",
       "            }\n",
       "            .progress-bar-interrupted, .progress-bar-interrupted::-webkit-progress-bar {\n",
       "                background: #F44336;\n",
       "            }\n",
       "        </style>\n",
       "      <progress value='2000' class='' max='2000' style='width:300px; height:20px; vertical-align: middle;'></progress>\n",
       "      100.00% [2000/2000 00:01<00:00]\n",
       "    </div>\n",
       "    "
      ],
      "text/plain": [
       "<IPython.core.display.HTML object>"
      ]
     },
     "metadata": {},
     "output_type": "display_data"
    }
   ],
   "source": [
    "with model:\n",
    "    ppc = pm.sample_posterior_predictive(trace, samples = 2000)"
   ]
  },
  {
   "cell_type": "code",
   "execution_count": 59,
   "metadata": {},
   "outputs": [
    {
     "data": {
      "text/plain": [
       "<matplotlib.image.AxesImage at 0x7f6f5142f9e8>"
      ]
     },
     "execution_count": 59,
     "metadata": {},
     "output_type": "execute_result"
    },
    {
     "data": {
      "image/png": "[encoded data removed]",
      "text/plain": [
       "<Figure size 432x288 with 2 Axes>"
      ]
     },
     "metadata": {
      "needs_background": "light"
     },
     "output_type": "display_data"
    }
   ],
   "source": [
    "fig,ax = plt.subplots(2,1)\n",
    "ax[0].imshow(true_r, interpolation = 'nearest', aspect = 'auto')\n",
    "ax[1].imshow(ppc['obs'].mean(axis=0), interpolation = 'nearest', aspect = 'auto')"
   ]
  },
  {
   "cell_type": "code",
   "execution_count": null,
   "metadata": {},
   "outputs": [],
   "source": []
  }
 ],
 "metadata": {
  "kernelspec": {
   "display_name": "Python 3 (ipykernel)",
   "language": "python",
   "name": "python3"
  },
  "language_info": {
   "codemirror_mode": {
    "name": "ipython",
    "version": 3
   },
   "file_extension": ".py",
   "mimetype": "text/x-python",
   "name": "python",
   "nbconvert_exporter": "python",
   "pygments_lexer": "ipython3",
   "version": "3.6.13"
  }
 },
 "nbformat": 4,
 "nbformat_minor": 4
}
