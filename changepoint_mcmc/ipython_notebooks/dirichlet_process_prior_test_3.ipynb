{
 "cells": [
  {
   "cell_type": "markdown",
   "metadata": {},
   "source": [
    "\"\"\"\n",
    "Generate data with specified changepoints\n",
    "Compare ELBO fits for changepoint model with different\n",
    "numbers of changepoints\n",
    "\"\"\""
   ]
  },
  {
   "cell_type": "code",
   "execution_count": 2,
   "metadata": {},
   "outputs": [],
   "source": [
    "import os\n",
    "import pickle\n",
    "import scipy.stats as stats\n",
    "import pymc3 as pm\n",
    "import theano.tensor as tt\n",
    "import numpy as np\n",
    "import pylab as plt\n",
    "from pymc3.variational.callbacks import CheckParametersConvergence\n",
    "from theano.tensor.extra_ops import cumsum"
   ]
  },
  {
   "cell_type": "code",
   "execution_count": 189,
   "metadata": {},
   "outputs": [],
   "source": [
    "def stick_breaking(beta):\n",
    "    portion_remaining = tt.concatenate([[1], tt.extra_ops.cumprod(1 - beta)[:-1]])\n",
    "    return beta * portion_remaining"
   ]
  },
  {
   "cell_type": "code",
   "execution_count": 280,
   "metadata": {},
   "outputs": [
    {
     "data": {
      "text/plain": [
       "<matplotlib.colorbar.Colorbar at 0x7f6920be36d8>"
      ]
     },
     "execution_count": 280,
     "metadata": {},
     "output_type": "execute_result"
    },
    {
     "data": {
      "image/png": "[encoded data removed]",
      "text/plain": [
       "<Figure size 1152x144 with 2 Axes>"
      ]
     },
     "metadata": {
      "needs_background": "light"
     },
     "output_type": "display_data"
    }
   ],
   "source": [
    "import scipy as sp\n",
    "N = 2\n",
    "K = 50\n",
    "alpha = 1\n",
    "beta = sp.stats.beta.rvs(1, alpha, size=(N, K))\n",
    "w = np.empty_like(beta)\n",
    "w[:, 0] = beta[:, 0]\n",
    "w[:, 1:] = beta[:, 1:] * (1 - beta[:, :-1]).cumprod(axis=1)\n",
    "plt.matshow(w); plt.colorbar()"
   ]
  },
  {
   "cell_type": "code",
   "execution_count": 281,
   "metadata": {},
   "outputs": [],
   "source": [
    "# lens = w[0]\n",
    "# lens = lens / lens.sum()\n",
    "# changes = np.cumsum(lens)\n",
    "# rate = np.random.random(len(lens)-1)\n",
    "# total_len = 100\n",
    "# fin_changes = np.vectorize(np.int)(total_len * changes)\n",
    "# x = np.zeros(total_len)\n",
    "# for num, this_rate in enumerate(rate):\n",
    "#     x[fin_changes[num]:fin_changes[num+1]] = this_rate\n",
    "# plt.plot(x)"
   ]
  },
  {
   "cell_type": "code",
   "execution_count": 282,
   "metadata": {},
   "outputs": [
    {
     "data": {
      "text/plain": [
       "array([61, 86, 94, 97, 98, 99, 99, 99, 99, 99, 99, 99, 99, 99, 99, 99, 99,\n",
       "       99, 99, 99, 99, 99, 99, 99, 99, 99, 99, 99, 99, 99, 99, 99, 99, 99,\n",
       "       99, 99, 99, 99, 99, 99, 99, 99, 99, 99, 99, 99, 99, 99, 99, 99])"
      ]
     },
     "execution_count": 282,
     "metadata": {},
     "output_type": "execute_result"
    }
   ],
   "source": [
    "lens = w[0]\n",
    "lens = lens / lens.sum()\n",
    "changes = np.cumsum(lens)\n",
    "total_len = 100\n",
    "fin_changes = np.vectorize(np.int)(total_len * changes)\n",
    "fin_changes"
   ]
  },
  {
   "cell_type": "code",
   "execution_count": 309,
   "metadata": {},
   "outputs": [
    {
     "data": {
      "text/plain": [
       "array([ 33,  66,  99, 100, 100, 100, 100, 100, 100, 100, 100, 100, 100,\n",
       "       100, 100, 100, 100, 100, 100, 100, 100, 100, 100, 100, 100, 100,\n",
       "       100, 100, 100, 100, 100, 100, 100, 100, 100, 100, 100, 100, 100,\n",
       "       100, 100, 100, 100, 100, 100, 100, 100, 100, 100, 100])"
      ]
     },
     "execution_count": 309,
     "metadata": {},
     "output_type": "execute_result"
    }
   ],
   "source": [
    "fin_changes[:3] = [33,66,99]\n",
    "fin_changes[3:] = 100\n",
    "fin_changes"
   ]
  },
  {
   "cell_type": "code",
   "execution_count": 310,
   "metadata": {},
   "outputs": [],
   "source": [
    "length = total_len\n",
    "idx = np.arange(length)\n",
    "\n",
    "with pm.Model() as dpp_model:\n",
    "    \n",
    "    #a_lambda = 2\n",
    "    #b_lambda = 5\n",
    "    #lambda_latent = pm.Beta('lambda_latent', a_lambda, b_lambda, shape = K+1)  \n",
    "    #lambda_latent = pm.HalfNormal('lambda_latent', 1, shape = K)\n",
    "    \n",
    "    \n",
    "    #alpha = pm.HalfCauchy('alpha',5)\n",
    "    alpha = pm.Gamma('alpha', 1, 1)\n",
    "    beta = pm.Beta('beta', 1, alpha, shape = K)\n",
    "    w_raw = pm.Deterministic('w_raw', stick_breaking(beta))\n",
    "    w_latent = pm.Deterministic('w_latent', w_raw / w_raw.sum())\n",
    "    tau = pm.Deterministic('tau', tt.cumsum(w_latent * total_len))\n",
    "    \n",
    "    obs = pm.Normal('obs', mu = tau, sigma = 10, observed = fin_changes)\n",
    "    \n",
    "    #     weight_stack = tt.nnet.sigmoid(idx[np.newaxis,:]-tau[:,np.newaxis])\n",
    "    #     weight_stack = tt.concatenate([np.ones((1,length)),weight_stack],axis=0)\n",
    "    #     inverse_stack = 1 - weight_stack[1:]\n",
    "    #     inverse_stack = tt.concatenate([inverse_stack, np.ones((1,length))],axis=0)\n",
    "    #     weight_stack = np.multiply(weight_stack,inverse_stack)\n",
    "\n",
    "    #     lambda_ = pm.math.sum(np.multiply(weight_stack,lambda_latent[:,np.newaxis]),axis=0)\n",
    "    #     # Add observations\n",
    "    #     observation = pm.Normal(\"obs\", mu = lambda_, sigma = 1, observed=x)"
   ]
  },
  {
   "cell_type": "code",
   "execution_count": 311,
   "metadata": {},
   "outputs": [],
   "source": [
    "with dpp_model:\n",
    "    spp = pm.sample_prior_predictive(samples = 100)"
   ]
  },
  {
   "cell_type": "code",
   "execution_count": 312,
   "metadata": {},
   "outputs": [
    {
     "data": {
      "text/plain": [
       "(array([49., 16., 15.,  8.,  3.,  4.,  2.,  2.,  0.,  1.]),\n",
       " array([0.01546715, 0.4747077 , 0.93394825, 1.3931888 , 1.85242935,\n",
       "        2.31166989, 2.77091044, 3.23015099, 3.68939154, 4.14863209,\n",
       "        4.60787263]),\n",
       " <BarContainer object of 10 artists>)"
      ]
     },
     "execution_count": 312,
     "metadata": {},
     "output_type": "execute_result"
    },
    {
     "data": {
      "image/png": "[encoded data removed]",
      "text/plain": [
       "<Figure size 432x288 with 1 Axes>"
      ]
     },
     "metadata": {
      "needs_background": "light"
     },
     "output_type": "display_data"
    }
   ],
   "source": [
    "plt.hist(spp['alpha'])"
   ]
  },
  {
   "cell_type": "code",
   "execution_count": 313,
   "metadata": {},
   "outputs": [],
   "source": [
    "#spp['tau']"
   ]
  },
  {
   "cell_type": "code",
   "execution_count": 314,
   "metadata": {},
   "outputs": [
    {
     "data": {
      "image/svg+xml": [
       "<?xml version=\"1.0\" encoding=\"UTF-8\" standalone=\"no\"?>\n",
       "<!DOCTYPE svg PUBLIC \"-//W3C//DTD SVG 1.1//EN\"\n",
       " \"http://www.w3.org/Graphics/SVG/1.1/DTD/svg11.dtd\">\n",
       "<!-- Generated by graphviz version 2.48.0 (20210717.2242)\n",
       " -->\n",
       "<!-- Pages: 1 -->\n",
       "<svg width=\"154pt\" height=\"611pt\"\n",
       " viewBox=\"0.00 0.00 154.00 610.86\" xmlns=\"http://www.w3.org/2000/svg\" xmlns:xlink=\"http://www.w3.org/1999/xlink\">\n",
       "<g id=\"graph0\" class=\"graph\" transform=\"scale(1 1) rotate(0) translate(4 606.86)\">\n",
       "<polygon fill=\"white\" stroke=\"transparent\" points=\"-4,4 -4,-606.86 150,-606.86 150,4 -4,4\"/>\n",
       "<g id=\"clust1\" class=\"cluster\">\n",
       "<title>cluster50</title>\n",
       "<path fill=\"none\" stroke=\"black\" d=\"M20,-8C20,-8 126,-8 126,-8 132,-8 138,-14 138,-20 138,-20 138,-487.91 138,-487.91 138,-493.91 132,-499.91 126,-499.91 126,-499.91 20,-499.91 20,-499.91 14,-499.91 8,-493.91 8,-487.91 8,-487.91 8,-20 8,-20 8,-14 14,-8 20,-8\"/>\n",
       "<text text-anchor=\"middle\" x=\"120.5\" y=\"-15.8\" font-family=\"Times,serif\" font-size=\"14.00\">50</text>\n",
       "</g>\n",
       "<!-- alpha -->\n",
       "<g id=\"node1\" class=\"node\">\n",
       "<title>alpha</title>\n",
       "<ellipse fill=\"none\" stroke=\"black\" cx=\"73\" cy=\"-565.38\" rx=\"50.41\" ry=\"37.45\"/>\n",
       "<text text-anchor=\"middle\" x=\"73\" y=\"-576.68\" font-family=\"Times,serif\" font-size=\"14.00\">alpha</text>\n",
       "<text text-anchor=\"middle\" x=\"73\" y=\"-561.68\" font-family=\"Times,serif\" font-size=\"14.00\">~</text>\n",
       "<text text-anchor=\"middle\" x=\"73\" y=\"-546.68\" font-family=\"Times,serif\" font-size=\"14.00\">Gamma</text>\n",
       "</g>\n",
       "<!-- beta -->\n",
       "<g id=\"node4\" class=\"node\">\n",
       "<title>beta</title>\n",
       "<ellipse fill=\"none\" stroke=\"black\" cx=\"73\" cy=\"-454.43\" rx=\"35.21\" ry=\"37.45\"/>\n",
       "<text text-anchor=\"middle\" x=\"73\" y=\"-465.73\" font-family=\"Times,serif\" font-size=\"14.00\">beta</text>\n",
       "<text text-anchor=\"middle\" x=\"73\" y=\"-450.73\" font-family=\"Times,serif\" font-size=\"14.00\">~</text>\n",
       "<text text-anchor=\"middle\" x=\"73\" y=\"-435.73\" font-family=\"Times,serif\" font-size=\"14.00\">Beta</text>\n",
       "</g>\n",
       "<!-- alpha&#45;&gt;beta -->\n",
       "<g id=\"edge1\" class=\"edge\">\n",
       "<title>alpha&#45;&gt;beta</title>\n",
       "<path fill=\"none\" stroke=\"black\" d=\"M73,-527.8C73,-519.63 73,-510.85 73,-502.32\"/>\n",
       "<polygon fill=\"black\" stroke=\"black\" points=\"76.5,-502.1 73,-492.1 69.5,-502.1 76.5,-502.1\"/>\n",
       "</g>\n",
       "<!-- w_raw -->\n",
       "<g id=\"node2\" class=\"node\">\n",
       "<title>w_raw</title>\n",
       "<polygon fill=\"none\" stroke=\"black\" points=\"130,-380.95 16,-380.95 16,-327.95 130,-327.95 130,-380.95\"/>\n",
       "<text text-anchor=\"middle\" x=\"73\" y=\"-365.75\" font-family=\"Times,serif\" font-size=\"14.00\">w_raw</text>\n",
       "<text text-anchor=\"middle\" x=\"73\" y=\"-350.75\" font-family=\"Times,serif\" font-size=\"14.00\">~</text>\n",
       "<text text-anchor=\"middle\" x=\"73\" y=\"-335.75\" font-family=\"Times,serif\" font-size=\"14.00\">Deterministic</text>\n",
       "</g>\n",
       "<!-- w_latent -->\n",
       "<g id=\"node3\" class=\"node\">\n",
       "<title>w_latent</title>\n",
       "<polygon fill=\"none\" stroke=\"black\" points=\"130,-291.95 16,-291.95 16,-238.95 130,-238.95 130,-291.95\"/>\n",
       "<text text-anchor=\"middle\" x=\"73\" y=\"-276.75\" font-family=\"Times,serif\" font-size=\"14.00\">w_latent</text>\n",
       "<text text-anchor=\"middle\" x=\"73\" y=\"-261.75\" font-family=\"Times,serif\" font-size=\"14.00\">~</text>\n",
       "<text text-anchor=\"middle\" x=\"73\" y=\"-246.75\" font-family=\"Times,serif\" font-size=\"14.00\">Deterministic</text>\n",
       "</g>\n",
       "<!-- w_raw&#45;&gt;w_latent -->\n",
       "<g id=\"edge3\" class=\"edge\">\n",
       "<title>w_raw&#45;&gt;w_latent</title>\n",
       "<path fill=\"none\" stroke=\"black\" d=\"M73,-327.82C73,-319.84 73,-310.89 73,-302.34\"/>\n",
       "<polygon fill=\"black\" stroke=\"black\" points=\"76.5,-302.2 73,-292.2 69.5,-302.2 76.5,-302.2\"/>\n",
       "</g>\n",
       "<!-- tau -->\n",
       "<g id=\"node6\" class=\"node\">\n",
       "<title>tau</title>\n",
       "<polygon fill=\"none\" stroke=\"black\" points=\"130,-202.95 16,-202.95 16,-149.95 130,-149.95 130,-202.95\"/>\n",
       "<text text-anchor=\"middle\" x=\"73\" y=\"-187.75\" font-family=\"Times,serif\" font-size=\"14.00\">tau</text>\n",
       "<text text-anchor=\"middle\" x=\"73\" y=\"-172.75\" font-family=\"Times,serif\" font-size=\"14.00\">~</text>\n",
       "<text text-anchor=\"middle\" x=\"73\" y=\"-157.75\" font-family=\"Times,serif\" font-size=\"14.00\">Deterministic</text>\n",
       "</g>\n",
       "<!-- w_latent&#45;&gt;tau -->\n",
       "<g id=\"edge4\" class=\"edge\">\n",
       "<title>w_latent&#45;&gt;tau</title>\n",
       "<path fill=\"none\" stroke=\"black\" d=\"M73,-238.82C73,-230.84 73,-221.89 73,-213.34\"/>\n",
       "<polygon fill=\"black\" stroke=\"black\" points=\"76.5,-213.2 73,-203.2 69.5,-213.2 76.5,-213.2\"/>\n",
       "</g>\n",
       "<!-- beta&#45;&gt;w_raw -->\n",
       "<g id=\"edge2\" class=\"edge\">\n",
       "<title>beta&#45;&gt;w_raw</title>\n",
       "<path fill=\"none\" stroke=\"black\" d=\"M73,-416.95C73,-408.53 73,-399.59 73,-391.2\"/>\n",
       "<polygon fill=\"black\" stroke=\"black\" points=\"76.5,-390.96 73,-380.96 69.5,-390.96 76.5,-390.96\"/>\n",
       "</g>\n",
       "<!-- obs -->\n",
       "<g id=\"node5\" class=\"node\">\n",
       "<title>obs</title>\n",
       "<ellipse fill=\"lightgrey\" stroke=\"black\" cx=\"73\" cy=\"-76.48\" rx=\"49.49\" ry=\"37.45\"/>\n",
       "<text text-anchor=\"middle\" x=\"73\" y=\"-87.78\" font-family=\"Times,serif\" font-size=\"14.00\">obs</text>\n",
       "<text text-anchor=\"middle\" x=\"73\" y=\"-72.78\" font-family=\"Times,serif\" font-size=\"14.00\">~</text>\n",
       "<text text-anchor=\"middle\" x=\"73\" y=\"-57.78\" font-family=\"Times,serif\" font-size=\"14.00\">Normal</text>\n",
       "</g>\n",
       "<!-- tau&#45;&gt;obs -->\n",
       "<g id=\"edge5\" class=\"edge\">\n",
       "<title>tau&#45;&gt;obs</title>\n",
       "<path fill=\"none\" stroke=\"black\" d=\"M73,-149.71C73,-141.89 73,-133.03 73,-124.27\"/>\n",
       "<polygon fill=\"black\" stroke=\"black\" points=\"76.5,-124.1 73,-114.1 69.5,-124.1 76.5,-124.1\"/>\n",
       "</g>\n",
       "</g>\n",
       "</svg>\n"
      ],
      "text/plain": [
       "<graphviz.dot.Digraph at 0x7f691d119ac8>"
      ]
     },
     "execution_count": 314,
     "metadata": {},
     "output_type": "execute_result"
    }
   ],
   "source": [
    "pm.model_to_graphviz(dpp_model)"
   ]
  },
  {
   "cell_type": "code",
   "execution_count": 315,
   "metadata": {},
   "outputs": [
    {
     "name": "stderr",
     "output_type": "stream",
     "text": [
      "Auto-assigning NUTS sampler...\n",
      "Initializing NUTS using jitter+adapt_diag...\n",
      "Multiprocess sampling (4 chains in 4 jobs)\n",
      "NUTS: [beta, alpha]\n"
     ]
    },
    {
     "data": {
      "text/html": [
       "\n",
       "    <div>\n",
       "        <style>\n",
       "            /* Turns off some styling */\n",
       "            progress {\n",
       "                /* gets rid of default border in Firefox and Opera. */\n",
       "                border: none;\n",
       "                /* Needs to be in here for Safari polyfill so background images work as expected. */\n",
       "                background-size: auto;\n",
       "            }\n",
       "            .progress-bar-interrupted, .progress-bar-interrupted::-webkit-progress-bar {\n",
       "                background: #F44336;\n",
       "            }\n",
       "        </style>\n",
       "      <progress value='8000' class='' max='8000' style='width:300px; height:20px; vertical-align: middle;'></progress>\n",
       "      100.00% [8000/8000 00:04<00:00 Sampling 4 chains, 141 divergences]\n",
       "    </div>\n",
       "    "
      ],
      "text/plain": [
       "<IPython.core.display.HTML object>"
      ]
     },
     "metadata": {},
     "output_type": "display_data"
    },
    {
     "name": "stderr",
     "output_type": "stream",
     "text": [
      "Sampling 4 chains for 1_000 tune and 1_000 draw iterations (4_000 + 4_000 draws total) took 5 seconds.\n",
      "There were 49 divergences after tuning. Increase `target_accept` or reparameterize.\n",
      "There were 22 divergences after tuning. Increase `target_accept` or reparameterize.\n",
      "There were 52 divergences after tuning. Increase `target_accept` or reparameterize.\n",
      "There were 18 divergences after tuning. Increase `target_accept` or reparameterize.\n",
      "The estimated number of effective samples is smaller than 200 for some parameters.\n"
     ]
    }
   ],
   "source": [
    "with dpp_model:\n",
    "    dpp_trace = pm.sample()"
   ]
  },
  {
   "cell_type": "code",
   "execution_count": 316,
   "metadata": {},
   "outputs": [],
   "source": [
    "# with dpp_model:\n",
    "#     pm.forestplot(dpp_trace);"
   ]
  },
  {
   "cell_type": "code",
   "execution_count": 317,
   "metadata": {},
   "outputs": [
    {
     "name": "stderr",
     "output_type": "stream",
     "text": [
      "/home/abuzarmahmood/anaconda3/lib/python3.6/site-packages/pymc3/sampling.py:1708: UserWarning: samples parameter is smaller than nchains times ndraws, some draws and/or chains may not be represented in the returned posterior predictive sample\n",
      "  \"samples parameter is smaller than nchains times ndraws, some draws \"\n"
     ]
    },
    {
     "data": {
      "text/html": [
       "\n",
       "    <div>\n",
       "        <style>\n",
       "            /* Turns off some styling */\n",
       "            progress {\n",
       "                /* gets rid of default border in Firefox and Opera. */\n",
       "                border: none;\n",
       "                /* Needs to be in here for Safari polyfill so background images work as expected. */\n",
       "                background-size: auto;\n",
       "            }\n",
       "            .progress-bar-interrupted, .progress-bar-interrupted::-webkit-progress-bar {\n",
       "                background: #F44336;\n",
       "            }\n",
       "        </style>\n",
       "      <progress value='200' class='' max='200' style='width:300px; height:20px; vertical-align: middle;'></progress>\n",
       "      100.00% [200/200 00:00<00:00]\n",
       "    </div>\n",
       "    "
      ],
      "text/plain": [
       "<IPython.core.display.HTML object>"
      ]
     },
     "metadata": {},
     "output_type": "display_data"
    }
   ],
   "source": [
    "dpp_ppc = pm.sample_posterior_predictive(dpp_trace, samples = 200, model = dpp_model)"
   ]
  },
  {
   "cell_type": "code",
   "execution_count": 318,
   "metadata": {},
   "outputs": [
    {
     "data": {
      "text/plain": [
       "array([ 33.52835144,  69.69127341,  92.51193565,  95.66585645,\n",
       "        98.31341551,  99.14723121,  99.41969826, 100.27463471,\n",
       "        98.38091567,  99.35313654,  99.83506264, 100.62229203,\n",
       "       100.73666989, 101.05849375,  99.48837906, 101.22734547,\n",
       "        99.78505224, 100.10405542,  99.2995331 ,  99.37823568,\n",
       "       101.06346059, 100.72609248,  99.9854563 , 100.65072518,\n",
       "        99.76010445, 100.35005251, 100.45300435, 100.69605203,\n",
       "       100.69744399, 100.8288727 ,  99.7722265 , 100.39872103,\n",
       "        99.11985828, 101.60905046, 100.03640269, 100.59620553,\n",
       "       100.57893921, 100.92553233,  99.90619421,  99.2465964 ,\n",
       "        99.92666435,  99.65979457, 100.02785481,  98.4932685 ,\n",
       "       100.26532482,  99.71775973, 100.32658741, 100.74015655,\n",
       "        99.66897032,  99.88605638])"
      ]
     },
     "execution_count": 318,
     "metadata": {},
     "output_type": "execute_result"
    }
   ],
   "source": [
    "dpp_ppc['obs'].mean(axis=0)"
   ]
  },
  {
   "cell_type": "code",
   "execution_count": 319,
   "metadata": {},
   "outputs": [
    {
     "data": {
      "text/plain": [
       "array([ 33,  66,  99, 100, 100, 100, 100, 100, 100, 100, 100, 100, 100,\n",
       "       100, 100, 100, 100, 100, 100, 100, 100, 100, 100, 100, 100, 100,\n",
       "       100, 100, 100, 100, 100, 100, 100, 100, 100, 100, 100, 100, 100,\n",
       "       100, 100, 100, 100, 100, 100, 100, 100, 100, 100, 100])"
      ]
     },
     "execution_count": 319,
     "metadata": {},
     "output_type": "execute_result"
    }
   ],
   "source": [
    "fin_changes"
   ]
  },
  {
   "cell_type": "code",
   "execution_count": 320,
   "metadata": {},
   "outputs": [
    {
     "data": {
      "text/plain": [
       "Text(0, 0.5, 'Inference')"
      ]
     },
     "execution_count": 320,
     "metadata": {},
     "output_type": "execute_result"
    },
    {
     "data": {
      "image/png": "[encoded data removed]",
      "text/plain": [
       "<Figure size 432x288 with 1 Axes>"
      ]
     },
     "metadata": {
      "needs_background": "light"
     },
     "output_type": "display_data"
    }
   ],
   "source": [
    "plt.scatter(fin_changes, dpp_ppc['obs'].mean(axis=0))\n",
    "plt.gca().set_aspect('equal')\n",
    "plt.plot([fin_changes[0],fin_changes[-1]],[fin_changes[0],fin_changes[-1]], color = 'red', alpha = 0.3)\n",
    "plt.xlabel('Data')\n",
    "plt.ylabel('Inference')"
   ]
  },
  {
   "cell_type": "code",
   "execution_count": null,
   "metadata": {},
   "outputs": [],
   "source": []
  },
  {
   "cell_type": "code",
   "execution_count": null,
   "metadata": {},
   "outputs": [],
   "source": []
  }
 ],
 "metadata": {
  "kernelspec": {
   "display_name": "Python 3 (ipykernel)",
   "language": "python",
   "name": "python3"
  },
  "language_info": {
   "codemirror_mode": {
    "name": "ipython",
    "version": 3
   },
   "file_extension": ".py",
   "mimetype": "text/x-python",
   "name": "python",
   "nbconvert_exporter": "python",
   "pygments_lexer": "ipython3",
   "version": "3.6.13"
  }
 },
 "nbformat": 4,
 "nbformat_minor": 4
}
