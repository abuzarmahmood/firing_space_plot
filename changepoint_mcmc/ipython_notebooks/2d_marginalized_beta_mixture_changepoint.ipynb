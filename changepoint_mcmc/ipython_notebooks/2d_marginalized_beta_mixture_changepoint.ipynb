{
 "cells": [
  {
   "cell_type": "markdown",
   "metadata": {},
   "source": [
    "\"\"\"\n",
    "Generate data with specified changepoints\n",
    "Compare ELBO fits for changepoint model with different\n",
    "numbers of changepoints\n",
    "\"\"\""
   ]
  },
  {
   "cell_type": "code",
   "execution_count": 1,
   "metadata": {},
   "outputs": [],
   "source": [
    "import os\n",
    "import pickle\n",
    "import scipy.stats as stats\n",
    "import pymc3 as pm\n",
    "import theano.tensor as tt\n",
    "import numpy as np\n",
    "import pylab as plt\n",
    "from pymc3.variational.callbacks import CheckParametersConvergence\n",
    "from theano.tensor.extra_ops import cumsum\n",
    "from scipy.stats import beta"
   ]
  },
  {
   "cell_type": "code",
   "execution_count": 2,
   "metadata": {},
   "outputs": [
    {
     "name": "stdout",
     "output_type": "stream",
     "text": [
      "(30, 3)\n",
      "(29, 3)\n",
      "(30, 4)\n",
      "(2, 3)\n",
      "(30, 100)\n"
     ]
    },
    {
     "data": {
      "text/plain": [
       "<matplotlib.image.AxesImage at 0x7f750691aef0>"
      ]
     },
     "execution_count": 2,
     "metadata": {},
     "output_type": "execute_result"
    },
    {
     "data": {
      "image/png": "[encoded data removed]",
      "text/plain": [
       "<Figure size 720x720 with 4 Axes>"
      ]
     },
     "metadata": {
      "needs_background": "light"
     },
     "output_type": "display_data"
    }
   ],
   "source": [
    "# Some poisson spiking\n",
    "length = 100\n",
    "states = 3\n",
    "trials = 30\n",
    "fit = int(1e5)\n",
    "samples = 2000\n",
    "idx = np.arange(length)\n",
    "\n",
    "true_tau = np.cumsum(np.random.random((trials,states)),axis=-1)\n",
    "print(true_tau.shape)\n",
    "true_tau /= np.max(true_tau,axis=-1)[:,np.newaxis]\n",
    "true_tau *= length\n",
    "true_tau = np.vectorize(np.int)(true_tau)\n",
    "\n",
    "\n",
    "state_inds = np.concatenate([np.zeros((trials,1)),true_tau],axis=-1)\n",
    "state_inds = np.vectorize(np.int)(state_inds)\n",
    "true_tau = true_tau[:-1]\n",
    "\n",
    "n_components = 2\n",
    "true_lambda = np.random.random((n_components,states))\n",
    "\n",
    "print(true_tau.shape)\n",
    "print(state_inds.shape)\n",
    "print(true_lambda.shape)\n",
    "\n",
    "component_inds = np.random.choice(range(n_components), trials, p = [0.3,0.7])\n",
    "true_r = np.zeros((trials,length))\n",
    "for trial in range(trials):\n",
    "    for state in range(states):\n",
    "        true_r[trial, state_inds[trial,state]:state_inds[trial,state+1]] = \\\n",
    "                    true_lambda[component_inds[trial],state]\n",
    "  \n",
    "data_vec = np.random.random(true_r.shape) < true_r\n",
    "print(data_vec.shape)\n",
    "#data_vec = np.random.poisson(true_r)\n",
    "\n",
    "fig,ax = plt.subplots(2,2,figsize=(10,10))\n",
    "ax[0,1].plot(component_inds, np.arange(trials),'-x')\n",
    "ax[0,0].imshow(true_r,aspect='auto',origin='lower')\n",
    "ax[1,0].imshow(data_vec,aspect='auto',origin='lower')\n",
    "# ax[1].set_ylabel(\"True Rate\")\n",
    "# ax[2].set_ylabel(\"Spikes\")"
   ]
  },
  {
   "cell_type": "code",
   "execution_count": 3,
   "metadata": {},
   "outputs": [
    {
     "name": "stdout",
     "output_type": "stream",
     "text": [
      "[0.23235294 0.41313131 0.67979798]\n"
     ]
    }
   ],
   "source": [
    "mean_vals = np.array([np.mean(x,axis=(0,-1)) for x in np.array_split(data_vec,states,axis=-1)]).T\n",
    "print(mean_vals)"
   ]
  },
  {
   "cell_type": "code",
   "execution_count": 4,
   "metadata": {},
   "outputs": [],
   "source": [
    "with pm.Model() as model:\n",
    "\n",
    "    w = pm.Dirichlet('w', a=np.ones(n_components)*5, shape = (trials,n_components))\n",
    "    #w = pm.Dirichlet('w', a=np.ones(n_components)*5, shape = n_components)\n",
    "    #category = pm.Categorical(\"category\", p=w, shape=trials)\n",
    "    \n",
    "    alphas = pm.HalfCauchy('alphas',5,shape=(2,3))\n",
    "    betas = pm.HalfCauchy('betas',5,shape=(2,3))\n",
    "    clust0_lambda = tt.stack([pm.Beta('l00',alphas[0,0], betas[0,0]),\n",
    "                             pm.Beta('l01',alphas[0,1], betas[0,1]),\n",
    "                             pm.Beta('l02',alphas[0,2], betas[0,2])])\n",
    "    clust1_lambda = tt.stack([pm.Beta('l10',alphas[1,0], betas[1,0]),\n",
    "                             pm.Beta('l11',alphas[1,1], betas[1,1]),\n",
    "                             pm.Beta('l12',alphas[1,2], betas[1,2])])\n",
    "    lambdas = tt.stack([clust0_lambda,clust1_lambda])\n",
    "    \n",
    "    #lambda0 = pm.Beta('l00',alphas[0,0], betas[0,0])*w[0] + pm.Beta('l10',alphas[1,0], betas[1,0])*w[1]\n",
    "    #lambda1 = pm.Beta('l01',alphas[0,1], betas[0,1])*w[0] + pm.Beta('l11',alphas[1,1], betas[1,1])*w[1]\n",
    "    #lambda2 = pm.Beta('l02',alphas[0,2], betas[0,2])*w[0] + pm.Beta('l12',alphas[1,2], betas[1,2])*w[1]\n",
    "    #lambdas = tt.stack([lambda0,lambda1,lambda2])\n",
    "    #components = [[pm.Beta.dist(alphas[comp,state], betas[comp,state]) for comp in range(comps)] for state in range(states)]\n",
    "    #mixes = tt.stack([pm.Mixture(f'mixes{num}', w=w, comp_dists = this_comp, testval = mean_vals[num]) for num,this_comp in enumerate(components)])"
   ]
  },
  {
   "cell_type": "code",
   "execution_count": 12,
   "metadata": {},
   "outputs": [
    {
     "name": "stdout",
     "output_type": "stream",
     "text": [
      "(30, 2)\n",
      "[0.5 0.5 0.5]\n",
      "[0.5 0.5 0.5]\n",
      "(2, 3)\n"
     ]
    }
   ],
   "source": [
    "print(w.tag.test_value.shape)\n",
    "#print(category.tag.test_value)\n",
    "print(clust0_lambda.tag.test_value)\n",
    "print(clust1_lambda.tag.test_value)\n",
    "print(lambdas.tag.test_value.shape)"
   ]
  },
  {
   "cell_type": "code",
   "execution_count": 7,
   "metadata": {},
   "outputs": [],
   "source": [
    "# print(mixes.tag.test_value.shape)\n",
    "# print(mixes.tag.test_value)\n",
    "#print(lambdas.tag.test_value.shape)"
   ]
  },
  {
   "cell_type": "code",
   "execution_count": 8,
   "metadata": {},
   "outputs": [],
   "source": [
    "with model:   \n",
    "    a = pm.HalfCauchy('a_tau', 3., shape = states - 1)\n",
    "    b = pm.HalfCauchy('b_tau', 3., shape = states - 1)\n",
    "    \n",
    "    even_switches = np.linspace(0,1,states+1)[1:-1]\n",
    "    tau_latent = pm.Beta('tau_latent', a, b, \n",
    "                         testval = even_switches,\n",
    "                         shape = (trials,states-1)).sort(axis=-1)    \n",
    "    \n",
    "    tau = pm.Deterministic('tau', \n",
    "            idx.min() + (idx.max() - idx.min()) * tau_latent)"
   ]
  },
  {
   "cell_type": "code",
   "execution_count": 9,
   "metadata": {},
   "outputs": [
    {
     "name": "stdout",
     "output_type": "stream",
     "text": [
      "(30, 2)\n",
      "(100,)\n"
     ]
    }
   ],
   "source": [
    "print(tau.tag.test_value.shape)\n",
    "print(idx.shape)"
   ]
  },
  {
   "cell_type": "code",
   "execution_count": 10,
   "metadata": {},
   "outputs": [],
   "source": [
    "with model:   \n",
    "    weight_stack = tt.nnet.sigmoid(idx[np.newaxis, np.newaxis, :]-tau[:,:,np.newaxis])\n",
    "    weight_stack_shape = weight_stack.tag.test_value.shape\n",
    "    weight_stack = tt.concatenate([np.ones((weight_stack_shape[0],1,weight_stack_shape[-1])),weight_stack],axis=1)\n",
    "    inverse_stack = 1 - weight_stack[:,1:]\n",
    "    inverse_stack = tt.concatenate([inverse_stack, np.ones((weight_stack_shape[0],1,weight_stack_shape[-1]))],axis=1)\n",
    "    weight_stack = np.multiply(weight_stack,inverse_stack)"
   ]
  },
  {
   "cell_type": "code",
   "execution_count": 11,
   "metadata": {},
   "outputs": [
    {
     "name": "stdout",
     "output_type": "stream",
     "text": [
      "(30, 3, 100)\n",
      "(30, 3, 100)\n"
     ]
    }
   ],
   "source": [
    "print(weight_stack.tag.test_value.shape)\n",
    "print(inverse_stack.tag.test_value.shape)"
   ]
  },
  {
   "cell_type": "code",
   "execution_count": 13,
   "metadata": {},
   "outputs": [],
   "source": [
    "#plt.imshow(weight_stack.tag.test_value[1],aspect='auto')"
   ]
  },
  {
   "cell_type": "code",
   "execution_count": 14,
   "metadata": {},
   "outputs": [
    {
     "name": "stdout",
     "output_type": "stream",
     "text": [
      "(30, 2)\n",
      "(2, 3)\n"
     ]
    }
   ],
   "source": [
    "print(w.tag.test_value.shape)\n",
    "print(lambdas.tag.test_value.shape)"
   ]
  },
  {
   "cell_type": "code",
   "execution_count": 15,
   "metadata": {},
   "outputs": [
    {
     "name": "stdout",
     "output_type": "stream",
     "text": [
      "(30, 3, 1)\n"
     ]
    }
   ],
   "source": [
    "with model:\n",
    "    selected_lambdas = tt.tensordot(w,lambdas,[1,0])[:,:,np.newaxis]\n",
    "print(selected_lambdas.tag.test_value.shape)"
   ]
  },
  {
   "cell_type": "code",
   "execution_count": 16,
   "metadata": {},
   "outputs": [],
   "source": [
    "with model:\n",
    "    lambda_ = tt.sum(selected_lambdas*weight_stack,axis=1)\n",
    "    #lambda_ = weight_stack[:,0]*lambda0 + weight_stack[:,1]*lambda1 + weight_stack[:,2]*lambda2\n",
    "    #lambda_ = tt.tensordot(weight_stack, lambdas, [1,0])\n",
    "    #lambda_ = mixes.dot(weight_stack)\n",
    "    #lambda_fin = np.tile(lambda_[np.newaxis,:], (data_vec.shape[0],1))\n",
    "    "
   ]
  },
  {
   "cell_type": "code",
   "execution_count": 17,
   "metadata": {},
   "outputs": [
    {
     "name": "stdout",
     "output_type": "stream",
     "text": [
      "(30, 100)\n"
     ]
    }
   ],
   "source": [
    "print(lambda_.tag.test_value.shape)"
   ]
  },
  {
   "cell_type": "code",
   "execution_count": 18,
   "metadata": {},
   "outputs": [
    {
     "data": {
      "text/plain": [
       "<matplotlib.image.AxesImage at 0x7f74c5e127b8>"
      ]
     },
     "execution_count": 18,
     "metadata": {},
     "output_type": "execute_result"
    },
    {
     "data": {
      "image/png": "[encoded data removed]",
      "text/plain": [
       "<Figure size 432x288 with 1 Axes>"
      ]
     },
     "metadata": {
      "needs_background": "light"
     },
     "output_type": "display_data"
    }
   ],
   "source": [
    "plt.imshow(lambda_.tag.test_value,aspect='auto')"
   ]
  },
  {
   "cell_type": "code",
   "execution_count": 19,
   "metadata": {},
   "outputs": [],
   "source": [
    "with model:\n",
    "    # Add observations\n",
    "    observation = pm.Bernoulli(\"obs\", lambda_, observed=data_vec)"
   ]
  },
  {
   "cell_type": "code",
   "execution_count": 20,
   "metadata": {},
   "outputs": [
    {
     "data": {
      "image/svg+xml": [
       "<?xml version=\"1.0\" encoding=\"UTF-8\" standalone=\"no\"?>\n",
       "<!DOCTYPE svg PUBLIC \"-//W3C//DTD SVG 1.1//EN\"\n",
       " \"http://www.w3.org/Graphics/SVG/1.1/DTD/svg11.dtd\">\n",
       "<!-- Generated by graphviz version 2.40.1 (20161225.0304)\n",
       " -->\n",
       "<!-- Title: %3 Pages: 1 -->\n",
       "<svg width=\"982pt\" height=\"340pt\"\n",
       " viewBox=\"0.00 0.00 982.10 340.00\" xmlns=\"http://www.w3.org/2000/svg\" xmlns:xlink=\"http://www.w3.org/1999/xlink\">\n",
       "<g id=\"graph0\" class=\"graph\" transform=\"scale(1 1) rotate(0) translate(4 336)\">\n",
       "<title>%3</title>\n",
       "<polygon fill=\"#ffffff\" stroke=\"transparent\" points=\"-4,4 -4,-336 978.0957,-336 978.0957,4 -4,4\"/>\n",
       "<g id=\"clust1\" class=\"cluster\">\n",
       "<title>cluster30 x 2</title>\n",
       "<path fill=\"none\" stroke=\"#000000\" d=\"M686.0957,-91C686.0957,-91 954.0957,-91 954.0957,-91 960.0957,-91 966.0957,-97 966.0957,-103 966.0957,-103 966.0957,-229 966.0957,-229 966.0957,-235 960.0957,-241 954.0957,-241 954.0957,-241 686.0957,-241 686.0957,-241 680.0957,-241 674.0957,-235 674.0957,-229 674.0957,-229 674.0957,-103 674.0957,-103 674.0957,-97 680.0957,-91 686.0957,-91\"/>\n",
       "<text text-anchor=\"middle\" x=\"940.5957\" y=\"-98.8\" font-family=\"Times,serif\" font-size=\"14.00\" fill=\"#000000\">30 x 2</text>\n",
       "</g>\n",
       "<g id=\"clust2\" class=\"cluster\">\n",
       "<title>cluster2 x 3</title>\n",
       "<path fill=\"none\" stroke=\"#000000\" d=\"M164.0957,-166C164.0957,-166 506.0957,-166 506.0957,-166 512.0957,-166 518.0957,-172 518.0957,-178 518.0957,-178 518.0957,-229 518.0957,-229 518.0957,-235 512.0957,-241 506.0957,-241 506.0957,-241 164.0957,-241 164.0957,-241 158.0957,-241 152.0957,-235 152.0957,-229 152.0957,-229 152.0957,-178 152.0957,-178 152.0957,-172 158.0957,-166 164.0957,-166\"/>\n",
       "<text text-anchor=\"middle\" x=\"496.0957\" y=\"-173.8\" font-family=\"Times,serif\" font-size=\"14.00\" fill=\"#000000\">2 x 3</text>\n",
       "</g>\n",
       "<g id=\"clust3\" class=\"cluster\">\n",
       "<title>cluster2</title>\n",
       "<path fill=\"none\" stroke=\"#000000\" d=\"M553.0957,-249C553.0957,-249 892.0957,-249 892.0957,-249 898.0957,-249 904.0957,-255 904.0957,-261 904.0957,-261 904.0957,-312 904.0957,-312 904.0957,-318 898.0957,-324 892.0957,-324 892.0957,-324 553.0957,-324 553.0957,-324 547.0957,-324 541.0957,-318 541.0957,-312 541.0957,-312 541.0957,-261 541.0957,-261 541.0957,-255 547.0957,-249 553.0957,-249\"/>\n",
       "<text text-anchor=\"middle\" x=\"892.5957\" y=\"-256.8\" font-family=\"Times,serif\" font-size=\"14.00\" fill=\"#000000\">2</text>\n",
       "</g>\n",
       "<g id=\"clust4\" class=\"cluster\">\n",
       "<title>cluster30 x 100</title>\n",
       "<path fill=\"none\" stroke=\"#000000\" d=\"M385.0957,-8C385.0957,-8 509.0957,-8 509.0957,-8 515.0957,-8 521.0957,-14 521.0957,-20 521.0957,-20 521.0957,-71 521.0957,-71 521.0957,-77 515.0957,-83 509.0957,-83 509.0957,-83 385.0957,-83 385.0957,-83 379.0957,-83 373.0957,-77 373.0957,-71 373.0957,-71 373.0957,-20 373.0957,-20 373.0957,-14 379.0957,-8 385.0957,-8\"/>\n",
       "<text text-anchor=\"middle\" x=\"488.5957\" y=\"-15.8\" font-family=\"Times,serif\" font-size=\"14.00\" fill=\"#000000\">30 x 100</text>\n",
       "</g>\n",
       "<!-- w -->\n",
       "<g id=\"node1\" class=\"node\">\n",
       "<title>w</title>\n",
       "<ellipse fill=\"none\" stroke=\"#000000\" cx=\"900.0957\" cy=\"-215\" rx=\"57.6901\" ry=\"18\"/>\n",
       "<text text-anchor=\"middle\" x=\"900.0957\" y=\"-211.3\" font-family=\"Times,serif\" font-size=\"14.00\" fill=\"#000000\">w ~ Dirichlet</text>\n",
       "</g>\n",
       "<!-- obs -->\n",
       "<g id=\"node14\" class=\"node\">\n",
       "<title>obs</title>\n",
       "<ellipse fill=\"#d3d3d3\" stroke=\"#000000\" cx=\"447.0957\" cy=\"-57\" rx=\"65.7887\" ry=\"18\"/>\n",
       "<text text-anchor=\"middle\" x=\"447.0957\" y=\"-53.3\" font-family=\"Times,serif\" font-size=\"14.00\" fill=\"#000000\">obs ~ Bernoulli</text>\n",
       "</g>\n",
       "<!-- w&#45;&gt;obs -->\n",
       "<g id=\"edge16\" class=\"edge\">\n",
       "<title>w&#45;&gt;obs</title>\n",
       "<path fill=\"none\" stroke=\"#000000\" d=\"M894.0987,-196.88C883.7447,-168.7794 859.6366,-115.3925 819.0957,-91 794.3154,-76.0903 623.4641,-65.4512 522.1293,-60.37\"/>\n",
       "<polygon fill=\"#000000\" stroke=\"#000000\" points=\"522.1042,-56.8645 511.9434,-59.8662 521.7583,-63.856 522.1042,-56.8645\"/>\n",
       "</g>\n",
       "<!-- tau_latent -->\n",
       "<g id=\"node2\" class=\"node\">\n",
       "<title>tau_latent</title>\n",
       "<ellipse fill=\"none\" stroke=\"#000000\" cx=\"753.0957\" cy=\"-215\" rx=\"71.4873\" ry=\"18\"/>\n",
       "<text text-anchor=\"middle\" x=\"753.0957\" y=\"-211.3\" font-family=\"Times,serif\" font-size=\"14.00\" fill=\"#000000\">tau_latent ~ Beta</text>\n",
       "</g>\n",
       "<!-- tau -->\n",
       "<g id=\"node3\" class=\"node\">\n",
       "<title>tau</title>\n",
       "<polygon fill=\"none\" stroke=\"#000000\" points=\"810.0957,-158 688.0957,-158 688.0957,-122 810.0957,-122 810.0957,-158\"/>\n",
       "<text text-anchor=\"middle\" x=\"749.0957\" y=\"-136.3\" font-family=\"Times,serif\" font-size=\"14.00\" fill=\"#000000\">tau ~ Deterministic</text>\n",
       "</g>\n",
       "<!-- tau_latent&#45;&gt;tau -->\n",
       "<g id=\"edge15\" class=\"edge\">\n",
       "<title>tau_latent&#45;&gt;tau</title>\n",
       "<path fill=\"none\" stroke=\"#000000\" d=\"M752.1274,-196.8446C751.6739,-188.3401 751.1228,-178.0076 750.6155,-168.4964\"/>\n",
       "<polygon fill=\"#000000\" stroke=\"#000000\" points=\"754.0967,-168.0475 750.069,-158.2482 747.1066,-168.4204 754.0967,-168.0475\"/>\n",
       "</g>\n",
       "<!-- tau&#45;&gt;obs -->\n",
       "<g id=\"edge17\" class=\"edge\">\n",
       "<title>tau&#45;&gt;obs</title>\n",
       "<path fill=\"none\" stroke=\"#000000\" d=\"M727.1949,-121.7775C713.1653,-111.0875 694.0844,-98.2877 675.0957,-91 647.3519,-80.3522 575.0698,-70.6163 519.2595,-64.3176\"/>\n",
       "<polygon fill=\"#000000\" stroke=\"#000000\" points=\"519.3702,-60.8084 509.0447,-63.182 518.5967,-67.7656 519.3702,-60.8084\"/>\n",
       "</g>\n",
       "<!-- alphas -->\n",
       "<g id=\"node4\" class=\"node\">\n",
       "<title>alphas</title>\n",
       "<ellipse fill=\"none\" stroke=\"#000000\" cx=\"425.0957\" cy=\"-215\" rx=\"85.2851\" ry=\"18\"/>\n",
       "<text text-anchor=\"middle\" x=\"425.0957\" y=\"-211.3\" font-family=\"Times,serif\" font-size=\"14.00\" fill=\"#000000\">alphas ~ HalfCauchy</text>\n",
       "</g>\n",
       "<!-- l10 -->\n",
       "<g id=\"node6\" class=\"node\">\n",
       "<title>l10</title>\n",
       "<ellipse fill=\"none\" stroke=\"#000000\" cx=\"48.0957\" cy=\"-140\" rx=\"48.1917\" ry=\"18\"/>\n",
       "<text text-anchor=\"middle\" x=\"48.0957\" y=\"-136.3\" font-family=\"Times,serif\" font-size=\"14.00\" fill=\"#000000\">l10 ~ Beta</text>\n",
       "</g>\n",
       "<!-- alphas&#45;&gt;l10 -->\n",
       "<g id=\"edge7\" class=\"edge\">\n",
       "<title>alphas&#45;&gt;l10</title>\n",
       "<path fill=\"none\" stroke=\"#000000\" d=\"M399.6389,-197.7397C381.4173,-186.4109 355.8304,-172.5258 331.0957,-166 282.5047,-153.1802 154.6196,-166.5333 105.0957,-158 100.9539,-157.2863 96.6959,-156.348 92.4622,-155.2739\"/>\n",
       "<polygon fill=\"#000000\" stroke=\"#000000\" points=\"93.2656,-151.8646 82.6939,-152.5631 91.3938,-158.6097 93.2656,-151.8646\"/>\n",
       "</g>\n",
       "<!-- l00 -->\n",
       "<g id=\"node7\" class=\"node\">\n",
       "<title>l00</title>\n",
       "<ellipse fill=\"none\" stroke=\"#000000\" cx=\"162.0957\" cy=\"-140\" rx=\"48.1917\" ry=\"18\"/>\n",
       "<text text-anchor=\"middle\" x=\"162.0957\" y=\"-136.3\" font-family=\"Times,serif\" font-size=\"14.00\" fill=\"#000000\">l00 ~ Beta</text>\n",
       "</g>\n",
       "<!-- alphas&#45;&gt;l00 -->\n",
       "<g id=\"edge1\" class=\"edge\">\n",
       "<title>alphas&#45;&gt;l00</title>\n",
       "<path fill=\"none\" stroke=\"#000000\" d=\"M399.1678,-197.7753C380.9383,-186.6171 355.5321,-172.9188 331.0957,-166 283.0787,-152.4046 268.1155,-167.356 219.0957,-158 215.0247,-157.223 210.8366,-156.2503 206.6671,-155.162\"/>\n",
       "<polygon fill=\"#000000\" stroke=\"#000000\" points=\"207.61,-151.7915 197.0357,-152.4502 205.7128,-158.5295 207.61,-151.7915\"/>\n",
       "</g>\n",
       "<!-- l01 -->\n",
       "<g id=\"node8\" class=\"node\">\n",
       "<title>l01</title>\n",
       "<ellipse fill=\"none\" stroke=\"#000000\" cx=\"276.0957\" cy=\"-140\" rx=\"48.1917\" ry=\"18\"/>\n",
       "<text text-anchor=\"middle\" x=\"276.0957\" y=\"-136.3\" font-family=\"Times,serif\" font-size=\"14.00\" fill=\"#000000\">l01 ~ Beta</text>\n",
       "</g>\n",
       "<!-- alphas&#45;&gt;l01 -->\n",
       "<g id=\"edge3\" class=\"edge\">\n",
       "<title>alphas&#45;&gt;l01</title>\n",
       "<path fill=\"none\" stroke=\"#000000\" d=\"M393.4903,-198.134C375.3256,-188.5389 352.0278,-176.3984 331.0957,-166 326.1298,-163.5331 320.8875,-160.9845 315.6911,-158.4915\"/>\n",
       "<polygon fill=\"#000000\" stroke=\"#000000\" points=\"316.9901,-155.2335 306.4567,-154.0938 313.9803,-161.5535 316.9901,-155.2335\"/>\n",
       "</g>\n",
       "<!-- l12 -->\n",
       "<g id=\"node9\" class=\"node\">\n",
       "<title>l12</title>\n",
       "<ellipse fill=\"none\" stroke=\"#000000\" cx=\"390.0957\" cy=\"-140\" rx=\"48.1917\" ry=\"18\"/>\n",
       "<text text-anchor=\"middle\" x=\"390.0957\" y=\"-136.3\" font-family=\"Times,serif\" font-size=\"14.00\" fill=\"#000000\">l12 ~ Beta</text>\n",
       "</g>\n",
       "<!-- alphas&#45;&gt;l12 -->\n",
       "<g id=\"edge11\" class=\"edge\">\n",
       "<title>alphas&#45;&gt;l12</title>\n",
       "<path fill=\"none\" stroke=\"#000000\" d=\"M416.6232,-196.8446C412.4531,-187.9086 407.3411,-176.9544 402.7216,-167.0554\"/>\n",
       "<polygon fill=\"#000000\" stroke=\"#000000\" points=\"405.8908,-165.5699 398.4902,-157.9882 399.5475,-168.5302 405.8908,-165.5699\"/>\n",
       "</g>\n",
       "<!-- l02 -->\n",
       "<g id=\"node10\" class=\"node\">\n",
       "<title>l02</title>\n",
       "<ellipse fill=\"none\" stroke=\"#000000\" cx=\"504.0957\" cy=\"-140\" rx=\"48.1917\" ry=\"18\"/>\n",
       "<text text-anchor=\"middle\" x=\"504.0957\" y=\"-136.3\" font-family=\"Times,serif\" font-size=\"14.00\" fill=\"#000000\">l02 ~ Beta</text>\n",
       "</g>\n",
       "<!-- alphas&#45;&gt;l02 -->\n",
       "<g id=\"edge5\" class=\"edge\">\n",
       "<title>alphas&#45;&gt;l02</title>\n",
       "<path fill=\"none\" stroke=\"#000000\" d=\"M443.8176,-197.226C454.2721,-187.3009 467.4412,-174.7986 478.8016,-164.0134\"/>\n",
       "<polygon fill=\"#000000\" stroke=\"#000000\" points=\"481.4795,-166.2972 486.322,-156.8738 476.6599,-161.2206 481.4795,-166.2972\"/>\n",
       "</g>\n",
       "<!-- l11 -->\n",
       "<g id=\"node11\" class=\"node\">\n",
       "<title>l11</title>\n",
       "<ellipse fill=\"none\" stroke=\"#000000\" cx=\"618.0957\" cy=\"-140\" rx=\"48.1917\" ry=\"18\"/>\n",
       "<text text-anchor=\"middle\" x=\"618.0957\" y=\"-136.3\" font-family=\"Times,serif\" font-size=\"14.00\" fill=\"#000000\">l11 ~ Beta</text>\n",
       "</g>\n",
       "<!-- alphas&#45;&gt;l11 -->\n",
       "<g id=\"edge9\" class=\"edge\">\n",
       "<title>alphas&#45;&gt;l11</title>\n",
       "<path fill=\"none\" stroke=\"#000000\" d=\"M466.0261,-199.0944C498.0146,-186.6636 542.3613,-169.4305 574.9121,-156.7812\"/>\n",
       "<polygon fill=\"#000000\" stroke=\"#000000\" points=\"576.5554,-159.8977 584.6086,-153.0131 574.0199,-153.373 576.5554,-159.8977\"/>\n",
       "</g>\n",
       "<!-- betas -->\n",
       "<g id=\"node5\" class=\"node\">\n",
       "<title>betas</title>\n",
       "<ellipse fill=\"none\" stroke=\"#000000\" cx=\"241.0957\" cy=\"-215\" rx=\"81.4863\" ry=\"18\"/>\n",
       "<text text-anchor=\"middle\" x=\"241.0957\" y=\"-211.3\" font-family=\"Times,serif\" font-size=\"14.00\" fill=\"#000000\">betas ~ HalfCauchy</text>\n",
       "</g>\n",
       "<!-- betas&#45;&gt;l10 -->\n",
       "<g id=\"edge8\" class=\"edge\">\n",
       "<title>betas&#45;&gt;l10</title>\n",
       "<path fill=\"none\" stroke=\"#000000\" d=\"M200.6366,-199.2775C168.6817,-186.8598 124.1804,-169.5666 91.4887,-156.8626\"/>\n",
       "<polygon fill=\"#000000\" stroke=\"#000000\" points=\"92.3378,-153.4376 81.7491,-153.0777 89.8023,-159.9623 92.3378,-153.4376\"/>\n",
       "</g>\n",
       "<!-- betas&#45;&gt;l00 -->\n",
       "<g id=\"edge2\" class=\"edge\">\n",
       "<title>betas&#45;&gt;l00</title>\n",
       "<path fill=\"none\" stroke=\"#000000\" d=\"M222.3738,-197.226C211.9194,-187.3009 198.7503,-174.7986 187.3899,-164.0134\"/>\n",
       "<polygon fill=\"#000000\" stroke=\"#000000\" points=\"189.5316,-161.2206 179.8695,-156.8738 184.712,-166.2972 189.5316,-161.2206\"/>\n",
       "</g>\n",
       "<!-- betas&#45;&gt;l01 -->\n",
       "<g id=\"edge4\" class=\"edge\">\n",
       "<title>betas&#45;&gt;l01</title>\n",
       "<path fill=\"none\" stroke=\"#000000\" d=\"M249.5683,-196.8446C253.7384,-187.9086 258.8503,-176.9544 263.4699,-167.0554\"/>\n",
       "<polygon fill=\"#000000\" stroke=\"#000000\" points=\"266.644,-168.5302 267.7012,-157.9882 260.3007,-165.5699 266.644,-168.5302\"/>\n",
       "</g>\n",
       "<!-- betas&#45;&gt;l12 -->\n",
       "<g id=\"edge12\" class=\"edge\">\n",
       "<title>betas&#45;&gt;l12</title>\n",
       "<path fill=\"none\" stroke=\"#000000\" d=\"M270.768,-198.0335C288.1587,-188.2947 310.6587,-176.0447 331.0957,-166 336.7653,-163.2134 342.8026,-160.3919 348.7699,-157.6861\"/>\n",
       "<polygon fill=\"#000000\" stroke=\"#000000\" points=\"350.3235,-160.8255 358.0266,-153.5513 347.4686,-154.4341 350.3235,-160.8255\"/>\n",
       "</g>\n",
       "<!-- betas&#45;&gt;l02 -->\n",
       "<g id=\"edge6\" class=\"edge\">\n",
       "<title>betas&#45;&gt;l02</title>\n",
       "<path fill=\"none\" stroke=\"#000000\" d=\"M265.8099,-197.7456C283.2145,-186.5743 307.5261,-172.8724 331.0957,-166 380.7078,-151.5342 396.3222,-167.6262 447.0957,-158 451.1677,-157.228 455.3565,-156.2588 459.5264,-155.1727\"/>\n",
       "<polygon fill=\"#000000\" stroke=\"#000000\" points=\"460.4793,-158.5405 469.1585,-152.4641 458.5843,-151.8019 460.4793,-158.5405\"/>\n",
       "</g>\n",
       "<!-- betas&#45;&gt;l11 -->\n",
       "<g id=\"edge10\" class=\"edge\">\n",
       "<title>betas&#45;&gt;l11</title>\n",
       "<path fill=\"none\" stroke=\"#000000\" d=\"M265.3609,-197.7339C282.7574,-186.4025 307.2407,-172.5166 331.0957,-166 380.4301,-152.5231 510.6937,-166.6686 561.0957,-158 565.2378,-157.2876 569.4959,-156.3501 573.7297,-155.2766\"/>\n",
       "<polygon fill=\"#000000\" stroke=\"#000000\" points=\"574.7978,-158.6125 583.4982,-152.5666 572.9265,-151.8673 574.7978,-158.6125\"/>\n",
       "</g>\n",
       "<!-- l10&#45;&gt;obs -->\n",
       "<g id=\"edge18\" class=\"edge\">\n",
       "<title>l10&#45;&gt;obs</title>\n",
       "<path fill=\"none\" stroke=\"#000000\" d=\"M63.1729,-122.3989C73.7137,-111.3785 88.7809,-97.986 105.0957,-91 151.4129,-71.1669 285.4612,-62.7046 371.3293,-59.242\"/>\n",
       "<polygon fill=\"#000000\" stroke=\"#000000\" points=\"371.6967,-62.7304 381.553,-58.8441 371.4244,-55.7357 371.6967,-62.7304\"/>\n",
       "</g>\n",
       "<!-- l00&#45;&gt;obs -->\n",
       "<g id=\"edge19\" class=\"edge\">\n",
       "<title>l00&#45;&gt;obs</title>\n",
       "<path fill=\"none\" stroke=\"#000000\" d=\"M177.2888,-122.6607C187.8785,-111.7508 202.9567,-98.3832 219.0957,-91 246.0335,-78.6767 318.0582,-69.2364 374.0176,-63.4656\"/>\n",
       "<polygon fill=\"#000000\" stroke=\"#000000\" points=\"374.6672,-66.9179 384.265,-62.4309 373.9639,-59.9533 374.6672,-66.9179\"/>\n",
       "</g>\n",
       "<!-- l01&#45;&gt;obs -->\n",
       "<g id=\"edge21\" class=\"edge\">\n",
       "<title>l01&#45;&gt;obs</title>\n",
       "<path fill=\"none\" stroke=\"#000000\" d=\"M292.1373,-122.933C302.8515,-112.4153 317.7494,-99.3829 333.0957,-91 348.8534,-82.3924 367.0558,-75.7099 384.2253,-70.6378\"/>\n",
       "<polygon fill=\"#000000\" stroke=\"#000000\" points=\"385.5101,-73.9122 394.1887,-67.835 383.6145,-67.1738 385.5101,-73.9122\"/>\n",
       "</g>\n",
       "<!-- l12&#45;&gt;obs -->\n",
       "<g id=\"edge20\" class=\"edge\">\n",
       "<title>l12&#45;&gt;obs</title>\n",
       "<path fill=\"none\" stroke=\"#000000\" d=\"M402.184,-122.3978C409.9902,-111.0308 420.2885,-96.0352 429.0542,-83.2711\"/>\n",
       "<polygon fill=\"#000000\" stroke=\"#000000\" points=\"432.0525,-85.0877 434.8284,-74.8629 426.2821,-81.1249 432.0525,-85.0877\"/>\n",
       "</g>\n",
       "<!-- l02&#45;&gt;obs -->\n",
       "<g id=\"edge22\" class=\"edge\">\n",
       "<title>l02&#45;&gt;obs</title>\n",
       "<path fill=\"none\" stroke=\"#000000\" d=\"M492.0075,-122.3978C484.2012,-111.0308 473.903,-96.0352 465.1373,-83.2711\"/>\n",
       "<polygon fill=\"#000000\" stroke=\"#000000\" points=\"467.9093,-81.1249 459.363,-74.8629 462.139,-85.0877 467.9093,-81.1249\"/>\n",
       "</g>\n",
       "<!-- l11&#45;&gt;obs -->\n",
       "<g id=\"edge23\" class=\"edge\">\n",
       "<title>l11&#45;&gt;obs</title>\n",
       "<path fill=\"none\" stroke=\"#000000\" d=\"M602.0542,-122.933C591.34,-112.4153 576.4421,-99.3829 561.0957,-91 545.3381,-82.3924 527.1356,-75.7099 509.9662,-70.6378\"/>\n",
       "<polygon fill=\"#000000\" stroke=\"#000000\" points=\"510.5769,-67.1738 500.0027,-67.835 508.6813,-73.9122 510.5769,-67.1738\"/>\n",
       "</g>\n",
       "<!-- a_tau -->\n",
       "<g id=\"node12\" class=\"node\">\n",
       "<title>a_tau</title>\n",
       "<ellipse fill=\"none\" stroke=\"#000000\" cx=\"814.0957\" cy=\"-298\" rx=\"81.7856\" ry=\"18\"/>\n",
       "<text text-anchor=\"middle\" x=\"814.0957\" y=\"-294.3\" font-family=\"Times,serif\" font-size=\"14.00\" fill=\"#000000\">a_tau ~ HalfCauchy</text>\n",
       "</g>\n",
       "<!-- a_tau&#45;&gt;tau_latent -->\n",
       "<g id=\"edge13\" class=\"edge\">\n",
       "<title>a_tau&#45;&gt;tau_latent</title>\n",
       "<path fill=\"none\" stroke=\"#000000\" d=\"M800.8596,-279.9902C792.5463,-268.6787 781.6816,-253.8955 772.415,-241.2869\"/>\n",
       "<polygon fill=\"#000000\" stroke=\"#000000\" points=\"775.0483,-238.9598 766.306,-232.9746 769.4078,-243.1052 775.0483,-238.9598\"/>\n",
       "</g>\n",
       "<!-- b_tau -->\n",
       "<g id=\"node13\" class=\"node\">\n",
       "<title>b_tau</title>\n",
       "<ellipse fill=\"none\" stroke=\"#000000\" cx=\"632.0957\" cy=\"-298\" rx=\"82.5854\" ry=\"18\"/>\n",
       "<text text-anchor=\"middle\" x=\"632.0957\" y=\"-294.3\" font-family=\"Times,serif\" font-size=\"14.00\" fill=\"#000000\">b_tau ~ HalfCauchy</text>\n",
       "</g>\n",
       "<!-- b_tau&#45;&gt;tau_latent -->\n",
       "<g id=\"edge14\" class=\"edge\">\n",
       "<title>b_tau&#45;&gt;tau_latent</title>\n",
       "<path fill=\"none\" stroke=\"#000000\" d=\"M657.167,-280.8023C675.2567,-268.3937 699.871,-251.5095 719.6369,-237.9511\"/>\n",
       "<polygon fill=\"#000000\" stroke=\"#000000\" points=\"721.79,-240.7185 728.0566,-232.1756 717.8303,-234.946 721.79,-240.7185\"/>\n",
       "</g>\n",
       "</g>\n",
       "</svg>\n"
      ],
      "text/plain": [
       "<graphviz.dot.Digraph at 0x7f74c5ef2c18>"
      ]
     },
     "execution_count": 20,
     "metadata": {},
     "output_type": "execute_result"
    }
   ],
   "source": [
    "pm.model_to_graphviz(model)"
   ]
  },
  {
   "cell_type": "code",
   "execution_count": 40,
   "metadata": {},
   "outputs": [
    {
     "name": "stderr",
     "output_type": "stream",
     "text": [
      "  0%|          | 0/100000 [00:00<?, ?it/s]/home/abuzarmahmood/anaconda3/lib/python3.6/site-packages/theano/tensor/subtensor.py:2197: FutureWarning: Using a non-tuple sequence for multidimensional indexing is deprecated; use `arr[tuple(seq)]` instead of `arr[seq]`. In the future this will be interpreted as an array index, `arr[np.array(seq)]`, which will result either in an error or a different result.\n",
      "  rval = inputs[0].__getitem__(inputs[1:])\n",
      "Average Loss = 1,658.5: 100%|██████████| 100000/100000 [01:24<00:00, 1180.56it/s]\n",
      "Finished [100%]: Average Loss = 1,658.4\n"
     ]
    }
   ],
   "source": [
    "#with model:     \n",
    "#     #step = pm.Metropolis()\n",
    "#     step = pm.NUTS()\n",
    "#     trace = pm.sample(step=step)\n",
    "with model:\n",
    "    inference = pm.ADVI('full-rank')\n",
    "    approx = pm.fit(n=fit, method=inference,\n",
    "                   random_seed = 3,\n",
    "                   obj_n_mc = 1)\n",
    "    trace = approx.sample(draws=samples)"
   ]
  },
  {
   "cell_type": "code",
   "execution_count": 41,
   "metadata": {},
   "outputs": [],
   "source": [
    "#pm.traceplot(trace);"
   ]
  },
  {
   "cell_type": "code",
   "execution_count": 42,
   "metadata": {},
   "outputs": [
    {
     "name": "stderr",
     "output_type": "stream",
     "text": [
      "100%|██████████| 2000/2000 [00:04<00:00, 450.88it/s]\n"
     ]
    }
   ],
   "source": [
    "with model:\n",
    "    ppc_trace = pm.sample_posterior_predictive(trace)"
   ]
  },
  {
   "cell_type": "code",
   "execution_count": 43,
   "metadata": {},
   "outputs": [],
   "source": [
    "ppc_trace['obs'].shape\n",
    "mean_ppc_obs = np.mean(ppc_trace['obs'],axis=0)"
   ]
  },
  {
   "cell_type": "code",
   "execution_count": 44,
   "metadata": {},
   "outputs": [
    {
     "name": "stdout",
     "output_type": "stream",
     "text": [
      "(2000, 30, 2)\n",
      "(30, 2)\n"
     ]
    }
   ],
   "source": [
    "tau_samples = trace['tau']\n",
    "int_tau = np.vectorize(np.int)(tau_samples)\n",
    "print(int_tau.shape)\n",
    "mode_tau = stats.mode(int_tau,axis=0)[0][0]\n",
    "print(mode_tau.shape)"
   ]
  },
  {
   "cell_type": "code",
   "execution_count": 45,
   "metadata": {},
   "outputs": [],
   "source": [
    "hist_tau = np.array([np.histogram(trial, bins = np.arange(20))[0] for trial in int_tau.swapaxes(0,1)])"
   ]
  },
  {
   "cell_type": "code",
   "execution_count": 46,
   "metadata": {},
   "outputs": [
    {
     "name": "stdout",
     "output_type": "stream",
     "text": [
      "(2000, 30, 2)\n",
      "(30,)\n"
     ]
    }
   ],
   "source": [
    "# cat_samples = trace['category']\n",
    "# plt.imshow(cat_samples,aspect='auto')\n",
    "# print(cat_samples.shape)\n",
    "w_samples = trace['w']\n",
    "print(w_samples.shape)\n",
    "mean_w = np.mean(w_samples,axis=0)\n",
    "categorical_w = np.argmax(mean_w,axis=-1)\n",
    "print(categorical_w.shape)"
   ]
  },
  {
   "cell_type": "code",
   "execution_count": 47,
   "metadata": {},
   "outputs": [],
   "source": [
    "# cat_hist = np.array([np.histogram(trial,bins=np.arange(3))[0] for trial in cat_samples.swapaxes(0,1)])\n",
    "# #print(cat_hist)"
   ]
  },
  {
   "cell_type": "code",
   "execution_count": 49,
   "metadata": {},
   "outputs": [
    {
     "data": {
      "image/png": "[encoded data removed]",
      "text/plain": [
       "<Figure size 720x720 with 6 Axes>"
      ]
     },
     "metadata": {
      "needs_background": "light"
     },
     "output_type": "display_data"
    }
   ],
   "source": [
    "fig,ax = plt.subplots(2,3,figsize=(10,10))\n",
    "ax[0,1].plot(component_inds, np.arange(trials),'-x',label='Actual')\n",
    "ax[0,1].plot(categorical_w, np.arange(trials),'-x', label='Inferred')\n",
    "ax[0,1].legend()\n",
    "for trial,val in enumerate(mode_tau):\n",
    "    ax[0,0].vlines(val, trial-0.5,trial+0.5, linewidth = 5, color='red')\n",
    "ax[0,0].imshow(true_r,aspect='auto',origin='lower')\n",
    "ax[1,0].imshow(data_vec,aspect='auto',origin='lower')\n",
    "ax[1,1].imshow(mean_ppc_obs,aspect='auto',origin='lower');\n",
    "ax[0,2].imshow(mean_w,aspect='auto',origin='lower');"
   ]
  },
  {
   "cell_type": "markdown",
   "metadata": {},
   "source": [
    "## ============================="
   ]
  },
  {
   "cell_type": "markdown",
   "metadata": {},
   "source": [
    "## 1D Beta Mixture"
   ]
  },
  {
   "cell_type": "code",
   "execution_count": null,
   "metadata": {},
   "outputs": [],
   "source": [
    "r = np.concatenate([beta.rvs(10, 2, size=1000),beta.rvs(2, 10, size=500)])\n",
    "plt.hist(r,bins=50);"
   ]
  },
  {
   "cell_type": "code",
   "execution_count": null,
   "metadata": {},
   "outputs": [],
   "source": [
    "comps = 2\n",
    "with pm.Model() as model:\n",
    "    w = pm.Dirichlet('w', a=np.ones(comps)*5)\n",
    "    alphas = pm.HalfCauchy('alphas',5,shape=2)\n",
    "    betas = pm.HalfCauchy('betas',5,shape=2)\n",
    "    components = [pm.Beta.dist(alphas[x], betas[x]) for x in range(comps)]\n",
    "    like = pm.Mixture('like', w=w, comp_dists = components, observed=r)\n",
    "    trace = pm.sample()"
   ]
  },
  {
   "cell_type": "code",
   "execution_count": null,
   "metadata": {},
   "outputs": [],
   "source": [
    "pm.traceplot(trace);"
   ]
  },
  {
   "cell_type": "code",
   "execution_count": null,
   "metadata": {},
   "outputs": [],
   "source": [
    "with model:\n",
    "    ppc_trace = pm.sample_posterior_predictive(trace, var_names=[\"like\"])"
   ]
  },
  {
   "cell_type": "code",
   "execution_count": null,
   "metadata": {},
   "outputs": [],
   "source": [
    "ppc_trace['like'].shape\n",
    "plt.hist(ppc_trace['like'].flatten(),bins=50);"
   ]
  },
  {
   "cell_type": "markdown",
   "metadata": {},
   "source": [
    "## ============================="
   ]
  },
  {
   "cell_type": "code",
   "execution_count": null,
   "metadata": {},
   "outputs": [],
   "source": [
    "npop = 5\n",
    "nd = (1, 2)\n",
    "with pm.Model() as model:\n",
    "    mu = pm.Normal('mu', mu=np.arange(npop), sigma=1, shape=npop) # Each component has an independent mean\n",
    "\n",
    "    w = pm.Dirichlet('w', a=np.ones(npop))\n",
    "\n",
    "    components = pm.Normal.dist(mu=mu, sigma=1, shape=nd + (npop,))  # nd + (npop,) shaped multinomial\n",
    "\n",
    "    like = pm.Mixture('like', w=w, comp_dists = components, shape=nd)  # The resulting mixture is nd-shaped\n",
    "    \n",
    "    trace = pm.sample(5000, n_init=10000, tune=1000)"
   ]
  },
  {
   "cell_type": "code",
   "execution_count": null,
   "metadata": {},
   "outputs": [],
   "source": [
    "print(like.tag.test_value.shape)"
   ]
  },
  {
   "cell_type": "code",
   "execution_count": null,
   "metadata": {},
   "outputs": [],
   "source": [
    "pm.traceplot(trace);"
   ]
  },
  {
   "cell_type": "code",
   "execution_count": null,
   "metadata": {},
   "outputs": [],
   "source": [
    "with model:\n",
    "    ppc_trace = pm.sample_posterior_predictive(trace, var_names=[\"like\"])"
   ]
  },
  {
   "cell_type": "code",
   "execution_count": null,
   "metadata": {},
   "outputs": [],
   "source": [
    "like_ppc = ppc_trace['like']\n",
    "print(like_ppc.shape)\n",
    "plt.hist2d(*np.squeeze(like_ppc).T,bins=50);"
   ]
  },
  {
   "cell_type": "code",
   "execution_count": null,
   "metadata": {},
   "outputs": [],
   "source": [
    "with pm.Model() as model:\n",
    "    # Finite, but somewhere on the lower end, Beta prior\n",
    "    a_lambda = 2\n",
    "    b_lambda = 5\n",
    "    lambda_latent = pm.Beta('lambda', \n",
    "                                    a_lambda, b_lambda, \n",
    "                                    shape = (nrns,states),\n",
    "                                  testval = mean_vals + 1e-3)\n",
    "\n"
   ]
  },
  {
   "cell_type": "code",
   "execution_count": null,
   "metadata": {},
   "outputs": [],
   "source": [
    "with model:\n",
    "    a = pm.HalfCauchy('a_tau', 3., shape = states - 1)\n",
    "    b = pm.HalfCauchy('b_tau', 3., shape = states - 1)\n",
    "    \n",
    "    even_switches = np.linspace(0,1,states+1)[1:-1]\n",
    "    tau_latent = pm.Beta('tau_latent', a, b, \n",
    "                         testval = even_switches,\n",
    "                         shape = (states-1)).sort(axis=-1)    \n",
    "    \n",
    "    tau = pm.Deterministic('tau', \n",
    "            idx.min() + (idx.max() - idx.min()) * tau_latent)"
   ]
  },
  {
   "cell_type": "code",
   "execution_count": null,
   "metadata": {},
   "outputs": [],
   "source": [
    "with model:\n",
    "    weight_stack = tt.nnet.sigmoid(idx[np.newaxis,:]-tau[:,np.newaxis])\n",
    "    weight_stack = tt.concatenate([np.ones((1,length)),weight_stack],axis=0)\n",
    "    inverse_stack = 1 - weight_stack[1:]\n",
    "    inverse_stack = tt.concatenate([inverse_stack, np.ones((1,length))],axis=0)\n",
    "    weight_stack = np.multiply(weight_stack,inverse_stack)"
   ]
  },
  {
   "cell_type": "code",
   "execution_count": null,
   "metadata": {},
   "outputs": [],
   "source": [
    "plt.imshow(weight_stack.tag.test_value,aspect='auto')"
   ]
  },
  {
   "cell_type": "code",
   "execution_count": null,
   "metadata": {},
   "outputs": [],
   "source": [
    "print(weight_stack.tag.test_value.shape)\n",
    "print(lambda_latent.tag.test_value.shape)"
   ]
  },
  {
   "cell_type": "code",
   "execution_count": null,
   "metadata": {},
   "outputs": [],
   "source": [
    "with model:\n",
    "    lambda_ = lambda_latent.dot(weight_stack)"
   ]
  },
  {
   "cell_type": "code",
   "execution_count": null,
   "metadata": {},
   "outputs": [],
   "source": [
    "plt.imshow(true_r,aspect='auto')\n",
    "plt.figure()\n",
    "plt.imshow(lambda_.tag.test_value, aspect='auto')\n",
    "print(lambda_.tag.test_value.shape)"
   ]
  },
  {
   "cell_type": "code",
   "execution_count": null,
   "metadata": {},
   "outputs": [],
   "source": [
    "with model:\n",
    "    # Add observations\n",
    "    observation = pm.Bernoulli(\"obs\", lambda_, observed=data_vec)"
   ]
  },
  {
   "cell_type": "code",
   "execution_count": null,
   "metadata": {},
   "outputs": [],
   "source": [
    "pm.model_to_graphviz(model)"
   ]
  },
  {
   "cell_type": "code",
   "execution_count": null,
   "metadata": {},
   "outputs": [],
   "source": [
    "with model:\n",
    "    inference = pm.ADVI('full-rank')\n",
    "    approx = pm.fit(n=fit, method=inference,\n",
    "                   random_seed = 3,\n",
    "                   obj_n_mc = 1)\n",
    "    trace = approx.sample(draws=samples)"
   ]
  },
  {
   "cell_type": "code",
   "execution_count": null,
   "metadata": {},
   "outputs": [],
   "source": [
    "fig,ax = plt.subplots(1,2,figsize=(15,5))\n",
    "ax[0].plot(-approx.hist, alpha=.3)\n",
    "ax[0].set_ylabel('ELBO')\n",
    "ax[0].set_xlabel('iteration');\n",
    "\n",
    "ind = int(fit - fit*0.05)\n",
    "ax[1].plot(-approx.hist[ind:], alpha=.3)\n",
    "ax[1].set_title('Final 5% of iterations')\n",
    "ax[1].set_ylabel('ELBO')\n",
    "ax[1].set_xlabel('iteration');"
   ]
  },
  {
   "cell_type": "code",
   "execution_count": null,
   "metadata": {},
   "outputs": [],
   "source": [
    "ppc = pm.sample_posterior_predictive(trace, samples = 2000, model = model)"
   ]
  },
  {
   "cell_type": "code",
   "execution_count": null,
   "metadata": {},
   "outputs": [],
   "source": [
    "fig,ax = plt.subplots(2,1,sharey=True)\n",
    "ax[0].imshow(true_r,aspect='auto')\n",
    "ax[1].imshow(np.mean(ppc['obs'],axis=0), aspect='auto')\n",
    "ax[0].set_title('True r')\n",
    "ax[1].set_title('Mean prediction')"
   ]
  },
  {
   "cell_type": "code",
   "execution_count": null,
   "metadata": {},
   "outputs": [],
   "source": [
    "#min_val,max_val = min(true_r),max(true_r)\n",
    "tau = trace['tau']\n",
    "print(tau.shape)\n",
    "mode_tau = stats.mode(np.vectorize(np.int)(tau),axis=0)[0][0]\n",
    "mode_tau"
   ]
  },
  {
   "cell_type": "code",
   "execution_count": null,
   "metadata": {},
   "outputs": [],
   "source": [
    "fig,ax = plt.subplots(3,1,sharex=True,figsize=(10,10))\n",
    "ax[0].imshow(true_r,aspect='auto')\n",
    "ax[0].set_ylabel('True r')\n",
    "ax[1].imshow(data_vec,aspect='auto')\n",
    "    \n",
    "for tau_num, this_tau in enumerate(tau.T):\n",
    "    ax[2].hist(this_tau,bins=50)\n",
    "    ax[0].vlines(mode_tau[tau_num],-0.5,nrns-0.5,color='red',alpha=1,linewidth=5, linestyles='dashed')\n"
   ]
  },
  {
   "cell_type": "code",
   "execution_count": null,
   "metadata": {},
   "outputs": [],
   "source": []
  }
 ],
 "metadata": {
  "kernelspec": {
   "display_name": "Python 3",
   "language": "python",
   "name": "python3"
  },
  "language_info": {
   "codemirror_mode": {
    "name": "ipython",
    "version": 3
   },
   "file_extension": ".py",
   "mimetype": "text/x-python",
   "name": "python",
   "nbconvert_exporter": "python",
   "pygments_lexer": "ipython3",
   "version": "3.6.10"
  }
 },
 "nbformat": 4,
 "nbformat_minor": 4
}
