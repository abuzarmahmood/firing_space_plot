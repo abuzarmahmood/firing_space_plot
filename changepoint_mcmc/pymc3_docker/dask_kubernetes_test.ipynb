{
 "cells": [
  {
   "cell_type": "code",
   "execution_count": 1,
   "metadata": {},
   "outputs": [],
   "source": [
    "from dask.distributed import Client, progress"
   ]
  },
  {
   "cell_type": "code",
   "execution_count": 2,
   "metadata": {},
   "outputs": [
    {
     "data": {
      "text/html": [
       "<div>\n",
       "    <div style=\"width: 24px; height: 24px; background-color: #e1e1e1; border: 3px solid #9D9D9D; border-radius: 5px; position: absolute;\"> </div>\n",
       "    <div style=\"margin-left: 48px;\">\n",
       "        <h3 style=\"margin-bottom: 0px;\">Client</h3>\n",
       "        <p style=\"color: #9D9D9D; margin-bottom: 0px;\">Client-1207e0a5-41a6-11ec-a4e7-e0d55e64e4e0</p>\n",
       "        <table style=\"width: 100%; text-align: left;\">\n",
       "\n",
       "        <tr>\n",
       "        \n",
       "            <td style=\"text-align: left;\"><strong>Connection method:</strong> Cluster object</td>\n",
       "            <td style=\"text-align: left;\"><strong>Cluster type:</strong> distributed.LocalCluster</td>\n",
       "        \n",
       "        </tr>\n",
       "\n",
       "        \n",
       "            <tr>\n",
       "                <td style=\"text-align: left;\">\n",
       "                    <strong>Dashboard: </strong> <a href=\"http://127.0.0.1:8787/status\" target=\"_blank\">http://127.0.0.1:8787/status</a>\n",
       "                </td>\n",
       "                <td style=\"text-align: left;\"></td>\n",
       "            </tr>\n",
       "        \n",
       "\n",
       "        </table>\n",
       "\n",
       "        \n",
       "            <details>\n",
       "            <summary style=\"margin-bottom: 20px;\"><h3 style=\"display: inline;\">Cluster Info</h3></summary>\n",
       "            <div class=\"jp-RenderedHTMLCommon jp-RenderedHTML jp-mod-trusted jp-OutputArea-output\">\n",
       "    <div style=\"width: 24px; height: 24px; background-color: #e1e1e1; border: 3px solid #9D9D9D; border-radius: 5px; position: absolute;\">\n",
       "    </div>\n",
       "    <div style=\"margin-left: 48px;\">\n",
       "        <h3 style=\"margin-bottom: 0px; margin-top: 0px;\">LocalCluster</h3>\n",
       "        <p style=\"color: #9D9D9D; margin-bottom: 0px;\">aec5c4b5</p>\n",
       "        <table style=\"width: 100%; text-align: left;\">\n",
       "            <tr>\n",
       "                <td style=\"text-align: left;\">\n",
       "                    <strong>Dashboard:</strong> <a href=\"http://127.0.0.1:8787/status\" target=\"_blank\">http://127.0.0.1:8787/status</a>\n",
       "                </td>\n",
       "                <td style=\"text-align: left;\">\n",
       "                    <strong>Workers:</strong> 10\n",
       "                </td>\n",
       "            </tr>\n",
       "            <tr>\n",
       "                <td style=\"text-align: left;\">\n",
       "                    <strong>Total threads:</strong> 10\n",
       "                </td>\n",
       "                <td style=\"text-align: left;\">\n",
       "                    <strong>Total memory:</strong> 78.60 GiB\n",
       "                </td>\n",
       "            </tr>\n",
       "            \n",
       "            <tr>\n",
       "    <td style=\"text-align: left;\"><strong>Status:</strong> running</td>\n",
       "    <td style=\"text-align: left;\"><strong>Using processes:</strong> True</td>\n",
       "</tr>\n",
       "\n",
       "            \n",
       "        </table>\n",
       "\n",
       "        <details>\n",
       "            <summary style=\"margin-bottom: 20px;\">\n",
       "                <h3 style=\"display: inline;\">Scheduler Info</h3>\n",
       "            </summary>\n",
       "\n",
       "            <div style=\"\">\n",
       "    <div>\n",
       "        <div style=\"width: 24px; height: 24px; background-color: #FFF7E5; border: 3px solid #FF6132; border-radius: 5px; position: absolute;\"> </div>\n",
       "        <div style=\"margin-left: 48px;\">\n",
       "            <h3 style=\"margin-bottom: 0px;\">Scheduler</h3>\n",
       "            <p style=\"color: #9D9D9D; margin-bottom: 0px;\">Scheduler-0c978348-d784-4585-9f30-1e11c81e13ae</p>\n",
       "            <table style=\"width: 100%; text-align: left;\">\n",
       "                <tr>\n",
       "                    <td style=\"text-align: left;\">\n",
       "                        <strong>Comm:</strong> tcp://127.0.0.1:45703\n",
       "                    </td>\n",
       "                    <td style=\"text-align: left;\">\n",
       "                        <strong>Workers:</strong> 10\n",
       "                    </td>\n",
       "                </tr>\n",
       "                <tr>\n",
       "                    <td style=\"text-align: left;\">\n",
       "                        <strong>Dashboard:</strong> <a href=\"http://127.0.0.1:8787/status\" target=\"_blank\">http://127.0.0.1:8787/status</a>\n",
       "                    </td>\n",
       "                    <td style=\"text-align: left;\">\n",
       "                        <strong>Total threads:</strong> 10\n",
       "                    </td>\n",
       "                </tr>\n",
       "                <tr>\n",
       "                    <td style=\"text-align: left;\">\n",
       "                        <strong>Started:</strong> Just now\n",
       "                    </td>\n",
       "                    <td style=\"text-align: left;\">\n",
       "                        <strong>Total memory:</strong> 78.60 GiB\n",
       "                    </td>\n",
       "                </tr>\n",
       "            </table>\n",
       "        </div>\n",
       "    </div>\n",
       "\n",
       "    <details style=\"margin-left: 48px;\">\n",
       "        <summary style=\"margin-bottom: 20px;\">\n",
       "            <h3 style=\"display: inline;\">Workers</h3>\n",
       "        </summary>\n",
       "\n",
       "        \n",
       "        <div style=\"margin-bottom: 20px;\">\n",
       "            <div style=\"width: 24px; height: 24px; background-color: #DBF5FF; border: 3px solid #4CC9FF; border-radius: 5px; position: absolute;\"> </div>\n",
       "            <div style=\"margin-left: 48px;\">\n",
       "            <details>\n",
       "                <summary>\n",
       "                    <h4 style=\"margin-bottom: 0px; display: inline;\">Worker: 0</h4>\n",
       "                </summary>\n",
       "                <table style=\"width: 100%; text-align: left;\">\n",
       "                    <tr>\n",
       "                        <td style=\"text-align: left;\">\n",
       "                            <strong>Comm: </strong> tcp://127.0.0.1:35545\n",
       "                        </td>\n",
       "                        <td style=\"text-align: left;\">\n",
       "                            <strong>Total threads: </strong> 1\n",
       "                        </td>\n",
       "                    </tr>\n",
       "                    <tr>\n",
       "                        <td style=\"text-align: left;\">\n",
       "                            <strong>Dashboard: </strong> <a href=\"http://127.0.0.1:40931/status\" target=\"_blank\">http://127.0.0.1:40931/status</a>\n",
       "                        </td>\n",
       "                        <td style=\"text-align: left;\">\n",
       "                            <strong>Memory: </strong> 7.86 GiB\n",
       "                        </td>\n",
       "                    </tr>\n",
       "                    <tr>\n",
       "                        <td style=\"text-align: left;\">\n",
       "                            <strong>Nanny: </strong> tcp://127.0.0.1:42327\n",
       "                        </td>\n",
       "                        <td style=\"text-align: left;\"></td>\n",
       "                    </tr>\n",
       "                    <tr>\n",
       "                        <td colspan=\"2\" style=\"text-align: left;\">\n",
       "                            <strong>Local directory: </strong> /media/bigdata/firing_space_plot/changepoint_mcmc/pymc3_docker/dask-worker-space/worker-cbgq9l7t\n",
       "                        </td>\n",
       "                    </tr>\n",
       "\n",
       "                    \n",
       "\n",
       "                    \n",
       "\n",
       "                </table>\n",
       "            </details>\n",
       "            </div>\n",
       "        </div>\n",
       "        \n",
       "        <div style=\"margin-bottom: 20px;\">\n",
       "            <div style=\"width: 24px; height: 24px; background-color: #DBF5FF; border: 3px solid #4CC9FF; border-radius: 5px; position: absolute;\"> </div>\n",
       "            <div style=\"margin-left: 48px;\">\n",
       "            <details>\n",
       "                <summary>\n",
       "                    <h4 style=\"margin-bottom: 0px; display: inline;\">Worker: 1</h4>\n",
       "                </summary>\n",
       "                <table style=\"width: 100%; text-align: left;\">\n",
       "                    <tr>\n",
       "                        <td style=\"text-align: left;\">\n",
       "                            <strong>Comm: </strong> tcp://127.0.0.1:35759\n",
       "                        </td>\n",
       "                        <td style=\"text-align: left;\">\n",
       "                            <strong>Total threads: </strong> 1\n",
       "                        </td>\n",
       "                    </tr>\n",
       "                    <tr>\n",
       "                        <td style=\"text-align: left;\">\n",
       "                            <strong>Dashboard: </strong> <a href=\"http://127.0.0.1:35907/status\" target=\"_blank\">http://127.0.0.1:35907/status</a>\n",
       "                        </td>\n",
       "                        <td style=\"text-align: left;\">\n",
       "                            <strong>Memory: </strong> 7.86 GiB\n",
       "                        </td>\n",
       "                    </tr>\n",
       "                    <tr>\n",
       "                        <td style=\"text-align: left;\">\n",
       "                            <strong>Nanny: </strong> tcp://127.0.0.1:45421\n",
       "                        </td>\n",
       "                        <td style=\"text-align: left;\"></td>\n",
       "                    </tr>\n",
       "                    <tr>\n",
       "                        <td colspan=\"2\" style=\"text-align: left;\">\n",
       "                            <strong>Local directory: </strong> /media/bigdata/firing_space_plot/changepoint_mcmc/pymc3_docker/dask-worker-space/worker-3q7ybk0j\n",
       "                        </td>\n",
       "                    </tr>\n",
       "\n",
       "                    \n",
       "\n",
       "                    \n",
       "\n",
       "                </table>\n",
       "            </details>\n",
       "            </div>\n",
       "        </div>\n",
       "        \n",
       "        <div style=\"margin-bottom: 20px;\">\n",
       "            <div style=\"width: 24px; height: 24px; background-color: #DBF5FF; border: 3px solid #4CC9FF; border-radius: 5px; position: absolute;\"> </div>\n",
       "            <div style=\"margin-left: 48px;\">\n",
       "            <details>\n",
       "                <summary>\n",
       "                    <h4 style=\"margin-bottom: 0px; display: inline;\">Worker: 2</h4>\n",
       "                </summary>\n",
       "                <table style=\"width: 100%; text-align: left;\">\n",
       "                    <tr>\n",
       "                        <td style=\"text-align: left;\">\n",
       "                            <strong>Comm: </strong> tcp://127.0.0.1:46177\n",
       "                        </td>\n",
       "                        <td style=\"text-align: left;\">\n",
       "                            <strong>Total threads: </strong> 1\n",
       "                        </td>\n",
       "                    </tr>\n",
       "                    <tr>\n",
       "                        <td style=\"text-align: left;\">\n",
       "                            <strong>Dashboard: </strong> <a href=\"http://127.0.0.1:40709/status\" target=\"_blank\">http://127.0.0.1:40709/status</a>\n",
       "                        </td>\n",
       "                        <td style=\"text-align: left;\">\n",
       "                            <strong>Memory: </strong> 7.86 GiB\n",
       "                        </td>\n",
       "                    </tr>\n",
       "                    <tr>\n",
       "                        <td style=\"text-align: left;\">\n",
       "                            <strong>Nanny: </strong> tcp://127.0.0.1:44369\n",
       "                        </td>\n",
       "                        <td style=\"text-align: left;\"></td>\n",
       "                    </tr>\n",
       "                    <tr>\n",
       "                        <td colspan=\"2\" style=\"text-align: left;\">\n",
       "                            <strong>Local directory: </strong> /media/bigdata/firing_space_plot/changepoint_mcmc/pymc3_docker/dask-worker-space/worker-vmx8w0ec\n",
       "                        </td>\n",
       "                    </tr>\n",
       "\n",
       "                    \n",
       "\n",
       "                    \n",
       "\n",
       "                </table>\n",
       "            </details>\n",
       "            </div>\n",
       "        </div>\n",
       "        \n",
       "        <div style=\"margin-bottom: 20px;\">\n",
       "            <div style=\"width: 24px; height: 24px; background-color: #DBF5FF; border: 3px solid #4CC9FF; border-radius: 5px; position: absolute;\"> </div>\n",
       "            <div style=\"margin-left: 48px;\">\n",
       "            <details>\n",
       "                <summary>\n",
       "                    <h4 style=\"margin-bottom: 0px; display: inline;\">Worker: 3</h4>\n",
       "                </summary>\n",
       "                <table style=\"width: 100%; text-align: left;\">\n",
       "                    <tr>\n",
       "                        <td style=\"text-align: left;\">\n",
       "                            <strong>Comm: </strong> tcp://127.0.0.1:36073\n",
       "                        </td>\n",
       "                        <td style=\"text-align: left;\">\n",
       "                            <strong>Total threads: </strong> 1\n",
       "                        </td>\n",
       "                    </tr>\n",
       "                    <tr>\n",
       "                        <td style=\"text-align: left;\">\n",
       "                            <strong>Dashboard: </strong> <a href=\"http://127.0.0.1:35809/status\" target=\"_blank\">http://127.0.0.1:35809/status</a>\n",
       "                        </td>\n",
       "                        <td style=\"text-align: left;\">\n",
       "                            <strong>Memory: </strong> 7.86 GiB\n",
       "                        </td>\n",
       "                    </tr>\n",
       "                    <tr>\n",
       "                        <td style=\"text-align: left;\">\n",
       "                            <strong>Nanny: </strong> tcp://127.0.0.1:34269\n",
       "                        </td>\n",
       "                        <td style=\"text-align: left;\"></td>\n",
       "                    </tr>\n",
       "                    <tr>\n",
       "                        <td colspan=\"2\" style=\"text-align: left;\">\n",
       "                            <strong>Local directory: </strong> /media/bigdata/firing_space_plot/changepoint_mcmc/pymc3_docker/dask-worker-space/worker-7glpijjb\n",
       "                        </td>\n",
       "                    </tr>\n",
       "\n",
       "                    \n",
       "\n",
       "                    \n",
       "\n",
       "                </table>\n",
       "            </details>\n",
       "            </div>\n",
       "        </div>\n",
       "        \n",
       "        <div style=\"margin-bottom: 20px;\">\n",
       "            <div style=\"width: 24px; height: 24px; background-color: #DBF5FF; border: 3px solid #4CC9FF; border-radius: 5px; position: absolute;\"> </div>\n",
       "            <div style=\"margin-left: 48px;\">\n",
       "            <details>\n",
       "                <summary>\n",
       "                    <h4 style=\"margin-bottom: 0px; display: inline;\">Worker: 4</h4>\n",
       "                </summary>\n",
       "                <table style=\"width: 100%; text-align: left;\">\n",
       "                    <tr>\n",
       "                        <td style=\"text-align: left;\">\n",
       "                            <strong>Comm: </strong> tcp://127.0.0.1:34313\n",
       "                        </td>\n",
       "                        <td style=\"text-align: left;\">\n",
       "                            <strong>Total threads: </strong> 1\n",
       "                        </td>\n",
       "                    </tr>\n",
       "                    <tr>\n",
       "                        <td style=\"text-align: left;\">\n",
       "                            <strong>Dashboard: </strong> <a href=\"http://127.0.0.1:37355/status\" target=\"_blank\">http://127.0.0.1:37355/status</a>\n",
       "                        </td>\n",
       "                        <td style=\"text-align: left;\">\n",
       "                            <strong>Memory: </strong> 7.86 GiB\n",
       "                        </td>\n",
       "                    </tr>\n",
       "                    <tr>\n",
       "                        <td style=\"text-align: left;\">\n",
       "                            <strong>Nanny: </strong> tcp://127.0.0.1:34325\n",
       "                        </td>\n",
       "                        <td style=\"text-align: left;\"></td>\n",
       "                    </tr>\n",
       "                    <tr>\n",
       "                        <td colspan=\"2\" style=\"text-align: left;\">\n",
       "                            <strong>Local directory: </strong> /media/bigdata/firing_space_plot/changepoint_mcmc/pymc3_docker/dask-worker-space/worker-aobbifc5\n",
       "                        </td>\n",
       "                    </tr>\n",
       "\n",
       "                    \n",
       "\n",
       "                    \n",
       "\n",
       "                </table>\n",
       "            </details>\n",
       "            </div>\n",
       "        </div>\n",
       "        \n",
       "        <div style=\"margin-bottom: 20px;\">\n",
       "            <div style=\"width: 24px; height: 24px; background-color: #DBF5FF; border: 3px solid #4CC9FF; border-radius: 5px; position: absolute;\"> </div>\n",
       "            <div style=\"margin-left: 48px;\">\n",
       "            <details>\n",
       "                <summary>\n",
       "                    <h4 style=\"margin-bottom: 0px; display: inline;\">Worker: 5</h4>\n",
       "                </summary>\n",
       "                <table style=\"width: 100%; text-align: left;\">\n",
       "                    <tr>\n",
       "                        <td style=\"text-align: left;\">\n",
       "                            <strong>Comm: </strong> tcp://127.0.0.1:41769\n",
       "                        </td>\n",
       "                        <td style=\"text-align: left;\">\n",
       "                            <strong>Total threads: </strong> 1\n",
       "                        </td>\n",
       "                    </tr>\n",
       "                    <tr>\n",
       "                        <td style=\"text-align: left;\">\n",
       "                            <strong>Dashboard: </strong> <a href=\"http://127.0.0.1:40207/status\" target=\"_blank\">http://127.0.0.1:40207/status</a>\n",
       "                        </td>\n",
       "                        <td style=\"text-align: left;\">\n",
       "                            <strong>Memory: </strong> 7.86 GiB\n",
       "                        </td>\n",
       "                    </tr>\n",
       "                    <tr>\n",
       "                        <td style=\"text-align: left;\">\n",
       "                            <strong>Nanny: </strong> tcp://127.0.0.1:46001\n",
       "                        </td>\n",
       "                        <td style=\"text-align: left;\"></td>\n",
       "                    </tr>\n",
       "                    <tr>\n",
       "                        <td colspan=\"2\" style=\"text-align: left;\">\n",
       "                            <strong>Local directory: </strong> /media/bigdata/firing_space_plot/changepoint_mcmc/pymc3_docker/dask-worker-space/worker-imf1in6b\n",
       "                        </td>\n",
       "                    </tr>\n",
       "\n",
       "                    \n",
       "\n",
       "                    \n",
       "\n",
       "                </table>\n",
       "            </details>\n",
       "            </div>\n",
       "        </div>\n",
       "        \n",
       "        <div style=\"margin-bottom: 20px;\">\n",
       "            <div style=\"width: 24px; height: 24px; background-color: #DBF5FF; border: 3px solid #4CC9FF; border-radius: 5px; position: absolute;\"> </div>\n",
       "            <div style=\"margin-left: 48px;\">\n",
       "            <details>\n",
       "                <summary>\n",
       "                    <h4 style=\"margin-bottom: 0px; display: inline;\">Worker: 6</h4>\n",
       "                </summary>\n",
       "                <table style=\"width: 100%; text-align: left;\">\n",
       "                    <tr>\n",
       "                        <td style=\"text-align: left;\">\n",
       "                            <strong>Comm: </strong> tcp://127.0.0.1:42603\n",
       "                        </td>\n",
       "                        <td style=\"text-align: left;\">\n",
       "                            <strong>Total threads: </strong> 1\n",
       "                        </td>\n",
       "                    </tr>\n",
       "                    <tr>\n",
       "                        <td style=\"text-align: left;\">\n",
       "                            <strong>Dashboard: </strong> <a href=\"http://127.0.0.1:44949/status\" target=\"_blank\">http://127.0.0.1:44949/status</a>\n",
       "                        </td>\n",
       "                        <td style=\"text-align: left;\">\n",
       "                            <strong>Memory: </strong> 7.86 GiB\n",
       "                        </td>\n",
       "                    </tr>\n",
       "                    <tr>\n",
       "                        <td style=\"text-align: left;\">\n",
       "                            <strong>Nanny: </strong> tcp://127.0.0.1:32805\n",
       "                        </td>\n",
       "                        <td style=\"text-align: left;\"></td>\n",
       "                    </tr>\n",
       "                    <tr>\n",
       "                        <td colspan=\"2\" style=\"text-align: left;\">\n",
       "                            <strong>Local directory: </strong> /media/bigdata/firing_space_plot/changepoint_mcmc/pymc3_docker/dask-worker-space/worker-djcponq_\n",
       "                        </td>\n",
       "                    </tr>\n",
       "\n",
       "                    \n",
       "\n",
       "                    \n",
       "\n",
       "                </table>\n",
       "            </details>\n",
       "            </div>\n",
       "        </div>\n",
       "        \n",
       "        <div style=\"margin-bottom: 20px;\">\n",
       "            <div style=\"width: 24px; height: 24px; background-color: #DBF5FF; border: 3px solid #4CC9FF; border-radius: 5px; position: absolute;\"> </div>\n",
       "            <div style=\"margin-left: 48px;\">\n",
       "            <details>\n",
       "                <summary>\n",
       "                    <h4 style=\"margin-bottom: 0px; display: inline;\">Worker: 7</h4>\n",
       "                </summary>\n",
       "                <table style=\"width: 100%; text-align: left;\">\n",
       "                    <tr>\n",
       "                        <td style=\"text-align: left;\">\n",
       "                            <strong>Comm: </strong> tcp://127.0.0.1:46867\n",
       "                        </td>\n",
       "                        <td style=\"text-align: left;\">\n",
       "                            <strong>Total threads: </strong> 1\n",
       "                        </td>\n",
       "                    </tr>\n",
       "                    <tr>\n",
       "                        <td style=\"text-align: left;\">\n",
       "                            <strong>Dashboard: </strong> <a href=\"http://127.0.0.1:45447/status\" target=\"_blank\">http://127.0.0.1:45447/status</a>\n",
       "                        </td>\n",
       "                        <td style=\"text-align: left;\">\n",
       "                            <strong>Memory: </strong> 7.86 GiB\n",
       "                        </td>\n",
       "                    </tr>\n",
       "                    <tr>\n",
       "                        <td style=\"text-align: left;\">\n",
       "                            <strong>Nanny: </strong> tcp://127.0.0.1:41241\n",
       "                        </td>\n",
       "                        <td style=\"text-align: left;\"></td>\n",
       "                    </tr>\n",
       "                    <tr>\n",
       "                        <td colspan=\"2\" style=\"text-align: left;\">\n",
       "                            <strong>Local directory: </strong> /media/bigdata/firing_space_plot/changepoint_mcmc/pymc3_docker/dask-worker-space/worker-tnqdj_je\n",
       "                        </td>\n",
       "                    </tr>\n",
       "\n",
       "                    \n",
       "\n",
       "                    \n",
       "\n",
       "                </table>\n",
       "            </details>\n",
       "            </div>\n",
       "        </div>\n",
       "        \n",
       "        <div style=\"margin-bottom: 20px;\">\n",
       "            <div style=\"width: 24px; height: 24px; background-color: #DBF5FF; border: 3px solid #4CC9FF; border-radius: 5px; position: absolute;\"> </div>\n",
       "            <div style=\"margin-left: 48px;\">\n",
       "            <details>\n",
       "                <summary>\n",
       "                    <h4 style=\"margin-bottom: 0px; display: inline;\">Worker: 8</h4>\n",
       "                </summary>\n",
       "                <table style=\"width: 100%; text-align: left;\">\n",
       "                    <tr>\n",
       "                        <td style=\"text-align: left;\">\n",
       "                            <strong>Comm: </strong> tcp://127.0.0.1:40881\n",
       "                        </td>\n",
       "                        <td style=\"text-align: left;\">\n",
       "                            <strong>Total threads: </strong> 1\n",
       "                        </td>\n",
       "                    </tr>\n",
       "                    <tr>\n",
       "                        <td style=\"text-align: left;\">\n",
       "                            <strong>Dashboard: </strong> <a href=\"http://127.0.0.1:46409/status\" target=\"_blank\">http://127.0.0.1:46409/status</a>\n",
       "                        </td>\n",
       "                        <td style=\"text-align: left;\">\n",
       "                            <strong>Memory: </strong> 7.86 GiB\n",
       "                        </td>\n",
       "                    </tr>\n",
       "                    <tr>\n",
       "                        <td style=\"text-align: left;\">\n",
       "                            <strong>Nanny: </strong> tcp://127.0.0.1:36051\n",
       "                        </td>\n",
       "                        <td style=\"text-align: left;\"></td>\n",
       "                    </tr>\n",
       "                    <tr>\n",
       "                        <td colspan=\"2\" style=\"text-align: left;\">\n",
       "                            <strong>Local directory: </strong> /media/bigdata/firing_space_plot/changepoint_mcmc/pymc3_docker/dask-worker-space/worker-ib3kq6q7\n",
       "                        </td>\n",
       "                    </tr>\n",
       "\n",
       "                    \n",
       "\n",
       "                    \n",
       "\n",
       "                </table>\n",
       "            </details>\n",
       "            </div>\n",
       "        </div>\n",
       "        \n",
       "        <div style=\"margin-bottom: 20px;\">\n",
       "            <div style=\"width: 24px; height: 24px; background-color: #DBF5FF; border: 3px solid #4CC9FF; border-radius: 5px; position: absolute;\"> </div>\n",
       "            <div style=\"margin-left: 48px;\">\n",
       "            <details>\n",
       "                <summary>\n",
       "                    <h4 style=\"margin-bottom: 0px; display: inline;\">Worker: 9</h4>\n",
       "                </summary>\n",
       "                <table style=\"width: 100%; text-align: left;\">\n",
       "                    <tr>\n",
       "                        <td style=\"text-align: left;\">\n",
       "                            <strong>Comm: </strong> tcp://127.0.0.1:33517\n",
       "                        </td>\n",
       "                        <td style=\"text-align: left;\">\n",
       "                            <strong>Total threads: </strong> 1\n",
       "                        </td>\n",
       "                    </tr>\n",
       "                    <tr>\n",
       "                        <td style=\"text-align: left;\">\n",
       "                            <strong>Dashboard: </strong> <a href=\"http://127.0.0.1:46065/status\" target=\"_blank\">http://127.0.0.1:46065/status</a>\n",
       "                        </td>\n",
       "                        <td style=\"text-align: left;\">\n",
       "                            <strong>Memory: </strong> 7.86 GiB\n",
       "                        </td>\n",
       "                    </tr>\n",
       "                    <tr>\n",
       "                        <td style=\"text-align: left;\">\n",
       "                            <strong>Nanny: </strong> tcp://127.0.0.1:33467\n",
       "                        </td>\n",
       "                        <td style=\"text-align: left;\"></td>\n",
       "                    </tr>\n",
       "                    <tr>\n",
       "                        <td colspan=\"2\" style=\"text-align: left;\">\n",
       "                            <strong>Local directory: </strong> /media/bigdata/firing_space_plot/changepoint_mcmc/pymc3_docker/dask-worker-space/worker-mmmh1qjm\n",
       "                        </td>\n",
       "                    </tr>\n",
       "\n",
       "                    \n",
       "\n",
       "                    \n",
       "\n",
       "                </table>\n",
       "            </details>\n",
       "            </div>\n",
       "        </div>\n",
       "        \n",
       "\n",
       "    </details>\n",
       "</div>\n",
       "\n",
       "        </details>\n",
       "    </div>\n",
       "</div>\n",
       "            </details>\n",
       "        \n",
       "\n",
       "    </div>\n",
       "</div>"
      ],
      "text/plain": [
       "<Client: 'tcp://127.0.0.1:45703' processes=10 threads=10, memory=78.60 GiB>"
      ]
     },
     "execution_count": 2,
     "metadata": {},
     "output_type": "execute_result"
    }
   ],
   "source": [
    "client = Client(threads_per_worker=1, n_workers=10)\n",
    "client"
   ]
  },
  {
   "cell_type": "code",
   "execution_count": 3,
   "metadata": {},
   "outputs": [],
   "source": [
    "import time\n",
    "import random\n",
    "\n",
    "def costly_simulation(list_param):\n",
    "    time.sleep(random.random())\n",
    "    return sum(list_param)"
   ]
  },
  {
   "cell_type": "code",
   "execution_count": 4,
   "metadata": {},
   "outputs": [
    {
     "name": "stdout",
     "output_type": "stream",
     "text": [
      "CPU times: user 105 ms, sys: 44.6 ms, total: 150 ms\n",
      "Wall time: 837 ms\n"
     ]
    },
    {
     "data": {
      "text/plain": [
       "10"
      ]
     },
     "execution_count": 4,
     "metadata": {},
     "output_type": "execute_result"
    }
   ],
   "source": [
    "%time costly_simulation([1, 2, 3, 4])"
   ]
  },
  {
   "cell_type": "code",
   "execution_count": 5,
   "metadata": {},
   "outputs": [
    {
     "data": {
      "text/html": [
       "<div>\n",
       "<style scoped>\n",
       "    .dataframe tbody tr th:only-of-type {\n",
       "        vertical-align: middle;\n",
       "    }\n",
       "\n",
       "    .dataframe tbody tr th {\n",
       "        vertical-align: top;\n",
       "    }\n",
       "\n",
       "    .dataframe thead th {\n",
       "        text-align: right;\n",
       "    }\n",
       "</style>\n",
       "<table border=\"1\" class=\"dataframe\">\n",
       "  <thead>\n",
       "    <tr style=\"text-align: right;\">\n",
       "      <th></th>\n",
       "      <th>param_a</th>\n",
       "      <th>param_b</th>\n",
       "      <th>param_c</th>\n",
       "      <th>param_d</th>\n",
       "    </tr>\n",
       "  </thead>\n",
       "  <tbody>\n",
       "    <tr>\n",
       "      <th>0</th>\n",
       "      <td>0.158383</td>\n",
       "      <td>0.153487</td>\n",
       "      <td>0.008851</td>\n",
       "      <td>0.851704</td>\n",
       "    </tr>\n",
       "    <tr>\n",
       "      <th>1</th>\n",
       "      <td>0.457555</td>\n",
       "      <td>0.993624</td>\n",
       "      <td>0.599530</td>\n",
       "      <td>0.089513</td>\n",
       "    </tr>\n",
       "    <tr>\n",
       "      <th>2</th>\n",
       "      <td>0.050336</td>\n",
       "      <td>0.448694</td>\n",
       "      <td>0.186016</td>\n",
       "      <td>0.258208</td>\n",
       "    </tr>\n",
       "    <tr>\n",
       "      <th>3</th>\n",
       "      <td>0.466902</td>\n",
       "      <td>0.124382</td>\n",
       "      <td>0.717180</td>\n",
       "      <td>0.267196</td>\n",
       "    </tr>\n",
       "    <tr>\n",
       "      <th>4</th>\n",
       "      <td>0.472770</td>\n",
       "      <td>0.597918</td>\n",
       "      <td>0.966242</td>\n",
       "      <td>0.349274</td>\n",
       "    </tr>\n",
       "  </tbody>\n",
       "</table>\n",
       "</div>"
      ],
      "text/plain": [
       "    param_a   param_b   param_c   param_d\n",
       "0  0.158383  0.153487  0.008851  0.851704\n",
       "1  0.457555  0.993624  0.599530  0.089513\n",
       "2  0.050336  0.448694  0.186016  0.258208\n",
       "3  0.466902  0.124382  0.717180  0.267196\n",
       "4  0.472770  0.597918  0.966242  0.349274"
      ]
     },
     "execution_count": 5,
     "metadata": {},
     "output_type": "execute_result"
    }
   ],
   "source": [
    "import pandas as pd\n",
    "import numpy as np\n",
    "\n",
    "input_params = pd.DataFrame(np.random.random(size=(500, 4)),\n",
    "                            columns=['param_a', 'param_b', 'param_c', 'param_d'])\n",
    "input_params.head()\n"
   ]
  },
  {
   "cell_type": "code",
   "execution_count": 6,
   "metadata": {},
   "outputs": [],
   "source": [
    "results = []"
   ]
  },
  {
   "cell_type": "code",
   "execution_count": 7,
   "metadata": {},
   "outputs": [
    {
     "name": "stdout",
     "output_type": "stream",
     "text": [
      "CPU times: user 417 ms, sys: 203 ms, total: 620 ms\n",
      "Wall time: 3.68 s\n"
     ]
    }
   ],
   "source": [
    "%%time\n",
    "for parameters in input_params.values[:10]:\n",
    "    result = costly_simulation(parameters)\n",
    "    results.append(result)"
   ]
  },
  {
   "cell_type": "code",
   "execution_count": 8,
   "metadata": {},
   "outputs": [
    {
     "data": {
      "text/plain": [
       "[1.1724256901265813,\n",
       " 2.140222146520272,\n",
       " 0.9432533487870429,\n",
       " 1.5756588824707731,\n",
       " 2.386204055729744,\n",
       " 1.1798028835592493,\n",
       " 1.958086075823078,\n",
       " 3.1522962030748785,\n",
       " 1.011643317938582,\n",
       " 1.996656092311242]"
      ]
     },
     "execution_count": 8,
     "metadata": {},
     "output_type": "execute_result"
    }
   ],
   "source": [
    "results"
   ]
  },
  {
   "cell_type": "markdown",
   "metadata": {},
   "source": [
    "# ==== Dask Delayed ===="
   ]
  },
  {
   "cell_type": "code",
   "execution_count": 9,
   "metadata": {},
   "outputs": [],
   "source": [
    "import dask\n",
    "lazy_results = []"
   ]
  },
  {
   "cell_type": "code",
   "execution_count": 10,
   "metadata": {},
   "outputs": [
    {
     "name": "stdout",
     "output_type": "stream",
     "text": [
      "CPU times: user 3.67 ms, sys: 0 ns, total: 3.67 ms\n",
      "Wall time: 2.99 ms\n"
     ]
    }
   ],
   "source": [
    "%%time\n",
    "\n",
    "for parameters in input_params.values[:10]:\n",
    "    lazy_result = dask.delayed(costly_simulation)(parameters)\n",
    "    lazy_results.append(lazy_result)"
   ]
  },
  {
   "cell_type": "code",
   "execution_count": 11,
   "metadata": {},
   "outputs": [
    {
     "data": {
      "text/plain": [
       "Delayed('costly_simulation-e1e475e6-c4b3-479c-a327-7ebcb8bd8639')"
      ]
     },
     "execution_count": 11,
     "metadata": {},
     "output_type": "execute_result"
    }
   ],
   "source": [
    "lazy_results[0]"
   ]
  },
  {
   "cell_type": "code",
   "execution_count": 12,
   "metadata": {},
   "outputs": [
    {
     "name": "stdout",
     "output_type": "stream",
     "text": [
      "CPU times: user 307 ms, sys: 72.1 ms, total: 379 ms\n",
      "Wall time: 1.15 s\n"
     ]
    },
    {
     "data": {
      "text/plain": [
       "(1.1724256901265813,\n",
       " 2.140222146520272,\n",
       " 0.9432533487870429,\n",
       " 1.5756588824707731,\n",
       " 2.386204055729744,\n",
       " 1.1798028835592493,\n",
       " 1.958086075823078,\n",
       " 3.1522962030748785,\n",
       " 1.011643317938582,\n",
       " 1.996656092311242)"
      ]
     },
     "execution_count": 12,
     "metadata": {},
     "output_type": "execute_result"
    }
   ],
   "source": [
    "%time dask.compute(*lazy_results)"
   ]
  },
  {
   "cell_type": "code",
   "execution_count": 13,
   "metadata": {},
   "outputs": [],
   "source": [
    "import dask\n",
    "lazy_results = []\n",
    "\n",
    "for parameters in input_params.values:\n",
    "    lazy_result = dask.delayed(costly_simulation)(parameters)\n",
    "    lazy_results.append(lazy_result)\n",
    "\n",
    "futures = dask.persist(*lazy_results)  # trigger computation in the background\n"
   ]
  },
  {
   "cell_type": "code",
   "execution_count": 14,
   "metadata": {},
   "outputs": [],
   "source": [
    "client.cluster.scale(10)  # ask for ten 4-thread workers"
   ]
  },
  {
   "cell_type": "code",
   "execution_count": 15,
   "metadata": {},
   "outputs": [
    {
     "data": {
      "text/plain": [
       "(1.1724256901265813,\n",
       " 2.140222146520272,\n",
       " 0.9432533487870429,\n",
       " 1.5756588824707731,\n",
       " 2.386204055729744)"
      ]
     },
     "execution_count": 15,
     "metadata": {},
     "output_type": "execute_result"
    }
   ],
   "source": [
    "results = dask.compute(*futures)\n",
    "results[:5]"
   ]
  },
  {
   "cell_type": "markdown",
   "metadata": {},
   "source": [
    "# ==== KubeCluster ===="
   ]
  },
  {
   "cell_type": "code",
   "execution_count": null,
   "metadata": {},
   "outputs": [
    {
     "name": "stdout",
     "output_type": "stream",
     "text": [
      "Creating scheduler pod on cluster. This may take some time.\n"
     ]
    }
   ],
   "source": [
    "from dask_kubernetes import KubeCluster, make_pod_spec\n",
    "\n",
    "pod_spec = make_pod_spec(image='daskdev/dask:latest',\n",
    "                         memory_limit='1G', memory_request='1G',\n",
    "                         cpu_limit=1, cpu_request=1,\n",
    "                         env={'EXTRA_PIP_PACKAGES': 'fastparquet git+https://github.com/dask/distributed'})\n",
    "cluster = KubeCluster(pod_spec)\n",
    "cluster.scale(6)"
   ]
  },
  {
   "cell_type": "code",
   "execution_count": null,
   "metadata": {},
   "outputs": [],
   "source": [
    "#cluster.adapt(minimum=1, maximum=100)"
   ]
  },
  {
   "cell_type": "code",
   "execution_count": null,
   "metadata": {},
   "outputs": [],
   "source": [
    "# cluster = KubeCluster('worker-template.yml')\n",
    "# cluster = KubeCluster({...})"
   ]
  },
  {
   "cell_type": "code",
   "execution_count": null,
   "metadata": {},
   "outputs": [],
   "source": [
    "# cluster.adapt()"
   ]
  },
  {
   "cell_type": "code",
   "execution_count": null,
   "metadata": {},
   "outputs": [],
   "source": [
    "from dask.distributed import Client\n",
    "client = Client(cluster)"
   ]
  },
  {
   "cell_type": "code",
   "execution_count": null,
   "metadata": {},
   "outputs": [],
   "source": [
    "# client.get_versions(check=True)"
   ]
  },
  {
   "cell_type": "code",
   "execution_count": null,
   "metadata": {},
   "outputs": [],
   "source": [
    "client"
   ]
  },
  {
   "cell_type": "code",
   "execution_count": null,
   "metadata": {},
   "outputs": [],
   "source": [
    "import dask.array as da"
   ]
  },
  {
   "cell_type": "code",
   "execution_count": 10,
   "metadata": {},
   "outputs": [
    {
     "name": "stdout",
     "output_type": "stream",
     "text": [
      "1.0\n"
     ]
    }
   ],
   "source": [
    "# Create a large array and calculate the mean\n",
    "array = da.ones((1000, 1000, 1000))\n",
    "print(array.mean().compute())  # Should print 1.0"
   ]
  },
  {
   "cell_type": "code",
   "execution_count": 16,
   "metadata": {},
   "outputs": [],
   "source": [
    "import joblib\n",
    "from joblib import Parallel, delayed, cpu_count"
   ]
  },
  {
   "cell_type": "code",
   "execution_count": 17,
   "metadata": {},
   "outputs": [
    {
     "name": "stderr",
     "output_type": "stream",
     "text": [
      "WARNING (theano.tensor.blas): Using NumPy C-API based implementation for BLAS functions.\n"
     ]
    }
   ],
   "source": [
    "import pymc3 as pm"
   ]
  },
  {
   "cell_type": "code",
   "execution_count": 18,
   "metadata": {},
   "outputs": [],
   "source": [
    "with pm.Model() as model:\n",
    "    x = pm.Normal('x', mu = 1, sd =2)"
   ]
  },
  {
   "cell_type": "code",
   "execution_count": 19,
   "metadata": {},
   "outputs": [
    {
     "data": {
      "image/svg+xml": [
       "<?xml version=\"1.0\" encoding=\"UTF-8\" standalone=\"no\"?>\n",
       "<!DOCTYPE svg PUBLIC \"-//W3C//DTD SVG 1.1//EN\"\n",
       " \"http://www.w3.org/Graphics/SVG/1.1/DTD/svg11.dtd\">\n",
       "<!-- Generated by graphviz version 2.48.0 (20210717.2242)\n",
       " -->\n",
       "<!-- Pages: 1 -->\n",
       "<svg width=\"107pt\" height=\"83pt\"\n",
       " viewBox=\"0.00 0.00 106.99 82.95\" xmlns=\"http://www.w3.org/2000/svg\" xmlns:xlink=\"http://www.w3.org/1999/xlink\">\n",
       "<g id=\"graph0\" class=\"graph\" transform=\"scale(1 1) rotate(0) translate(4 78.95)\">\n",
       "<polygon fill=\"white\" stroke=\"transparent\" points=\"-4,4 -4,-78.95 102.99,-78.95 102.99,4 -4,4\"/>\n",
       "<!-- x -->\n",
       "<g id=\"node1\" class=\"node\">\n",
       "<title>x</title>\n",
       "<ellipse fill=\"none\" stroke=\"black\" cx=\"49.5\" cy=\"-37.48\" rx=\"49.49\" ry=\"37.45\"/>\n",
       "<text text-anchor=\"middle\" x=\"49.5\" y=\"-48.78\" font-family=\"Times,serif\" font-size=\"14.00\">x</text>\n",
       "<text text-anchor=\"middle\" x=\"49.5\" y=\"-33.78\" font-family=\"Times,serif\" font-size=\"14.00\">~</text>\n",
       "<text text-anchor=\"middle\" x=\"49.5\" y=\"-18.78\" font-family=\"Times,serif\" font-size=\"14.00\">Normal</text>\n",
       "</g>\n",
       "</g>\n",
       "</svg>\n"
      ],
      "text/plain": [
       "<graphviz.graphs.Digraph at 0x7f95322c03a0>"
      ]
     },
     "execution_count": 19,
     "metadata": {},
     "output_type": "execute_result"
    }
   ],
   "source": [
    "pm.model_to_graphviz(model)"
   ]
  },
  {
   "cell_type": "code",
   "execution_count": 21,
   "metadata": {},
   "outputs": [
    {
     "name": "stderr",
     "output_type": "stream",
     "text": [
      "/tmp/ipykernel_523140/366605620.py:2: FutureWarning: In v4.0, pm.sample will return an `arviz.InferenceData` object instead of a `MultiTrace` by default. You can pass return_inferencedata=True or return_inferencedata=False to be safe and silence this warning.\n",
      "  trace = pm.sample()\n"
     ]
    },
    {
     "data": {
      "text/html": [
       "\n",
       "    <div>\n",
       "        <style>\n",
       "            /* Turns off some styling */\n",
       "            progress {\n",
       "                /* gets rid of default border in Firefox and Opera. */\n",
       "                border: none;\n",
       "                /* Needs to be in here for Safari polyfill so background images work as expected. */\n",
       "                background-size: auto;\n",
       "            }\n",
       "            .progress-bar-interrupted, .progress-bar-interrupted::-webkit-progress-bar {\n",
       "                background: #F44336;\n",
       "            }\n",
       "        </style>\n",
       "      <progress value='8000' class='' max='8000' style='width:300px; height:20px; vertical-align: middle;'></progress>\n",
       "      100.00% [8000/8000 00:01<00:00 Sampling 4 chains, 0 divergences]\n",
       "    </div>\n",
       "    "
      ],
      "text/plain": [
       "<IPython.core.display.HTML object>"
      ]
     },
     "metadata": {},
     "output_type": "display_data"
    },
    {
     "name": "stderr",
     "output_type": "stream",
     "text": [
      "WARNING:aesara.tensor.blas:Using NumPy C-API based implementation for BLAS functions.\n"
     ]
    }
   ],
   "source": [
    "with model:\n",
    "    trace = pm.sample()"
   ]
  },
  {
   "cell_type": "code",
   "execution_count": 24,
   "metadata": {},
   "outputs": [
    {
     "data": {
      "image/png": "[encoded data removed]",
      "text/plain": [
       "<Figure size 864x144 with 2 Axes>"
      ]
     },
     "metadata": {
      "needs_background": "light"
     },
     "output_type": "display_data"
    }
   ],
   "source": [
    "with model:\n",
    "    pm.plot_trace(trace)"
   ]
  },
  {
   "cell_type": "code",
   "execution_count": 18,
   "metadata": {},
   "outputs": [],
   "source": [
    "def run_model(i=None):\n",
    "    with pm.Model() as model:\n",
    "        x = pm.Normal('x', mu = 1, sd =2)\n",
    "        trace = pm.sample(chains = 1, cores = 1)\n",
    "    return trace"
   ]
  },
  {
   "cell_type": "code",
   "execution_count": 19,
   "metadata": {},
   "outputs": [
    {
     "name": "stderr",
     "output_type": "stream",
     "text": [
      "/tmp/ipykernel_648423/2507702576.py:4: FutureWarning: In v4.0, pm.sample will return an `arviz.InferenceData` object instead of a `MultiTrace` by default. You can pass return_inferencedata=True or return_inferencedata=False to be safe and silence this warning.\n",
      "  trace = pm.sample(chains = 1, cores = 1)\n",
      "Auto-assigning NUTS sampler...\n",
      "Initializing NUTS using jitter+adapt_diag...\n",
      "Sequential sampling (1 chains in 1 job)\n",
      "NUTS: [x]\n"
     ]
    },
    {
     "data": {
      "text/html": [
       "\n",
       "    <div>\n",
       "        <style>\n",
       "            /* Turns off some styling */\n",
       "            progress {\n",
       "                /* gets rid of default border in Firefox and Opera. */\n",
       "                border: none;\n",
       "                /* Needs to be in here for Safari polyfill so background images work as expected. */\n",
       "                background-size: auto;\n",
       "            }\n",
       "            .progress-bar-interrupted, .progress-bar-interrupted::-webkit-progress-bar {\n",
       "                background: #F44336;\n",
       "            }\n",
       "        </style>\n",
       "      <progress value='2000' class='' max='2000' style='width:300px; height:20px; vertical-align: middle;'></progress>\n",
       "      100.00% [2000/2000 00:01<00:00 Sampling chain 0, 0 divergences]\n",
       "    </div>\n",
       "    "
      ],
      "text/plain": [
       "<IPython.core.display.HTML object>"
      ]
     },
     "metadata": {},
     "output_type": "display_data"
    },
    {
     "name": "stderr",
     "output_type": "stream",
     "text": [
      "Sampling 1 chain for 1_000 tune and 1_000 draw iterations (1_000 + 1_000 draws total) took 2 seconds.\n",
      "WARNING (aesara.tensor.blas): Using NumPy C-API based implementation for BLAS functions.\n",
      "The acceptance probability does not match the target. It is 0.8842034722184178, but should be close to 0.8. Try to increase the number of tuning steps.\n",
      "Only one chain was sampled, this makes it impossible to run some convergence checks\n",
      "Got error No model on context stack. trying to find log_likelihood in translation.\n",
      "/home/abuzarmahmood/anaconda3/envs/pymc3/lib/python3.9/site-packages/arviz/data/io_pymc3_3x.py:98: FutureWarning: Using `from_pymc3` without the model will be deprecated in a future release. Not using the model will return less accurate and less useful results. Make sure you use the model argument or call from_pymc3 within a model context.\n",
      "  warnings.warn(\n",
      "Got error No model on context stack. trying to find log_likelihood in translation.\n"
     ]
    },
    {
     "data": {
      "text/plain": [
       "array([[<AxesSubplot:title={'center':'x'}>,\n",
       "        <AxesSubplot:title={'center':'x'}>]], dtype=object)"
      ]
     },
     "execution_count": 19,
     "metadata": {},
     "output_type": "execute_result"
    },
    {
     "data": {
      "image/png": "[encoded data removed]",
      "text/plain": [
       "<Figure size 864x144 with 2 Axes>"
      ]
     },
     "metadata": {
      "needs_background": "light"
     },
     "output_type": "display_data"
    }
   ],
   "source": [
    "pm.plot_trace(run_model())"
   ]
  },
  {
   "cell_type": "code",
   "execution_count": 20,
   "metadata": {},
   "outputs": [
    {
     "name": "stdout",
     "output_type": "stream",
     "text": [
      "[Parallel(n_jobs=10)]: Using backend DaskDistributedBackend with 10 concurrent workers.\n"
     ]
    },
    {
     "name": "stderr",
     "output_type": "stream",
     "text": [
      "WARNING (theano.tensor.blas): Using NumPy C-API based implementation for BLAS functions.\n",
      "WARNING (theano.tensor.blas): Using NumPy C-API based implementation for BLAS functions.\n",
      "WARNING (theano.tensor.blas): Using NumPy C-API based implementation for BLAS functions.\n",
      "WARNING (theano.tensor.blas): Using NumPy C-API based implementation for BLAS functions.\n",
      "WARNING (theano.tensor.blas): Using NumPy C-API based implementation for BLAS functions.\n",
      "WARNING (theano.tensor.blas): Using NumPy C-API based implementation for BLAS functions.\n",
      "WARNING (theano.tensor.blas): Using NumPy C-API based implementation for BLAS functions.\n",
      "WARNING (theano.tensor.blas): Using NumPy C-API based implementation for BLAS functions.\n",
      "WARNING (theano.tensor.blas): Using NumPy C-API based implementation for BLAS functions.\n",
      "WARNING (theano.tensor.blas): Using NumPy C-API based implementation for BLAS functions.\n",
      "/tmp/ipykernel_648423/2507702576.py:4: FutureWarning: In v4.0, pm.sample will return an `arviz.InferenceData` object instead of a `MultiTrace` by default. You can pass return_inferencedata=True or return_inferencedata=False to be safe and silence this warning.\n",
      "Auto-assigning NUTS sampler...\n",
      "Initializing NUTS using jitter+adapt_diag...\n",
      "/tmp/ipykernel_648423/2507702576.py:4: FutureWarning: In v4.0, pm.sample will return an `arviz.InferenceData` object instead of a `MultiTrace` by default. You can pass return_inferencedata=True or return_inferencedata=False to be safe and silence this warning.\n",
      "Auto-assigning NUTS sampler...\n",
      "Initializing NUTS using jitter+adapt_diag...\n",
      "/tmp/ipykernel_648423/2507702576.py:4: FutureWarning: In v4.0, pm.sample will return an `arviz.InferenceData` object instead of a `MultiTrace` by default. You can pass return_inferencedata=True or return_inferencedata=False to be safe and silence this warning.\n",
      "Auto-assigning NUTS sampler...\n",
      "Initializing NUTS using jitter+adapt_diag...\n",
      "/tmp/ipykernel_648423/2507702576.py:4: FutureWarning: In v4.0, pm.sample will return an `arviz.InferenceData` object instead of a `MultiTrace` by default. You can pass return_inferencedata=True or return_inferencedata=False to be safe and silence this warning.\n",
      "Auto-assigning NUTS sampler...\n",
      "Initializing NUTS using jitter+adapt_diag...\n",
      "/tmp/ipykernel_648423/2507702576.py:4: FutureWarning: In v4.0, pm.sample will return an `arviz.InferenceData` object instead of a `MultiTrace` by default. You can pass return_inferencedata=True or return_inferencedata=False to be safe and silence this warning.\n",
      "Auto-assigning NUTS sampler...\n",
      "Initializing NUTS using jitter+adapt_diag...\n",
      "/tmp/ipykernel_648423/2507702576.py:4: FutureWarning: In v4.0, pm.sample will return an `arviz.InferenceData` object instead of a `MultiTrace` by default. You can pass return_inferencedata=True or return_inferencedata=False to be safe and silence this warning.\n",
      "Auto-assigning NUTS sampler...\n",
      "Initializing NUTS using jitter+adapt_diag...\n",
      "/tmp/ipykernel_648423/2507702576.py:4: FutureWarning: In v4.0, pm.sample will return an `arviz.InferenceData` object instead of a `MultiTrace` by default. You can pass return_inferencedata=True or return_inferencedata=False to be safe and silence this warning.\n",
      "Auto-assigning NUTS sampler...\n",
      "Initializing NUTS using jitter+adapt_diag...\n",
      "/tmp/ipykernel_648423/2507702576.py:4: FutureWarning: In v4.0, pm.sample will return an `arviz.InferenceData` object instead of a `MultiTrace` by default. You can pass return_inferencedata=True or return_inferencedata=False to be safe and silence this warning.\n",
      "Auto-assigning NUTS sampler...\n",
      "Initializing NUTS using jitter+adapt_diag...\n",
      "/tmp/ipykernel_648423/2507702576.py:4: FutureWarning: In v4.0, pm.sample will return an `arviz.InferenceData` object instead of a `MultiTrace` by default. You can pass return_inferencedata=True or return_inferencedata=False to be safe and silence this warning.\n",
      "Auto-assigning NUTS sampler...\n",
      "Initializing NUTS using jitter+adapt_diag...\n",
      "/tmp/ipykernel_648423/2507702576.py:4: FutureWarning: In v4.0, pm.sample will return an `arviz.InferenceData` object instead of a `MultiTrace` by default. You can pass return_inferencedata=True or return_inferencedata=False to be safe and silence this warning.\n",
      "Auto-assigning NUTS sampler...\n",
      "Initializing NUTS using jitter+adapt_diag...\n",
      "Sequential sampling (1 chains in 1 job)\n",
      "NUTS: [x]\n"
     ]
    },
    {
     "name": "stdout",
     "output_type": "stream",
     "text": [
      "█\r"
     ]
    },
    {
     "name": "stderr",
     "output_type": "stream",
     "text": [
      "Sequential sampling (1 chains in 1 job)\n",
      "NUTS: [x]\n"
     ]
    },
    {
     "name": "stdout",
     "output_type": "stream",
     "text": [
      "█\r"
     ]
    },
    {
     "name": "stderr",
     "output_type": "stream",
     "text": [
      "Sequential sampling (1 chains in 1 job)\n",
      "NUTS: [x]\n"
     ]
    },
    {
     "name": "stdout",
     "output_type": "stream",
     "text": [
      "█\r"
     ]
    },
    {
     "name": "stderr",
     "output_type": "stream",
     "text": [
      "Sequential sampling (1 chains in 1 job)\n",
      "NUTS: [x]\n",
      "Sampling 1 chain for 1_000 tune and 1_000 draw iterations (1_000 + 1_000 draws total) took 2 seconds.\n",
      "Sampling 1 chain for 1_000 tune and 1_000 draw iterations (1_000 + 1_000 draws total) took 2 seconds.\n",
      "Sampling 1 chain for 1_000 tune and 1_000 draw iterations (1_000 + 1_000 draws total) took 4 seconds.\n",
      "WARNING (aesara.tensor.blas): Using NumPy C-API based implementation for BLAS functions.\n",
      "Sequential sampling (1 chains in 1 job)\n",
      "NUTS: [x]\n",
      "Only one chain was sampled, this makes it impossible to run some convergence checks\n",
      "Sampling 1 chain for 1_000 tune and 1_000 draw iterations (1_000 + 1_000 draws total) took 5 seconds.\n",
      "/tmp/ipykernel_648423/2507702576.py:4: FutureWarning: In v4.0, pm.sample will return an `arviz.InferenceData` object instead of a `MultiTrace` by default. You can pass return_inferencedata=True or return_inferencedata=False to be safe and silence this warning.\n",
      "Auto-assigning NUTS sampler...\n",
      "Initializing NUTS using jitter+adapt_diag...\n"
     ]
    },
    {
     "name": "stdout",
     "output_type": "stream",
     "text": [
      "[Parallel(n_jobs=10)]: Done   1 tasks      | elapsed:   21.2s\n",
      "█\r"
     ]
    },
    {
     "name": "stderr",
     "output_type": "stream",
     "text": [
      "Sequential sampling (1 chains in 1 job)\n",
      "NUTS: [x]\n",
      "Sampling 1 chain for 1_000 tune and 1_000 draw iterations (1_000 + 1_000 draws total) took 1 seconds.\n",
      "Only one chain was sampled, this makes it impossible to run some convergence checks\n",
      "Sequential sampling (1 chains in 1 job)\n",
      "NUTS: [x]\n",
      "WARNING (aesara.tensor.blas): Using NumPy C-API based implementation for BLAS functions.\n",
      "Sampling 1 chain for 1_000 tune and 1_000 draw iterations (1_000 + 1_000 draws total) took 1 seconds.\n"
     ]
    },
    {
     "name": "stdout",
     "output_type": "stream",
     "text": [
      "[Parallel(n_jobs=10)]: Done   2 out of  15 | elapsed:   22.3s remaining:  2.4min\n",
      "█\r"
     ]
    },
    {
     "name": "stderr",
     "output_type": "stream",
     "text": [
      "Only one chain was sampled, this makes it impossible to run some convergence checks\n",
      "/tmp/ipykernel_648423/2507702576.py:4: FutureWarning: In v4.0, pm.sample will return an `arviz.InferenceData` object instead of a `MultiTrace` by default. You can pass return_inferencedata=True or return_inferencedata=False to be safe and silence this warning.\n",
      "Auto-assigning NUTS sampler...\n",
      "Initializing NUTS using jitter+adapt_diag...\n"
     ]
    },
    {
     "name": "stdout",
     "output_type": "stream",
     "text": [
      "[Parallel(n_jobs=10)]: Done   3 out of  15 | elapsed:   22.5s remaining:  1.5min\n"
     ]
    },
    {
     "name": "stderr",
     "output_type": "stream",
     "text": [
      "Sequential sampling (1 chains in 1 job)\n",
      "NUTS: [x]\n",
      "/tmp/ipykernel_648423/2507702576.py:4: FutureWarning: In v4.0, pm.sample will return an `arviz.InferenceData` object instead of a `MultiTrace` by default. You can pass return_inferencedata=True or return_inferencedata=False to be safe and silence this warning.\n",
      "Auto-assigning NUTS sampler...\n",
      "Initializing NUTS using jitter+adapt_diag...\n"
     ]
    },
    {
     "name": "stdout",
     "output_type": "stream",
     "text": [
      "█\r"
     ]
    },
    {
     "name": "stderr",
     "output_type": "stream",
     "text": [
      "WARNING (aesara.tensor.blas): Using NumPy C-API based implementation for BLAS functions.\n",
      "Sequential sampling (1 chains in 1 job)\n",
      "NUTS: [x]\n",
      "The acceptance probability does not match the target. It is 0.8869852620195773, but should be close to 0.8. Try to increase the number of tuning steps.\n",
      "Only one chain was sampled, this makes it impossible to run some convergence checks\n",
      "Sequential sampling (1 chains in 1 job)\n",
      "NUTS: [x]\n",
      "/tmp/ipykernel_648423/2507702576.py:4: FutureWarning: In v4.0, pm.sample will return an `arviz.InferenceData` object instead of a `MultiTrace` by default. You can pass return_inferencedata=True or return_inferencedata=False to be safe and silence this warning.\n",
      "Auto-assigning NUTS sampler...\n",
      "Initializing NUTS using jitter+adapt_diag...\n"
     ]
    },
    {
     "name": "stdout",
     "output_type": "stream",
     "text": [
      "█\r",
      "█\r",
      "[Parallel(n_jobs=10)]: Done   4 out of  15 | elapsed:   23.1s remaining:  1.1min\n"
     ]
    },
    {
     "name": "stderr",
     "output_type": "stream",
     "text": [
      "Sequential sampling (1 chains in 1 job)\n",
      "NUTS: [x]\n",
      "WARNING (aesara.tensor.blas): Using NumPy C-API based implementation for BLAS functions.\n"
     ]
    },
    {
     "name": "stdout",
     "output_type": "stream",
     "text": [
      "█\r"
     ]
    },
    {
     "name": "stderr",
     "output_type": "stream",
     "text": [
      "The acceptance probability does not match the target. It is 0.879164466251701, but should be close to 0.8. Try to increase the number of tuning steps.\n",
      "Only one chain was sampled, this makes it impossible to run some convergence checks\n",
      "Sampling 1 chain for 1_000 tune and 1_000 draw iterations (1_000 + 1_000 draws total) took 1 seconds.\n",
      "Only one chain was sampled, this makes it impossible to run some convergence checks\n",
      "/tmp/ipykernel_648423/2507702576.py:4: FutureWarning: In v4.0, pm.sample will return an `arviz.InferenceData` object instead of a `MultiTrace` by default. You can pass return_inferencedata=True or return_inferencedata=False to be safe and silence this warning.\n",
      "Auto-assigning NUTS sampler...\n",
      "Initializing NUTS using jitter+adapt_diag...\n"
     ]
    },
    {
     "name": "stdout",
     "output_type": "stream",
     "text": [
      "[Parallel(n_jobs=10)]: Done   5 out of  15 | elapsed:   23.5s remaining:   47.1s\n",
      "[Parallel(n_jobs=10)]: Done   6 out of  15 | elapsed:   23.6s remaining:   35.4s\n"
     ]
    },
    {
     "name": "stderr",
     "output_type": "stream",
     "text": [
      "Sampling 1 chain for 1_000 tune and 1_000 draw iterations (1_000 + 1_000 draws total) took 1 seconds.\n",
      "Only one chain was sampled, this makes it impossible to run some convergence checks\n",
      "Sequential sampling (1 chains in 1 job)\n",
      "NUTS: [x]\n",
      "Sampling 1 chain for 1_000 tune and 1_000 draw iterations (1_000 + 1_000 draws total) took 1 seconds.\n",
      "The acceptance probability does not match the target. It is 0.719548555400276, but should be close to 0.8. Try to increase the number of tuning steps.\n",
      "Only one chain was sampled, this makes it impossible to run some convergence checks\n"
     ]
    },
    {
     "name": "stdout",
     "output_type": "stream",
     "text": [
      "█\r",
      "[Parallel(n_jobs=10)]: Done   7 out of  15 | elapsed:   23.9s remaining:   27.3s\n",
      "[Parallel(n_jobs=10)]: Done   8 out of  15 | elapsed:   24.1s remaining:   21.0s\n"
     ]
    },
    {
     "name": "stderr",
     "output_type": "stream",
     "text": [
      "Sampling 1 chain for 1_000 tune and 1_000 draw iterations (1_000 + 1_000 draws total) took 2 seconds.\n",
      "WARNING (aesara.tensor.blas): Using NumPy C-API based implementation for BLAS functions.\n",
      "Sampling 1 chain for 1_000 tune and 1_000 draw iterations (1_000 + 1_000 draws total) took 1 seconds.\n",
      "Only one chain was sampled, this makes it impossible to run some convergence checks\n",
      "Sequential sampling (1 chains in 1 job)\n",
      "NUTS: [x]\n",
      "Only one chain was sampled, this makes it impossible to run some convergence checks\n",
      "Sampling 1 chain for 1_000 tune and 1_000 draw iterations (1_000 + 1_000 draws total) took 2 seconds.\n"
     ]
    },
    {
     "name": "stdout",
     "output_type": "stream",
     "text": [
      "[Parallel(n_jobs=10)]: Done   9 out of  15 | elapsed:   24.8s remaining:   16.5s\n",
      "█\r",
      "[Parallel(n_jobs=10)]: Done  10 out of  15 | elapsed:   24.8s remaining:   12.4s\n"
     ]
    },
    {
     "name": "stderr",
     "output_type": "stream",
     "text": [
      "Sequential sampling (1 chains in 1 job)\n",
      "NUTS: [x]\n"
     ]
    },
    {
     "name": "stdout",
     "output_type": "stream",
     "text": [
      "█\r"
     ]
    },
    {
     "name": "stderr",
     "output_type": "stream",
     "text": [
      "WARNING (aesara.tensor.blas): Using NumPy C-API based implementation for BLAS functions.\n",
      "Sequential sampling (1 chains in 1 job)\n",
      "NUTS: [x]\n",
      "Only one chain was sampled, this makes it impossible to run some convergence checks\n",
      "Sampling 1 chain for 1_000 tune and 1_000 draw iterations (1_000 + 1_000 draws total) took 2 seconds.\n"
     ]
    },
    {
     "name": "stdout",
     "output_type": "stream",
     "text": [
      "█\r",
      "[Parallel(n_jobs=10)]: Done  11 out of  15 | elapsed:   26.6s remaining:    9.7s\n"
     ]
    },
    {
     "name": "stderr",
     "output_type": "stream",
     "text": [
      "WARNING (aesara.tensor.blas): Using NumPy C-API based implementation for BLAS functions.\n",
      "Only one chain was sampled, this makes it impossible to run some convergence checks\n"
     ]
    },
    {
     "name": "stdout",
     "output_type": "stream",
     "text": [
      "[Parallel(n_jobs=10)]: Done  12 out of  15 | elapsed:   27.1s remaining:    6.8s\n"
     ]
    },
    {
     "name": "stderr",
     "output_type": "stream",
     "text": [
      "Sampling 1 chain for 1_000 tune and 1_000 draw iterations (1_000 + 1_000 draws total) took 2 seconds.\n",
      "Sampling 1 chain for 1_000 tune and 1_000 draw iterations (1_000 + 1_000 draws total) took 2 seconds.\n",
      "WARNING (aesara.tensor.blas): Using NumPy C-API based implementation for BLAS functions.\n",
      "Only one chain was sampled, this makes it impossible to run some convergence checks\n"
     ]
    },
    {
     "name": "stdout",
     "output_type": "stream",
     "text": [
      "[Parallel(n_jobs=10)]: Done  13 out of  15 | elapsed:   28.8s remaining:    4.4s\n"
     ]
    },
    {
     "name": "stderr",
     "output_type": "stream",
     "text": [
      "WARNING (aesara.tensor.blas): Using NumPy C-API based implementation for BLAS functions.\n",
      "Only one chain was sampled, this makes it impossible to run some convergence checks\n"
     ]
    },
    {
     "name": "stdout",
     "output_type": "stream",
     "text": [
      "[Parallel(n_jobs=10)]: Done  15 out of  15 | elapsed:   30.4s remaining:    0.0s\n",
      "[Parallel(n_jobs=10)]: Done  15 out of  15 | elapsed:   30.4s finished\n"
     ]
    },
    {
     "name": "stderr",
     "output_type": "stream",
     "text": [
      "WARNING (aesara.tensor.blas): Using NumPy C-API based implementation for BLAS functions.\n",
      "Only one chain was sampled, this makes it impossible to run some convergence checks\n"
     ]
    }
   ],
   "source": [
    "with joblib.parallel_backend('dask'):\n",
    "    Parallel(n_jobs = 10, verbose=100)(delayed(run_model)() for i in range(15))"
   ]
  },
  {
   "cell_type": "markdown",
   "metadata": {},
   "source": [
    "## ==========================="
   ]
  },
  {
   "cell_type": "code",
   "execution_count": 21,
   "metadata": {},
   "outputs": [
    {
     "name": "stderr",
     "output_type": "stream",
     "text": [
      "/tmp/ipykernel_648423/2507702576.py:4: FutureWarning: In v4.0, pm.sample will return an `arviz.InferenceData` object instead of a `MultiTrace` by default. You can pass return_inferencedata=True or return_inferencedata=False to be safe and silence this warning.\n",
      "/tmp/ipykernel_648423/2507702576.py:4: FutureWarning: In v4.0, pm.sample will return an `arviz.InferenceData` object instead of a `MultiTrace` by default. You can pass return_inferencedata=True or return_inferencedata=False to be safe and silence this warning.\n",
      "Auto-assigning NUTS sampler...\n",
      "Initializing NUTS using jitter+adapt_diag...\n",
      "Auto-assigning NUTS sampler...\n",
      "Initializing NUTS using jitter+adapt_diag...\n",
      "/tmp/ipykernel_648423/2507702576.py:4: FutureWarning: In v4.0, pm.sample will return an `arviz.InferenceData` object instead of a `MultiTrace` by default. You can pass return_inferencedata=True or return_inferencedata=False to be safe and silence this warning.\n",
      "Auto-assigning NUTS sampler...\n",
      "Initializing NUTS using jitter+adapt_diag...\n",
      "/tmp/ipykernel_648423/2507702576.py:4: FutureWarning: In v4.0, pm.sample will return an `arviz.InferenceData` object instead of a `MultiTrace` by default. You can pass return_inferencedata=True or return_inferencedata=False to be safe and silence this warning.\n",
      "Auto-assigning NUTS sampler...\n",
      "Initializing NUTS using jitter+adapt_diag...\n",
      "/tmp/ipykernel_648423/2507702576.py:4: FutureWarning: In v4.0, pm.sample will return an `arviz.InferenceData` object instead of a `MultiTrace` by default. You can pass return_inferencedata=True or return_inferencedata=False to be safe and silence this warning.\n",
      "Auto-assigning NUTS sampler...\n",
      "Initializing NUTS using jitter+adapt_diag...\n",
      "/tmp/ipykernel_648423/2507702576.py:4: FutureWarning: In v4.0, pm.sample will return an `arviz.InferenceData` object instead of a `MultiTrace` by default. You can pass return_inferencedata=True or return_inferencedata=False to be safe and silence this warning.\n",
      "/tmp/ipykernel_648423/2507702576.py:4: FutureWarning: In v4.0, pm.sample will return an `arviz.InferenceData` object instead of a `MultiTrace` by default. You can pass return_inferencedata=True or return_inferencedata=False to be safe and silence this warning.\n",
      "Auto-assigning NUTS sampler...\n",
      "Initializing NUTS using jitter+adapt_diag...\n",
      "Auto-assigning NUTS sampler...\n",
      "Initializing NUTS using jitter+adapt_diag...\n",
      "/tmp/ipykernel_648423/2507702576.py:4: FutureWarning: In v4.0, pm.sample will return an `arviz.InferenceData` object instead of a `MultiTrace` by default. You can pass return_inferencedata=True or return_inferencedata=False to be safe and silence this warning.\n",
      "Auto-assigning NUTS sampler...\n",
      "Initializing NUTS using jitter+adapt_diag...\n",
      "/tmp/ipykernel_648423/2507702576.py:4: FutureWarning: In v4.0, pm.sample will return an `arviz.InferenceData` object instead of a `MultiTrace` by default. You can pass return_inferencedata=True or return_inferencedata=False to be safe and silence this warning.\n",
      "Auto-assigning NUTS sampler...\n",
      "Initializing NUTS using jitter+adapt_diag...\n",
      "/tmp/ipykernel_648423/2507702576.py:4: FutureWarning: In v4.0, pm.sample will return an `arviz.InferenceData` object instead of a `MultiTrace` by default. You can pass return_inferencedata=True or return_inferencedata=False to be safe and silence this warning.\n",
      "Auto-assigning NUTS sampler...\n",
      "Initializing NUTS using jitter+adapt_diag...\n",
      "Sequential sampling (1 chains in 1 job)\n",
      "NUTS: [x]\n",
      "Sequential sampling (1 chains in 1 job)\n",
      "NUTS: [x]\n",
      "Sequential sampling (1 chains in 1 job)\n",
      "NUTS: [x]\n",
      "Sequential sampling (1 chains in 1 job)\n",
      "NUTS: [x]\n"
     ]
    },
    {
     "name": "stdout",
     "output_type": "stream",
     "text": [
      "█\r",
      "█\r",
      "█\r",
      "█\r",
      "█\r",
      "█\r",
      "█\r",
      "█\r",
      "█\r",
      "█\r"
     ]
    },
    {
     "name": "stderr",
     "output_type": "stream",
     "text": [
      "Sequential sampling (1 chains in 1 job)\n",
      "NUTS: [x]\n",
      "Sequential sampling (1 chains in 1 job)\n",
      "NUTS: [x]\n",
      "Sequential sampling (1 chains in 1 job)\n",
      "NUTS: [x]\n",
      "Sequential sampling (1 chains in 1 job)\n",
      "NUTS: [x]\n",
      "Sequential sampling (1 chains in 1 job)\n",
      "NUTS: [x]\n",
      "Sequential sampling (1 chains in 1 job)\n",
      "NUTS: [x]\n",
      "Sampling 1 chain for 1_000 tune and 1_000 draw iterations (1_000 + 1_000 draws total) took 1 seconds.\n",
      "Only one chain was sampled, this makes it impossible to run some convergence checks\n",
      "Sampling 1 chain for 1_000 tune and 1_000 draw iterations (1_000 + 1_000 draws total) took 1 seconds.\n",
      "Sampling 1 chain for 1_000 tune and 1_000 draw iterations (1_000 + 1_000 draws total) took 1 seconds.\n",
      "Only one chain was sampled, this makes it impossible to run some convergence checks\n",
      "Only one chain was sampled, this makes it impossible to run some convergence checks\n",
      "Sampling 1 chain for 1_000 tune and 1_000 draw iterations (1_000 + 1_000 draws total) took 1 seconds.\n",
      "Sampling 1 chain for 1_000 tune and 1_000 draw iterations (1_000 + 1_000 draws total) took 1 seconds.\n",
      "Only one chain was sampled, this makes it impossible to run some convergence checks\n",
      "Sampling 1 chain for 1_000 tune and 1_000 draw iterations (1_000 + 1_000 draws total) took 1 seconds.\n",
      "Only one chain was sampled, this makes it impossible to run some convergence checks\n",
      "Only one chain was sampled, this makes it impossible to run some convergence checks\n",
      "Sampling 1 chain for 1_000 tune and 1_000 draw iterations (1_000 + 1_000 draws total) took 1 seconds.\n",
      "Sampling 1 chain for 1_000 tune and 1_000 draw iterations (1_000 + 1_000 draws total) took 1 seconds.\n",
      "Only one chain was sampled, this makes it impossible to run some convergence checks\n",
      "Only one chain was sampled, this makes it impossible to run some convergence checks\n"
     ]
    },
    {
     "name": "stdout",
     "output_type": "stream",
     "text": [
      "CPU times: user 589 ms, sys: 154 ms, total: 742 ms\n",
      "Wall time: 1.64 s\n"
     ]
    },
    {
     "name": "stderr",
     "output_type": "stream",
     "text": [
      "Sampling 1 chain for 1_000 tune and 1_000 draw iterations (1_000 + 1_000 draws total) took 1 seconds.\n",
      "Only one chain was sampled, this makes it impossible to run some convergence checks\n",
      "Sampling 1 chain for 1_000 tune and 1_000 draw iterations (1_000 + 1_000 draws total) took 1 seconds.\n",
      "Only one chain was sampled, this makes it impossible to run some convergence checks\n"
     ]
    },
    {
     "data": {
      "text/plain": [
       "(1.1724256901265813,\n",
       " 2.140222146520272,\n",
       " 0.9432533487870429,\n",
       " 1.5756588824707731,\n",
       " 2.386204055729744,\n",
       " 1.1798028835592493,\n",
       " 1.958086075823078,\n",
       " 3.1522962030748785,\n",
       " 1.011643317938582,\n",
       " 1.996656092311242,\n",
       " 2.2301283046190097,\n",
       " 2.1598543833545616,\n",
       " 1.6268361625937366,\n",
       " 1.030185930404044,\n",
       " 2.0673666399963966,\n",
       " 2.3575463996849972,\n",
       " 1.4756760775019562,\n",
       " 1.519897111184322,\n",
       " 1.4632934216610547,\n",
       " 2.1580040752932748,\n",
       " 2.185141797309336,\n",
       " 1.6562938029541723,\n",
       " 2.813403222729327,\n",
       " 1.7096999039334642,\n",
       " 2.4187983912813915,\n",
       " 2.4882506567168443,\n",
       " 2.2720136369076456,\n",
       " 3.2543249236983045,\n",
       " 1.7686017633063242,\n",
       " 2.8466642187769744,\n",
       " 1.2118570787130123,\n",
       " 1.3997534461266417,\n",
       " 2.021709013542996,\n",
       " 2.589230440736307,\n",
       " 2.109350103007195,\n",
       " 2.1361766554458295,\n",
       " 2.6139808703713765,\n",
       " 2.2528654076951966,\n",
       " 1.699397165823643,\n",
       " 1.635542096389957,\n",
       " 2.448398654779395,\n",
       " 2.379168479112617,\n",
       " 1.5304393088443944,\n",
       " 1.9962241983595022,\n",
       " 2.5491517233006866,\n",
       " 2.1134484712808934,\n",
       " 1.5777315640996428,\n",
       " 2.565337138268566,\n",
       " 2.2258241168557893,\n",
       " 1.442668556654593,\n",
       " 1.3465576384252593,\n",
       " 1.3181841304114348,\n",
       " 1.3651975620058576,\n",
       " 2.0268619811795343,\n",
       " 1.9922831232703009,\n",
       " 2.0602974214034253,\n",
       " 2.968051795271913,\n",
       " 2.304745177427606,\n",
       " 2.9706705307445005,\n",
       " 1.9304191728937452,\n",
       " 1.9820907633201594,\n",
       " 0.5000938856512533,\n",
       " 1.7097957636241556,\n",
       " 1.7742624738688972,\n",
       " 1.629494113353426,\n",
       " 2.0497626373886013,\n",
       " 1.9879465215357175,\n",
       " 1.8413812301875274,\n",
       " 2.192570482252267,\n",
       " 1.3606456775717006,\n",
       " 1.1679501829427625,\n",
       " 2.3268297096740995,\n",
       " 2.139569818177803,\n",
       " 1.619301768394497,\n",
       " 0.8601710765368515,\n",
       " 2.4065848517280792,\n",
       " 2.386036467944227,\n",
       " 1.6091754091182566,\n",
       " 2.544608399082179,\n",
       " 1.8459515987735935,\n",
       " 2.3981276122391413,\n",
       " 0.42952971574625776,\n",
       " 1.8815260606257436,\n",
       " 1.7864582118688515,\n",
       " 0.8270644388471745,\n",
       " 1.1809900268981743,\n",
       " 3.03935816661282,\n",
       " 3.104033552383235,\n",
       " 2.9907097075341587,\n",
       " 0.7181678180379419,\n",
       " 2.4157432535802483,\n",
       " 2.7377983747150267,\n",
       " 0.8412471211315707,\n",
       " 2.497209094369258,\n",
       " 2.3075610450482866,\n",
       " 2.5925811228311417,\n",
       " 1.401796225325914,\n",
       " 2.64465042694676,\n",
       " 2.1745727508491153,\n",
       " 2.110624337937337,\n",
       " 2.3837524737070472,\n",
       " 2.2247211019944064,\n",
       " 2.174212964501889,\n",
       " 3.025671732512742,\n",
       " 1.9466871710542712,\n",
       " 1.8419201458136933,\n",
       " 1.6466063991947018,\n",
       " 2.9733322598822522,\n",
       " 1.7094683311737047,\n",
       " 2.1951002250157017,\n",
       " 2.9928833828197545,\n",
       " 2.5456484918437368,\n",
       " 1.6346877253960663,\n",
       " 2.8323123011806377,\n",
       " 2.4119560250126266,\n",
       " 1.5078375104141553,\n",
       " 2.5073185747804687,\n",
       " 1.9866499511078495,\n",
       " 1.297527599091993,\n",
       " 1.6304272851400947,\n",
       " 2.4963038101296,\n",
       " 1.1551585621770883,\n",
       " 1.2638280028756785,\n",
       " 2.334849976800396,\n",
       " 1.4284539276882646,\n",
       " 2.1648393454857824,\n",
       " 3.1997004411959633,\n",
       " 1.1994247437430983,\n",
       " 2.117143926545773,\n",
       " 1.5867029995570714,\n",
       " 2.3097309242500734,\n",
       " 2.647292527069438,\n",
       " 0.9520150315761621,\n",
       " 2.4896665893381607,\n",
       " 2.1085550669535778,\n",
       " 1.6675938431788684,\n",
       " 1.2203884744849078,\n",
       " 2.5354370983124648,\n",
       " 2.322856105059967,\n",
       " 1.785246920959331,\n",
       " 1.9027109568743006,\n",
       " 1.6739360467264128,\n",
       " 2.286608894951838,\n",
       " 1.761273841824193,\n",
       " 1.73413785797345,\n",
       " 2.19657546490246,\n",
       " 1.6625813625094377,\n",
       " 2.414522499099394,\n",
       " 2.3654315150810823,\n",
       " 2.033886442461175,\n",
       " 2.671356626962842,\n",
       " 2.7391477655143044,\n",
       " 2.2822892284037524,\n",
       " 2.695172901877601,\n",
       " 1.9495629298496344,\n",
       " 2.2091097572367375,\n",
       " 2.350896383034841,\n",
       " 1.1802201853158476,\n",
       " 2.059513849009373,\n",
       " 0.902089448278664,\n",
       " 1.7613975565666444,\n",
       " 0.6579058053251342,\n",
       " 0.6759985731778858,\n",
       " 1.7549145388238898,\n",
       " 1.7544038728948537,\n",
       " 1.4670007521960318,\n",
       " 2.252512744642977,\n",
       " 1.1979414494925893,\n",
       " 2.548713752791239,\n",
       " 0.6737140645743612,\n",
       " 2.4683548277121794,\n",
       " 2.463170710768603,\n",
       " 1.7111390256502288,\n",
       " 2.2780767773768393,\n",
       " 1.796901274261388,\n",
       " 1.313567076849154,\n",
       " 1.6335745544030105,\n",
       " 2.0198300315668796,\n",
       " 1.7586337717329086,\n",
       " 2.324401667877736,\n",
       " 1.4608186172949171,\n",
       " 2.4729175596595043,\n",
       " 2.147240778012712,\n",
       " 2.368967571003341,\n",
       " 3.0918819800608244,\n",
       " 3.2219856453160656,\n",
       " 2.7884470391556055,\n",
       " 1.6181011886490801,\n",
       " 1.1859029374313161,\n",
       " 2.429058644027622,\n",
       " 2.1730349094327415,\n",
       " 0.5102055636307002,\n",
       " 1.0575076228274067,\n",
       " 1.9455549031244117,\n",
       " 3.123548750053107,\n",
       " 3.0142070169668793,\n",
       " 2.5747398359310685,\n",
       " 2.9701280523891724,\n",
       " 2.330556841947816,\n",
       " 0.9979807786483109,\n",
       " 2.0978832605408453,\n",
       " 2.726487671529319,\n",
       " 1.6821308495779705,\n",
       " 2.8920856693307986,\n",
       " 0.9312303640533586,\n",
       " 2.3536682834130245,\n",
       " 1.4434008072706592,\n",
       " 1.8106700667631979,\n",
       " 1.861501122098435,\n",
       " 2.475897772142512,\n",
       " 3.033039844656121,\n",
       " 1.9418644513650185,\n",
       " 1.7747453482941553,\n",
       " 2.4957151853442676,\n",
       " 2.2076040130472077,\n",
       " 2.8513217594120697,\n",
       " 0.790696305660961,\n",
       " 1.3126618261487466,\n",
       " 2.8769311014852557,\n",
       " 0.6406090230623147,\n",
       " 1.7619173148516456,\n",
       " 2.2308195810709512,\n",
       " 2.73192291741418,\n",
       " 1.937033117580337,\n",
       " 1.107609799700914,\n",
       " 1.6317055993181206,\n",
       " 1.5540990055921133,\n",
       " 2.185519362179693,\n",
       " 2.468192063060558,\n",
       " 1.2127412487168234,\n",
       " 2.1879297533327278,\n",
       " 2.158837984801871,\n",
       " 1.2023157122396178,\n",
       " 1.850070557360246,\n",
       " 2.6077701705182035,\n",
       " 2.558441456150082,\n",
       " 1.620502922995441,\n",
       " 1.8233949230688031,\n",
       " 1.967751021519979,\n",
       " 1.9942895098995295,\n",
       " 0.8820121745967741,\n",
       " 2.233557580769655,\n",
       " 1.5902356130933204,\n",
       " 2.6430449921050507,\n",
       " 2.74663685124576,\n",
       " 2.357528600858929,\n",
       " 2.034787796830777,\n",
       " 2.4015730219966143,\n",
       " 2.89331365135342,\n",
       " 1.6736527707087308,\n",
       " 2.3185174670846806,\n",
       " 3.1874547134785702,\n",
       " 2.2077635509116136,\n",
       " 2.9052629282358655,\n",
       " 2.8904501663283173,\n",
       " 2.570709726001365,\n",
       " 2.046963975179652,\n",
       " 1.1621697077349946,\n",
       " 0.6804759686166233,\n",
       " 2.4688526578979393,\n",
       " 2.8479531174623114,\n",
       " 2.4146273820523567,\n",
       " 1.498601168098026,\n",
       " 1.6192967274718586,\n",
       " 1.8992090481203925,\n",
       " 2.2261233578019946,\n",
       " 1.4802783442859515,\n",
       " 1.9576252218326058,\n",
       " 2.2008252259620695,\n",
       " 2.5490128151200953,\n",
       " 2.44733976350505,\n",
       " 1.8859994180314055,\n",
       " 2.8405295068247955,\n",
       " 1.1557358382313847,\n",
       " 1.0577639138532517,\n",
       " 1.6702326775865952,\n",
       " 0.9469437240936687,\n",
       " 1.5891928151292851,\n",
       " 1.6040210937939523,\n",
       " 0.8104582958176102,\n",
       " 2.197547628972195,\n",
       " 2.3989372133677245,\n",
       " 2.1123906836387647,\n",
       " 2.58332600520138,\n",
       " 2.0504155321278366,\n",
       " 2.359208997394609,\n",
       " 1.5428096143682195,\n",
       " 3.650736883840375,\n",
       " 1.664718526014767,\n",
       " 2.7433047043039105,\n",
       " 2.1478140373792822,\n",
       " 2.0268559448359706,\n",
       " 1.7479857615679482,\n",
       " 1.2952791483310002,\n",
       " 3.080428627957459,\n",
       " 1.7306764482180337,\n",
       " 2.471952847900831,\n",
       " 2.824948064408323,\n",
       " 1.2971712894027998,\n",
       " 2.5585560916513503,\n",
       " 2.664356077579954,\n",
       " 1.4372514303524575,\n",
       " 2.0306468797784887,\n",
       " 1.7992810795822805,\n",
       " 2.022317941860211,\n",
       " 1.5255452671116578,\n",
       " 1.1335094446575336,\n",
       " 3.2484452530093164,\n",
       " 1.9620034464004346,\n",
       " 1.7051307383616519,\n",
       " 1.9674491325896222,\n",
       " 2.4817757528289572,\n",
       " 2.079430712429939,\n",
       " 2.290201080253232,\n",
       " 2.211286089606374,\n",
       " 1.2200062590658771,\n",
       " 1.844170128534232,\n",
       " 1.6282999519545747,\n",
       " 1.9945198974660254,\n",
       " 1.5074385632938805,\n",
       " 1.5072166988660753,\n",
       " 2.059635325182872,\n",
       " 1.9214551938912243,\n",
       " 1.0254962632981734,\n",
       " 1.7764570980755465,\n",
       " 2.3160193112355647,\n",
       " 1.850694573169428,\n",
       " 2.237480295112347,\n",
       " 1.9903155157569279,\n",
       " 2.1687517663320373,\n",
       " 1.7240359429980998,\n",
       " 1.3347206802806724,\n",
       " 1.7517243287275077,\n",
       " 2.2938777542547673,\n",
       " 1.7817950124778692,\n",
       " 2.2739406538499085,\n",
       " 1.4345382063627254,\n",
       " 2.5395615966416454,\n",
       " 1.6506648394087549,\n",
       " 2.046735870948892,\n",
       " 1.190605166468806,\n",
       " 2.1141459515275263,\n",
       " 1.9478786434973796,\n",
       " 1.8807845853526732,\n",
       " 1.8992660451937713,\n",
       " 1.9058714383332185,\n",
       " 1.157891605055978,\n",
       " 2.522647875864457,\n",
       " 2.177869827145374,\n",
       " 2.744022100809981,\n",
       " 1.6285306803149102,\n",
       " 2.1030034649704428,\n",
       " 1.4685469842301493,\n",
       " 2.710756374458942,\n",
       " 2.1380531430808167,\n",
       " 1.820209028864799,\n",
       " 2.036386849847497,\n",
       " 2.089631849836985,\n",
       " 1.1663611834485916,\n",
       " 1.6030811323981893,\n",
       " 1.391657389654476,\n",
       " 2.786658779320093,\n",
       " 2.3875365417389105,\n",
       " 2.171088173769558,\n",
       " 1.7617465989476233,\n",
       " 1.473179140510232,\n",
       " 1.747456538661323,\n",
       " 2.1848469531842727,\n",
       " 2.1363939556432285,\n",
       " 1.3720221524623628,\n",
       " 1.6689329124848853,\n",
       " 1.8096037443526167,\n",
       " 2.379909026000101,\n",
       " 2.060991482860628,\n",
       " 2.4850873765226598,\n",
       " 2.2201512313762386,\n",
       " 1.5823946878747717,\n",
       " 2.1949968110662823,\n",
       " 1.7798306578259475,\n",
       " 1.3511782982398521,\n",
       " 1.8975336511197343,\n",
       " 2.1631988970070313,\n",
       " 2.507090622453157,\n",
       " 2.436002368574849,\n",
       " 1.7938176494216433,\n",
       " 2.9198052554384626,\n",
       " 2.1466309649764916,\n",
       " 2.472123786245441,\n",
       " 3.239564132747409,\n",
       " 2.1160781489277545,\n",
       " 1.6627123666880543,\n",
       " 1.0406082097067881,\n",
       " 1.3994968396341958,\n",
       " 1.7078237130618912,\n",
       " 1.9857003000297155,\n",
       " 2.581079858270485,\n",
       " 2.402183367303632,\n",
       " 2.105480393913271,\n",
       " 2.6378943956957595,\n",
       " 2.547083846170576,\n",
       " 2.638309282170306,\n",
       " 1.486445226380594,\n",
       " 2.3699573778431247,\n",
       " 2.77612892988037,\n",
       " 1.4260759961293346,\n",
       " 2.955960211492091,\n",
       " 2.758568127943744,\n",
       " 2.3293381597927985,\n",
       " 2.0890347763089556,\n",
       " 1.076880496878462,\n",
       " 1.7792400247599915,\n",
       " 1.2752305750577495,\n",
       " 2.863668303523542,\n",
       " 1.8278420641482205,\n",
       " 1.5303189650786122,\n",
       " 2.9166775398082194,\n",
       " 2.136987110900448,\n",
       " 2.019779541211542,\n",
       " 2.0811192103742684,\n",
       " 1.7905044952596776,\n",
       " 2.638913155117365,\n",
       " 1.5573393000705593,\n",
       " 1.4503764574359927,\n",
       " 2.059784860830811,\n",
       " 2.3913832256675,\n",
       " 1.7448414417957212,\n",
       " 0.5545392258791333,\n",
       " 1.041178170078516,\n",
       " 2.5209443337605975,\n",
       " 3.302090367372177,\n",
       " 2.5917832546953474,\n",
       " 2.293513756855334,\n",
       " 2.131320048372351,\n",
       " 2.1261872246165403,\n",
       " 2.2195524482269446,\n",
       " 2.179376368951477,\n",
       " 1.5512958133028807,\n",
       " 2.894254395750494,\n",
       " 1.8725765479205647,\n",
       " 1.5692987937695826,\n",
       " 2.375550704795003,\n",
       " 2.3456804226309087,\n",
       " 1.8459581527706561,\n",
       " 2.0048173057335044,\n",
       " 2.7808810547513585,\n",
       " 1.447875067231664,\n",
       " 2.8556656854907243,\n",
       " 2.664248614776107,\n",
       " 2.118901545846448,\n",
       " 2.842032065756508,\n",
       " 2.503461802620352,\n",
       " 0.7558776356578158,\n",
       " 2.434948501321272,\n",
       " 2.5798345727464462,\n",
       " 2.98847681371856,\n",
       " 1.7148787892839037,\n",
       " 1.4987374878679405,\n",
       " 2.484921174771862,\n",
       " 2.9777611137015767,\n",
       " 2.2984278698186658,\n",
       " 2.2230281678014947,\n",
       " 2.8105806810258187,\n",
       " 2.212070094440733,\n",
       " 2.5899680107201655,\n",
       " 1.62611654819416,\n",
       " 2.1465111452686982,\n",
       " 1.7686910443593682,\n",
       " 1.6297177238310412,\n",
       " 2.780370597223788,\n",
       " 1.0961570954994335,\n",
       " 1.7794162751997793,\n",
       " 1.3573754275354342,\n",
       " 1.8206239116251628,\n",
       " 2.4700091636907087,\n",
       " 1.6315009236384284,\n",
       " 2.697076147396248,\n",
       " 1.6648443348828694,\n",
       " 2.0057234070492234,\n",
       " 2.7507019284346876,\n",
       " 0.4999767104167553,\n",
       " 1.838048439560314,\n",
       " 1.3711445525193797,\n",
       " 2.1085822375395624,\n",
       " 2.163715846869752,\n",
       " 1.2467335541667144,\n",
       " 2.9650910716431773,\n",
       " 1.9820673283701382,\n",
       " 2.8004948892866617,\n",
       " 1.8773208663258836,\n",
       " 1.089403611863076,\n",
       " 2.1048654739954036,\n",
       " 0.955302867393244,\n",
       " 2.6856018796721166,\n",
       " 1.6833769114012997,\n",
       " 2.6907876284638372,\n",
       " 1.9207344936055482,\n",
       " 1.3380170323999048,\n",
       " 1.7772124978152668,\n",
       " 2.1174186284195953,\n",
       " 1.538047605154799,\n",
       " <MultiTrace: 1 chains, 1000 iterations, 1 variables>,\n",
       " <MultiTrace: 1 chains, 1000 iterations, 1 variables>,\n",
       " <MultiTrace: 1 chains, 1000 iterations, 1 variables>,\n",
       " <MultiTrace: 1 chains, 1000 iterations, 1 variables>,\n",
       " <MultiTrace: 1 chains, 1000 iterations, 1 variables>,\n",
       " <MultiTrace: 1 chains, 1000 iterations, 1 variables>,\n",
       " <MultiTrace: 1 chains, 1000 iterations, 1 variables>,\n",
       " <MultiTrace: 1 chains, 1000 iterations, 1 variables>,\n",
       " <MultiTrace: 1 chains, 1000 iterations, 1 variables>,\n",
       " <MultiTrace: 1 chains, 1000 iterations, 1 variables>)"
      ]
     },
     "execution_count": 21,
     "metadata": {},
     "output_type": "execute_result"
    }
   ],
   "source": [
    "%%time\n",
    "\n",
    "for parameters in input_params.values[:10]:\n",
    "    lazy_result = dask.delayed(run_model)()\n",
    "    lazy_results.append(lazy_result)\n",
    "    \n",
    "dask.compute(*lazy_results)"
   ]
  },
  {
   "cell_type": "code",
   "execution_count": null,
   "metadata": {},
   "outputs": [],
   "source": []
  }
 ],
 "metadata": {
  "kernelspec": {
   "display_name": "Python 3",
   "language": "python",
   "name": "python3"
  },
  "language_info": {
   "codemirror_mode": {
    "name": "ipython",
    "version": 3
   },
   "file_extension": ".py",
   "mimetype": "text/x-python",
   "name": "python",
   "nbconvert_exporter": "python",
   "pygments_lexer": "ipython3",
   "version": "3.6.10"
  }
 },
 "nbformat": 4,
 "nbformat_minor": 4
}
