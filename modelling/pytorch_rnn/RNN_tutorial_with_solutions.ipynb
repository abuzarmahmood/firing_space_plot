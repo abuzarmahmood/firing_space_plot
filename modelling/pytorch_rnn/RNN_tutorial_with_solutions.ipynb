{
 "cells": [
  {
   "cell_type": "markdown",
   "id": "clear-camel",
   "metadata": {
    "id": "clear-camel"
   },
   "source": [
    "## Tutorial: Recurrent neural networks for cognitive neuroscience\n",
    "\n",
    "Creator: Guangyu Robert Yang\n",
    "\n",
    "Contributors: Jenelle J Feather, Mahdi Fouad Ramadan, Ling Liang Dong, Fernanda De la Torre, Andrew Fracl, Prashant Raju, Ajani Stewart, Eli Pollock, Yoni Friedman, Aniekan Umoren\n",
    "\n",
    "\n",
    "Note: This tutorial can be used as a standalone tutorial for yourself. It is prepared for a 2h interactive session at MIT BCS.\n",
    "\n"
   ]
  },
  {
   "cell_type": "markdown",
   "id": "indian-night",
   "metadata": {
    "id": "indian-night"
   },
   "source": [
    "![Screen%20Shot%202021-08-11%20at%206.44.38%20PM.png](attachment:Screen%20Shot%202021-08-11%20at%206.44.38%20PM.png)"
   ]
  },
  {
   "cell_type": "markdown",
   "id": "flush-avenue",
   "metadata": {
    "id": "flush-avenue"
   },
   "source": [
    "![Screen%20Shot%202021-08-11%20at%206.46.43%20PM.png](attachment:Screen%20Shot%202021-08-11%20at%206.46.43%20PM.png)"
   ]
  },
  {
   "cell_type": "markdown",
   "id": "adjustable-republican",
   "metadata": {
    "id": "adjustable-republican"
   },
   "source": [
    "![Screen%20Shot%202021-08-11%20at%206.48.10%20PM.png](attachment:Screen%20Shot%202021-08-11%20at%206.48.10%20PM.png)"
   ]
  },
  {
   "cell_type": "markdown",
   "id": "healthy-tucson",
   "metadata": {
    "id": "healthy-tucson"
   },
   "source": [
    "For more details, you can check out [this talk](https://www.youtube.com/watch?v=Eq-chOIbOwM) or this [Primer](https://www.sciencedirect.com/science/article/abs/pii/S0896627320307054) (its [arxiv version](https://arxiv.org/abs/2006.01001)).\n",
    "\n",
    "A seminal paper in this area that is a must-read is [Mante\\*, Sussillo\\*, Shenoy, Newsome 2013](https://www.nature.com/articles/nature12742)."
   ]
  },
  {
   "cell_type": "markdown",
   "id": "urban-soccer",
   "metadata": {
    "id": "urban-soccer"
   },
   "source": [
    "### Installing and importing relevant packages"
   ]
  },
  {
   "cell_type": "code",
   "execution_count": 1,
   "id": "successful-battlefield",
   "metadata": {
    "colab": {
     "base_uri": "https://localhost:8080/"
    },
    "id": "successful-battlefield",
    "outputId": "3bed6a63-1469-4cc5-97fb-a81d33719680",
    "scrolled": true
   },
   "outputs": [],
   "source": [
    "# # If on Google Colab, uncomment to install neurogym to use cognitive tasks\n",
    "# ! git clone https://github.com/neurogym/neurogym.git\n",
    "# %cd neurogym/\n",
    "# ! pip install -e ."
   ]
  },
  {
   "cell_type": "code",
   "execution_count": 1,
   "id": "compressed-calcium",
   "metadata": {
    "id": "compressed-calcium"
   },
   "outputs": [],
   "source": [
    "# Import common packages\n",
    "import numpy as np\n",
    "import matplotlib.pyplot as plt\n",
    "import torch\n",
    "import torch.nn as nn"
   ]
  },
  {
   "cell_type": "code",
   "execution_count": 2,
   "id": "881bc463-56e7-482c-8cc3-8438b4c767f2",
   "metadata": {},
   "outputs": [
    {
     "data": {
      "text/plain": [
       "'1.19.5'"
      ]
     },
     "execution_count": 2,
     "metadata": {},
     "output_type": "execute_result"
    }
   ],
   "source": [
    "np.__version__"
   ]
  },
  {
   "cell_type": "markdown",
   "id": "scenic-tuesday",
   "metadata": {
    "id": "scenic-tuesday"
   },
   "source": [
    "### Defining a recurrent neural network"
   ]
  },
  {
   "cell_type": "markdown",
   "id": "starting-excerpt",
   "metadata": {
    "id": "starting-excerpt"
   },
   "source": [
    "**LSTM**: A typical recurrent network in machine learning. Usage example adopted from pytorch documentation."
   ]
  },
  {
   "cell_type": "code",
   "execution_count": 3,
   "id": "comparable-piece",
   "metadata": {
    "colab": {
     "base_uri": "https://localhost:8080/"
    },
    "id": "comparable-piece",
    "outputId": "cb4e315f-a5a1-41a5-a854-59ea80fad6fe"
   },
   "outputs": [
    {
     "name": "stdout",
     "output_type": "stream",
     "text": [
      "Output shape is (SeqLen, BatchSize, HiddenSize): torch.Size([5, 3, 20])\n"
     ]
    }
   ],
   "source": [
    "import torch\n",
    "import torch.nn as nn  # nn stands for neural network\n",
    "\n",
    "\n",
    "# Make a LSTM, input_size is the dimension of inputs,\n",
    "# hidden_size is the number of hidden neurons\n",
    "rnn = nn.LSTM(input_size=10, hidden_size=20, num_layers=2)\n",
    "\n",
    "# Generate some mock inputs\n",
    "input = torch.randn(5, 3, 10)  # (Sequence Length, Batch Size, Input Size)\n",
    "output, (hn, cn) = rnn(input)\n",
    "\n",
    "print('Output shape is (SeqLen, BatchSize, HiddenSize):', output.shape)"
   ]
  },
  {
   "cell_type": "markdown",
   "id": "incorporated-editor",
   "metadata": {
    "id": "incorporated-editor"
   },
   "source": [
    "In general, recurrent neural networks transform **sequence to sequence**. Other network architectures, such as MultiHeadAttetion as used in Transformers, can also be thought of as sequence to sequence.\n",
    "\n",
    "In the context of cognitive neuroscience, the sequence is usually a time series of task input or output."
   ]
  },
  {
   "cell_type": "code",
   "execution_count": 4,
   "id": "becoming-cement",
   "metadata": {
    "colab": {
     "base_uri": "https://localhost:8080/"
    },
    "id": "becoming-cement",
    "outputId": "04eae6c9-d80e-4c3b-bbf2-b1a250904cf7"
   },
   "outputs": [
    {
     "name": "stdout",
     "output_type": "stream",
     "text": [
      "Output shape is (SeqLen, BatchSize, Dimension): torch.Size([5, 3, 20])\n",
      "Output shape is (SeqLen, BatchSize, Dimension): torch.Size([5, 3, 20])\n",
      "Output shape is (SeqLen, BatchSize, Dimension): torch.Size([5, 3, 20])\n",
      "Output shape is (SeqLen, BatchSize, Dimension): torch.Size([5, 3, 10])\n"
     ]
    }
   ],
   "source": [
    "input = torch.randn(5, 3, 10)  # (Sequence Length, Batch Size, Input Size)\n",
    "\n",
    "lstm = nn.LSTM(input_size=10, hidden_size=20, num_layers=2)\n",
    "output, _ = lstm(input)\n",
    "print('Output shape is (SeqLen, BatchSize, Dimension):', output.shape)\n",
    "\n",
    "rnn = nn.RNN(input_size=10, hidden_size=20, num_layers=2)\n",
    "output, _ = rnn(input)\n",
    "print('Output shape is (SeqLen, BatchSize, Dimension):', output.shape)\n",
    "\n",
    "gru = nn.GRU(input_size=10, hidden_size=20, num_layers=2)\n",
    "output, _ = gru(input)\n",
    "print('Output shape is (SeqLen, BatchSize, Dimension):', output.shape)\n",
    "\n",
    "mha = nn.MultiheadAttention(embed_dim=10, num_heads=1)\n",
    "output, _ = mha(query=input, key=input, value=input)\n",
    "print('Output shape is (SeqLen, BatchSize, Dimension):', output.shape)"
   ]
  },
  {
   "cell_type": "markdown",
   "id": "proper-armor",
   "metadata": {
    "id": "proper-armor"
   },
   "source": [
    "Some neuroscientists prefer **continuous-time recurrent neural networks**.\n",
    "\n",
    "Here we first define a continuous-time neural network,\n",
    "\\begin{align}\n",
    "    \\tau \\frac{d\\mathbf{r}}{dt} = -\\mathbf{r}(t) + f(W_r \\mathbf{r}(t) + W_x \\mathbf{x}(t) + \\mathbf{b}_r).\n",
    "\\end{align}\n",
    "\n",
    "Then we discretize this network in time using the Euler method with a time step of $\\Delta t$,\n",
    "\\begin{align}\n",
    "    \\mathbf{r}(t+\\Delta t) = \\mathbf{r}(t) + \\Delta \\mathbf{r} &= \\mathbf{r}(t) + \\frac{\\Delta t}{\\tau}[-\\mathbf{r}(t) + f(W_r \\mathbf{r}(t) + W_x \\mathbf{x}(t) + \\mathbf{b}_r)] \\\\\n",
    "    &= (1 - \\frac{\\Delta t}{\\tau})\\mathbf{r}(t) + \\frac{\\Delta t}{\\tau}f(W_r \\mathbf{r}(t) + W_x \\mathbf{x}(t) + \\mathbf{b}_r)\n",
    "\\end{align}"
   ]
  },
  {
   "cell_type": "code",
   "execution_count": 5,
   "id": "coupled-sessions",
   "metadata": {
    "id": "coupled-sessions"
   },
   "outputs": [],
   "source": [
    "# Define networks\n",
    "import torch\n",
    "import torch.nn as nn\n",
    "from torch.nn import init\n",
    "from torch.nn import functional as F\n",
    "import math\n",
    "\n",
    "\n",
    "class CTRNN(nn.Module):\n",
    "    \"\"\"Continuous-time RNN.\n",
    "\n",
    "    Parameters:\n",
    "        input_size: Number of input neurons\n",
    "        hidden_size: Number of hidden neurons\n",
    "        dt: discretization time step in ms.\n",
    "            If None, dt equals time constant tau\n",
    "\n",
    "    Inputs:\n",
    "        input: tensor of shape (seq_len, batch, input_size)\n",
    "        hidden: tensor of shape (batch, hidden_size), initial hidden activity\n",
    "            if None, hidden is initialized through self.init_hidden()\n",
    "\n",
    "    Outputs:\n",
    "        output: tensor of shape (seq_len, batch, hidden_size)\n",
    "        hidden: tensor of shape (batch, hidden_size), final hidden activity\n",
    "    \"\"\"\n",
    "\n",
    "    def __init__(self, input_size, hidden_size, dt=None, **kwargs):\n",
    "        super().__init__()\n",
    "        self.input_size = input_size\n",
    "        self.hidden_size = hidden_size\n",
    "        self.tau = 100\n",
    "        if dt is None:\n",
    "            alpha = 1\n",
    "        else:\n",
    "            alpha = dt / self.tau\n",
    "        self.alpha = alpha\n",
    "\n",
    "        self.input2h = nn.Linear(input_size, hidden_size)\n",
    "        self.h2h = nn.Linear(hidden_size, hidden_size)\n",
    "\n",
    "    def init_hidden(self, input_shape):\n",
    "        batch_size = input_shape[1]\n",
    "        return torch.zeros(batch_size, self.hidden_size)\n",
    "\n",
    "    def recurrence(self, input, hidden):\n",
    "        \"\"\"Run network for one time step.\n",
    "\n",
    "        Inputs:\n",
    "            input: tensor of shape (batch, input_size)\n",
    "            hidden: tensor of shape (batch, hidden_size)\n",
    "\n",
    "        Outputs:\n",
    "            h_new: tensor of shape (batch, hidden_size),\n",
    "                network activity at the next time step\n",
    "        \"\"\"\n",
    "        h_new = torch.relu(self.input2h(input) + self.h2h(hidden))\n",
    "        h_new = hidden * (1 - self.alpha) + h_new * self.alpha\n",
    "        return h_new\n",
    "\n",
    "    def forward(self, input, hidden=None):\n",
    "        \"\"\"Propogate input through the network.\"\"\"\n",
    "\n",
    "        # If hidden activity is not provided, initialize it\n",
    "        if hidden is None:\n",
    "            hidden = self.init_hidden(input.shape).to(input.device)\n",
    "\n",
    "        # Loop through time\n",
    "        output = []\n",
    "        steps = range(input.size(0))\n",
    "        for i in steps:\n",
    "            hidden = self.recurrence(input[i], hidden)\n",
    "            output.append(hidden)\n",
    "\n",
    "        # Stack together output from all time steps\n",
    "        output = torch.stack(output, dim=0)  # (seq_len, batch, hidden_size)\n",
    "        return output, hidden\n",
    "\n",
    "\n",
    "class RNNNet(nn.Module):\n",
    "    \"\"\"Recurrent network model.\n",
    "\n",
    "    Parameters:\n",
    "        input_size: int, input size\n",
    "        hidden_size: int, hidden size\n",
    "        output_size: int, output size\n",
    "\n",
    "    Inputs:\n",
    "        x: tensor of shape (Seq Len, Batch, Input size)\n",
    "\n",
    "    Outputs:\n",
    "        out: tensor of shape (Seq Len, Batch, Output size)\n",
    "        rnn_output: tensor of shape (Seq Len, Batch, Hidden size)\n",
    "    \"\"\"\n",
    "    def __init__(self, input_size, hidden_size, output_size, **kwargs):\n",
    "        super().__init__()\n",
    "\n",
    "        # Continuous time RNN\n",
    "        self.rnn = CTRNN(input_size, hidden_size, **kwargs)\n",
    "\n",
    "        # Add an output layer\n",
    "        self.fc = nn.Linear(hidden_size, output_size)\n",
    "\n",
    "    def forward(self, x):\n",
    "        rnn_output, _ = self.rnn(x)\n",
    "        out = self.fc(rnn_output)\n",
    "        return out, rnn_output"
   ]
  },
  {
   "cell_type": "markdown",
   "id": "referenced-potential",
   "metadata": {
    "id": "referenced-potential"
   },
   "source": [
    "Similar to LSTM, CTRNN transform sequence to sequence"
   ]
  },
  {
   "cell_type": "code",
   "execution_count": 6,
   "id": "stylish-penguin",
   "metadata": {
    "colab": {
     "base_uri": "https://localhost:8080/"
    },
    "id": "stylish-penguin",
    "outputId": "a79f9a63-df03-4550-e2cf-090e8aa5d1bd"
   },
   "outputs": [
    {
     "name": "stdout",
     "output_type": "stream",
     "text": [
      "Input of shape (SeqLen, BatchSize, InputDim)= torch.Size([20, 16, 5])\n",
      "Output of shape (SeqLen, BatchSize, Neuron)= torch.Size([20, 16, 10])\n"
     ]
    }
   ],
   "source": [
    "batch_size = 16\n",
    "seq_len = 20  # sequence length\n",
    "input_size = 5  # input dimension\n",
    "\n",
    "# Make some random inputs\n",
    "input_rnn = torch.rand(seq_len, batch_size, input_size)\n",
    "\n",
    "# Make network\n",
    "rnn = RNNNet(input_size=input_size, hidden_size=100, output_size=10)\n",
    "\n",
    "# Run the sequence through the network\n",
    "out, rnn_output = rnn(input_rnn)\n",
    "\n",
    "print('Input of shape (SeqLen, BatchSize, InputDim)=', input_rnn.shape)\n",
    "print('Output of shape (SeqLen, BatchSize, Neuron)=', out.shape)"
   ]
  },
  {
   "cell_type": "markdown",
   "id": "artificial-michael",
   "metadata": {
    "id": "artificial-michael"
   },
   "source": [
    "### Defining a simple cognitive task"
   ]
  },
  {
   "cell_type": "markdown",
   "id": "controlled-taste",
   "metadata": {
    "id": "controlled-taste"
   },
   "source": [
    "Here we use the neurogym package to make a simple \"perceptual decision making\" task."
   ]
  },
  {
   "cell_type": "code",
   "execution_count": 7,
   "id": "spoken-application",
   "metadata": {
    "colab": {
     "base_uri": "https://localhost:8080/"
    },
    "id": "spoken-application",
    "outputId": "6f66d58d-e5a4-4d01-bb09-3890bf53589b"
   },
   "outputs": [],
   "source": [
    "import gym  # package for RL environments\n",
    "import neurogym as ngym\n",
    "\n",
    "# Canned environment from neurogym\n",
    "task_name = 'PerceptualDecisionMaking-v0'\n",
    "# Importantly, we set discretization time step for the task as well\n",
    "kwargs = {'dt': 20, 'timing': {'stimulus': 1000}}\n",
    "\n",
    "# Boilerplate gym\n",
    "env = gym.make(task_name, **kwargs)"
   ]
  },
  {
   "cell_type": "markdown",
   "id": "available-spread",
   "metadata": {
    "id": "available-spread"
   },
   "source": [
    "(**Skip to Visualize Environment if first time reading**) If you prefer, you can copy the [source code](https://github.com/neurogym/neurogym/blob/master/neurogym/envs/perceptualdecisionmaking.py) of this task from neurogym, and customize it. You can create an environment directly from the source code."
   ]
  },
  {
   "cell_type": "code",
   "execution_count": 8,
   "id": "conventional-bermuda",
   "metadata": {
    "id": "conventional-bermuda"
   },
   "outputs": [],
   "source": [
    "from neurogym import spaces\n",
    "\n",
    "class PerceptualDecisionMaking(ngym.TrialEnv):\n",
    "    \"\"\"Two-alternative forced choice task in which the subject has to\n",
    "    integrate two stimuli to decide which one is higher on average.\n",
    "    A noisy stimulus is shown during the stimulus period. The strength (\n",
    "    coherence) of the stimulus is randomly sampled every trial. Because the\n",
    "    stimulus is noisy, the agent is encouraged to integrate the stimulus\n",
    "    over time.\n",
    "    Args:\n",
    "        cohs: list of float, coherence levels controlling the difficulty of\n",
    "            the task\n",
    "        sigma: float, input noise level\n",
    "        dim_ring: int, dimension of ring input and output\n",
    "    \"\"\"\n",
    "    metadata = {\n",
    "        'paper_link': 'https://www.jneurosci.org/content/12/12/4745',\n",
    "        'paper_name': '''The analysis of visual motion: a comparison of\n",
    "        neuronal and psychophysical performance''',\n",
    "        'tags': ['perceptual', 'two-alternative', 'supervised']\n",
    "    }\n",
    "\n",
    "    def __init__(self, dt=100, rewards=None, timing=None, cohs=None,\n",
    "                 sigma=1.0, dim_ring=2):\n",
    "        super().__init__(dt=dt)\n",
    "        if cohs is None:\n",
    "            self.cohs = np.array([0, 6.4, 12.8, 25.6, 51.2])\n",
    "        else:\n",
    "            self.cohs = cohs\n",
    "        self.sigma = sigma / np.sqrt(self.dt)  # Input noise\n",
    "\n",
    "        # Rewards\n",
    "        self.rewards = {'abort': -0.1, 'correct': +1., 'fail': 0.}\n",
    "        if rewards:\n",
    "            self.rewards.update(rewards)\n",
    "\n",
    "        self.timing = {\n",
    "            'fixation': 100,\n",
    "            'stimulus': 2000,\n",
    "            'delay': 0,\n",
    "            'decision': 100}\n",
    "        if timing:\n",
    "            self.timing.update(timing)\n",
    "\n",
    "        self.abort = False\n",
    "\n",
    "        self.theta = np.linspace(0, 2*np.pi, dim_ring+1)[:-1]\n",
    "        self.choices = np.arange(dim_ring)\n",
    "\n",
    "        name = {'fixation': 0, 'stimulus': range(1, dim_ring+1)}\n",
    "        self.observation_space = spaces.Box(\n",
    "            -np.inf, np.inf, shape=(1+dim_ring,), dtype=np.float32, name=name)\n",
    "        name = {'fixation': 0, 'choice': range(1, dim_ring+1)}\n",
    "        self.action_space = spaces.Discrete(1+dim_ring, name=name)\n",
    "\n",
    "    def _new_trial(self, **kwargs):\n",
    "        \"\"\"\n",
    "        new_trial() is called when a trial ends to generate the next trial.\n",
    "        The following variables are created:\n",
    "            durations, which stores the duration of the different periods (in\n",
    "            the case of perceptualDecisionMaking: fixation, stimulus and\n",
    "            decision periods)\n",
    "            ground truth: correct response for the trial\n",
    "            coh: stimulus coherence (evidence) for the trial\n",
    "            obs: observation\n",
    "        \"\"\"\n",
    "        # Trial info\n",
    "        trial = {\n",
    "            'ground_truth': self.rng.choice(self.choices),\n",
    "            'coh': self.rng.choice(self.cohs),\n",
    "        }\n",
    "        trial.update(kwargs)\n",
    "\n",
    "        coh = trial['coh']\n",
    "        ground_truth = trial['ground_truth']\n",
    "        stim_theta = self.theta[ground_truth]\n",
    "\n",
    "        # Periods\n",
    "        self.add_period(['fixation', 'stimulus', 'delay', 'decision'])\n",
    "\n",
    "        # Observations\n",
    "        self.add_ob(1, period=['fixation', 'stimulus', 'delay'], where='fixation')\n",
    "        stim = np.cos(self.theta - stim_theta) * (coh/200) + 0.5\n",
    "        self.add_ob(stim, 'stimulus', where='stimulus')\n",
    "        self.add_randn(0, self.sigma, 'stimulus', where='stimulus')\n",
    "\n",
    "        # Ground truth\n",
    "        self.set_groundtruth(ground_truth, period='decision', where='choice')\n",
    "\n",
    "        return trial\n",
    "\n",
    "    def _step(self, action):\n",
    "        \"\"\"\n",
    "        _step receives an action and returns:\n",
    "            a new observation, obs\n",
    "            reward associated with the action, reward\n",
    "            a boolean variable indicating whether the experiment has end, done\n",
    "            a dictionary with extra information:\n",
    "                ground truth correct response, info['gt']\n",
    "                boolean indicating the end of the trial, info['new_trial']\n",
    "        \"\"\"\n",
    "        new_trial = False\n",
    "        # rewards\n",
    "        reward = 0\n",
    "        gt = self.gt_now\n",
    "        # observations\n",
    "        if self.in_period('fixation'):\n",
    "            if action != 0:  # action = 0 means fixating\n",
    "                new_trial = self.abort\n",
    "                reward += self.rewards['abort']\n",
    "        elif self.in_period('decision'):\n",
    "            if action != 0:\n",
    "                new_trial = True\n",
    "                if action == gt:\n",
    "                    reward += self.rewards['correct']\n",
    "                    self.performance = 1\n",
    "                else:\n",
    "                    reward += self.rewards['fail']\n",
    "\n",
    "        return self.ob_now, reward, False, {'new_trial': new_trial, 'gt': gt}\n",
    "\n",
    "# Create environment from source code\n",
    "env2 = PerceptualDecisionMaking(**kwargs)"
   ]
  },
  {
   "cell_type": "markdown",
   "id": "composed-location",
   "metadata": {
    "id": "composed-location"
   },
   "source": [
    "**Visualize the environment.**\n",
    "\n",
    "The following function helps us visualize the environment. It shows from top\n",
    "1. observation that the network/agent receives,\n",
    "2. actions taken by a random agent and the ground-truth (when applicable),\n",
    "3. reward received by the agent (relevant for reinforcement learning),\n",
    "4. performance of the network (we'll re-compute this explicitly ourselves)."
   ]
  },
  {
   "cell_type": "code",
   "execution_count": 9,
   "id": "assigned-munich",
   "metadata": {
    "colab": {
     "base_uri": "https://localhost:8080/",
     "height": 460
    },
    "id": "assigned-munich",
    "outputId": "ca7246bb-f0a1-4ba3-fd3d-b67b6ea2d817"
   },
   "outputs": [
    {
     "name": "stderr",
     "output_type": "stream",
     "text": [
      "/home/abuzarmahmood/anaconda3/envs/pytorch_env/lib/python3.8/site-packages/gym/utils/passive_env_checker.py:195: UserWarning: \u001b[33mWARN: The result returned by `env.reset()` was not a tuple of the form `(obs, info)`, where `obs` is a observation and `info` is a dictionary containing additional information. Actual type: `<class 'numpy.ndarray'>`\u001b[0m\n",
      "  logger.warn(\n",
      "/home/abuzarmahmood/anaconda3/envs/pytorch_env/lib/python3.8/site-packages/gym/utils/passive_env_checker.py:219: DeprecationWarning: \u001b[33mWARN: Core environment is written in old step API which returns one bool instead of two. It is recommended to rewrite the environment with new step API. \u001b[0m\n",
      "  logger.deprecation(\n",
      "findfont: Font family ['arial'] not found. Falling back to DejaVu Sans.\n",
      "findfont: Font family ['arial'] not found. Falling back to DejaVu Sans.\n"
     ]
    },
    {
     "name": "stdout",
     "output_type": "stream",
     "text": [
      "Input size 3\n",
      "Output size 3\n"
     ]
    },
    {
     "data": {
      "image/png": "[encoded data removed]",
      "text/plain": [
       "<Figure size 500x480 with 4 Axes>"
      ]
     },
     "metadata": {},
     "output_type": "display_data"
    }
   ],
   "source": [
    "# Visualize the environment with 2 sample trials\n",
    "_ = ngym.utils.plot_env(env, num_trials=2)\n",
    "\n",
    "# This is a simple task, the input and output are low-dimensional\n",
    "input_size = env.observation_space.shape[0]\n",
    "output_size = env.action_space.n\n",
    "print('Input size', input_size)\n",
    "print('Output size', output_size)"
   ]
  },
  {
   "cell_type": "markdown",
   "id": "large-modem",
   "metadata": {
    "id": "large-modem"
   },
   "source": [
    "For **supervised learning**, we need a dataset that returns (input, target output pairs)."
   ]
  },
  {
   "cell_type": "code",
   "execution_count": 10,
   "id": "martial-tamil",
   "metadata": {
    "id": "martial-tamil",
    "outputId": "c1797d3b-e300-40f1-a94e-feea3183ddc3"
   },
   "outputs": [
    {
     "name": "stdout",
     "output_type": "stream",
     "text": [
      "Input has shape (SeqLen, Batch, Dim) = (100, 16, 3)\n",
      "Target has shape (SeqLen, Batch) = (100, 16)\n",
      "Target are the integers, for example target in the first sequence:\n",
      "[0 0 0 0 0 0 0 0 0 0 0 0 0 0 0 0 0 0 0 0 0 0 0 0 0 0 0 0 0 0 0 0 0 0 0 0 0\n",
      " 0 0 0 0 0 0 0 0 0 0 0 0 0 0 0 0 0 0 1 1 1 1 1 0 0 0 0 0 0 0 0 0 0 0 0 0 0\n",
      " 0 0 0 0 0 0 0 0 0 0 0 0 0 0 0 0 0 0 0 0 0 0 0 0 0 0]\n"
     ]
    }
   ],
   "source": [
    "# Make supervised dataset, neurogym boilerplate\n",
    "seq_len = 100\n",
    "batch_size = 16\n",
    "dataset = ngym.Dataset(env, batch_size=batch_size, seq_len=seq_len)\n",
    "\n",
    "# Generate one batch of data when called\n",
    "inputs, target = dataset()\n",
    "print('Input has shape (SeqLen, Batch, Dim) =', inputs.shape)\n",
    "print('Target has shape (SeqLen, Batch) =', target.shape)\n",
    "print('Target are the integers, for example target in the first sequence:')\n",
    "print(target[:, 0])"
   ]
  },
  {
   "cell_type": "markdown",
   "id": "separate-message",
   "metadata": {
    "id": "separate-message"
   },
   "source": [
    "### Training the network to perform the task"
   ]
  },
  {
   "cell_type": "code",
   "execution_count": 11,
   "id": "romantic-recognition",
   "metadata": {
    "id": "romantic-recognition",
    "outputId": "c083f778-35fe-4c3e-a5c6-7611c5bc1ddb"
   },
   "outputs": [
    {
     "name": "stdout",
     "output_type": "stream",
     "text": [
      "RNNNet(\n",
      "  (rnn): CTRNN(\n",
      "    (input2h): Linear(in_features=3, out_features=128, bias=True)\n",
      "    (h2h): Linear(in_features=128, out_features=128, bias=True)\n",
      "  )\n",
      "  (fc): Linear(in_features=128, out_features=3, bias=True)\n",
      ")\n",
      "Training network...\n",
      "Step 100, Loss 0.1917, Time 3.3s\n",
      "Step 200, Loss 0.0671, Time 6.6s\n",
      "Step 300, Loss 0.0536, Time 9.9s\n",
      "Step 400, Loss 0.0437, Time 13.2s\n",
      "Step 500, Loss 0.3045, Time 16.5s\n",
      "Step 600, Loss 0.0586, Time 19.7s\n",
      "Step 700, Loss 0.0432, Time 22.9s\n",
      "Step 800, Loss 0.0373, Time 26.1s\n",
      "Step 900, Loss 0.0324, Time 29.5s\n",
      "Step 1000, Loss 0.0354, Time 32.9s\n"
     ]
    }
   ],
   "source": [
    "import torch.optim as optim\n",
    "import time\n",
    "\n",
    "# Instantiate the network and print information\n",
    "hidden_size = 128\n",
    "net = RNNNet(input_size=input_size, hidden_size=hidden_size,\n",
    "             output_size=output_size, dt=env.dt)\n",
    "print(net)\n",
    "\n",
    "def train_model(net, dataset):\n",
    "    \"\"\"Simple helper function to train the model.\n",
    "\n",
    "    Args:\n",
    "        net: a pytorch nn.Module module\n",
    "        dataset: a dataset object that when called produce a (input, target output) pair\n",
    "\n",
    "    Returns:\n",
    "        net: network object after training\n",
    "    \"\"\"\n",
    "    # Use Adam optimizer\n",
    "    optimizer = optim.Adam(net.parameters(), lr=0.01)\n",
    "    criterion = nn.CrossEntropyLoss()\n",
    "\n",
    "    running_loss = 0\n",
    "    running_acc = 0\n",
    "    start_time = time.time()\n",
    "    # Loop over training batches\n",
    "    print('Training network...')\n",
    "    for i in range(1000):\n",
    "        # Generate input and target, convert to pytorch tensor\n",
    "        inputs, labels = dataset()\n",
    "        inputs = torch.from_numpy(inputs).type(torch.float)\n",
    "        labels = torch.from_numpy(labels.flatten()).type(torch.long)\n",
    "\n",
    "        # boiler plate pytorch training:\n",
    "        optimizer.zero_grad()   # zero the gradient buffers\n",
    "        output, _ = net(inputs)\n",
    "        # Reshape to (SeqLen x Batch, OutputSize)\n",
    "        output = output.view(-1, output_size)\n",
    "        loss = criterion(output, labels)\n",
    "        loss.backward()\n",
    "        optimizer.step()    # Does the update\n",
    "\n",
    "        # Compute the running loss every 100 steps\n",
    "        running_loss += loss.item()\n",
    "        if i % 100 == 99:\n",
    "            running_loss /= 100\n",
    "            print('Step {}, Loss {:0.4f}, Time {:0.1f}s'.format(\n",
    "                i+1, running_loss, time.time() - start_time))\n",
    "            running_loss = 0\n",
    "    return net\n",
    "\n",
    "net = train_model(net, dataset)"
   ]
  },
  {
   "cell_type": "markdown",
   "id": "affected-divide",
   "metadata": {
    "id": "affected-divide"
   },
   "source": [
    "### Run the network after training, record activity, compute performance\n",
    "\n",
    "Here we run the network after training. We could have used similar functions as we did in the `train_model` function. But instead we will explicitly loop through individual trials, so we can log the information and compute the performance of each trial."
   ]
  },
  {
   "cell_type": "code",
   "execution_count": 12,
   "id": "yellow-jason",
   "metadata": {
    "id": "yellow-jason",
    "outputId": "0191053e-7134-4163-c5d5-af36924a07da"
   },
   "outputs": [
    {
     "name": "stdout",
     "output_type": "stream",
     "text": [
      "Trial  0 {'ground_truth': 0, 'coh': 0.0, 'correct': True}\n",
      "Trial  1 {'ground_truth': 1, 'coh': 12.8, 'correct': True}\n",
      "Trial  2 {'ground_truth': 0, 'coh': 6.4, 'correct': True}\n",
      "Trial  3 {'ground_truth': 1, 'coh': 51.2, 'correct': True}\n",
      "Trial  4 {'ground_truth': 1, 'coh': 25.6, 'correct': True}\n",
      "Average performance 0.825\n"
     ]
    }
   ],
   "source": [
    "import numpy as np\n",
    "# Reset environment\n",
    "env = dataset.env\n",
    "env.reset(no_step=True)\n",
    "\n",
    "# Initialize variables for logging\n",
    "perf = 0\n",
    "activity_dict = {}  # recording activity\n",
    "trial_infos = {}  # recording trial information\n",
    "\n",
    "num_trial = 200\n",
    "for i in range(num_trial):\n",
    "    # Neurogym boiler plate\n",
    "    # Sample a new trial\n",
    "    trial_info = env.new_trial()\n",
    "    # Observation and groud-truth of this trial\n",
    "    ob, gt = env.ob, env.gt\n",
    "    # Convert to numpy, add batch dimension to input\n",
    "    inputs = torch.from_numpy(ob[:, np.newaxis, :]).type(torch.float)\n",
    "\n",
    "    # Run the network for one trial\n",
    "    # inputs (SeqLen, Batch, InputSize)\n",
    "    # action_pred (SeqLen, Batch, OutputSize)\n",
    "    action_pred, rnn_activity = net(inputs)\n",
    "\n",
    "    # Compute performance\n",
    "    # First convert back to numpy\n",
    "    action_pred = action_pred.detach().numpy()[:, 0, :]\n",
    "    # Read out final choice at last time step\n",
    "    choice = np.argmax(action_pred[-1, :])\n",
    "    # Compare to ground truth\n",
    "    correct = choice == gt[-1]\n",
    "\n",
    "    # Record activity, trial information, choice, correctness\n",
    "    rnn_activity = rnn_activity[:, 0, :].detach().numpy()\n",
    "    activity_dict[i] = rnn_activity\n",
    "    trial_infos[i] = trial_info  # trial_info is a dictionary\n",
    "    trial_infos[i].update({'correct': correct})\n",
    "\n",
    "# Print informations for sample trials\n",
    "for i in range(5):\n",
    "    print('Trial ', i, trial_infos[i])\n",
    "\n",
    "print('Average performance', np.mean([val['correct'] for val in trial_infos.values()]))"
   ]
  },
  {
   "cell_type": "markdown",
   "id": "suffering-persian",
   "metadata": {
    "id": "suffering-persian"
   },
   "source": [
    "### Plot the network's activity in PCA\n",
    "\n",
    "Next we will analyze the network by plotting its activity in PCA space. Each trajectory in the PC-space would correspond to a single trial."
   ]
  },
  {
   "cell_type": "code",
   "execution_count": 13,
   "id": "distinct-diploma",
   "metadata": {
    "id": "distinct-diploma",
    "outputId": "500a9df8-2491-4c8d-c2ed-f9af0b43845e"
   },
   "outputs": [
    {
     "name": "stdout",
     "output_type": "stream",
     "text": [
      "Shape of the neural activity: (Time points, Neurons):  (12000, 128)\n",
      "Shape of the projected activity: (Time points, PCs):  (12000, 2)\n"
     ]
    }
   ],
   "source": [
    "# Apply PCA, boilerplate sklearn\n",
    "from sklearn.decomposition import PCA\n",
    "\n",
    "# Concatenate activity for PCA\n",
    "activity = np.concatenate(list(activity_dict[i] for i in range(num_trial)), axis=0)\n",
    "print('Shape of the neural activity: (Time points, Neurons): ', activity.shape)\n",
    "\n",
    "pca = PCA(n_components=2)\n",
    "pca.fit(activity)  # activity (Time points, Neurons)\n",
    "activity_pc = pca.transform(activity)  # transform to low-dimension\n",
    "print('Shape of the projected activity: (Time points, PCs): ', activity_pc.shape)"
   ]
  },
  {
   "cell_type": "code",
   "execution_count": 14,
   "id": "sapphire-alabama",
   "metadata": {
    "id": "sapphire-alabama",
    "outputId": "7b9f0572-c982-4b93-811a-65130813f3bc"
   },
   "outputs": [
    {
     "data": {
      "text/plain": [
       "Text(0, 0.5, 'PC 2')"
      ]
     },
     "execution_count": 14,
     "metadata": {},
     "output_type": "execute_result"
    },
    {
     "data": {
      "image/png": "[encoded data removed]",
      "text/plain": [
       "<Figure size 600x300 with 2 Axes>"
      ]
     },
     "metadata": {},
     "output_type": "display_data"
    }
   ],
   "source": [
    "# Project each trial and visualize activity\n",
    "\n",
    "import matplotlib.pyplot as plt\n",
    "\n",
    "# Plot all trials in ax1, plot fewer trials in ax2\n",
    "fig, (ax1, ax2) = plt.subplots(1, 2, sharey=True, sharex=True, figsize=(6, 3))\n",
    "\n",
    "for i in range(100):\n",
    "    # Transform and plot each trial\n",
    "    activity_pc = pca.transform(activity_dict[i])  # (Time points, PCs)\n",
    "\n",
    "    trial = trial_infos[i]\n",
    "    color = 'red' if trial['ground_truth'] == 0 else 'blue'\n",
    "\n",
    "    _ = ax1.plot(activity_pc[:, 0], activity_pc[:, 1], 'o-', color=color)\n",
    "    if i < 3:\n",
    "        _ = ax2.plot(activity_pc[:,\n",
    "                                 0], activity_pc[:, 1], 'o-', color=color)\n",
    "\n",
    "    # Plot the beginning of a trial with a special symbol\n",
    "    _ = ax1.plot(activity_pc[0, 0], activity_pc[0, 1], '^', color='black')\n",
    "\n",
    "ax1.set_title('{:d} Trials'.format(100))\n",
    "ax2.set_title('{:d} Trials'.format(3))\n",
    "ax1.set_xlabel('PC 1')\n",
    "ax1.set_ylabel('PC 2')"
   ]
  },
  {
   "cell_type": "markdown",
   "id": "forward-graph",
   "metadata": {
    "id": "forward-graph"
   },
   "source": [
    "### Exercises\n",
    "\n",
    "In the following section, we have 9 exercises, separated into 3 categories: Easy, Medium, Hard.\n",
    "\n",
    "Ideally, each exercise should take no more than 1 hour. If you are spending a long time on one exercise, consider choosing one that is easier."
   ]
  },
  {
   "cell_type": "markdown",
   "id": "continuing-planning",
   "metadata": {
    "id": "continuing-planning"
   },
   "source": [
    "### Exercise 1: Time constant of RNNs\n",
    "\n",
    "**Easy** | Medium | Hard\n",
    "\n",
    "Change the time constant of network units from 100ms to 40ms, and re-train the network. How does the final performance change?\n",
    "\n",
    "What about changing the discretization time step from 20ms to 10ms, while keeping the time constant at 100ms?"
   ]
  },
  {
   "cell_type": "code",
   "execution_count": 17,
   "id": "brilliant-canvas",
   "metadata": {
    "id": "brilliant-canvas"
   },
   "outputs": [
    {
     "name": "stdout",
     "output_type": "stream",
     "text": [
      "RNNNet(\n",
      "  (rnn): CTRNN(\n",
      "    (input2h): Linear(in_features=3, out_features=128, bias=True)\n",
      "    (h2h): Linear(in_features=128, out_features=128, bias=True)\n",
      "  )\n",
      "  (fc): Linear(in_features=128, out_features=3, bias=True)\n",
      ")\n"
     ]
    },
    {
     "ename": "TypeError",
     "evalue": "forward() got an unexpected keyword argument 'num_trial'",
     "output_type": "error",
     "traceback": [
      "\u001b[0;31m---------------------------------------------------------------------------\u001b[0m",
      "\u001b[0;31mTypeError\u001b[0m                                 Traceback (most recent call last)",
      "Cell \u001b[0;32mIn[17], line 15\u001b[0m\n\u001b[1;32m     11\u001b[0m net \u001b[38;5;241m=\u001b[39m RNNNet(input_size\u001b[38;5;241m=\u001b[39minput_size, hidden_size\u001b[38;5;241m=\u001b[39mhidden_size,\n\u001b[1;32m     12\u001b[0m              output_size\u001b[38;5;241m=\u001b[39moutput_size, tau \u001b[38;5;241m=\u001b[39m \u001b[38;5;241m40\u001b[39m, dt\u001b[38;5;241m=\u001b[39menv\u001b[38;5;241m.\u001b[39mdt)\n\u001b[1;32m     13\u001b[0m \u001b[38;5;28mprint\u001b[39m(net)\n\u001b[0;32m---> 15\u001b[0m trial_infos, activity_dict \u001b[38;5;241m=\u001b[39m \u001b[43mtest_model\u001b[49m\u001b[43m(\u001b[49m\u001b[43mnet\u001b[49m\u001b[43m,\u001b[49m\u001b[43m \u001b[49m\u001b[43menv\u001b[49m\u001b[43m,\u001b[49m\u001b[43m \u001b[49m\u001b[43mnum_trial\u001b[49m\u001b[43m \u001b[49m\u001b[38;5;241;43m=\u001b[39;49m\u001b[43m \u001b[49m\u001b[38;5;241;43m1000\u001b[39;49m\u001b[43m)\u001b[49m\n\u001b[1;32m     16\u001b[0m \u001b[38;5;28mprint\u001b[39m(\u001b[38;5;124m'\u001b[39m\u001b[38;5;124mAverage performance pre-training\u001b[39m\u001b[38;5;124m'\u001b[39m, np\u001b[38;5;241m.\u001b[39mmean([val[\u001b[38;5;124m'\u001b[39m\u001b[38;5;124mcorrect\u001b[39m\u001b[38;5;124m'\u001b[39m] \u001b[38;5;28;01mfor\u001b[39;00m val \u001b[38;5;129;01min\u001b[39;00m trial_infos\u001b[38;5;241m.\u001b[39mvalues()]))\n\u001b[1;32m     18\u001b[0m net \u001b[38;5;241m=\u001b[39m train_model(net, dataset)\n",
      "File \u001b[0;32m~/anaconda3/envs/pytorch_env/lib/python3.8/site-packages/torch/nn/modules/module.py:1511\u001b[0m, in \u001b[0;36mModule._wrapped_call_impl\u001b[0;34m(self, *args, **kwargs)\u001b[0m\n\u001b[1;32m   1509\u001b[0m     \u001b[38;5;28;01mreturn\u001b[39;00m \u001b[38;5;28mself\u001b[39m\u001b[38;5;241m.\u001b[39m_compiled_call_impl(\u001b[38;5;241m*\u001b[39margs, \u001b[38;5;241m*\u001b[39m\u001b[38;5;241m*\u001b[39mkwargs)  \u001b[38;5;66;03m# type: ignore[misc]\u001b[39;00m\n\u001b[1;32m   1510\u001b[0m \u001b[38;5;28;01melse\u001b[39;00m:\n\u001b[0;32m-> 1511\u001b[0m     \u001b[38;5;28;01mreturn\u001b[39;00m \u001b[38;5;28;43mself\u001b[39;49m\u001b[38;5;241;43m.\u001b[39;49m\u001b[43m_call_impl\u001b[49m\u001b[43m(\u001b[49m\u001b[38;5;241;43m*\u001b[39;49m\u001b[43margs\u001b[49m\u001b[43m,\u001b[49m\u001b[43m \u001b[49m\u001b[38;5;241;43m*\u001b[39;49m\u001b[38;5;241;43m*\u001b[39;49m\u001b[43mkwargs\u001b[49m\u001b[43m)\u001b[49m\n",
      "File \u001b[0;32m~/anaconda3/envs/pytorch_env/lib/python3.8/site-packages/torch/nn/modules/module.py:1520\u001b[0m, in \u001b[0;36mModule._call_impl\u001b[0;34m(self, *args, **kwargs)\u001b[0m\n\u001b[1;32m   1515\u001b[0m \u001b[38;5;66;03m# If we don't have any hooks, we want to skip the rest of the logic in\u001b[39;00m\n\u001b[1;32m   1516\u001b[0m \u001b[38;5;66;03m# this function, and just call forward.\u001b[39;00m\n\u001b[1;32m   1517\u001b[0m \u001b[38;5;28;01mif\u001b[39;00m \u001b[38;5;129;01mnot\u001b[39;00m (\u001b[38;5;28mself\u001b[39m\u001b[38;5;241m.\u001b[39m_backward_hooks \u001b[38;5;129;01mor\u001b[39;00m \u001b[38;5;28mself\u001b[39m\u001b[38;5;241m.\u001b[39m_backward_pre_hooks \u001b[38;5;129;01mor\u001b[39;00m \u001b[38;5;28mself\u001b[39m\u001b[38;5;241m.\u001b[39m_forward_hooks \u001b[38;5;129;01mor\u001b[39;00m \u001b[38;5;28mself\u001b[39m\u001b[38;5;241m.\u001b[39m_forward_pre_hooks\n\u001b[1;32m   1518\u001b[0m         \u001b[38;5;129;01mor\u001b[39;00m _global_backward_pre_hooks \u001b[38;5;129;01mor\u001b[39;00m _global_backward_hooks\n\u001b[1;32m   1519\u001b[0m         \u001b[38;5;129;01mor\u001b[39;00m _global_forward_hooks \u001b[38;5;129;01mor\u001b[39;00m _global_forward_pre_hooks):\n\u001b[0;32m-> 1520\u001b[0m     \u001b[38;5;28;01mreturn\u001b[39;00m \u001b[43mforward_call\u001b[49m\u001b[43m(\u001b[49m\u001b[38;5;241;43m*\u001b[39;49m\u001b[43margs\u001b[49m\u001b[43m,\u001b[49m\u001b[43m \u001b[49m\u001b[38;5;241;43m*\u001b[39;49m\u001b[38;5;241;43m*\u001b[39;49m\u001b[43mkwargs\u001b[49m\u001b[43m)\u001b[49m\n\u001b[1;32m   1522\u001b[0m \u001b[38;5;28;01mtry\u001b[39;00m:\n\u001b[1;32m   1523\u001b[0m     result \u001b[38;5;241m=\u001b[39m \u001b[38;5;28;01mNone\u001b[39;00m\n",
      "\u001b[0;31mTypeError\u001b[0m: forward() got an unexpected keyword argument 'num_trial'"
     ]
    }
   ],
   "source": [
    "kwargs = {'dt': 20, 'timing': {'stimulus': 1000}}\n",
    "\n",
    "# Boilerplate gym\n",
    "env = gym.make(task_name, **kwargs)\n",
    "dataset = ngym.Dataset(env, batch_size=batch_size, seq_len=seq_len)\n",
    "# Generate one batch of data when called\n",
    "inputs, target = dataset()\n",
    "input_size = env.observation_space.shape[0]\n",
    "output_size = env.action_space.n\n",
    "\n",
    "net = RNNNet(input_size=input_size, hidden_size=hidden_size,\n",
    "             output_size=output_size, tau = 40, dt=env.dt)\n",
    "print(net)\n",
    "\n",
    "trial_infos, activity_dict = test_model(net, env, num_trial = 1000)\n",
    "print('Average performance pre-training', np.mean([val['correct'] for val in trial_infos.values()]))\n",
    "\n",
    "net = train_model(net, dataset)\n",
    "\n",
    "trial_infos, activity_dict = test_model(net, env, num_trial = 1000)\n",
    "print('Average performance post-training', np.mean([val['correct'] for val in trial_infos.values()]))"
   ]
  },
  {
   "cell_type": "code",
   "execution_count": null,
   "id": "_-TYda6F0pWj",
   "metadata": {
    "id": "_-TYda6F0pWj"
   },
   "outputs": [],
   "source": [
    "kwargs = {'dt': 40, 'timing': {'stimulus': 1000}}\n",
    "\n",
    "# Boilerplate gym\n",
    "env = gym.make(task_name, **kwargs)\n",
    "dataset = ngym.Dataset(env, batch_size=batch_size, seq_len=seq_len)\n",
    "# Generate one batch of data when called\n",
    "inputs, target = dataset()\n",
    "input_size = env.observation_space.shape[0]\n",
    "output_size = env.action_space.n\n",
    "\n",
    "net = RNNNet(input_size=input_size, hidden_size=hidden_size,\n",
    "             output_size=output_size, tau = 100, dt=env.dt)\n",
    "print(net)\n",
    "\n",
    "trial_infos, activity_dict = test_model(net, env, num_trial = 1000)\n",
    "print('Average performance pre-training', np.mean([val['correct'] for val in trial_infos.values()]))\n",
    "\n",
    "net = train_model(net, dataset)\n",
    "\n",
    "trial_infos, activity_dict = test_model(net, env, num_trial = 1000)\n",
    "print('Average performance post-training', np.mean([val['correct'] for val in trial_infos.values()]))"
   ]
  },
  {
   "cell_type": "markdown",
   "id": "transsexual-underground",
   "metadata": {
    "id": "transsexual-underground"
   },
   "source": [
    "### Exercise 2: Plot the performance of RNN during training\n",
    "\n",
    "**Easy** | Medium | Hard\n",
    "\n",
    "Plot the performance of the task during the training process. Generate a plot with x-axis training steps, and y-axis performance.\n",
    "\n",
    "Hint: You can re-use the performance computing code from above."
   ]
  },
  {
   "cell_type": "code",
   "execution_count": 21,
   "id": "ordinary-plastic",
   "metadata": {
    "id": "ordinary-plastic"
   },
   "outputs": [
    {
     "name": "stdout",
     "output_type": "stream",
     "text": [
      "RNNNet(\n",
      "  (rnn): CTRNN(\n",
      "    (input2h): Linear(in_features=3, out_features=64, bias=True)\n",
      "    (h2h): Linear(in_features=64, out_features=64, bias=True)\n",
      "  )\n",
      "  (fc): Linear(in_features=64, out_features=3, bias=True)\n",
      ")\n",
      "Training network...\n",
      "Step 100, Loss 0.3112, Acc 0.9187\n",
      "Step 200, Loss 0.1715, Acc 0.9293\n",
      "Step 300, Loss 0.1158, Acc 0.9512\n",
      "Step 400, Loss 0.0935, Acc 0.9554\n",
      "Step 500, Loss 0.0806, Acc 0.9596\n",
      "Step 600, Loss 0.0933, Acc 0.9580\n",
      "Step 700, Loss 0.1190, Acc 0.9588\n",
      "Step 800, Loss 0.1864, Acc 0.9563\n",
      "Step 900, Loss 0.2816, Acc 0.9502\n",
      "Step 1000, Loss 0.5663, Acc 0.9362\n"
     ]
    },
    {
     "data": {
      "text/plain": [
       "Text(0.5, 1.0, 'Accuracies')"
      ]
     },
     "execution_count": 21,
     "metadata": {},
     "output_type": "execute_result"
    },
    {
     "data": {
      "image/png": "[encoded data removed]",
      "text/plain": [
       "<Figure size 1600x400 with 2 Axes>"
      ]
     },
     "metadata": {},
     "output_type": "display_data"
    }
   ],
   "source": [
    "# Instantiate the network and print information\n",
    "hidden_size = 64\n",
    "net = RNNNet(input_size=input_size, hidden_size=hidden_size,\n",
    "             output_size=output_size, dt=env.dt)\n",
    "print(net)\n",
    "\n",
    "def train_model(net, dataset):\n",
    "    \"\"\"Simple helper function to train the model.\n",
    "\n",
    "    Args:\n",
    "        net: a pytorch nn.Module module\n",
    "        dataset: a dataset object that when called produce a (input, target output) pair\n",
    "\n",
    "    Returns:\n",
    "        net: network object after training\n",
    "    \"\"\"\n",
    "    # Use Adam optimizer\n",
    "    optimizer = optim.Adam(net.parameters(), lr=0.01)\n",
    "    criterion = nn.CrossEntropyLoss()\n",
    "\n",
    "    running_loss = 0\n",
    "    running_acc = 0\n",
    "\n",
    "\t############################################################\n",
    "\t# arrays to store all the losses / performance accuracy\n",
    "\t############################################################\n",
    "    losses = []\n",
    "    accuracies = []\n",
    "\n",
    "    # Loop over training batches\n",
    "    print('Training network...')\n",
    "    for i in range(1000):\n",
    "        # Generate input and target, convert to pytorch tensor\n",
    "        inputs, labels = dataset()\n",
    "        inputs = torch.from_numpy(inputs).type(torch.float)\n",
    "        labels = torch.from_numpy(labels.flatten()).type(torch.long)\n",
    "\n",
    "        # boiler plate pytorch training:\n",
    "        #optimizer.zero_grad()   # zero the gradient buffers\n",
    "        output, _ = net(inputs)\n",
    "        output = output.view(-1, output_size)\n",
    "\n",
    "\n",
    "        loss = criterion(output, labels)\n",
    "        loss.backward()\n",
    "        optimizer.step()    # Does the update\n",
    "\n",
    "    \t#####################################################################\n",
    "        # Compute accuracy by comparing model choices to ground truth labels\n",
    "    \t# and store both the accuracy and loss\n",
    "\t\t###########################################################################\n",
    "        choices = torch.argmax(output, dim=1)\n",
    "        acc = torch.mean(torch.eq(choices, labels).type(torch.float32))\n",
    "\n",
    "        running_acc += acc.item()\n",
    "        running_loss += loss.item()\n",
    "\n",
    "        accuracies.append(acc.item())\n",
    "        losses.append(loss.item())\n",
    "\n",
    "        # Compute the running loss every 100 steps\n",
    "        if i % 100 == 99:\n",
    "            running_loss /= 100\n",
    "            running_acc /= 100\n",
    "            print('Step {}, Loss {:0.4f}, Acc {:0.4f}'.format(i+1, running_loss, running_acc))\n",
    "            running_acc = 0\n",
    "            running_loss = 0\n",
    "\n",
    "    return net, accuracies, losses\n",
    "\n",
    "net, accuracies, losses = train_model(net, dataset)\n",
    "\n",
    "\n",
    "########################\n",
    "# Plot the performance\n",
    "########################\n",
    "\n",
    "fig, (ax1, ax2) = plt.subplots(1, 2, sharex=True, figsize=(16, 4))\n",
    "ax1.plot(losses, color=\"red\")\n",
    "ax2.plot(accuracies)\n",
    "\n",
    "ax1.set_xlabel(\"Training steps\")\n",
    "ax2.set_xlabel(\"Training steps\")\n",
    "\n",
    "ax1.set_title(\"Losses\")\n",
    "ax2.set_title(\"Accuracies\")"
   ]
  },
  {
   "cell_type": "markdown",
   "id": "norman-chorus",
   "metadata": {
    "id": "norman-chorus"
   },
   "source": [
    "### Exercise 3: Change the initialization of the RNN\n",
    "\n",
    "**Easy** | Medium | Hard\n",
    "\n",
    "Right now the RNN is initialized with the default pytorch initialization. Set instead the initial recurrent weight to an identity matrix. How does that influence the final performance?\n",
    "\n",
    "Hint: You can plot the current initialization of the recurrent weight using the following code block."
   ]
  },
  {
   "cell_type": "code",
   "execution_count": null,
   "id": "boxed-crown",
   "metadata": {
    "id": "boxed-crown",
    "outputId": "aa186437-425c-4c03-b864-b9df24fa033d"
   },
   "outputs": [],
   "source": [
    "# Make network\n",
    "rnn = CTRNN(input_size=3, hidden_size=100)\n",
    "print('Shape of RNN recurrent weight is ', rnn.h2h.weight.shape)\n",
    "\n",
    "# Convert pytorch tensor to numpy array, pytorch boilerplate\n",
    "weight = rnn.h2h.weight.detach().numpy()\n",
    "\n",
    "plt.imshow(weight)\n",
    "plt.title('RNN weight at initialization')"
   ]
  },
  {
   "cell_type": "code",
   "execution_count": null,
   "id": "neither-liberty",
   "metadata": {
    "id": "neither-liberty"
   },
   "outputs": [],
   "source": [
    "# First, create a function that takes care of plotting the weight matrix:\n",
    "def show_weight(net):\n",
    "  weight = net.rnn.h2h.weight.detach().numpy()\n",
    "\n",
    "  plt.imshow(weight)\n",
    "  plt.title('RNN weight at initialization')\n",
    "  plt.show()\n",
    "\n",
    "# Next, run the training as before, showing the weight matrix before and after,\n",
    "# with random initialization. This gives a baseline for comparison\n",
    "net = RNNNet(input_size=input_size, hidden_size=hidden_size,\n",
    "             output_size=output_size, dt=env.dt)\n",
    "show_weight(net)\n",
    "net = train_model(net, dataset)\n",
    "show_weight(net)\n",
    "\n",
    "# Finally, we want to set the initial weights equal to the identity matrix.\n",
    "# To do this, we can use the torch.eye() function to create an identity matrix,\n",
    "# specifying that it is of the correct size. We have to pass this through nn.Parameter\n",
    "# to ensure that it can be used in an rnn object. We can then just set the\n",
    "# h2h (hidden to hidden) weight matrix to be equal to this.\n",
    "\n",
    "# I have also included a parameter \"alpha\" that can be used to scale the\n",
    "# initial identity matrix. The following code shows the weight matrix before\n",
    "# and after training, as before.\n",
    "\n",
    "alpha = 0.1  # Values of around 0.01-0.1 work well\n",
    "net.rnn.h2h.weight = nn.Parameter(alpha*torch.eye(net.rnn.hidden_size))\n",
    "show_weight(net)\n",
    "net = train_model(net, dataset)\n",
    "show_weight(net)\n",
    "\n",
    "# The results should show that scaled identity matrices can be good\n",
    "# initializations for the recurrent weights.\n",
    "\n",
    "# For more about using the identity matrix as the initial weight matrix,\n",
    "# see Le et al. 2015 (https://arxiv.org/abs/1504.00941)"
   ]
  },
  {
   "cell_type": "markdown",
   "id": "educated-partnership",
   "metadata": {
    "id": "educated-partnership"
   },
   "source": [
    "### Exercise 4: Hierarchical RNNs\n",
    "\n",
    "Easy | **Medium** | Hard\n",
    "\n",
    "Make a hierarhical RNN, where the first module receives external input, the second module receives inputs from the first and project to the third module. The third module produces the outputs.\n",
    "\n",
    "Train this hierarhical RNN on the task.\n",
    "\n",
    "(Optional) Visualize the activity on each module."
   ]
  },
  {
   "cell_type": "code",
   "execution_count": null,
   "id": "frank-murray",
   "metadata": {
    "id": "frank-murray"
   },
   "outputs": [],
   "source": [
    "class HierarchicalRNNnet(nn.Module):\n",
    "    \"\"\"Hierarchical recurrent network model.\n",
    "    Parameters:\n",
    "        input_size: int, input size\n",
    "        hidden_size: int, hidden size\n",
    "        output_size: int, output size\n",
    "    Inputs:\n",
    "        x: tensor of shape (Seq Len, Batch, Input size)\n",
    "    Outputs:\n",
    "        out: tensor of shape (Seq Len, Batch, Output size)\n",
    "        rnn_output: tensor of shape (Seq Len, Batch, Hidden size)\n",
    "    \"\"\"\n",
    "    def __init__(self, input_size, hidden_size, output_size, **kwargs):\n",
    "        super().__init__()\n",
    "        # Continuous time RNN\n",
    "        self.rnn1 = CTRNN(input_size, hidden_size, **kwargs)\n",
    "        self.rnn2 = CTRNN(hidden_size, hidden_size, **kwargs)\n",
    "        self.rnn3 = CTRNN(hidden_size, hidden_size, **kwargs)\n",
    "        self.RNN_modules = [self.rnn1, self.rnn2, self.rnn3]\n",
    "        # Add an output layer\n",
    "        self.fc = nn.Linear(hidden_size, output_size)\n",
    "\n",
    "    def forward(self, x):\n",
    "        hiddens = [module.init_hidden(x.shape).to(x.device) for module in self.RNN_modules]\n",
    "        output = []\n",
    "        for i in range(x.size(0)):\n",
    "            for j in range(len(self.RNN_modules)):\n",
    "                input = x[i] if j == 0 else hiddens[j - 1]\n",
    "                hiddens[j] = self.RNN_modules[j].recurrence(input, hiddens[j])\n",
    "            output.append(hiddens[-1])\n",
    "        output = torch.stack(output, dim = 0)\n",
    "        out = self.fc(output)\n",
    "        return out, output"
   ]
  },
  {
   "cell_type": "markdown",
   "id": "experimental-perception",
   "metadata": {
    "id": "experimental-perception"
   },
   "source": [
    "### Exercise 5: Sequential training of tasks\n",
    "\n",
    "Easy | **Medium** | Hard\n",
    "\n",
    "First train the network on one task, then train the network on the second task. Plot the performance of both tasks during the training process (see Exercise 2).\n",
    "\n",
    "Hint: you can get many tasks with the same input and output format using the yang19 collection in neurogym. Get the name of all tasks by running:\n",
    "\n",
    "`print(ngym.get_collection('yang19'))`"
   ]
  },
  {
   "cell_type": "code",
   "execution_count": null,
   "id": "suspected-postage",
   "metadata": {
    "id": "suspected-postage"
   },
   "outputs": [],
   "source": [
    "rint(ngym.get_collection('yang19'))\n",
    "\n",
    "# Canned environment from neurogym\n",
    "task_names = ['yang19.go-v0', 'yang19.rtgo-v0']\n",
    "# Importantly, we set discretization time step for the task as well\n",
    "kwargs = {'dt': 20, 'timing': {'stimulus': 1000}}\n",
    "\n",
    "# Boilerplate gyms\n",
    "envs = [gym.make(task_name, **kwargs) for task_name in task_names]\n",
    "\n",
    "# Checking env input/output dimensions\n",
    "for task_name, env in zip(task_names, envs):\n",
    "    print(f'Task: {task_name}')\n",
    "    input_size = env.observation_space.shape[0]\n",
    "    output_size = env.action_space.n\n",
    "    print('Input size', input_size)\n",
    "    print(f'Output size {output_size}\\n')\n",
    "\n",
    "\n",
    "# Instantiate the network and print information\n",
    "hidden_size = 128\n",
    "net = RNNNet(input_size=input_size, hidden_size=hidden_size,\n",
    "             output_size=output_size, dt=env.dt)\n",
    "print(net)\n",
    "running_losses = {}\n",
    "losses = {}\n",
    "# Training on task 0 then 1\n",
    "for task_name, env in zip(task_names, envs):\n",
    "    # Make supervised dataset, neurogym boilerplate\n",
    "    seq_len = 100\n",
    "    batch_size = 16\n",
    "    dataset = ngym.Dataset(env, batch_size=batch_size, seq_len=seq_len)\n",
    "    net, r_losses, _ = train_model(net, dataset, return_losses=True)\n",
    "    running_losses[task_name] = r_losses\n"
   ]
  },
  {
   "cell_type": "code",
   "execution_count": null,
   "id": "H3wbp52zQDBM",
   "metadata": {
    "id": "H3wbp52zQDBM"
   },
   "outputs": [],
   "source": [
    "# Training only on task 1\n",
    "net = RNNNet(input_size=input_size, hidden_size=hidden_size,\n",
    "             output_size=output_size, dt=env.dt)\n",
    "dataset = ngym.Dataset(envs[-1], batch_size=batch_size, seq_len=seq_len)\n",
    "net, running_losses_no_pretrain, _ = train_model(net, dataset, return_losses=True)\n",
    "\n",
    "# Plotting\n",
    "for task_name in task_names:\n",
    "    plt.plot(running_losses[task_name])\n",
    "plt.plot(running_losses_no_pretrain)\n",
    "lgd = task_names[:]\n",
    "lgd.append(task_names[-1] + '-only')\n",
    "plt.legend(lgd)\n",
    "\n",
    "# Pre-training on 'yang19.go-v0' seems to improve training convergence on 'yang19.rtgo-v0'\n"
   ]
  },
  {
   "cell_type": "markdown",
   "id": "bearing-rochester",
   "metadata": {
    "id": "bearing-rochester"
   },
   "source": [
    "### Exercise 6: Training only output connections\n",
    "\n",
    "Easy | **Medium** | Hard\n",
    "\n",
    "Train only the output connections of the network, and plot performance. Compare performance with networks that have all weights trained."
   ]
  },
  {
   "cell_type": "code",
   "execution_count": 22,
   "id": "cultural-contamination",
   "metadata": {
    "id": "cultural-contamination"
   },
   "outputs": [
    {
     "name": "stdout",
     "output_type": "stream",
     "text": [
      "RNNNet(\n",
      "  (rnn): CTRNN(\n",
      "    (input2h): Linear(in_features=3, out_features=128, bias=True)\n",
      "    (h2h): Linear(in_features=128, out_features=128, bias=True)\n",
      "  )\n",
      "  (fc): Linear(in_features=128, out_features=3, bias=True)\n",
      ")\n",
      "Training network...\n",
      "Step 100, Loss 0.7954, Acc 0.8432\n",
      "Step 200, Loss 2.5967, Acc 0.9233\n",
      "Step 300, Loss 3.1995, Acc 0.9350\n",
      "Step 400, Loss 1.9849, Acc 0.9248\n",
      "Step 500, Loss 2.4729, Acc 0.8508\n",
      "Step 600, Loss 4.0284, Acc 0.9220\n",
      "Step 700, Loss 3.9605, Acc 0.9265\n",
      "Step 800, Loss 2.2136, Acc 0.8100\n",
      "Step 900, Loss 1.9731, Acc 0.9204\n",
      "Step 1000, Loss 5.3544, Acc 0.9350\n"
     ]
    }
   ],
   "source": [
    "# Instantiate the network and print information\n",
    "hidden_size = 128\n",
    "net = RNNNet(input_size=input_size, hidden_size=hidden_size,\n",
    "             output_size=output_size, dt=env.dt)\n",
    "print(net)\n",
    "\n",
    "# freeze (make them untrainable) all layers of the network\n",
    "for param in net.parameters():\n",
    "  param.requires_grad = False\n",
    "\n",
    "# replace the output connections so that they are still trainable\n",
    "net.fc = nn.Linear(hidden_size, output_size)\n",
    "\n",
    "# train only output connections\n",
    "net = train_model(net,dataset=dataset)"
   ]
  },
  {
   "cell_type": "markdown",
   "id": "dressed-adapter",
   "metadata": {
    "id": "dressed-adapter"
   },
   "source": [
    "### Exercise 7: Training spatially embedded RNNs\n",
    "\n",
    "Easy | Medium | **Hard**\n",
    "\n",
    "In normal neural networks, RNN units have no spatial locations. Assume that the RNN units are embedded in a 2-D cortical sheet, and it is more costly to have long-range connections. Train such spatially embedded RNNs and show that this influences the connectivity structure after training.\n",
    "\n",
    "Hint: Several functions you want to consider writing:\n",
    "1. Assigning network units spatial locations\n",
    "2. Define a (differentiable) loss that depends on the connection weight from one neuron to another and their spatial distance.\n",
    "3. Add this loss to the the training loss\n",
    "4. Visualize connectivity matrix with and without the long-distance loss."
   ]
  },
  {
   "cell_type": "code",
   "execution_count": null,
   "id": "individual-citizenship",
   "metadata": {
    "id": "individual-citizenship"
   },
   "outputs": [],
   "source": [
    "\n",
    "# for visualization\n",
    "def plot_pca(trial_infos, activity_dict):\n",
    "    n_trials = len(activity_dict)\n",
    "    activity = np.concatenate(list(activity_dict[i] for i in range(n_trials)), axis=0)\n",
    "\n",
    "    pca = PCA(n_components=2)\n",
    "    pca.fit(activity)\n",
    "\n",
    "    fig, (ax1, ax2) = plt.subplots(1, 2, sharey=True, sharex=True, figsize=(6, 3))\n",
    "    for i in range(n_trials):\n",
    "        activity_pc = pca.transform(activity_dict[i])\n",
    "        trial = trial_infos[i]\n",
    "        color = 'red' if trial['ground_truth'] == 0 else 'blue'\n",
    "        _ = ax1.plot(activity_pc[:, 0], activity_pc[:, 1], 'o-', color=color)\n",
    "\n",
    "        if i < 3:\n",
    "            _ = ax2.plot(activity_pc[:, 0], activity_pc[:, 1], 'o-', color=color)\n",
    "\n",
    "    ax1.set_title('{:d} Trials'.format(len(trial_infos)))\n",
    "    ax2.set_title('{:d} Trials'.format(3))\n",
    "    ax1.set_xlabel('PC 1')\n",
    "    ax1.set_ylabel('PC 2')\n",
    "    return fig, (ax1, ax2)"
   ]
  },
  {
   "cell_type": "code",
   "execution_count": null,
   "id": "W1_HGRId07O1",
   "metadata": {
    "id": "W1_HGRId07O1"
   },
   "outputs": [],
   "source": [
    "# We'll use a hidden size of 64 for better visualization\n",
    "hidden_size = 64\n",
    "\n",
    "# Create gym environment\n",
    "kwargs = {'dt': 20, 'timing': {'stimulus': 1000}}\n",
    "env = gym.make(task_name, **kwargs)\n",
    "dataset = ngym.Dataset(env, batch_size=batch_size, seq_len=seq_len)\n",
    "# Generate one batch of data when called\n",
    "inputs, target = dataset()\n",
    "input_size = env.observation_space.shape[0]\n",
    "output_size = env.action_space.n\n",
    "\n",
    "net = RNNNet(input_size=input_size, hidden_size=hidden_size,\n",
    "             output_size=output_size, tau = 100, dt=env.dt)\n",
    "print(net)"
   ]
  },
  {
   "cell_type": "code",
   "execution_count": null,
   "id": "AW3ilyoB09co",
   "metadata": {
    "id": "AW3ilyoB09co"
   },
   "outputs": [],
   "source": [
    "# We can imagine that the 64 hidden neurons lie on a 8x8 grid\n",
    "# The following image visualizes the pairwise distances from neuron (0, 0)\n",
    "w = int(np.sqrt(net.rnn.h2h.weight.data.shape[0]))\n",
    "X, Y = np.meshgrid(range(w), range(w))\n",
    "\n",
    "def calculate_distances(x, y, X, Y):\n",
    "    distances = np.sqrt((x - X) ** 2 + (y - Y) ** 2)\n",
    "    return distances\n",
    "\n",
    "def calculate_distance(pos1, pos2):\n",
    "    x1, y1 = pos1\n",
    "    x2, y2 = pos2\n",
    "    return np.sqrt((x2 - x1) ** 2 + (y2 - y1) ** 2)\n",
    "\n",
    "\n",
    "distances = calculate_distances(0, 0, X, Y)\n",
    "plt.imshow(distances)"
   ]
  },
  {
   "cell_type": "code",
   "execution_count": null,
   "id": "Wj0YQXSu1Apd",
   "metadata": {
    "id": "Wj0YQXSu1Apd"
   },
   "outputs": [],
   "source": [
    "# `locs` stores the x, y coordinates for each of the hidden units\n",
    "locs =  np.array([[i, j] for i in range(w) for j in range(w)])\n",
    "locs_str = [\"%d, %d\" % (i, j) for i, j in locs]\n",
    "\n",
    "# We'll calculate the pairwise distances to other neurons for each of the 64 neurons\n",
    "rnn_distances = np.zeros(net.rnn.h2h.weight.data.shape)\n",
    "for i in range(len(locs)):\n",
    "    rnn_distances[i, :] = np.sqrt((locs[i, 0] - locs[:, 0]) ** 2 + (locs[i, 1] - locs[:, 1]) ** 2)\n",
    "\n",
    "plt.figure(figsize = (12, 4))\n",
    "for i in range(8):\n",
    "    plt.subplot(1, 8, i + 1)\n",
    "    plt.imshow(rnn_distances[i, :].reshape((w, w)))\n",
    "\n",
    "plt.figure(figsize = (8, 8))\n",
    "plt.imshow(rnn_distances)\n",
    "plt.colorbar()\n",
    "_ = plt.yticks(np.arange(0, w ** 2), labels = locs_str)\n",
    "_ = plt.xticks(np.arange(0, w ** 2, w), labels = locs_str[::w])"
   ]
  },
  {
   "cell_type": "code",
   "execution_count": null,
   "id": "4l9KAyp_1D-5",
   "metadata": {
    "id": "4l9KAyp_1D-5"
   },
   "outputs": [],
   "source": [
    "# define a new function to train the model, adding a spatial loss\n",
    "def train_spatial_model(net, dataset, iters = 1000, evaluate = False,\n",
    "                        rnn_distances = rnn_distances, spatial_coef = 1e-4):\n",
    "    # Use Adam optimizer\n",
    "    optimizer = optim.Adam(net.parameters(), lr=0.01)\n",
    "    criterion = nn.CrossEntropyLoss()\n",
    "    net.train()\n",
    "\n",
    "    rnn_distances = torch.tensor(rnn_distances).float()\n",
    "\n",
    "    training_losses = []\n",
    "    val_acc = []\n",
    "\n",
    "    running_loss = 0\n",
    "    running_acc = 0\n",
    "    # Loop over training batches\n",
    "    for i in range(iters):\n",
    "        # Generate input and target, convert to pytorch tensor\n",
    "        inputs, labels = dataset()\n",
    "        inputs = torch.from_numpy(inputs).type(torch.float)\n",
    "        labels = torch.from_numpy(labels.flatten()).type(torch.long)\n",
    "\n",
    "        optimizer.zero_grad()   # zero the gradient buffers\n",
    "        output, _ = net(inputs) # output, rnn_output\n",
    "        output = output.view(-1, output_size)\n",
    "        task_loss = criterion(output, labels)\n",
    "        # Spatial loss\n",
    "        spatial_loss = spatial_coef * torch.sum(torch.abs(net.rnn.h2h.weight) * rnn_distances)\n",
    "\n",
    "        loss = task_loss + spatial_loss\n",
    "        loss.backward()\n",
    "        optimizer.step()    # Does the update\n",
    "\n",
    "        # Compute the running loss every 100 steps\n",
    "        running_loss += loss.item()\n",
    "        if i % 100 == 0:\n",
    "            if i != 0:\n",
    "                running_loss /= 100\n",
    "            training_losses.append(running_loss)\n",
    "            print('Step {}, Loss {:0.4f}, last task loss {:.4f}, spatial loss {:.4f}'.format(\n",
    "                i, running_loss, task_loss, spatial_loss))\n",
    "            running_loss = 0\n",
    "\n",
    "            if evaluate:\n",
    "                trial_infos, activity = test_model(net, dataset.env, num_trial = 100)\n",
    "                val_acc.append(np.mean([val['correct'] for val in trial_infos.values()]))\n",
    "\n",
    "    if evaluate:\n",
    "        plt.figure(figsize = [10, 4])\n",
    "        plt.subplot(1, 2, 1)\n",
    "        plt.plot(training_losses, label = \"training\")\n",
    "        plt.title(\"Training Loss\")\n",
    "        plt.subplot(1, 2, 2)\n",
    "        plt.plot(val_acc, label = \"validation\")\n",
    "        plt.title(\"Validation Accuracy\")\n",
    "\n",
    "    return net"
   ]
  },
  {
   "cell_type": "code",
   "execution_count": null,
   "id": "_DUYsWmz1Jhs",
   "metadata": {
    "id": "_DUYsWmz1Jhs"
   },
   "outputs": [],
   "source": [
    "net = RNNNet(input_size=input_size, dataset = dataset, hidden_size=hidden_size,\n",
    "             output_size=output_size, dt=env.dt)\n",
    "\n",
    "plt.imshow(np.abs(net.rnn.h2h.weight.data.numpy()))\n",
    "plt.colorbar()\n",
    "plt.title(\"Recurrent weight (magnitude)\")\n",
    "\n",
    "trial_infos, activity_dict = test_model(net, env, num_trial = 1000)\n",
    "print('Average performance pre-training', np.mean([val['correct'] for val in trial_infos.values()]))\n",
    "fig, axes = plot_pca(trial_infos, activity_dict)\n",
    "_ = plt.suptitle(\"Pre-training Network Activity\")"
   ]
  },
  {
   "cell_type": "code",
   "execution_count": null,
   "id": "rM04SFPd1MmV",
   "metadata": {
    "id": "rM04SFPd1MmV"
   },
   "outputs": [],
   "source": [
    "# change the spatial coef used in the spatial loss\n",
    "# to get different recurrent weight results!\n",
    "net = train_spatial_model(net, dataset = dataset, evaluate = True, spatial_coef = 1e-3)"
   ]
  },
  {
   "cell_type": "code",
   "execution_count": null,
   "id": "31-4YiJn1Pjv",
   "metadata": {
    "id": "31-4YiJn1Pjv"
   },
   "outputs": [],
   "source": [
    "plt.imshow(np.abs(net.rnn.h2h.weight.data.numpy()))\n",
    "plt.colorbar()\n",
    "plt.title(\"Recurrent weight magnitudes\")\n",
    "\n",
    "trial_infos, activity_dict = test_model(net, env, num_trial = 1000)\n",
    "print('Average performance post-training', np.mean([val['correct'] for val in trial_infos.values()]))\n",
    "fig, axes = plot_pca(trial_infos, activity_dict)\n",
    "plt.suptitle(\"Post-training Network Activity\")"
   ]
  },
  {
   "cell_type": "markdown",
   "id": "smoking-mineral",
   "metadata": {
    "id": "smoking-mineral"
   },
   "source": [
    "### Exercise 8: ConvNet + RNN\n",
    "\n",
    "Easy | Medium | **Hard**\n",
    "\n",
    "Design your own task or use the following task that provides image input at each time point. Add a convolutional network as the sensory module. No need to train the convolutional network.\n",
    "\n",
    "Optional: Use a small pre-trained convolutional network."
   ]
  },
  {
   "cell_type": "code",
   "execution_count": null,
   "id": "pacific-response",
   "metadata": {
    "id": "pacific-response"
   },
   "outputs": [],
   "source": [
    "# A simple image based decision making task for this tutorial\n",
    "\n",
    "class SimpleVisualDecisionMaking(ngym.TrialEnv):\n",
    "    \"\"\"Two-alternative forced choice task in which the subject has to\n",
    "    integrate two stimuli to decide whether there is a horizontal or vertical bar.\n",
    "\n",
    "    During a fixation period, a square is shown without noise. Then during\n",
    "    the stimulus period, a horizontal or vertical bar is shown with noise. Then during\n",
    "    the decision period, no stimulus is shown and the network should make a decision.\n",
    "\n",
    "    Args:\n",
    "        sigma: float, input noise level\n",
    "    \"\"\"\n",
    "\n",
    "    def __init__(self, dt=100, rewards=None, timing=None, sigma=1.0):\n",
    "        super().__init__(dt=dt)\n",
    "        # Rewards\n",
    "        self.rewards = {'abort': -0.1, 'correct': +1., 'fail': 0.}\n",
    "        if rewards:\n",
    "            self.rewards.update(rewards)\n",
    "\n",
    "        self.timing = {\n",
    "            'fixation': 100,\n",
    "            'stimulus': 300,\n",
    "            'decision': 100}\n",
    "        if timing:\n",
    "            self.timing.update(timing)\n",
    "\n",
    "        self.sigma = sigma\n",
    "\n",
    "        self.abort = False\n",
    "\n",
    "        # Box shape (Channel, Height, Width)\n",
    "        self.ob_shape = (1, 10, 10)\n",
    "        self.observation_space = spaces.Box(\n",
    "            -np.inf, np.inf, shape=self.ob_shape, dtype=np.float32)\n",
    "        name = {'fixation': 0, 'choice': [1, 2]}\n",
    "        self.action_space = spaces.Discrete(3, name=name)\n",
    "\n",
    "    def _new_trial(self, **kwargs):\n",
    "        # Trial info\n",
    "        trial = {\n",
    "            'ground_truth': self.rng.choice([0, 1]),\n",
    "        }\n",
    "        trial.update(kwargs)\n",
    "\n",
    "        ground_truth = trial['ground_truth']\n",
    "\n",
    "        # Periods\n",
    "        self.add_period(['fixation', 'stimulus', 'decision'])\n",
    "\n",
    "        # Observations\n",
    "        im = np.zeros(self.ob_shape)\n",
    "        im[0, 4:6, 4:6] = 1\n",
    "        self.add_ob(im, period='fixation')\n",
    "\n",
    "        im = np.zeros(self.ob_shape)\n",
    "        if ground_truth == 0:\n",
    "            im[0, 2:8, 4:6] = 1\n",
    "        else:\n",
    "            im[0, 4:6, 2:8] = 1\n",
    "        self.add_ob(im, period='stimulus')\n",
    "        self.add_randn(0, self.sigma, period='stimulus')\n",
    "\n",
    "        # Ground truth\n",
    "        self.set_groundtruth(ground_truth, period='decision', where='choice')\n",
    "\n",
    "        return trial\n",
    "\n",
    "    def _step(self, action):\n",
    "        \"\"\"\n",
    "        _step receives an action and returns:\n",
    "            a new observation, obs\n",
    "            reward associated with the action, reward\n",
    "            a boolean variable indicating whether the experiment has end, done\n",
    "            a dictionary with extra information:\n",
    "                ground truth correct response, info['gt']\n",
    "                boolean indicating the end of the trial, info['new_trial']\n",
    "        \"\"\"\n",
    "        new_trial = False\n",
    "        # rewards\n",
    "        reward = 0\n",
    "        gt = self.gt_now\n",
    "        # observations\n",
    "        if self.in_period('fixation'):\n",
    "            if action != 0:  # action = 0 means fixating\n",
    "                new_trial = self.abort\n",
    "                reward += self.rewards['abort']\n",
    "        elif self.in_period('decision'):\n",
    "            if action != 0:\n",
    "                new_trial = True\n",
    "                if action == gt:\n",
    "                    reward += self.rewards['correct']\n",
    "                    self.performance = 1\n",
    "                else:\n",
    "                    reward += self.rewards['fail']\n",
    "\n",
    "        return self.ob_now, reward, False, {'new_trial': new_trial, 'gt': gt}"
   ]
  },
  {
   "cell_type": "markdown",
   "id": "diagnostic-classification",
   "metadata": {
    "id": "diagnostic-classification"
   },
   "source": [
    "Visualize the environment\n",
    "\n",
    "`sigma` adjusts the noise level. If you use `sigma=0`, you will see the horizontal or vertical bar clearly. Set `sigma=1` or higher to challenge the network and require it to use recurrent connections for integration."
   ]
  },
  {
   "cell_type": "code",
   "execution_count": null,
   "id": "comprehensive-distinction",
   "metadata": {
    "id": "comprehensive-distinction",
    "outputId": "691c6b20-699b-41e6-86da-c13b54b4855f"
   },
   "outputs": [],
   "source": [
    "# Create environment from source code\n",
    "vis_env = SimpleVisualDecisionMaking(dt=50, sigma=0.0)\n",
    "\n",
    "vis_env.reset(no_step=True)\n",
    "# Loop through several time steps\n",
    "for i in range(10):\n",
    "    ob, _, _, _ = vis_env.step(action=0)  # keep choosing action 0\n",
    "\n",
    "    plt.figure(figsize=(1.5, 1.5))\n",
    "    plt.imshow(ob[0])\n",
    "    plt.title('Time in trial {:d} ms'.format(vis_env.t))\n",
    "    plt.axis('off')\n",
    "    plt.show()"
   ]
  },
  {
   "cell_type": "code",
   "execution_count": null,
   "id": "p3x6gr5NQP3a",
   "metadata": {
    "id": "p3x6gr5NQP3a"
   },
   "outputs": [],
   "source": [
    "## Set up a single layer CNN to use as the preprocessing for the network\n",
    "\n",
    "# Try changing the kernel size and the number of units to see how it influences\n",
    "# performance.\n",
    "\n",
    "class SimpleSeqConvNetBackbone(nn.Module):\n",
    "  \"\"\"Sets up a single layer convolutional network to use as the preprocessing\n",
    "  for the RNN. Network weights are set to random for this demo.\"\"\"\n",
    "  def __init__(self, input_channels, num_units=16, kernel_size=[3,3], **kwargs):\n",
    "    super().__init__()\n",
    "    self.conv1 = torch.nn.Conv2d(input_size, num_units, kernel_size)\n",
    "    self.flatten = torch.nn.Flatten()\n",
    "\n",
    "  def forward(self, x):\n",
    "    all_cnn_output = []\n",
    "    for i in range(x.shape[1]):\n",
    "      all_cnn_output.append(self.flatten(self.conv1(x[:,i,:,:,:])))\n",
    "    return torch.stack(all_cnn_output, dim=1)\n",
    "\n",
    "def train_conv_backbone_model(net, dataset, convnet_backbone):\n",
    "   \"\"\"Simple helper function to train the model.\n",
    "\n",
    "   Args:\n",
    "       net: a pytorch nn.Module module\n",
    "       dataset: a dataset object that when called produce a (input, target output) pair\n",
    "       convnet_backbone : a CNN backbone to run the inpt through before going to the RNN\n",
    "\n",
    "   Returns:\n",
    "       net: network object after training\n",
    "   \"\"\"\n",
    "   # Use Adam optimizer\n",
    "   optimizer = optim.Adam(net.parameters(), lr=0.01)\n",
    "   criterion = nn.CrossEntropyLoss()\n",
    "\n",
    "   running_loss = 0\n",
    "   running_acc = 0\n",
    "   start_time = time.time()\n",
    "   # Loop over training batches\n",
    "   print('Training network...')\n",
    "   for i in range(1000):\n",
    "       # Generate input and target, convert to pytorch tensor\n",
    "       inputs, labels = dataset()\n",
    "       inputs = torch.from_numpy(inputs).type(torch.float)\n",
    "       labels = torch.from_numpy(labels.flatten()).type(torch.long)\n",
    "\n",
    "       # Run the input through the convnet to extract activations\n",
    "       inputs = convnet_backbone(inputs)\n",
    "\n",
    "       # boiler plate pytorch training:\n",
    "       optimizer.zero_grad()   # zero the gradient buffers\n",
    "       output, _ = net(inputs)\n",
    "       # Reshape to (SeqLen x Batch, OutputSize)\n",
    "       output = output.view(-1, output_size)\n",
    "       loss = criterion(output, labels)\n",
    "       loss.backward()\n",
    "       optimizer.step()    # Does the update\n",
    "\n",
    "       # Compute the running loss every 100 steps\n",
    "       running_loss += loss.item()\n",
    "       if i % 100 == 99:\n",
    "           running_loss /= 100\n",
    "           print('Step {}, Loss {:0.4f}, Time {:0.1f}s'.format(\n",
    "               i+1, running_loss, time.time() - start_time))\n",
    "           running_loss = 0\n",
    "   return net\n",
    "\n",
    "\n",
    "# Get input and output size of environment\n",
    "input_size = vis_env.observation_space.shape[0]\n",
    "output_size = vis_env.action_space.n\n",
    "\n",
    "# Make supervised dataset, neurogym boilerplate\n",
    "seq_len = 100\n",
    "batch_size = 16\n",
    "vis_dataset = ngym.Dataset(vis_env, batch_size=batch_size, seq_len=seq_len)\n",
    "\n",
    "# Generate one batch of data when called\n",
    "inputs, target = vis_dataset()\n",
    "print('Input has shape (SeqLen, Batch, Dim) =', inputs.shape)\n",
    "print('Target has shape (SeqLen, Batch, Dim) =', target.shape)\n",
    "\n",
    "# Change the number of units and the kernel size to see how this can help or hurt the RNN training\n",
    "convnet = SimpleSeqConvNetBackbone(input_size, num_units=1, kernel_size=[3,3])\n",
    "\n",
    "## Get the output size from the convnet\n",
    "inputs = torch.from_numpy(inputs).type(torch.float)\n",
    "example_preproc_input = convnet(inputs)\n",
    "rnn_input_size = example_preproc_input.shape[-1]\n",
    "\n",
    "print('RNN Input has shape (SeqLen, Batch, Dim) =', example_preproc_input.shape)\n",
    "\n",
    "# Instantiate the network and print information\n",
    "hidden_size = 64\n",
    "net = RNNNet(input_size=rnn_input_size, hidden_size=hidden_size,\n",
    "           output_size=output_size, dt=env.dt)\n",
    "\n",
    "net = train_conv_backbone_model(net, vis_dataset, convnet)\n",
    "\n",
    "### See how well the trained network performs\n",
    "\n",
    "# Reset environment\n",
    "env = vis_dataset.env\n",
    "env.reset(no_step=True)\n",
    "\n",
    "# Initialize variables for logging\n",
    "perf = 0\n",
    "activity_dict = {}  # recording activity\n",
    "trial_infos = {}  # recording trial information\n",
    "\n",
    "num_trial = 200\n",
    "for i in range(num_trial):\n",
    "   # Neurogym boiler plate\n",
    "   # Sample a new trial\n",
    "   trial_info = env.new_trial()\n",
    "   # Observation and groud-truth of this trial\n",
    "   ob, gt = env.ob, env.gt\n",
    "   # Convert to numpy, add batch dimension to input\n",
    "   inputs = torch.from_numpy(ob[:, np.newaxis, :]).type(torch.float)\n",
    "\n",
    "   # Run the input through the convnet to extract activations\n",
    "   inputs = convnet(inputs)\n",
    "\n",
    "   # Run the network for one trial\n",
    "   # inputs (SeqLen, Batch, InputSize)\n",
    "   # action_pred (SeqLen, Batch, OutputSize)\n",
    "   action_pred, rnn_activity = net(inputs)\n",
    "\n",
    "   # Compute performance\n",
    "   # First convert back to numpy\n",
    "   action_pred = action_pred.detach().numpy()[:, 0, :]\n",
    "   # Read out final choice at last time step\n",
    "   choice = np.argmax(action_pred[-1, :])\n",
    "   # Compare to ground truth\n",
    "   correct = choice == gt[-1]\n",
    "\n",
    "   # Record activity, trial information, choice, correctness\n",
    "   rnn_activity = rnn_activity[:, 0, :].detach().numpy()\n",
    "   activity_dict[i] = rnn_activity\n",
    "   trial_infos[i] = trial_info  # trial_info is a dictionary\n",
    "   trial_infos[i].update({'correct': correct})\n",
    "\n",
    "# Print informations for sample trials\n",
    "for i in range(5):\n",
    "   print('Trial ', i, trial_infos[i])\n",
    "\n",
    "print('Average performance', np.mean([val['correct'] for val in trial_infos.values()]))"
   ]
  },
  {
   "cell_type": "markdown",
   "id": "broad-yesterday",
   "metadata": {
    "id": "broad-yesterday"
   },
   "source": [
    "### Exercise 9: Short-term plasticity in RNN\n",
    "\n",
    "Easy | Medium | **Hard**\n",
    "\n",
    "Implement short-term plasticity in RNN and train the network on a working memory task. Compare the PCA trajectory with or without short-term plasticity.\n",
    "\n",
    "More details on short-term plasticity below.\n",
    "\n",
    "You can get a working memory task from `neurogym` by running `env = gym.make('DelayComparison-v0')`."
   ]
  },
  {
   "cell_type": "code",
   "execution_count": null,
   "id": "spread-conclusion",
   "metadata": {
    "id": "spread-conclusion",
    "outputId": "2c6d5578-2bf6-4010-9d7f-2467c3b9acd3"
   },
   "outputs": [],
   "source": [
    "env = gym.make('DelayComparison-v0')\n",
    "_ = ngym.utils.plot_env(env, num_trials=2)"
   ]
  },
  {
   "cell_type": "markdown",
   "id": "dense-routine",
   "metadata": {
    "id": "dense-routine"
   },
   "source": [
    "One way to implement **short-term plasticity for rate networks** is to adapt the model from [Mongillo, Barak, Tsodyks 2008](https://science.sciencemag.org/content/319/5869/1543). See [Masse et al. 2019](https://www.nature.com/articles/s41593-019-0414-3) for more details.\n",
    "\n",
    "We assume that all output connection weights from a single neuron with activity $r(t)$ is being modulated by two scalar terms $x(t)$ and $u(t)$.\n",
    "\n",
    "$x(t)$ represents the neurotransmitter availability. It decreases with high activity $r(t)$ and gradually relaxes back to 1 when $r(t)=0$.\n",
    "\n",
    "$\\frac{dx(t)}{dt}=\\frac{1-x(t)}{\\tau_x} - u(t)x(t)r(t)$\n",
    "\n",
    "$u(t)$ represents neurotransmitter utilization which increases towards 1 with high activity $r(t)$ and relaxs back to $U<1$ when there is no activity.\n",
    "\n",
    "$\\frac{du(t)}{dt}=\\frac{U-u(t)}{\\tau_u} - U(1-u(t))r(t)$\n",
    "\n",
    "The input from the $i-$th neuron to the $j-$th neuron is therefore\n",
    "$W_{i\\rightarrow j}r_i(t) x_i(t) u_i(t)$\n",
    "\n",
    "Set $\\tau_x=200$ms, $\\tau_u=1500$ms, $U=0.15$ for a facilitating synapse.\n",
    "\n",
    "Set $\\tau_x=1500$ms, $\\tau_u=200$ms, $U=0.45$ for a depressing synapse.\n",
    "\n",
    "These equations can be discretized in time with discretization step $\\Delta t$ as\n",
    "\n",
    "$\\Delta x(t)=(1-x(t))\\frac{\\Delta t}{\\tau_x} - u(t)x(t)r(t) \\Delta t$\n",
    "\n",
    "$\\Delta u(t)=(U-u(t))\\frac{\\Delta t}{\\tau_u} - U(1-u(t))r(t)\\Delta t$\n",
    "\n",
    "Hint: Start by making all synapses facilitating."
   ]
  },
  {
   "cell_type": "code",
   "execution_count": null,
   "id": "renewable-enough",
   "metadata": {
    "id": "renewable-enough"
   },
   "outputs": [],
   "source": [
    "# Define networks\n",
    "import torch\n",
    "import torch.nn as nn\n",
    "from torch.nn import init\n",
    "from torch.nn import functional as F\n",
    "import math\n",
    "import pdb\n",
    "\n",
    "\n",
    "class PlasticCTRNN(nn.Module):\n",
    "    \"\"\"Continuous-time RNN.\n",
    "\n",
    "    Parameters:\n",
    "        input_size: Number of input neurons\n",
    "        hidden_size: Number of hidden neurons\n",
    "        dt: discretization time step in ms.\n",
    "            If None, dt equals time constant tau\n",
    "\n",
    "    Inputs:\n",
    "        input: tensor of shape (seq_len, batch, input_size)\n",
    "        hidden: tensor of shape (batch, hidden_size), initial hidden activity\n",
    "            if None, hidden is initialized through self.init_hidden()\n",
    "\n",
    "    Outputs:\n",
    "        output: tensor of shape (seq_len, batch, hidden_size)\n",
    "        hidden: tensor of shape (batch, hidden_size), final hidden activity\n",
    "    \"\"\"\n",
    "\n",
    "    def __init__(self, input_size, hidden_size, dt=None, **kwargs):\n",
    "        super().__init__()\n",
    "        self.input_size = input_size\n",
    "        self.hidden_size = hidden_size\n",
    "        self.tau_x = 200\n",
    "        self.tau_u = 1500\n",
    "        self.tau = 100\n",
    "        self.U = 0.15\n",
    "        self.dt = dt\n",
    "        if dt is None:\n",
    "            alpha = 1\n",
    "        else:\n",
    "            alpha = dt / self.tau\n",
    "            alpha_u = dt / self.tau_u\n",
    "            alpha_x = dt/ self.tau_x\n",
    "        self.alpha = alpha\n",
    "        self.alpha_u = alpha_u\n",
    "        self.alpha_x = alpha_x\n",
    "        self.input2h = nn.Linear(input_size, hidden_size)\n",
    "        self.h2h = nn.Linear(hidden_size, hidden_size)\n",
    "\n",
    "    def init_hidden(self, input_shape):\n",
    "        batch_size = input_shape[1]\n",
    "        return torch.zeros(batch_size, self.hidden_size)\n",
    "\n",
    "    def recurrence(self, input, hidden,hidden_u,hidden_x):\n",
    "        \"\"\"Run network for one time step.\n",
    "\n",
    "        Inputs:\n",
    "            input: tensor of shape (batch, input_size)\n",
    "            hidden: tensor of shape (batch, hidden_size)\n",
    "            hidden_u, hidden_x:  tensors if shape (hidden_size)\n",
    "\n",
    "        Outputs:\n",
    "            h_new: tensor of shape (batch, hidden_size),\n",
    "                network activity at the next time step\n",
    "        \"\"\"\n",
    "\n",
    "        #Calculates the weight r*x*u for each input neuron\n",
    "        hidden_plasticity = hidden*hidden_x*hidden_u\n",
    "\n",
    "        h_new = torch.relu(self.input2h(input) + self.h2h(hidden_plasticity))\n",
    "        h_new = hidden * (1 - self.alpha) + h_new * self.alpha\n",
    "\n",
    "        #update x\n",
    "        dx = (1-hidden_x)*self.alpha_x - hidden_plasticity*self.dt\n",
    "        #clamping to match behavior specified in instructions\n",
    "        hidden_x_new = torch.clamp(hidden_x+dx,min=0,max=1)\n",
    "        # update u\n",
    "        du = (self.U-hidden_u)*self.alpha_u-self.U * (1-hidden_u)*hidden*self.dt\n",
    "        hidden_u_new = torch.clamp(hidden_u + du,min=0,max=1)\n",
    "        return h_new, hidden_u_new, hidden_x_new\n",
    "\n",
    "\n",
    "    def forward(self, input, hidden=None):\n",
    "        \"\"\"Propogate input through the network.\"\"\"\n",
    "\n",
    "        # If hidden activity is not provided, initialize it\n",
    "        if hidden is None:\n",
    "            hidden = self.init_hidden(input.shape).to(input.device)\n",
    "            hidden_u = torch.zeros(hidden_size)\n",
    "            hidden_x = torch.ones(hidden_size)\n",
    "\n",
    "        # Loop through time\n",
    "        output = []\n",
    "        steps = range(input.size(0))\n",
    "        for i in steps:\n",
    "            hidden, hidden_u, hidden_x = self.recurrence(input[i], hidden,hidden_u,hidden_x)\n",
    "            output.append(hidden)\n",
    "\n",
    "        # Stack together output from all time steps\n",
    "        output = torch.stack(output, dim=0)  # (seq_len, batch, hidden_size)\n",
    "        return output, hidden\n",
    "\n",
    "\n",
    "class PlasticRNNNet(nn.Module):\n",
    "    \"\"\"Recurrent network model.\n",
    "\n",
    "    Parameters:\n",
    "        input_size: int, input size\n",
    "        hidden_size: int, hidden size\n",
    "        output_size: int, output size\n",
    "\n",
    "    Inputs:\n",
    "        x: tensor of shape (Seq Len, Batch, Input size)\n",
    "\n",
    "    Outputs:\n",
    "        out: tensor of shape (Seq Len, Batch, Output size)\n",
    "        rnn_output: tensor of shape (Seq Len, Batch, Hidden size)\n",
    "    \"\"\"\n",
    "    def __init__(self, input_size, hidden_size, output_size, **kwargs):\n",
    "        super().__init__()\n",
    "\n",
    "        # Continuous time RNN\n",
    "        self.rnn = PlasticCTRNN(input_size, hidden_size, **kwargs)\n",
    "\n",
    "        # Add an output layer\n",
    "        self.fc = nn.Linear(hidden_size, output_size)\n",
    "\n",
    "    def forward(self, x):\n",
    "        rnn_output, _ = self.rnn(x)\n",
    "        out = self.fc(rnn_output)\n",
    "        return out, rnn_output\n",
    "\n",
    "\n"
   ]
  }
 ],
 "metadata": {
  "colab": {
   "provenance": []
  },
  "kernelspec": {
   "display_name": "Python 3 (ipykernel)",
   "language": "python",
   "name": "python3"
  },
  "language_info": {
   "codemirror_mode": {
    "name": "ipython",
    "version": 3
   },
   "file_extension": ".py",
   "mimetype": "text/x-python",
   "name": "python",
   "nbconvert_exporter": "python",
   "pygments_lexer": "ipython3",
   "version": "3.8.13"
  }
 },
 "nbformat": 4,
 "nbformat_minor": 5
}
